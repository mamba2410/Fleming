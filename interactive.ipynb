{
 "cells": [
  {
   "cell_type": "markdown",
   "metadata": {},
   "source": [
    "# Fleming Pipeline - ipython notebook version\n",
    "\n",
    "### Note on astrometry.net \n",
    "\n",
    "Shouldn't need a key to find RA/DEC coordinates since `force_upload=False`.\n",
    "\n",
    "If the solve keeps timing out and you have `Config.astrometry_timeout` as a large value (or `-1`) then check the timeout in `~/.astroquery/config/astroquery.cfg`.\n",
    "\n",
    "\n",
    "#### How to get a key\n",
    "If you do want to upload (eg if machine takes too long solving) you will need a key and add it to `~/.astroquery/config/astroquery.cfg` and `pipeline/astrometry_api_key.txt`.\n",
    "The first is a config file (example layout is as below) latter is just a text file containing the key and nothing else.\n",
    "\n",
    "[Go to the website](http://nova.astrometry.net/api_help) and sign in and follow the instructions.\n",
    "\n",
    "Example config:\n",
    "```\n",
    "[astrometry_net]\n",
    "\n",
    "api_key = XXXXX\n",
    "timeout = 1200 ## 20 mins\n",
    "server = http://npva.astrometry.net\n",
    "```"
   ]
  },
  {
   "cell_type": "code",
   "execution_count": 1,
   "metadata": {},
   "outputs": [],
   "source": [
    "## Imports\n",
    "from pipeline import Reducer\n",
    "from pipeline import ShiftFinder\n",
    "from pipeline import FluxFinder\n",
    "from pipeline import DataAnalyser\n",
    "from pipeline import Constants\n",
    "from pipeline import Utilities\n",
    "from pipeline import Cataloguer\n",
    "\n",
    "from datetime import datetime\n",
    "import os\n",
    "import importlib"
   ]
  },
  {
   "cell_type": "code",
   "execution_count": 2,
   "metadata": {},
   "outputs": [],
   "source": [
    "# REMOVE ME WHEN NOT USING DARK MODE\n",
    "import matplotlib as mpl\n",
    "COLOR = \"white\"\n",
    "#COLOR = \"black\"\n",
    "mpl.rcParams['text.color'] = COLOR\n",
    "mpl.rcParams['axes.labelcolor'] = COLOR\n",
    "mpl.rcParams['xtick.color'] = COLOR\n",
    "mpl.rcParams['ytick.color'] = COLOR"
   ]
  },
  {
   "cell_type": "code",
   "execution_count": 7,
   "metadata": {},
   "outputs": [],
   "source": [
    "config = Constants.Config(\n",
    "    image_dir = os.path.expanduser(\"~/mnt/jgt/2022/0301\"),\n",
    "    image_prefix = \"l138_0\",\n",
    "    bias_prefix = \"bias_end\",\n",
    "    n_sets = 9,\n",
    "    fits_extension = \".fits\",\n",
    "    fits_date_format = \"%Y.%m.%dT%H:%M:%S.%f\",\n",
    "    has_filter_in_header = False,\n",
    ")"
   ]
  },
  {
   "cell_type": "code",
   "execution_count": 8,
   "metadata": {
    "scrolled": true
   },
   "outputs": [
    {
     "name": "stdout",
     "output_type": "stream",
     "text": [
      "[Reducer] Found 0 bias frames\n",
      "[Reducer] Found 0 flatfield frames\n",
      "[Reducer] Created master bias\n"
     ]
    },
    {
     "name": "stderr",
     "output_type": "stream",
     "text": [
      "/home/callum/envs/fleming/lib/python3.10/site-packages/numpy/core/fromnumeric.py:3474: RuntimeWarning: Mean of empty slice.\n",
      "  return _methods._mean(a, axis=axis, dtype=dtype,\n",
      "/home/callum/envs/fleming/lib/python3.10/site-packages/numpy/core/_methods.py:189: RuntimeWarning: invalid value encountered in double_scalars\n",
      "  ret = ret.dtype.type(ret / rcount)\n"
     ]
    },
    {
     "ename": "IndexError",
     "evalue": "list index out of range",
     "output_type": "error",
     "traceback": [
      "\u001b[0;31m---------------------------------------------------------------------------\u001b[0m",
      "\u001b[0;31mIndexError\u001b[0m                                Traceback (most recent call last)",
      "Input \u001b[0;32mIn [8]\u001b[0m, in \u001b[0;36m<module>\u001b[0;34m\u001b[0m\n\u001b[1;32m      1\u001b[0m r \u001b[38;5;241m=\u001b[39m Reducer\u001b[38;5;241m.\u001b[39mReducer(config, \u001b[38;5;124m\"\u001b[39m\u001b[38;5;124mNo filter\u001b[39m\u001b[38;5;124m\"\u001b[39m) \u001b[38;5;66;03m## Only \"No filter\" for Trius\u001b[39;00m\n\u001b[0;32m----> 3\u001b[0m \u001b[43mr\u001b[49m\u001b[38;5;241;43m.\u001b[39;49m\u001b[43mreduce\u001b[49m\u001b[43m(\u001b[49m\u001b[43mskip_existing\u001b[49m\u001b[38;5;241;43m=\u001b[39;49m\u001b[38;5;28;43;01mTrue\u001b[39;49;00m\u001b[43m)\u001b[49m\n",
      "File \u001b[0;32m~/repos/uni-git/masters-project/fleming/pipeline/Reducer.py:109\u001b[0m, in \u001b[0;36mReducer.reduce\u001b[0;34m(self, skip_existing)\u001b[0m\n\u001b[1;32m    102\u001b[0m \u001b[38;5;124;03m\"\"\"\u001b[39;00m\n\u001b[1;32m    103\u001b[0m \u001b[38;5;124;03mSubtract master bias and divide by master flat for all images in \u001b[39;00m\n\u001b[1;32m    104\u001b[0m \u001b[38;5;124;03moriginal image directory\u001b[39;00m\n\u001b[1;32m    105\u001b[0m \n\u001b[1;32m    106\u001b[0m \u001b[38;5;124;03m\"\"\"\u001b[39;00m\n\u001b[1;32m    108\u001b[0m \u001b[38;5;28mself\u001b[39m\u001b[38;5;241m.\u001b[39mcreate_master_bias()\n\u001b[0;32m--> 109\u001b[0m \u001b[38;5;28;43mself\u001b[39;49m\u001b[38;5;241;43m.\u001b[39;49m\u001b[43mcreate_master_flat\u001b[49m\u001b[43m(\u001b[49m\u001b[43m)\u001b[49m\n\u001b[1;32m    111\u001b[0m \u001b[38;5;66;03m#loop througheach file in directory \u001b[39;00m\n\u001b[1;32m    112\u001b[0m \u001b[38;5;28;01mfor\u001b[39;00m file, set_number, image_number \u001b[38;5;129;01min\u001b[39;00m Utilities\u001b[38;5;241m.\u001b[39mlist_images(\u001b[38;5;28mself\u001b[39m\u001b[38;5;241m.\u001b[39mconfig, \u001b[38;5;28mself\u001b[39m\u001b[38;5;241m.\u001b[39mconfig\u001b[38;5;241m.\u001b[39mraw_image_dir, reduced\u001b[38;5;241m=\u001b[39m\u001b[38;5;28;01mFalse\u001b[39;00m):\n\u001b[1;32m    113\u001b[0m \n\u001b[1;32m    114\u001b[0m     \u001b[38;5;66;03m#if raw images are stored in sets\u001b[39;00m\n",
      "File \u001b[0;32m~/repos/uni-git/masters-project/fleming/pipeline/Reducer.py:91\u001b[0m, in \u001b[0;36mReducer.create_master_flat\u001b[0;34m(self)\u001b[0m\n\u001b[1;32m     89\u001b[0m \u001b[38;5;66;03m## If we have no flats, give even response\u001b[39;00m\n\u001b[1;32m     90\u001b[0m \u001b[38;5;28;01mif\u001b[39;00m \u001b[38;5;28mlen\u001b[39m(\u001b[38;5;28mself\u001b[39m\u001b[38;5;241m.\u001b[39mflatfield_frames) \u001b[38;5;241m==\u001b[39m \u001b[38;5;241m0\u001b[39m:\n\u001b[0;32m---> 91\u001b[0m     \u001b[38;5;28mself\u001b[39m\u001b[38;5;241m.\u001b[39mflatfield_frames\u001b[38;5;241m.\u001b[39mappend(\u001b[38;5;28;43mself\u001b[39;49m\u001b[38;5;241;43m.\u001b[39;49m\u001b[43mbias_frames\u001b[49m\u001b[43m[\u001b[49m\u001b[38;5;241;43m0\u001b[39;49m\u001b[43m]\u001b[49m \u001b[38;5;241m*\u001b[39m \u001b[38;5;241m0\u001b[39m \u001b[38;5;241m+\u001b[39m \u001b[38;5;241m1\u001b[39m)\n\u001b[1;32m     93\u001b[0m \u001b[38;5;28mself\u001b[39m\u001b[38;5;241m.\u001b[39mmaster_flat \u001b[38;5;241m=\u001b[39m np\u001b[38;5;241m.\u001b[39mmedian(\u001b[38;5;28mself\u001b[39m\u001b[38;5;241m.\u001b[39mflatfield_frames)\n\u001b[1;32m     94\u001b[0m \u001b[38;5;66;03m#get median of flatfield\u001b[39;00m\n",
      "\u001b[0;31mIndexError\u001b[0m: list index out of range"
     ]
    }
   ],
   "source": [
    "r = Reducer.Reducer(config, \"No filter\") ## Only \"No filter\" for Trius\n",
    "\n",
    "r.reduce(skip_existing=True)"
   ]
  },
  {
   "cell_type": "code",
   "execution_count": null,
   "metadata": {
    "scrolled": true
   },
   "outputs": [],
   "source": [
    "c = Cataloguer.Cataloguer(config)\n",
    "\n",
    "catalogue_image = os.path.join(config.image_dir, config.image_format_str.format(1, 1))\n",
    "\n",
    "n_sources = c.generate_catalogue(catalogue_image, solve=True)\n",
    "c.generate_image_times()"
   ]
  },
  {
   "cell_type": "code",
   "execution_count": null,
   "metadata": {
    "scrolled": true
   },
   "outputs": [],
   "source": [
    "sf = ShiftFinder.ShiftFinder(config, n_sources)\n",
    "\n",
    "sf.generate_shifts()"
   ]
  },
  {
   "cell_type": "code",
   "execution_count": null,
   "metadata": {
    "scrolled": true
   },
   "outputs": [],
   "source": [
    "ff = FluxFinder.FluxFinder(config, n_sources)\n",
    "\n",
    "ff.make_light_curves()"
   ]
  },
  {
   "cell_type": "code",
   "execution_count": null,
   "metadata": {
    "scrolled": true
   },
   "outputs": [],
   "source": [
    "da = DataAnalyser.DataAnalyser(config)\n",
    "\n",
    "print(\"[Main] Creating average light curve\")\n",
    "da.create_avg_curve()\n",
    "ff.plot_avg_light_curve(config.avg_curve_path, show=True)\n",
    "\n",
    "print(\"[Main] Adjusting\")\n",
    "ff.create_adjusted_light_curves()"
   ]
  },
  {
   "cell_type": "code",
   "execution_count": null,
   "metadata": {
    "scrolled": true
   },
   "outputs": [],
   "source": [
    "print(\"[Main] Plotting variable light curves\")\n",
    "variable_ids = da.get_variables()\n",
    "ff.plot_all_light_curves(variable_ids, adjusted=True, show=True)"
   ]
  },
  {
   "cell_type": "code",
   "execution_count": null,
   "metadata": {
    "scrolled": true
   },
   "outputs": [],
   "source": [
    "da.output_results()\n",
    "da.create_thumbnails(ff)"
   ]
  },
  {
   "cell_type": "markdown",
   "metadata": {},
   "source": [
    "## Debug land\n",
    "\n",
    "Use at your own peril"
   ]
  },
  {
   "cell_type": "code",
   "execution_count": 1,
   "metadata": {},
   "outputs": [],
   "source": [
    "## Imports\n",
    "from pipeline import Reducer\n",
    "from pipeline import ShiftFinder\n",
    "from pipeline import FluxFinder\n",
    "from pipeline import DataAnalyser\n",
    "from pipeline import Constants\n",
    "from pipeline import Utilities\n",
    "from pipeline import Cataloguer\n",
    "\n",
    "from datetime import datetime\n",
    "import os\n",
    "import importlib"
   ]
  },
  {
   "cell_type": "code",
   "execution_count": 5,
   "metadata": {},
   "outputs": [],
   "source": [
    "Reducer = importlib.reload(Reducer)\n",
    "ShiftFinder = importlib.reload(ShiftFinder)\n",
    "FluxFinder = importlib.reload(FluxFinder)\n",
    "DataAnalyser = importlib.reload(DataAnalyser)\n",
    "Utilities = importlib.reload(Utilities)\n",
    "Cataloguer = importlib.reload(Cataloguer)\n",
    "Constants = importlib.reload(Constants)"
   ]
  },
  {
   "cell_type": "code",
   "execution_count": null,
   "metadata": {},
   "outputs": [],
   "source": []
  }
 ],
 "metadata": {
  "interpreter": {
   "hash": "661cda2bc47445e7c6e25a640ed59596e312375c87e120a1d4c7c6ced0f09253"
  },
  "kernelspec": {
   "display_name": "Python 3 (ipykernel)",
   "language": "python",
   "name": "python3"
  },
  "language_info": {
   "codemirror_mode": {
    "name": "ipython",
    "version": 3
   },
   "file_extension": ".py",
   "mimetype": "text/x-python",
   "name": "python",
   "nbconvert_exporter": "python",
   "pygments_lexer": "ipython3",
   "version": "3.10.2"
  }
 },
 "nbformat": 4,
 "nbformat_minor": 2
}
