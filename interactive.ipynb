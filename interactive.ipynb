{
 "cells": [
  {
   "cell_type": "markdown",
   "metadata": {},
   "source": [
    "# Fleming Pipeline - ipython notebook version\n",
    "\n",
    "### Note on astrometry.net \n",
    "\n",
    "Shouldn't need a key to find RA/DEC coordinates since `force_upload=False`.\n",
    "\n",
    "If the solve keeps timing out and you have `Config.astrometry_timeout` as a large value (or `-1`) then check the timeout in `~/.astroquery/config/astroquery.cfg`.\n",
    "\n",
    "\n",
    "#### How to get a key\n",
    "If you do want to upload (eg if machine takes too long solving) you will need a key and add it to `~/.astroquery/config/astroquery.cfg` and `pipeline/astrometry_api_key.txt`.\n",
    "The first is a config file (example layout is as below) latter is just a text file containing the key and nothing else.\n",
    "\n",
    "[Go to the website](http://nova.astrometry.net/api_help) and sign in and follow the instructions.\n",
    "\n",
    "Example config:\n",
    "```\n",
    "[astrometry_net]\n",
    "\n",
    "api_key = XXXXX\n",
    "timeout = 1200 ## 20 mins\n",
    "server = http://npva.astrometry.net\n",
    "```"
   ]
  },
  {
   "cell_type": "markdown",
   "metadata": {},
   "source": [
    "## General imports and setup\n",
    "Run this, change the config cell to suit the field that you want to run for."
   ]
  },
  {
   "cell_type": "code",
   "execution_count": null,
   "metadata": {},
   "outputs": [],
   "source": [
    "## Imports\n",
    "from pipeline import Utilities\n",
    "from pipeline.Constants import Config\n",
    "from pipeline.Reducer import Reducer\n",
    "from pipeline.Cataloguer import Cataloguer\n",
    "from pipeline.ShiftFinder import ShiftFinder\n",
    "from pipeline.FluxFinder import FluxFinder\n",
    "from pipeline.DataAnalyser import DataAnalyser\n",
    "\n",
    "from datetime import datetime\n",
    "import os"
   ]
  },
  {
   "cell_type": "code",
   "execution_count": null,
   "metadata": {},
   "outputs": [],
   "source": [
    "# REMOVE ME WHEN NOT USING DARK MODE\n",
    "import matplotlib as mpl\n",
    "COLOR = \"white\"\n",
    "#COLOR = \"black\"\n",
    "mpl.rcParams['text.color'] = COLOR\n",
    "mpl.rcParams['axes.labelcolor'] = COLOR\n",
    "mpl.rcParams['xtick.color'] = COLOR\n",
    "mpl.rcParams['ytick.color'] = COLOR\n",
    "\n",
    "## A4 paper\n",
    "mpl.rcParams['figure.figsize'] = [11.3, 8.7]"
   ]
  },
  {
   "cell_type": "code",
   "execution_count": null,
   "metadata": {},
   "outputs": [],
   "source": [
    "config = Config(\n",
    "    raw_image_dir = os.path.expanduser(\"~/mnt/jgt/2022/0301\"),\n",
    "    image_prefix = \"l138_0\",\n",
    "    bias_prefix = \"bias\",\n",
    "    n_sets = 9,\n",
    "    fits_extension = \".fits\",\n",
    "    fits_date_format = \"%Y.%m.%dT%H:%M:%S.%f\",\n",
    "    has_filter_in_header = False,\n",
    ")"
   ]
  },
  {
   "cell_type": "markdown",
   "metadata": {},
   "source": [
    "## Run the pipeline\n",
    "Run using the general setup from `pipeline/Pipeline.py`."
   ]
  },
  {
   "cell_type": "code",
   "execution_count": null,
   "metadata": {},
   "outputs": [],
   "source": [
    "Pipeline.run(config, show_plots=True, show_errors=False)"
   ]
  },
  {
   "cell_type": "markdown",
   "metadata": {},
   "source": [
    "## Pipeline breakdown\n",
    "Below is a rough copy of the `Pipeline.run()` method.\n",
    "\n",
    "Used for picking certain parts to run/rerun.\n",
    "Hopefully minimal kernel restarts are needed when running."
   ]
  },
  {
   "cell_type": "code",
   "execution_count": null,
   "metadata": {
    "scrolled": true
   },
   "outputs": [],
   "source": [
    "r = Reducer(config, \"No filter\") ## Only \"No filter\" for Trius\n",
    "\n",
    "r.reduce(skip_existing=True)"
   ]
  },
  {
   "cell_type": "code",
   "execution_count": null,
   "metadata": {},
   "outputs": [],
   "source": [
    "c = Cataloguer(config)\n",
    "\n",
    "catalogue_image = os.path.join(config.image_dir, config.image_format_str.format(1, 1))"
   ]
  },
  {
   "cell_type": "code",
   "execution_count": null,
   "metadata": {
    "scrolled": true
   },
   "outputs": [],
   "source": [
    "#n_sources = c.generate_catalogue(catalogue_image, solve=True)\n",
    "#c.generate_image_times()\n",
    "\n",
    "n_sources = c.generate_catalogue(catalogue_image, solve=False)"
   ]
  },
  {
   "cell_type": "code",
   "execution_count": null,
   "metadata": {
    "scrolled": true
   },
   "outputs": [],
   "source": [
    "sf = ShiftFinder(config, n_sources)\n",
    "\n",
    "sf.generate_shifts()"
   ]
  },
  {
   "cell_type": "code",
   "execution_count": null,
   "metadata": {},
   "outputs": [],
   "source": [
    "ff = FluxFinder(config, n_sources)"
   ]
  },
  {
   "cell_type": "code",
   "execution_count": null,
   "metadata": {
    "scrolled": true
   },
   "outputs": [],
   "source": [
    "ff.make_light_curves()"
   ]
  },
  {
   "cell_type": "code",
   "execution_count": null,
   "metadata": {},
   "outputs": [],
   "source": [
    "da = DataAnalyser(config)"
   ]
  },
  {
   "cell_type": "code",
   "execution_count": null,
   "metadata": {},
   "outputs": [],
   "source": [
    "da.create_avg_curve()\n",
    "ff.plot_avg_light_curve(config.avg_curve_path, show=True)"
   ]
  },
  {
   "cell_type": "code",
   "execution_count": null,
   "metadata": {
    "scrolled": true
   },
   "outputs": [],
   "source": [
    "ff.create_adjusted_light_curves()"
   ]
  },
  {
   "cell_type": "code",
   "execution_count": null,
   "metadata": {
    "scrolled": false
   },
   "outputs": [],
   "source": [
    "variable_ids = da.get_variables()\n",
    "ff.plot_given_light_curves(variable_ids, adjusted=True, show=True, show_errors=False)"
   ]
  },
  {
   "cell_type": "code",
   "execution_count": null,
   "metadata": {
    "scrolled": true
   },
   "outputs": [],
   "source": [
    "da.output_results()\n",
    "da.create_thumbnails(ff)"
   ]
  },
  {
   "cell_type": "markdown",
   "metadata": {},
   "source": [
    "## Debug land\n",
    "\n",
    "Use at your own peril.\n",
    "\n",
    "If you change something in the `pipeline/*.py` then you need to reload the modules differently instead of with the normal imports."
   ]
  },
  {
   "cell_type": "code",
   "execution_count": null,
   "metadata": {},
   "outputs": [],
   "source": [
    "## Imports\n",
    "from pipeline import Utilities\n",
    "from pipeline import Pipeline\n",
    "from pipeline.Constants import Config\n",
    "from pipeline.Reducer import Reducer\n",
    "from pipeline.Cataloguer import Cataloguer\n",
    "from pipeline.ShiftFinder import ShiftFinder\n",
    "from pipeline.FluxFinder import FluxFinder\n",
    "from pipeline.DataAnalyser import DataAnalyser\n",
    "\n",
    "from datetime import datetime\n",
    "import os\n",
    "import importlib"
   ]
  },
  {
   "cell_type": "raw",
   "metadata": {},
   "source": [
    "Reducer = importlib.reload(pipeline.Reducer)\n",
    "ShiftFinder = importlib.reload(pipeline.ShiftFinder)\n",
    "FluxFinder = importlib.reload(pipeline.FluxFinder)\n",
    "DataAnalyser = importlib.reload(pipeline.DataAnalyser)\n",
    "Utilities = importlib.reload(Utilities)\n",
    "Cataloguer = importlib.reload(Cataloguer)\n",
    "Constants = importlib.reload(Constants)\n",
    "Pipeline = importlib.reload(Pipeline)"
   ]
  },
  {
   "cell_type": "code",
   "execution_count": null,
   "metadata": {},
   "outputs": [],
   "source": [
    "# REMOVE ME WHEN NOT USING DARK MODE\n",
    "import matplotlib as mpl\n",
    "COLOR = \"white\"\n",
    "#COLOR = \"black\"\n",
    "mpl.rcParams['text.color'] = COLOR\n",
    "mpl.rcParams['axes.labelcolor'] = COLOR\n",
    "mpl.rcParams['xtick.color'] = COLOR\n",
    "mpl.rcParams['ytick.color'] = COLOR\n",
    "\n",
    "## A4 paper\n",
    "mpl.rcParams['figure.figsize'] = [11.3, 8.7]"
   ]
  },
  {
   "cell_type": "code",
   "execution_count": null,
   "metadata": {},
   "outputs": [],
   "source": [
    "config = Config(\n",
    "    raw_image_dir = os.path.expanduser(\"~/mnt/jgt/2022/0301\"),\n",
    "    image_prefix = \"l138_0\",\n",
    "    bias_prefix = \"bias\",\n",
    "    n_sets = 9,\n",
    "    fits_extension = \".fits\",\n",
    "    fits_date_format = \"%Y.%m.%dT%H:%M:%S.%f\",\n",
    "    has_filter_in_header = False,\n",
    ")"
   ]
  },
  {
   "cell_type": "code",
   "execution_count": null,
   "metadata": {
    "scrolled": false
   },
   "outputs": [],
   "source": [
    "Pipeline.run_existing(config, assume_already_adjusted=True, show_plots=True, show_errors=False)"
   ]
  },
  {
   "cell_type": "code",
   "execution_count": null,
   "metadata": {},
   "outputs": [],
   "source": []
  }
 ],
 "metadata": {
  "interpreter": {
   "hash": "661cda2bc47445e7c6e25a640ed59596e312375c87e120a1d4c7c6ced0f09253"
  },
  "kernelspec": {
   "display_name": "Python 3 (ipykernel)",
   "language": "python",
   "name": "python3"
  },
  "language_info": {
   "codemirror_mode": {
    "name": "ipython",
    "version": 3
   },
   "file_extension": ".py",
   "mimetype": "text/x-python",
   "name": "python",
   "nbconvert_exporter": "python",
   "pygments_lexer": "ipython3",
   "version": "3.10.2"
  }
 },
 "nbformat": 4,
 "nbformat_minor": 2
}
