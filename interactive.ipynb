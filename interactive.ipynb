{
 "cells": [
  {
   "cell_type": "markdown",
   "metadata": {},
   "source": [
    "# Fleming Pipeline - ipython notebook version\n",
    "\n",
    "### Note on astrometry.net \n",
    "\n",
    "Shouldn't need a key to find RA/DEC coordinates since `force_upload=False`.\n",
    "\n",
    "If the solve keeps timing out and you have `Config.astrometry_timeout` as a large value (or `-1`) then check the timeout in `~/.astroquery/config/astroquery.cfg`.\n",
    "\n",
    "\n",
    "#### How to get a key\n",
    "If you do want to upload (eg if machine takes too long solving) you will need a key and add it to `~/.astroquery/config/astroquery.cfg` and `pipeline/astrometry_api_key.txt`.\n",
    "The first is a config file (example layout is as below) latter is just a text file containing the key and nothing else.\n",
    "\n",
    "[Go to the website](http://nova.astrometry.net/api_help) and sign in and follow the instructions.\n",
    "\n",
    "Example config:\n",
    "```\n",
    "[astrometry_net]\n",
    "\n",
    "api_key = XXXXX\n",
    "timeout = 1200 ## 20 mins\n",
    "server = http://npva.astrometry.net\n",
    "```"
   ]
  },
  {
   "cell_type": "code",
   "execution_count": 1,
   "metadata": {},
   "outputs": [],
   "source": [
    "## Imports\n",
    "from pipeline import Reducer\n",
    "from pipeline import ShiftFinder\n",
    "from pipeline import FluxFinder\n",
    "from pipeline import DataAnalyser\n",
    "from pipeline import Constants\n",
    "from pipeline import Utilities\n",
    "from pipeline import Cataloguer\n",
    "\n",
    "from datetime import datetime\n",
    "import os\n",
    "import importlib"
   ]
  },
  {
   "cell_type": "code",
   "execution_count": null,
   "metadata": {},
   "outputs": [],
   "source": [
    "## Imports\n",
    "import pipeline.Reducer\n",
    "import pipeline.ShiftFinder\n",
    "import pipeline.FluxFinder\n",
    "import pipeline.DataAnalyser\n",
    "import pipeline.Constants\n",
    "import pipeline.Utilities\n",
    "import pipeline.Cataloguer\n",
    "\n",
    "from datetime import datetime\n",
    "import os\n",
    "import importlib"
   ]
  },
  {
   "cell_type": "code",
   "execution_count": null,
   "metadata": {},
   "outputs": [],
   "source": [
    "# REMOVE ME WHEN NOT USING DARK MODE\n",
    "import matplotlib as mpl\n",
    "COLOR = \"white\"\n",
    "#COLOR = \"black\"\n",
    "mpl.rcParams['text.color'] = COLOR\n",
    "mpl.rcParams['axes.labelcolor'] = COLOR\n",
    "mpl.rcParams['xtick.color'] = COLOR\n",
    "mpl.rcParams['ytick.color'] = COLOR"
   ]
  },
  {
   "cell_type": "code",
   "execution_count": 2,
   "metadata": {},
   "outputs": [
    {
     "ename": "FileNotFoundError",
     "evalue": "[Errno 2] No such file or directory: './astrometry_api_key.txt'",
     "output_type": "error",
     "traceback": [
      "\u001b[0;31m---------------------------------------------------------------------------\u001b[0m",
      "\u001b[0;31mFileNotFoundError\u001b[0m                         Traceback (most recent call last)",
      "Input \u001b[0;32mIn [2]\u001b[0m, in \u001b[0;36m<module>\u001b[0;34m\u001b[0m\n\u001b[0;32m----> 1\u001b[0m config \u001b[38;5;241m=\u001b[39m \u001b[43mConstants\u001b[49m\u001b[38;5;241;43m.\u001b[39;49m\u001b[43mConfig\u001b[49m\u001b[43m(\u001b[49m\n\u001b[1;32m      2\u001b[0m \u001b[43m    \u001b[49m\u001b[43mimage_dir\u001b[49m\u001b[43m \u001b[49m\u001b[38;5;241;43m=\u001b[39;49m\u001b[43m \u001b[49m\u001b[43mos\u001b[49m\u001b[38;5;241;43m.\u001b[39;49m\u001b[43mpath\u001b[49m\u001b[38;5;241;43m.\u001b[39;49m\u001b[43mexpanduser\u001b[49m\u001b[43m(\u001b[49m\u001b[38;5;124;43m\"\u001b[39;49m\u001b[38;5;124;43m~/mnt/data/jgtdata/l137_0/0121\u001b[39;49m\u001b[38;5;124;43m\"\u001b[39;49m\u001b[43m)\u001b[49m\u001b[43m,\u001b[49m\n\u001b[1;32m      3\u001b[0m \u001b[43m    \u001b[49m\u001b[43mimage_prefix\u001b[49m\u001b[43m \u001b[49m\u001b[38;5;241;43m=\u001b[39;49m\u001b[43m \u001b[49m\u001b[38;5;124;43m\"\u001b[39;49m\u001b[38;5;124;43ml137_0\u001b[39;49m\u001b[38;5;124;43m\"\u001b[39;49m\u001b[43m,\u001b[49m\n\u001b[1;32m      4\u001b[0m \u001b[43m    \u001b[49m\u001b[43mbias_prefix\u001b[49m\u001b[43m \u001b[49m\u001b[38;5;241;43m=\u001b[39;49m\u001b[43m \u001b[49m\u001b[38;5;124;43m\"\u001b[39;49m\u001b[38;5;124;43mbias_shutter\u001b[39;49m\u001b[38;5;124;43m\"\u001b[39;49m\u001b[43m,\u001b[49m\n\u001b[1;32m      5\u001b[0m \u001b[43m    \u001b[49m\u001b[43mhas_sets\u001b[49m\u001b[43m \u001b[49m\u001b[38;5;241;43m=\u001b[39;49m\u001b[43m \u001b[49m\u001b[38;5;28;43;01mTrue\u001b[39;49;00m\u001b[43m,\u001b[49m\n\u001b[1;32m      6\u001b[0m \u001b[43m    \u001b[49m\u001b[43mset_size\u001b[49m\u001b[43m \u001b[49m\u001b[38;5;241;43m=\u001b[39;49m\u001b[43m \u001b[49m\u001b[38;5;241;43m50\u001b[39;49m\u001b[43m,\u001b[49m\n\u001b[1;32m      7\u001b[0m \u001b[43m    \u001b[49m\u001b[43mn_sets\u001b[49m\u001b[43m \u001b[49m\u001b[38;5;241;43m=\u001b[39;49m\u001b[43m \u001b[49m\u001b[38;5;241;43m7\u001b[39;49m\n\u001b[1;32m      8\u001b[0m \u001b[43m)\u001b[49m\n",
      "File \u001b[0;32m~/repos/uni-git/masters-project/fleming/pipeline/Constants.py:204\u001b[0m, in \u001b[0;36mConfig.__init__\u001b[0;34m(self, pipeline_root, workspace_subdir, image_subdir, image_dir, raw_image_subdir, raw_image_dir, flux_subdir, light_curve_subdir, adjusted_curve_subdir, output_subdir, streak_subdir, moving_obj_subdir, rejects_subdir, periods_subdir, id_map_fname, moving_obj_fname, astrometry_job_fname, avg_curve_fname, reduced_prefix, catalogue_prefix, time_prefix, shift_prefix, flux_prefix, bias_prefix, flat_prefix, fits_extension, standard_file_extension, plot_file_extension, line_ending, identifier, table_format, fits_date_format, variability_threshold, variability_max, check_radius, cosmic_threshold, flux_cutoff, edge_limit, inner_radius, outer_radius, moving_obj_check_image, n_reference_stars, min_signal_to_noise, period_chi2_range, period_max_iterations, period_width_adjustment, image_width, image_height, image_prefix, has_sets, set_size, n_sets, has_filter_in_header, astrometry_timeout, api_key, api_key_file)\u001b[0m\n\u001b[1;32m    198\u001b[0m \u001b[38;5;28mself\u001b[39m\u001b[38;5;241m.\u001b[39mlight_curve_dtype \u001b[38;5;241m=\u001b[39m [\n\u001b[1;32m    199\u001b[0m     (\u001b[38;5;124m'\u001b[39m\u001b[38;5;124mtime\u001b[39m\u001b[38;5;124m'\u001b[39m, \u001b[38;5;124m'\u001b[39m\u001b[38;5;124mfloat64\u001b[39m\u001b[38;5;124m'\u001b[39m),\n\u001b[1;32m    200\u001b[0m     (\u001b[38;5;124m'\u001b[39m\u001b[38;5;124mcounts\u001b[39m\u001b[38;5;124m'\u001b[39m, \u001b[38;5;124m'\u001b[39m\u001b[38;5;124mfloat64\u001b[39m\u001b[38;5;124m'\u001b[39m),\n\u001b[1;32m    201\u001b[0m     (\u001b[38;5;124m'\u001b[39m\u001b[38;5;124mcounts_err\u001b[39m\u001b[38;5;124m'\u001b[39m, \u001b[38;5;124m'\u001b[39m\u001b[38;5;124mfloat64\u001b[39m\u001b[38;5;124m'\u001b[39m)]\n\u001b[1;32m    203\u001b[0m \u001b[38;5;66;03m## Read in astrometry api key from file\u001b[39;00m\n\u001b[0;32m--> 204\u001b[0m \u001b[38;5;28;01mwith\u001b[39;00m \u001b[38;5;28;43mopen\u001b[39;49m\u001b[43m(\u001b[49m\u001b[43mos\u001b[49m\u001b[38;5;241;43m.\u001b[39;49m\u001b[43mpath\u001b[49m\u001b[38;5;241;43m.\u001b[39;49m\u001b[43mjoin\u001b[49m\u001b[43m(\u001b[49m\u001b[43mpipeline_root\u001b[49m\u001b[43m,\u001b[49m\u001b[43m \u001b[49m\u001b[43mapi_key_file\u001b[49m\u001b[43m)\u001b[49m\u001b[43m)\u001b[49m \u001b[38;5;28;01mas\u001b[39;00m f:\n\u001b[1;32m    205\u001b[0m     \u001b[38;5;28mself\u001b[39m\u001b[38;5;241m.\u001b[39mapi_key \u001b[38;5;241m=\u001b[39m f\u001b[38;5;241m.\u001b[39mread()\u001b[38;5;241m.\u001b[39mreplace(line_ending, \u001b[38;5;124m\"\u001b[39m\u001b[38;5;124m\"\u001b[39m)\n\u001b[1;32m    207\u001b[0m \u001b[38;5;66;03m## Create catalogue path\u001b[39;00m\n",
      "\u001b[0;31mFileNotFoundError\u001b[0m: [Errno 2] No such file or directory: './astrometry_api_key.txt'"
     ]
    }
   ],
   "source": [
    "config = Constants.Config(\n",
    "    image_dir = os.path.expanduser(\"~/mnt/data/jgtdata/l137_0/0121\"),\n",
    "    image_prefix = \"l137_0\",\n",
    "    bias_prefix = \"bias_shutter\",\n",
    "    has_sets = True,\n",
    "    set_size = 50,\n",
    "    n_sets = 7\n",
    ")"
   ]
  },
  {
   "cell_type": "code",
   "execution_count": null,
   "metadata": {
    "scrolled": true
   },
   "outputs": [],
   "source": [
    "r = Reducer.Reducer(config, \"No filter\") ## Only \"No filter\" for Trius\n",
    "\n",
    "r.reduce(skip_existing=True)"
   ]
  },
  {
   "cell_type": "code",
   "execution_count": null,
   "metadata": {
    "scrolled": true
   },
   "outputs": [],
   "source": [
    "c = Cataloguer.Cataloguer(config)\n",
    "\n",
    "catalogue_image = os.path.join(config.image_dir, config.image_format_str.format(1, 1))\n",
    "\n",
    "n_sources = c.generate_catalogue(catalogue_image, solve=True)\n",
    "c.generate_image_times()"
   ]
  },
  {
   "cell_type": "code",
   "execution_count": null,
   "metadata": {
    "scrolled": true
   },
   "outputs": [],
   "source": [
    "sf = ShiftFinder.ShiftFinder(config, n_sources)\n",
    "\n",
    "sf.generate_shifts()"
   ]
  },
  {
   "cell_type": "code",
   "execution_count": null,
   "metadata": {
    "scrolled": true
   },
   "outputs": [],
   "source": [
    "ff = FluxFinder.FluxFinder(config, n_sources)\n",
    "\n",
    "ff.make_light_curves()"
   ]
  },
  {
   "cell_type": "code",
   "execution_count": null,
   "metadata": {
    "scrolled": true
   },
   "outputs": [],
   "source": [
    "da = DataAnalyser.DataAnalyser(config)\n",
    "\n",
    "print(\"[Main] Creating average light curve\")\n",
    "da.create_avg_curve()\n",
    "ff.plot_avg_light_curve(config.avg_curve_path, show=True)\n",
    "\n",
    "print(\"[Main] Adjusting\")\n",
    "ff.create_adjusted_light_curves()"
   ]
  },
  {
   "cell_type": "code",
   "execution_count": null,
   "metadata": {
    "scrolled": true
   },
   "outputs": [],
   "source": [
    "print(\"[Main] Plotting variable light curves\")\n",
    "variable_ids = da.get_variables()\n",
    "ff.plot_all_light_curves(variable_ids, adjusted=True, show=True)"
   ]
  },
  {
   "cell_type": "code",
   "execution_count": null,
   "metadata": {
    "scrolled": true
   },
   "outputs": [],
   "source": [
    "da.output_results()\n",
    "da.create_thumbnails(ff)"
   ]
  },
  {
   "cell_type": "markdown",
   "metadata": {},
   "source": [
    "## Debug land\n",
    "\n",
    "Use at your own peril"
   ]
  },
  {
   "cell_type": "code",
   "execution_count": null,
   "metadata": {},
   "outputs": [],
   "source": [
    "## Imports\n",
    "import Reducer\n",
    "import ShiftFinder\n",
    "import FluxFinder\n",
    "import DataAnalyser\n",
    "import Constants\n",
    "import Utilities\n",
    "import MovingObjectFinder\n",
    "import StreakFinder\n",
    "import Cataloguer\n",
    "\n",
    "from datetime import datetime\n",
    "import os\n",
    "import importlib"
   ]
  },
  {
   "cell_type": "code",
   "execution_count": null,
   "metadata": {},
   "outputs": [],
   "source": [
    "Reducer = importlib.reload(Reducer)\n",
    "ShiftFinder = importlib.reload(ShiftFinder)\n",
    "FluxFinder = importlib.reload(FluxFinder)\n",
    "DataAnalyser = importlib.reload(DataAnalyser)\n",
    "Utilities = importlib.reload(Utilities)\n",
    "Cataloguer = importlib.reload(Cataloguer)\n",
    "Constants = importlib.reload(Constants)"
   ]
  },
  {
   "cell_type": "code",
   "execution_count": null,
   "metadata": {},
   "outputs": [],
   "source": []
  }
 ],
 "metadata": {
  "interpreter": {
   "hash": "661cda2bc47445e7c6e25a640ed59596e312375c87e120a1d4c7c6ced0f09253"
  },
  "kernelspec": {
   "display_name": "Python 3 (ipykernel)",
   "language": "python",
   "name": "python3"
  },
  "language_info": {
   "codemirror_mode": {
    "name": "ipython",
    "version": 3
   },
   "file_extension": ".py",
   "mimetype": "text/x-python",
   "name": "python",
   "nbconvert_exporter": "python",
   "pygments_lexer": "ipython3",
   "version": "3.10.2"
  }
 },
 "nbformat": 4,
 "nbformat_minor": 2
}
