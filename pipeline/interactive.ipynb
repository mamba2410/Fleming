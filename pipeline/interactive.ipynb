{
 "cells": [
  {
   "cell_type": "markdown",
   "metadata": {},
   "source": [
    "# Fleming Pipeline - ipython notebook version\n",
    "\n",
    "Note on astrometry.net keys:\n",
    "[Go to the website](http://nova.astrometry.net/api_help) and sign in and follow the instructions.\n",
    "\n",
    "Key shouldn't matter if not `force_upload==False`\n",
    "~~Need to add your own key to `~/.astroquery/config/astroquery.cfg` and `pipeline/astrometry_api_key.txt`~~"
   ]
  },
  {
   "cell_type": "code",
   "execution_count": null,
   "metadata": {},
   "outputs": [],
   "source": [
    "## Imports\n",
    "import Reducer\n",
    "import ShiftFinder\n",
    "import FluxFinder\n",
    "import DataAnalyser\n",
    "import Constants\n",
    "import Utilities\n",
    "import MovingObjectFinder\n",
    "import StreakFinder\n",
    "import Cataloguer\n",
    "\n",
    "from datetime import datetime\n",
    "import os\n",
    "import importlib\n",
    "\n",
    "#from astroquery import log\n",
    "#log.setLevel(\"TRACE\")\n"
   ]
  },
  {
   "cell_type": "code",
   "execution_count": null,
   "metadata": {},
   "outputs": [],
   "source": [
    "# REMOVE ME WHEN NOT USING DARK MODE\n",
    "import matplotlib as mpl\n",
    "COLOR = \"white\"\n",
    "#OLOR = \"black\"\n",
    "mpl.rcParams['text.color'] = COLOR\n",
    "mpl.rcParams['axes.labelcolor'] = COLOR\n",
    "mpl.rcParams['xtick.color'] = COLOR\n",
    "mpl.rcParams['ytick.color'] = COLOR"
   ]
  },
  {
   "cell_type": "code",
   "execution_count": null,
   "metadata": {},
   "outputs": [],
   "source": [
    "config = Constants.Config(\n",
    "    #image_subdir = \"../images/0121\",\n",
    "    image_dir = \"/home/callum/mnt/data/jgtdata/l137_0/0121\",\n",
    "    image_prefix = \"l137_0\",\n",
    "    bias_prefix = \"bias_shutter\",\n",
    "    has_sets = True,\n",
    "    set_size = 50,\n",
    "    n_sets = 7\n",
    ")"
   ]
  },
  {
   "cell_type": "code",
   "execution_count": null,
   "metadata": {
    "scrolled": true
   },
   "outputs": [],
   "source": [
    "r = Reducer.Reducer(config, \"No filter\") ## Only \"No filter\" for Trius\n",
    "r.reduce(skip_existing=True)\n",
    "#r.reduce(skip_existing=False)"
   ]
  },
  {
   "cell_type": "code",
   "execution_count": null,
   "metadata": {},
   "outputs": [],
   "source": [
    "c = Cataloguer.Cataloguer(config)\n",
    "\n",
    "catalogue_image = os.path.join(config.image_dir, config.image_format_str.format(1, 1))\n",
    "\n",
    "n_sources = c.generate_catalogue(catalogue_image, solve=False)\n",
    "c.generate_image_times()"
   ]
  },
  {
   "cell_type": "code",
   "execution_count": null,
   "metadata": {
    "scrolled": true
   },
   "outputs": [],
   "source": [
    "sf = ShiftFinder.ShiftFinder(config, n_sources)\n",
    "\n",
    "sf.generate_shifts()"
   ]
  },
  {
   "cell_type": "code",
   "execution_count": null,
   "metadata": {
    "scrolled": true
   },
   "outputs": [],
   "source": [
    "ff = FluxFinder.FluxFinder(config, n_sources)\n",
    "\n",
    "ff.make_light_curves()"
   ]
  },
  {
   "cell_type": "code",
   "execution_count": null,
   "metadata": {},
   "outputs": [],
   "source": [
    "da = DataAnalyser.DataAnalyser(config)\n",
    "\n",
    "print(\"[Main] Creating average light curve\")\n",
    "da.create_avg_curve()\n",
    "ff.plot_avg_light_curve(config.avg_curve_path, show=True)\n",
    "\n",
    "print(\"[Main] Adjusting\")\n",
    "#ff.create_adjusted_light_curves()"
   ]
  },
  {
   "cell_type": "code",
   "execution_count": null,
   "metadata": {
    "scrolled": true
   },
   "outputs": [],
   "source": [
    "print(\"[Main] Plotting variable light curves\")\n",
    "variable_ids = da.get_variables()\n",
    "print(variable_ids)\n",
    "ff.plot_all_light_curves(variable_ids, adjusted=True, show=True)"
   ]
  },
  {
   "cell_type": "code",
   "execution_count": null,
   "metadata": {},
   "outputs": [],
   "source": [
    "da.plot_means_and_stds(adjusted=True)\n",
    "da.output_results()\n",
    "da.create_thumbnails(ff)"
   ]
  },
  {
   "cell_type": "markdown",
   "metadata": {},
   "source": [
    "## Debug land\n",
    "\n",
    "Use at your own peril"
   ]
  },
  {
   "cell_type": "code",
   "execution_count": null,
   "metadata": {},
   "outputs": [],
   "source": [
    "## Imports\n",
    "import Reducer\n",
    "import ShiftFinder\n",
    "import FluxFinder\n",
    "import DataAnalyser\n",
    "import Constants\n",
    "import Utilities\n",
    "import MovingObjectFinder\n",
    "import StreakFinder\n",
    "import Cataloguer\n",
    "\n",
    "from datetime import datetime\n",
    "import os\n",
    "import importlib"
   ]
  },
  {
   "cell_type": "code",
   "execution_count": null,
   "metadata": {},
   "outputs": [],
   "source": [
    "debug_config = Constants.Config(\n",
    "    #image_subdir = \"../images/0121\",\n",
    "    image_dir = \"/home/callum/mnt/data/jgtdata/l137_0/0121\",\n",
    "    image_prefix = \"l137_0\",\n",
    "    has_sets = True,\n",
    "    set_size = 50,\n",
    "    n_sets = 7\n",
    ")"
   ]
  },
  {
   "cell_type": "code",
   "execution_count": null,
   "metadata": {},
   "outputs": [],
   "source": [
    "Reducer = importlib.reload(Reducer)\n",
    "ShiftFinder = importlib.reload(ShiftFinder)\n",
    "FluxFinder = importlib.reload(FluxFinder)\n",
    "DataAnalyser = importlib.reload(DataAnalyser)\n",
    "Utilities = importlib.reload(Utilities)\n",
    "Cataloguer = importlib.reload(Cataloguer)\n",
    "Constants = importlib.reload(Constants)"
   ]
  },
  {
   "cell_type": "code",
   "execution_count": null,
   "metadata": {},
   "outputs": [],
   "source": [
    "Cataloguer = importlib.reload(Cataloguer)\n",
    "\n",
    "c = Cataloguer.Cataloguer(debug_config)\n",
    "\n",
    "catalogue_image = os.path.join(debug_config.image_dir,\n",
    "        debug_config.image_format_str.format(1, 1))\n",
    "\n",
    "n_sources = c.generate_catalogue(catalogue_image, solve=False)\n",
    "c.generate_image_times()"
   ]
  },
  {
   "cell_type": "raw",
   "metadata": {},
   "source": [
    "ShiftFinder = importlib.reload(ShiftFinder)\n",
    "sf = ShiftFinder.ShiftFinder(debug_config, n_sources)\n",
    "sf.get_reference_coordinates(10)\n",
    "sf.generate_shifts()"
   ]
  },
  {
   "cell_type": "code",
   "execution_count": null,
   "metadata": {
    "scrolled": true
   },
   "outputs": [],
   "source": [
    "FluxFinder = importlib.reload(FluxFinder)\n",
    "ff = FluxFinder.FluxFinder(debug_config, n_sources)\n",
    "#ff = FluxFinder.FluxFinder(config, n_sources)\n",
    "\n",
    "#ff.make_light_curves()"
   ]
  },
  {
   "cell_type": "code",
   "execution_count": null,
   "metadata": {},
   "outputs": [],
   "source": [
    "DataAnalyser = importlib.reload(DataAnalyser)\n",
    "da = DataAnalyser.DataAnalyser(debug_config)\n",
    "\n",
    "da.create_avg_curve()"
   ]
  },
  {
   "cell_type": "code",
   "execution_count": null,
   "metadata": {},
   "outputs": [],
   "source": [
    "FluxFinder = importlib.reload(FluxFinder)\n",
    "ff = FluxFinder.FluxFinder(debug_config, n_sources)\n",
    "\n",
    "ff.plot_avg_light_curve(debug_config.avg_curve_path, show=True)\n",
    "\n",
    "ff.create_adjusted_light_curves()\n",
    "ff.plot_all_light_curves(variable_ids, adjusted=True, show=True)"
   ]
  },
  {
   "cell_type": "code",
   "execution_count": null,
   "metadata": {},
   "outputs": [],
   "source": [
    "DataAnalyser = importlib.reload(DataAnalyser)\n",
    "\n",
    "da.get_variables()\n"
   ]
  },
  {
   "cell_type": "code",
   "execution_count": null,
   "metadata": {},
   "outputs": [],
   "source": []
  }
 ],
 "metadata": {
  "interpreter": {
   "hash": "661cda2bc47445e7c6e25a640ed59596e312375c87e120a1d4c7c6ced0f09253"
  },
  "kernelspec": {
   "display_name": "Python 3 (ipykernel)",
   "language": "python",
   "name": "python3"
  },
  "language_info": {
   "codemirror_mode": {
    "name": "ipython",
    "version": 3
   },
   "file_extension": ".py",
   "mimetype": "text/x-python",
   "name": "python",
   "nbconvert_exporter": "python",
   "pygments_lexer": "ipython3",
   "version": "3.10.2"
  }
 },
 "nbformat": 4,
 "nbformat_minor": 2
}
