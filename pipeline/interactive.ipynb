{
 "cells": [
  {
   "cell_type": "markdown",
   "metadata": {},
   "source": [
    "# Fleming Pipeline - ipython notebook version\n",
    "\n",
    "Note on astrometry.net keys:\n",
    "[Go to the website](http://nova.astrometry.net/api_help) and sign in and follow the instructions.\n",
    "\n",
    "Need to add your own key to `~/.astroquery/config/astroquery.cfg` and `pipeline/astrometry_api_key.txt`"
   ]
  },
  {
   "cell_type": "code",
   "execution_count": 7,
   "metadata": {},
   "outputs": [],
   "source": [
    "## Imports\n",
    "import Reducer\n",
    "import ShiftFinder\n",
    "import FluxFinder\n",
    "import DataAnalyser\n",
    "import Constants\n",
    "import Utilities\n",
    "import MovingObjectFinder\n",
    "import StreakFinder\n",
    "import Cataloguer\n",
    "\n",
    "from datetime import datetime\n",
    "import os\n",
    "\n",
    "#from astroquery import log\n",
    "#log.setLevel(\"TRACE\")\n"
   ]
  },
  {
   "cell_type": "code",
   "execution_count": null,
   "metadata": {},
   "outputs": [],
   "source": [
    "## Reload imports (if files changed, only used for testing)\n",
    "import importlib\n",
    "importlib.reload(ShiftFinder)\n",
    "importlib.reload(FluxFinder)\n",
    "importlib.reload(DataAnalyser)\n",
    "importlib.reload(Utilities)\n",
    "importlib.reload(Cataloguer)\n"
   ]
  },
  {
   "cell_type": "code",
   "execution_count": 2,
   "metadata": {},
   "outputs": [],
   "source": [
    "# REMOVE ME WHEN NOT USING DARK MODE\n",
    "import matplotlib as mpl\n",
    "COLOR = \"white\"\n",
    "#COLOR = \"black\"\n",
    "mpl.rcParams['text.color'] = COLOR\n",
    "mpl.rcParams['axes.labelcolor'] = COLOR\n",
    "mpl.rcParams['xtick.color'] = COLOR\n",
    "mpl.rcParams['ytick.color'] = COLOR"
   ]
  },
  {
   "cell_type": "code",
   "execution_count": null,
   "metadata": {},
   "outputs": [],
   "source": [
    "\n",
    "#r = Reducer.Reducer(Constants.folder,\"No filter\",Constants.file_name, 9, 50)\n",
    "#r.reduce(True)\n",
    "# # #set_size, n_sets = r.get_set_info()"
   ]
  },
  {
   "cell_type": "code",
   "execution_count": 8,
   "metadata": {},
   "outputs": [
    {
     "name": "stdout",
     "output_type": "stream",
     "text": [
      "Dumped 112 objects\n",
      "Catalogues 1108 objects\n",
      "starting job\n",
      "Determining background stats\n"
     ]
    },
    {
     "name": "stderr",
     "output_type": "stream",
     "text": [
      "WARNING: FITSFixedWarning: 'datfix' made the change 'Set MJD-OBS to 59600.739850 from DATE-OBS'. [astropy.wcs.wcs]\n"
     ]
    },
    {
     "name": "stdout",
     "output_type": "stream",
     "text": [
      "Finding sources\n",
      "Found 1355 sources\n",
      " id      xcentroid      ...        flux                 mag          \n",
      "---- ------------------ ... ------------------ ----------------------\n",
      " 881 2078.6676678777644 ... 168.73045076485548     -5.567983666842608\n",
      " 428 1312.5969976127772 ...  161.7241408363077     -5.521937131544891\n",
      "1296  752.8349638637275 ... 158.32350036887271     -5.498863457765951\n",
      "1121 1473.1473451113136 ...  133.2528962604471     -5.311691643050666\n",
      " 606 1233.8588987377507 ...   131.428198146547     -5.296721384627498\n",
      " 917 1015.1401707765954 ...  128.1301155178985    -5.2691280442307145\n",
      " 787 1523.1761813437708 ... 118.90228311343414     -5.187975484613304\n",
      " 368 1165.2002511192618 ... 112.79986988619136     -5.130771496730416\n",
      " ...                ... ...                ...                    ...\n",
      " 630 1677.6664477527775 ... 1.0054829274069417  -0.005936752235173444\n",
      "1315 1995.4931867732557 ... 1.0052621224314129  -0.005698297382724346\n",
      " 594 1788.0072813668514 ... 1.0051012094980318  -0.005524489001737745\n",
      "1184 1902.0237777638263 ...  1.004841684960584  -0.005244107714614514\n",
      "1146  1806.305157512327 ... 1.0047943699943336  -0.005192982465574802\n",
      "   3 1393.7531762904932 ... 1.0035516968208975 -0.0038493739614823145\n",
      " 731 2326.9134471526345 ... 1.0013326824842712 -0.0014459783214968518\n",
      " 970 1543.3161623712824 ... 1.0009075332841735 -0.0009848948987665033\n",
      "Length = 1355 rows\n",
      "Solving.................................................finished job\n"
     ]
    },
    {
     "name": "stderr",
     "output_type": "stream",
     "text": [
      "WARNING: FITSFixedWarning: The WCS transformation has more axes (2) than the image it is associated with (0) [astropy.wcs.wcs]\n"
     ]
    },
    {
     "name": "stdout",
     "output_type": "stream",
     "text": [
      "Finished cataloguing images at 18:20:03\n"
     ]
    }
   ],
   "source": [
    "c = Cataloguer.Cataloguer(Constants.workspace_dir, Constants.image_prefix, Constants.has_sets,\n",
    "                          Constants.set_size, Constants.n_sets)\n",
    "catalogue_image = os.path.join(Constants.workspace_dir, Constants.image_subdir,\n",
    "        \"{}_{:1}_{:03}{}\".format(Constants.image_prefix, 1, 1, Constants.fits_extension))\n",
    "c.catalogue(catalogue_image)\n",
    "Utilities.print_job(\"cataloguing images\")"
   ]
  },
  {
   "cell_type": "code",
   "execution_count": 9,
   "metadata": {
    "scrolled": true
   },
   "outputs": [
    {
     "name": "stdout",
     "output_type": "stream",
     "text": [
      "Finding shifts in image: set 1; image 001\n"
     ]
    },
    {
     "name": "stderr",
     "output_type": "stream",
     "text": [
      "WARNING: The fit may be unsuccessful; check fit_info['message'] for more information. [astropy.modeling.fitting]\n",
      "WARNING: The fit may be unsuccessful; check fit_info['message'] for more information. [astropy.modeling.fitting]\n"
     ]
    },
    {
     "name": "stdout",
     "output_type": "stream",
     "text": [
      "0.5129786036788362 0.730675845486819\n",
      "Finding shifts in image: set 1; image 002\n"
     ]
    },
    {
     "name": "stderr",
     "output_type": "stream",
     "text": [
      "WARNING: The fit may be unsuccessful; check fit_info['message'] for more information. [astropy.modeling.fitting]\n"
     ]
    },
    {
     "name": "stdout",
     "output_type": "stream",
     "text": [
      "-1.4030576961818957 0.27367387952120126\n",
      "Finding shifts in image: set 1; image 003\n"
     ]
    },
    {
     "name": "stderr",
     "output_type": "stream",
     "text": [
      "WARNING: The fit may be unsuccessful; check fit_info['message'] for more information. [astropy.modeling.fitting]\n",
      "WARNING: The fit may be unsuccessful; check fit_info['message'] for more information. [astropy.modeling.fitting]\n",
      "WARNING: The fit may be unsuccessful; check fit_info['message'] for more information. [astropy.modeling.fitting]\n",
      "WARNING: The fit may be unsuccessful; check fit_info['message'] for more information. [astropy.modeling.fitting]\n"
     ]
    },
    {
     "name": "stdout",
     "output_type": "stream",
     "text": [
      "-0.973242785198444 -0.10824512685953902\n",
      "Finding shifts in image: set 1; image 004\n"
     ]
    },
    {
     "name": "stderr",
     "output_type": "stream",
     "text": [
      "WARNING: The fit may be unsuccessful; check fit_info['message'] for more information. [astropy.modeling.fitting]\n"
     ]
    },
    {
     "name": "stdout",
     "output_type": "stream",
     "text": [
      "0.9722054543366667 -0.3853482223828335\n",
      "Finding shifts in image: set 1; image 005\n"
     ]
    },
    {
     "name": "stderr",
     "output_type": "stream",
     "text": [
      "WARNING: The fit may be unsuccessful; check fit_info['message'] for more information. [astropy.modeling.fitting]\n",
      "WARNING: The fit may be unsuccessful; check fit_info['message'] for more information. [astropy.modeling.fitting]\n"
     ]
    },
    {
     "name": "stdout",
     "output_type": "stream",
     "text": [
      "0.7707820282328761 -0.42350485088491396\n",
      "Finding shifts in image: set 1; image 006\n"
     ]
    },
    {
     "name": "stderr",
     "output_type": "stream",
     "text": [
      "WARNING: The fit may be unsuccessful; check fit_info['message'] for more information. [astropy.modeling.fitting]\n",
      "WARNING: The fit may be unsuccessful; check fit_info['message'] for more information. [astropy.modeling.fitting]\n",
      "WARNING: The fit may be unsuccessful; check fit_info['message'] for more information. [astropy.modeling.fitting]\n"
     ]
    },
    {
     "name": "stdout",
     "output_type": "stream",
     "text": [
      "-0.1703043357050582 -0.522495696664989\n",
      "Finding shifts in image: set 1; image 007\n"
     ]
    },
    {
     "name": "stderr",
     "output_type": "stream",
     "text": [
      "WARNING: The fit may be unsuccessful; check fit_info['message'] for more information. [astropy.modeling.fitting]\n"
     ]
    },
    {
     "name": "stdout",
     "output_type": "stream",
     "text": [
      "-0.8252524956827427 -0.45678991374362\n",
      "Finding shifts in image: set 1; image 008\n",
      "0.6349002195195581 -1.215554915762934\n",
      "Finding shifts in image: set 1; image 009\n"
     ]
    },
    {
     "name": "stderr",
     "output_type": "stream",
     "text": [
      "WARNING: The fit may be unsuccessful; check fit_info['message'] for more information. [astropy.modeling.fitting]\n",
      "WARNING: The fit may be unsuccessful; check fit_info['message'] for more information. [astropy.modeling.fitting]\n",
      "WARNING: The fit may be unsuccessful; check fit_info['message'] for more information. [astropy.modeling.fitting]\n"
     ]
    },
    {
     "name": "stdout",
     "output_type": "stream",
     "text": [
      "1.8507557793838751 -1.6118951394388006\n",
      "Finding shifts in image: set 1; image 010\n"
     ]
    },
    {
     "name": "stderr",
     "output_type": "stream",
     "text": [
      "WARNING: The fit may be unsuccessful; check fit_info['message'] for more information. [astropy.modeling.fitting]\n",
      "WARNING: The fit may be unsuccessful; check fit_info['message'] for more information. [astropy.modeling.fitting]\n",
      "WARNING: The fit may be unsuccessful; check fit_info['message'] for more information. [astropy.modeling.fitting]\n"
     ]
    },
    {
     "name": "stdout",
     "output_type": "stream",
     "text": [
      "0.3894905895125049 -0.9357283152554077\n",
      "Finding shifts in image: set 1; image 011\n"
     ]
    },
    {
     "name": "stderr",
     "output_type": "stream",
     "text": [
      "WARNING: The fit may be unsuccessful; check fit_info['message'] for more information. [astropy.modeling.fitting]\n",
      "WARNING: The fit may be unsuccessful; check fit_info['message'] for more information. [astropy.modeling.fitting]\n"
     ]
    },
    {
     "name": "stdout",
     "output_type": "stream",
     "text": [
      "-0.318815599462587 -1.8134933301503242\n",
      "Finding shifts in image: set 1; image 012\n"
     ]
    },
    {
     "name": "stderr",
     "output_type": "stream",
     "text": [
      "WARNING: The fit may be unsuccessful; check fit_info['message'] for more information. [astropy.modeling.fitting]\n",
      "WARNING: The fit may be unsuccessful; check fit_info['message'] for more information. [astropy.modeling.fitting]\n",
      "WARNING: The fit may be unsuccessful; check fit_info['message'] for more information. [astropy.modeling.fitting]\n",
      "WARNING: The fit may be unsuccessful; check fit_info['message'] for more information. [astropy.modeling.fitting]\n"
     ]
    },
    {
     "name": "stdout",
     "output_type": "stream",
     "text": [
      "0.532584155557867 -1.845198351373253\n",
      "Finding shifts in image: set 1; image 013\n"
     ]
    },
    {
     "name": "stderr",
     "output_type": "stream",
     "text": [
      "WARNING: The fit may be unsuccessful; check fit_info['message'] for more information. [astropy.modeling.fitting]\n",
      "WARNING: The fit may be unsuccessful; check fit_info['message'] for more information. [astropy.modeling.fitting]\n",
      "WARNING: The fit may be unsuccessful; check fit_info['message'] for more information. [astropy.modeling.fitting]\n"
     ]
    },
    {
     "name": "stdout",
     "output_type": "stream",
     "text": [
      "2.866822358156833 -2.268700638981751\n",
      "Finding shifts in image: set 1; image 014\n"
     ]
    },
    {
     "name": "stderr",
     "output_type": "stream",
     "text": [
      "WARNING: The fit may be unsuccessful; check fit_info['message'] for more information. [astropy.modeling.fitting]\n",
      "WARNING: The fit may be unsuccessful; check fit_info['message'] for more information. [astropy.modeling.fitting]\n"
     ]
    },
    {
     "name": "stdout",
     "output_type": "stream",
     "text": [
      "1.1055230097234432 -2.3728513392337733\n",
      "Finding shifts in image: set 1; image 015\n"
     ]
    },
    {
     "name": "stderr",
     "output_type": "stream",
     "text": [
      "WARNING: The fit may be unsuccessful; check fit_info['message'] for more information. [astropy.modeling.fitting]\n",
      "WARNING: The fit may be unsuccessful; check fit_info['message'] for more information. [astropy.modeling.fitting]\n",
      "WARNING: The fit may be unsuccessful; check fit_info['message'] for more information. [astropy.modeling.fitting]\n"
     ]
    },
    {
     "name": "stdout",
     "output_type": "stream",
     "text": [
      "0.17654352896075665 -2.4403491946824136\n",
      "Finding shifts in image: set 1; image 016\n"
     ]
    },
    {
     "name": "stderr",
     "output_type": "stream",
     "text": [
      "WARNING: The fit may be unsuccessful; check fit_info['message'] for more information. [astropy.modeling.fitting]\n",
      "WARNING: The fit may be unsuccessful; check fit_info['message'] for more information. [astropy.modeling.fitting]\n",
      "WARNING: The fit may be unsuccessful; check fit_info['message'] for more information. [astropy.modeling.fitting]\n",
      "WARNING: The fit may be unsuccessful; check fit_info['message'] for more information. [astropy.modeling.fitting]\n"
     ]
    },
    {
     "name": "stdout",
     "output_type": "stream",
     "text": [
      "0.3462856344920846 -2.5774716996948044\n",
      "Finding shifts in image: set 1; image 017\n"
     ]
    },
    {
     "name": "stderr",
     "output_type": "stream",
     "text": [
      "WARNING: The fit may be unsuccessful; check fit_info['message'] for more information. [astropy.modeling.fitting]\n"
     ]
    },
    {
     "name": "stdout",
     "output_type": "stream",
     "text": [
      "3.0181714004622204 -3.02144254883739\n",
      "Finding shifts in image: set 1; image 018\n"
     ]
    },
    {
     "name": "stderr",
     "output_type": "stream",
     "text": [
      "WARNING: The fit may be unsuccessful; check fit_info['message'] for more information. [astropy.modeling.fitting]\n",
      "WARNING: The fit may be unsuccessful; check fit_info['message'] for more information. [astropy.modeling.fitting]\n",
      "WARNING: The fit may be unsuccessful; check fit_info['message'] for more information. [astropy.modeling.fitting]\n",
      "WARNING: The fit may be unsuccessful; check fit_info['message'] for more information. [astropy.modeling.fitting]\n",
      "WARNING: The fit may be unsuccessful; check fit_info['message'] for more information. [astropy.modeling.fitting]\n"
     ]
    },
    {
     "name": "stdout",
     "output_type": "stream",
     "text": [
      "1.9123294546809646 -3.4708634302729813\n",
      "Finding shifts in image: set 1; image 019\n"
     ]
    },
    {
     "name": "stderr",
     "output_type": "stream",
     "text": [
      "WARNING: The fit may be unsuccessful; check fit_info['message'] for more information. [astropy.modeling.fitting]\n",
      "WARNING: The fit may be unsuccessful; check fit_info['message'] for more information. [astropy.modeling.fitting]\n",
      "WARNING: The fit may be unsuccessful; check fit_info['message'] for more information. [astropy.modeling.fitting]\n"
     ]
    },
    {
     "name": "stdout",
     "output_type": "stream",
     "text": [
      "0.7846227108352339 -2.8903671501159414\n",
      "Finding shifts in image: set 1; image 020\n"
     ]
    },
    {
     "name": "stderr",
     "output_type": "stream",
     "text": [
      "WARNING: The fit may be unsuccessful; check fit_info['message'] for more information. [astropy.modeling.fitting]\n",
      "WARNING: The fit may be unsuccessful; check fit_info['message'] for more information. [astropy.modeling.fitting]\n",
      "WARNING: The fit may be unsuccessful; check fit_info['message'] for more information. [astropy.modeling.fitting]\n",
      "WARNING: The fit may be unsuccessful; check fit_info['message'] for more information. [astropy.modeling.fitting]\n",
      "WARNING: The fit may be unsuccessful; check fit_info['message'] for more information. [astropy.modeling.fitting]\n"
     ]
    },
    {
     "name": "stdout",
     "output_type": "stream",
     "text": [
      "0.49947481224727497 -3.895342441206492\n",
      "Finding shifts in image: set 1; image 021\n"
     ]
    },
    {
     "name": "stderr",
     "output_type": "stream",
     "text": [
      "WARNING: The fit may be unsuccessful; check fit_info['message'] for more information. [astropy.modeling.fitting]\n",
      "WARNING: The fit may be unsuccessful; check fit_info['message'] for more information. [astropy.modeling.fitting]\n",
      "WARNING: The fit may be unsuccessful; check fit_info['message'] for more information. [astropy.modeling.fitting]\n",
      "WARNING: The fit may be unsuccessful; check fit_info['message'] for more information. [astropy.modeling.fitting]\n"
     ]
    },
    {
     "name": "stdout",
     "output_type": "stream",
     "text": [
      "2.178113576604706 -3.937579561128877\n",
      "Finding shifts in image: set 1; image 022\n"
     ]
    },
    {
     "name": "stderr",
     "output_type": "stream",
     "text": [
      "WARNING: The fit may be unsuccessful; check fit_info['message'] for more information. [astropy.modeling.fitting]\n",
      "WARNING: The fit may be unsuccessful; check fit_info['message'] for more information. [astropy.modeling.fitting]\n"
     ]
    },
    {
     "name": "stdout",
     "output_type": "stream",
     "text": [
      "2.6510797704773417 -4.215971092494162\n",
      "Finding shifts in image: set 1; image 023\n"
     ]
    },
    {
     "name": "stderr",
     "output_type": "stream",
     "text": [
      "WARNING: The fit may be unsuccessful; check fit_info['message'] for more information. [astropy.modeling.fitting]\n",
      "WARNING: The fit may be unsuccessful; check fit_info['message'] for more information. [astropy.modeling.fitting]\n",
      "WARNING: The fit may be unsuccessful; check fit_info['message'] for more information. [astropy.modeling.fitting]\n",
      "WARNING: The fit may be unsuccessful; check fit_info['message'] for more information. [astropy.modeling.fitting]\n"
     ]
    },
    {
     "name": "stdout",
     "output_type": "stream",
     "text": [
      "1.7104532085702662 -4.1159861568670015\n",
      "Finding shifts in image: set 1; image 024\n"
     ]
    },
    {
     "name": "stderr",
     "output_type": "stream",
     "text": [
      "WARNING: The fit may be unsuccessful; check fit_info['message'] for more information. [astropy.modeling.fitting]\n",
      "WARNING: The fit may be unsuccessful; check fit_info['message'] for more information. [astropy.modeling.fitting]\n"
     ]
    },
    {
     "name": "stdout",
     "output_type": "stream",
     "text": [
      "0.9922330741153749 -4.629160805572176\n",
      "Finding shifts in image: set 1; image 025\n"
     ]
    },
    {
     "name": "stderr",
     "output_type": "stream",
     "text": [
      "WARNING: The fit may be unsuccessful; check fit_info['message'] for more information. [astropy.modeling.fitting]\n"
     ]
    },
    {
     "name": "stdout",
     "output_type": "stream",
     "text": [
      "2.0686629479349534 -4.499284243044399\n",
      "Finding shifts in image: set 1; image 026\n"
     ]
    },
    {
     "name": "stderr",
     "output_type": "stream",
     "text": [
      "WARNING: The fit may be unsuccessful; check fit_info['message'] for more information. [astropy.modeling.fitting]\n",
      "WARNING: The fit may be unsuccessful; check fit_info['message'] for more information. [astropy.modeling.fitting]\n",
      "WARNING: The fit may be unsuccessful; check fit_info['message'] for more information. [astropy.modeling.fitting]\n"
     ]
    },
    {
     "name": "stdout",
     "output_type": "stream",
     "text": [
      "3.525163012777954 -5.124300836815269\n",
      "Finding shifts in image: set 1; image 027\n"
     ]
    },
    {
     "name": "stderr",
     "output_type": "stream",
     "text": [
      "WARNING: The fit may be unsuccessful; check fit_info['message'] for more information. [astropy.modeling.fitting]\n",
      "WARNING: The fit may be unsuccessful; check fit_info['message'] for more information. [astropy.modeling.fitting]\n",
      "WARNING: The fit may be unsuccessful; check fit_info['message'] for more information. [astropy.modeling.fitting]\n"
     ]
    },
    {
     "name": "stdout",
     "output_type": "stream",
     "text": [
      "2.8096164583596552 -5.174299473147336\n",
      "Finding shifts in image: set 1; image 028\n"
     ]
    },
    {
     "name": "stderr",
     "output_type": "stream",
     "text": [
      "WARNING: The fit may be unsuccessful; check fit_info['message'] for more information. [astropy.modeling.fitting]\n",
      "WARNING: The fit may be unsuccessful; check fit_info['message'] for more information. [astropy.modeling.fitting]\n"
     ]
    },
    {
     "name": "stdout",
     "output_type": "stream",
     "text": [
      "1.6977682677914485 -4.836736166437422\n",
      "Finding shifts in image: set 1; image 029\n"
     ]
    },
    {
     "name": "stderr",
     "output_type": "stream",
     "text": [
      "WARNING: The fit may be unsuccessful; check fit_info['message'] for more information. [astropy.modeling.fitting]\n",
      "WARNING: The fit may be unsuccessful; check fit_info['message'] for more information. [astropy.modeling.fitting]\n"
     ]
    },
    {
     "name": "stdout",
     "output_type": "stream",
     "text": [
      "2.0995096554284567 -5.36456326391305\n",
      "Finding shifts in image: set 1; image 030\n"
     ]
    },
    {
     "name": "stderr",
     "output_type": "stream",
     "text": [
      "WARNING: The fit may be unsuccessful; check fit_info['message'] for more information. [astropy.modeling.fitting]\n",
      "WARNING: The fit may be unsuccessful; check fit_info['message'] for more information. [astropy.modeling.fitting]\n",
      "WARNING: The fit may be unsuccessful; check fit_info['message'] for more information. [astropy.modeling.fitting]\n"
     ]
    },
    {
     "name": "stdout",
     "output_type": "stream",
     "text": [
      "4.676144193183337 -5.534546808474324\n",
      "Finding shifts in image: set 1; image 031\n"
     ]
    },
    {
     "name": "stderr",
     "output_type": "stream",
     "text": [
      "WARNING: The fit may be unsuccessful; check fit_info['message'] for more information. [astropy.modeling.fitting]\n",
      "WARNING: The fit may be unsuccessful; check fit_info['message'] for more information. [astropy.modeling.fitting]\n"
     ]
    },
    {
     "name": "stdout",
     "output_type": "stream",
     "text": [
      "3.5514208127907514 -5.792715337169973\n",
      "Finding shifts in image: set 1; image 032\n"
     ]
    },
    {
     "name": "stderr",
     "output_type": "stream",
     "text": [
      "WARNING: The fit may be unsuccessful; check fit_info['message'] for more information. [astropy.modeling.fitting]\n",
      "WARNING: The fit may be unsuccessful; check fit_info['message'] for more information. [astropy.modeling.fitting]\n"
     ]
    },
    {
     "name": "stdout",
     "output_type": "stream",
     "text": [
      "2.613275043466812 -5.9936914243100885\n",
      "Finding shifts in image: set 1; image 033\n"
     ]
    },
    {
     "name": "stderr",
     "output_type": "stream",
     "text": [
      "WARNING: The fit may be unsuccessful; check fit_info['message'] for more information. [astropy.modeling.fitting]\n",
      "WARNING: The fit may be unsuccessful; check fit_info['message'] for more information. [astropy.modeling.fitting]\n",
      "WARNING: The fit may be unsuccessful; check fit_info['message'] for more information. [astropy.modeling.fitting]\n",
      "WARNING: The fit may be unsuccessful; check fit_info['message'] for more information. [astropy.modeling.fitting]\n"
     ]
    },
    {
     "name": "stdout",
     "output_type": "stream",
     "text": [
      "2.1850329274519487 -6.172365825757272\n",
      "Finding shifts in image: set 1; image 034\n"
     ]
    },
    {
     "name": "stderr",
     "output_type": "stream",
     "text": [
      "WARNING: The fit may be unsuccessful; check fit_info['message'] for more information. [astropy.modeling.fitting]\n",
      "WARNING: The fit may be unsuccessful; check fit_info['message'] for more information. [astropy.modeling.fitting]\n"
     ]
    },
    {
     "name": "stdout",
     "output_type": "stream",
     "text": [
      "4.467791797141408 -6.549518754704891\n",
      "Finding shifts in image: set 1; image 035\n"
     ]
    },
    {
     "name": "stderr",
     "output_type": "stream",
     "text": [
      "WARNING: The fit may be unsuccessful; check fit_info['message'] for more information. [astropy.modeling.fitting]\n",
      "WARNING: The fit may be unsuccessful; check fit_info['message'] for more information. [astropy.modeling.fitting]\n"
     ]
    },
    {
     "name": "stdout",
     "output_type": "stream",
     "text": [
      "4.520875674628687 -6.506849460616699\n",
      "Finding shifts in image: set 1; image 036\n"
     ]
    },
    {
     "name": "stderr",
     "output_type": "stream",
     "text": [
      "WARNING: The fit may be unsuccessful; check fit_info['message'] for more information. [astropy.modeling.fitting]\n",
      "WARNING: The fit may be unsuccessful; check fit_info['message'] for more information. [astropy.modeling.fitting]\n",
      "WARNING: The fit may be unsuccessful; check fit_info['message'] for more information. [astropy.modeling.fitting]\n",
      "WARNING: The fit may be unsuccessful; check fit_info['message'] for more information. [astropy.modeling.fitting]\n",
      "WARNING: The fit may be unsuccessful; check fit_info['message'] for more information. [astropy.modeling.fitting]\n"
     ]
    },
    {
     "name": "stdout",
     "output_type": "stream",
     "text": [
      "3.274992043753988 -6.817392173278984\n",
      "Finding shifts in image: set 1; image 037\n"
     ]
    },
    {
     "name": "stderr",
     "output_type": "stream",
     "text": [
      "WARNING: The fit may be unsuccessful; check fit_info['message'] for more information. [astropy.modeling.fitting]\n",
      "WARNING: The fit may be unsuccessful; check fit_info['message'] for more information. [astropy.modeling.fitting]\n"
     ]
    },
    {
     "name": "stdout",
     "output_type": "stream",
     "text": [
      "2.805628223586498 -7.005470413947391\n",
      "Finding shifts in image: set 1; image 038\n"
     ]
    },
    {
     "name": "stderr",
     "output_type": "stream",
     "text": [
      "WARNING: The fit may be unsuccessful; check fit_info['message'] for more information. [astropy.modeling.fitting]\n",
      "WARNING: The fit may be unsuccessful; check fit_info['message'] for more information. [astropy.modeling.fitting]\n"
     ]
    },
    {
     "name": "stdout",
     "output_type": "stream",
     "text": [
      "4.216687186675463 -7.0831799224208485\n",
      "Finding shifts in image: set 1; image 039\n",
      "5.274503665672137 -7.868987810248819\n",
      "Finding shifts in image: set 1; image 040\n",
      "4.40845462042806 -7.476627724794293\n",
      "Finding shifts in image: set 1; image 041\n"
     ]
    },
    {
     "name": "stderr",
     "output_type": "stream",
     "text": [
      "WARNING: The fit may be unsuccessful; check fit_info['message'] for more information. [astropy.modeling.fitting]\n",
      "WARNING: The fit may be unsuccessful; check fit_info['message'] for more information. [astropy.modeling.fitting]\n",
      "WARNING: The fit may be unsuccessful; check fit_info['message'] for more information. [astropy.modeling.fitting]\n"
     ]
    },
    {
     "name": "stdout",
     "output_type": "stream",
     "text": [
      "3.3184530993539365 -7.707052828327509\n",
      "Finding shifts in image: set 1; image 042\n"
     ]
    },
    {
     "name": "stderr",
     "output_type": "stream",
     "text": [
      "WARNING: The fit may be unsuccessful; check fit_info['message'] for more information. [astropy.modeling.fitting]\n"
     ]
    },
    {
     "name": "stdout",
     "output_type": "stream",
     "text": [
      "3.8590384690709785 -7.863389557998433\n",
      "Finding shifts in image: set 1; image 043\n"
     ]
    },
    {
     "name": "stderr",
     "output_type": "stream",
     "text": [
      "WARNING: The fit may be unsuccessful; check fit_info['message'] for more information. [astropy.modeling.fitting]\n",
      "WARNING: The fit may be unsuccessful; check fit_info['message'] for more information. [astropy.modeling.fitting]\n"
     ]
    },
    {
     "name": "stdout",
     "output_type": "stream",
     "text": [
      "6.220328803139326 -8.652483691247628\n",
      "Finding shifts in image: set 1; image 044\n"
     ]
    },
    {
     "name": "stderr",
     "output_type": "stream",
     "text": [
      "WARNING: The fit may be unsuccessful; check fit_info['message'] for more information. [astropy.modeling.fitting]\n",
      "WARNING: The fit may be unsuccessful; check fit_info['message'] for more information. [astropy.modeling.fitting]\n",
      "WARNING: The fit may be unsuccessful; check fit_info['message'] for more information. [astropy.modeling.fitting]\n"
     ]
    },
    {
     "name": "stdout",
     "output_type": "stream",
     "text": [
      "5.055889208119647 -8.304142500272587\n",
      "Finding shifts in image: set 1; image 045\n"
     ]
    },
    {
     "name": "stderr",
     "output_type": "stream",
     "text": [
      "WARNING: The fit may be unsuccessful; check fit_info['message'] for more information. [astropy.modeling.fitting]\n",
      "WARNING: The fit may be unsuccessful; check fit_info['message'] for more information. [astropy.modeling.fitting]\n"
     ]
    },
    {
     "name": "stdout",
     "output_type": "stream",
     "text": [
      "4.20451159138007 -8.748871551625568\n",
      "Finding shifts in image: set 1; image 046\n"
     ]
    },
    {
     "name": "stderr",
     "output_type": "stream",
     "text": [
      "WARNING: The fit may be unsuccessful; check fit_info['message'] for more information. [astropy.modeling.fitting]\n",
      "WARNING: The fit may be unsuccessful; check fit_info['message'] for more information. [astropy.modeling.fitting]\n",
      "WARNING: The fit may be unsuccessful; check fit_info['message'] for more information. [astropy.modeling.fitting]\n"
     ]
    },
    {
     "name": "stdout",
     "output_type": "stream",
     "text": [
      "4.228775440767403 -8.528279891547365\n",
      "Finding shifts in image: set 1; image 047\n"
     ]
    },
    {
     "name": "stderr",
     "output_type": "stream",
     "text": [
      "WARNING: The fit may be unsuccessful; check fit_info['message'] for more information. [astropy.modeling.fitting]\n",
      "WARNING: The fit may be unsuccessful; check fit_info['message'] for more information. [astropy.modeling.fitting]\n",
      "WARNING: The fit may be unsuccessful; check fit_info['message'] for more information. [astropy.modeling.fitting]\n",
      "WARNING: The fit may be unsuccessful; check fit_info['message'] for more information. [astropy.modeling.fitting]\n"
     ]
    },
    {
     "name": "stdout",
     "output_type": "stream",
     "text": [
      "6.810481536406285 -9.163564401624006\n",
      "Finding shifts in image: set 1; image 048\n"
     ]
    },
    {
     "name": "stderr",
     "output_type": "stream",
     "text": [
      "WARNING: The fit may be unsuccessful; check fit_info['message'] for more information. [astropy.modeling.fitting]\n",
      "WARNING: The fit may be unsuccessful; check fit_info['message'] for more information. [astropy.modeling.fitting]\n"
     ]
    },
    {
     "name": "stdout",
     "output_type": "stream",
     "text": [
      "5.909754334194684 -9.113920624527037\n",
      "Finding shifts in image: set 1; image 049\n"
     ]
    },
    {
     "name": "stderr",
     "output_type": "stream",
     "text": [
      "WARNING: The fit may be unsuccessful; check fit_info['message'] for more information. [astropy.modeling.fitting]\n"
     ]
    },
    {
     "name": "stdout",
     "output_type": "stream",
     "text": [
      "4.755679234158891 -9.79444478828135\n",
      "Finding shifts in image: set 1; image 050\n"
     ]
    },
    {
     "name": "stderr",
     "output_type": "stream",
     "text": [
      "WARNING: The fit may be unsuccessful; check fit_info['message'] for more information. [astropy.modeling.fitting]\n",
      "WARNING: The fit may be unsuccessful; check fit_info['message'] for more information. [astropy.modeling.fitting]\n"
     ]
    },
    {
     "name": "stdout",
     "output_type": "stream",
     "text": [
      "4.270330625927257 -9.076611362632928\n",
      "Finding shifts in image: set 2; image 001\n"
     ]
    },
    {
     "name": "stderr",
     "output_type": "stream",
     "text": [
      "WARNING: The fit may be unsuccessful; check fit_info['message'] for more information. [astropy.modeling.fitting]\n",
      "WARNING: The fit may be unsuccessful; check fit_info['message'] for more information. [astropy.modeling.fitting]\n",
      "WARNING: The fit may be unsuccessful; check fit_info['message'] for more information. [astropy.modeling.fitting]\n",
      "WARNING: The fit may be unsuccessful; check fit_info['message'] for more information. [astropy.modeling.fitting]\n",
      "WARNING: The fit may be unsuccessful; check fit_info['message'] for more information. [astropy.modeling.fitting]\n"
     ]
    },
    {
     "name": "stdout",
     "output_type": "stream",
     "text": [
      "5.823607431125593 -10.903711840151253\n",
      "Finding shifts in image: set 2; image 002\n"
     ]
    },
    {
     "name": "stderr",
     "output_type": "stream",
     "text": [
      "WARNING: The fit may be unsuccessful; check fit_info['message'] for more information. [astropy.modeling.fitting]\n",
      "WARNING: The fit may be unsuccessful; check fit_info['message'] for more information. [astropy.modeling.fitting]\n",
      "WARNING: The fit may be unsuccessful; check fit_info['message'] for more information. [astropy.modeling.fitting]\n"
     ]
    },
    {
     "name": "stdout",
     "output_type": "stream",
     "text": [
      "4.7601713334479925 -10.328243234673167\n",
      "Finding shifts in image: set 2; image 003\n"
     ]
    },
    {
     "name": "stderr",
     "output_type": "stream",
     "text": [
      "WARNING: The fit may be unsuccessful; check fit_info['message'] for more information. [astropy.modeling.fitting]\n",
      "WARNING: The fit may be unsuccessful; check fit_info['message'] for more information. [astropy.modeling.fitting]\n",
      "WARNING: The fit may be unsuccessful; check fit_info['message'] for more information. [astropy.modeling.fitting]\n"
     ]
    },
    {
     "name": "stdout",
     "output_type": "stream",
     "text": [
      "7.011095378290789 -10.858652062603998\n",
      "Finding shifts in image: set 2; image 004\n"
     ]
    },
    {
     "name": "stderr",
     "output_type": "stream",
     "text": [
      "WARNING: The fit may be unsuccessful; check fit_info['message'] for more information. [astropy.modeling.fitting]\n",
      "WARNING: The fit may be unsuccessful; check fit_info['message'] for more information. [astropy.modeling.fitting]\n",
      "WARNING: The fit may be unsuccessful; check fit_info['message'] for more information. [astropy.modeling.fitting]\n"
     ]
    },
    {
     "name": "stdout",
     "output_type": "stream",
     "text": [
      "6.997445555138288 -10.983170585599368\n",
      "Finding shifts in image: set 2; image 005\n"
     ]
    },
    {
     "name": "stderr",
     "output_type": "stream",
     "text": [
      "WARNING: The fit may be unsuccessful; check fit_info['message'] for more information. [astropy.modeling.fitting]\n",
      "WARNING: The fit may be unsuccessful; check fit_info['message'] for more information. [astropy.modeling.fitting]\n"
     ]
    },
    {
     "name": "stdout",
     "output_type": "stream",
     "text": [
      "6.161050531276976 -11.063246926501227\n",
      "Finding shifts in image: set 2; image 006\n"
     ]
    },
    {
     "name": "stderr",
     "output_type": "stream",
     "text": [
      "WARNING: The fit may be unsuccessful; check fit_info['message'] for more information. [astropy.modeling.fitting]\n",
      "WARNING: The fit may be unsuccessful; check fit_info['message'] for more information. [astropy.modeling.fitting]\n"
     ]
    },
    {
     "name": "stdout",
     "output_type": "stream",
     "text": [
      "5.272039755156492 -11.201660891235175\n",
      "Finding shifts in image: set 2; image 007\n"
     ]
    },
    {
     "name": "stderr",
     "output_type": "stream",
     "text": [
      "WARNING: The fit may be unsuccessful; check fit_info['message'] for more information. [astropy.modeling.fitting]\n",
      "WARNING: The fit may be unsuccessful; check fit_info['message'] for more information. [astropy.modeling.fitting]\n",
      "WARNING: The fit may be unsuccessful; check fit_info['message'] for more information. [astropy.modeling.fitting]\n"
     ]
    },
    {
     "name": "stdout",
     "output_type": "stream",
     "text": [
      "6.675980292595987 -11.143534352140563\n",
      "Finding shifts in image: set 2; image 008\n"
     ]
    },
    {
     "name": "stderr",
     "output_type": "stream",
     "text": [
      "WARNING: The fit may be unsuccessful; check fit_info['message'] for more information. [astropy.modeling.fitting]\n",
      "WARNING: The fit may be unsuccessful; check fit_info['message'] for more information. [astropy.modeling.fitting]\n"
     ]
    },
    {
     "name": "stdout",
     "output_type": "stream",
     "text": [
      "7.952238121628189 -11.766277242906938\n",
      "Finding shifts in image: set 2; image 009\n"
     ]
    },
    {
     "name": "stderr",
     "output_type": "stream",
     "text": [
      "WARNING: The fit may be unsuccessful; check fit_info['message'] for more information. [astropy.modeling.fitting]\n",
      "WARNING: The fit may be unsuccessful; check fit_info['message'] for more information. [astropy.modeling.fitting]\n"
     ]
    },
    {
     "name": "stdout",
     "output_type": "stream",
     "text": [
      "6.849077377001519 -11.845467139653733\n",
      "Finding shifts in image: set 2; image 010\n"
     ]
    },
    {
     "name": "stderr",
     "output_type": "stream",
     "text": [
      "WARNING: The fit may be unsuccessful; check fit_info['message'] for more information. [astropy.modeling.fitting]\n",
      "WARNING: The fit may be unsuccessful; check fit_info['message'] for more information. [astropy.modeling.fitting]\n",
      "WARNING: The fit may be unsuccessful; check fit_info['message'] for more information. [astropy.modeling.fitting]\n",
      "WARNING: The fit may be unsuccessful; check fit_info['message'] for more information. [astropy.modeling.fitting]\n"
     ]
    },
    {
     "name": "stdout",
     "output_type": "stream",
     "text": [
      "6.083782759637202 -12.106329343384648\n",
      "Finding shifts in image: set 2; image 011\n"
     ]
    },
    {
     "name": "stderr",
     "output_type": "stream",
     "text": [
      "WARNING: The fit may be unsuccessful; check fit_info['message'] for more information. [astropy.modeling.fitting]\n"
     ]
    },
    {
     "name": "stdout",
     "output_type": "stream",
     "text": [
      "6.194786091582927 -12.28841291752826\n",
      "Finding shifts in image: set 2; image 012\n"
     ]
    },
    {
     "name": "stderr",
     "output_type": "stream",
     "text": [
      "WARNING: The fit may be unsuccessful; check fit_info['message'] for more information. [astropy.modeling.fitting]\n"
     ]
    },
    {
     "name": "stdout",
     "output_type": "stream",
     "text": [
      "9.295420101004225 -12.75534373696847\n",
      "Finding shifts in image: set 2; image 013\n"
     ]
    },
    {
     "name": "stderr",
     "output_type": "stream",
     "text": [
      "WARNING: The fit may be unsuccessful; check fit_info['message'] for more information. [astropy.modeling.fitting]\n",
      "WARNING: The fit may be unsuccessful; check fit_info['message'] for more information. [astropy.modeling.fitting]\n"
     ]
    },
    {
     "name": "stdout",
     "output_type": "stream",
     "text": [
      "7.27845400782101 -12.60167151434148\n",
      "Finding shifts in image: set 2; image 014\n"
     ]
    },
    {
     "name": "stderr",
     "output_type": "stream",
     "text": [
      "WARNING: The fit may be unsuccessful; check fit_info['message'] for more information. [astropy.modeling.fitting]\n"
     ]
    },
    {
     "name": "stdout",
     "output_type": "stream",
     "text": [
      "6.67697990107527 -12.381241733151736\n",
      "Finding shifts in image: set 2; image 015\n",
      "6.463100000109579 -12.886764895703992\n",
      "Finding shifts in image: set 2; image 016\n"
     ]
    },
    {
     "name": "stderr",
     "output_type": "stream",
     "text": [
      "WARNING: The fit may be unsuccessful; check fit_info['message'] for more information. [astropy.modeling.fitting]\n",
      "WARNING: The fit may be unsuccessful; check fit_info['message'] for more information. [astropy.modeling.fitting]\n",
      "WARNING: The fit may be unsuccessful; check fit_info['message'] for more information. [astropy.modeling.fitting]\n",
      "WARNING: The fit may be unsuccessful; check fit_info['message'] for more information. [astropy.modeling.fitting]\n"
     ]
    },
    {
     "name": "stdout",
     "output_type": "stream",
     "text": [
      "8.599495509452609 -13.32443985214427\n",
      "Finding shifts in image: set 2; image 017\n"
     ]
    },
    {
     "name": "stderr",
     "output_type": "stream",
     "text": [
      "WARNING: The fit may be unsuccessful; check fit_info['message'] for more information. [astropy.modeling.fitting]\n",
      "WARNING: The fit may be unsuccessful; check fit_info['message'] for more information. [astropy.modeling.fitting]\n"
     ]
    },
    {
     "name": "stdout",
     "output_type": "stream",
     "text": [
      "8.870294492604962 -12.79163729073178\n",
      "Finding shifts in image: set 2; image 018\n"
     ]
    },
    {
     "name": "stderr",
     "output_type": "stream",
     "text": [
      "WARNING: The fit may be unsuccessful; check fit_info['message'] for more information. [astropy.modeling.fitting]\n",
      "WARNING: The fit may be unsuccessful; check fit_info['message'] for more information. [astropy.modeling.fitting]\n"
     ]
    },
    {
     "name": "stdout",
     "output_type": "stream",
     "text": [
      "7.78805484881101 -13.617925041699955\n",
      "Finding shifts in image: set 2; image 019\n"
     ]
    },
    {
     "name": "stderr",
     "output_type": "stream",
     "text": [
      "WARNING: The fit may be unsuccessful; check fit_info['message'] for more information. [astropy.modeling.fitting]\n",
      "WARNING: The fit may be unsuccessful; check fit_info['message'] for more information. [astropy.modeling.fitting]\n"
     ]
    },
    {
     "name": "stdout",
     "output_type": "stream",
     "text": [
      "7.131176872714225 -13.066281921665873\n",
      "Finding shifts in image: set 2; image 020\n"
     ]
    },
    {
     "name": "stderr",
     "output_type": "stream",
     "text": [
      "WARNING: The fit may be unsuccessful; check fit_info['message'] for more information. [astropy.modeling.fitting]\n",
      "WARNING: The fit may be unsuccessful; check fit_info['message'] for more information. [astropy.modeling.fitting]\n"
     ]
    },
    {
     "name": "stdout",
     "output_type": "stream",
     "text": [
      "9.107156517197403 -13.842946422259065\n",
      "Finding shifts in image: set 2; image 021\n"
     ]
    },
    {
     "name": "stderr",
     "output_type": "stream",
     "text": [
      "WARNING: The fit may be unsuccessful; check fit_info['message'] for more information. [astropy.modeling.fitting]\n",
      "WARNING: The fit may be unsuccessful; check fit_info['message'] for more information. [astropy.modeling.fitting]\n"
     ]
    },
    {
     "name": "stdout",
     "output_type": "stream",
     "text": [
      "9.630310262504672 -14.134669100756248\n",
      "Finding shifts in image: set 2; image 022\n"
     ]
    },
    {
     "name": "stderr",
     "output_type": "stream",
     "text": [
      "WARNING: The fit may be unsuccessful; check fit_info['message'] for more information. [astropy.modeling.fitting]\n",
      "WARNING: The fit may be unsuccessful; check fit_info['message'] for more information. [astropy.modeling.fitting]\n",
      "WARNING: The fit may be unsuccessful; check fit_info['message'] for more information. [astropy.modeling.fitting]\n"
     ]
    },
    {
     "name": "stdout",
     "output_type": "stream",
     "text": [
      "8.743743419641152 -14.279355934345617\n",
      "Finding shifts in image: set 2; image 023\n"
     ]
    },
    {
     "name": "stderr",
     "output_type": "stream",
     "text": [
      "WARNING: The fit may be unsuccessful; check fit_info['message'] for more information. [astropy.modeling.fitting]\n",
      "WARNING: The fit may be unsuccessful; check fit_info['message'] for more information. [astropy.modeling.fitting]\n",
      "WARNING: The fit may be unsuccessful; check fit_info['message'] for more information. [astropy.modeling.fitting]\n"
     ]
    },
    {
     "name": "stdout",
     "output_type": "stream",
     "text": [
      "7.6273051441894575 -13.772607823412013\n",
      "Finding shifts in image: set 2; image 024\n",
      "8.288726930785053 -14.617576502612067\n",
      "Finding shifts in image: set 2; image 025\n"
     ]
    },
    {
     "name": "stderr",
     "output_type": "stream",
     "text": [
      "WARNING: The fit may be unsuccessful; check fit_info['message'] for more information. [astropy.modeling.fitting]\n",
      "WARNING: The fit may be unsuccessful; check fit_info['message'] for more information. [astropy.modeling.fitting]\n",
      "WARNING: The fit may be unsuccessful; check fit_info['message'] for more information. [astropy.modeling.fitting]\n"
     ]
    },
    {
     "name": "stdout",
     "output_type": "stream",
     "text": [
      "10.405388612342684 -14.836103577615113\n",
      "Finding shifts in image: set 2; image 026\n"
     ]
    },
    {
     "name": "stderr",
     "output_type": "stream",
     "text": [
      "WARNING: The fit may be unsuccessful; check fit_info['message'] for more information. [astropy.modeling.fitting]\n",
      "WARNING: The fit may be unsuccessful; check fit_info['message'] for more information. [astropy.modeling.fitting]\n",
      "WARNING: The fit may be unsuccessful; check fit_info['message'] for more information. [astropy.modeling.fitting]\n"
     ]
    },
    {
     "name": "stdout",
     "output_type": "stream",
     "text": [
      "9.511587615153172 -14.96047099946216\n",
      "Finding shifts in image: set 2; image 027\n"
     ]
    },
    {
     "name": "stderr",
     "output_type": "stream",
     "text": [
      "WARNING: The fit may be unsuccessful; check fit_info['message'] for more information. [astropy.modeling.fitting]\n"
     ]
    },
    {
     "name": "stdout",
     "output_type": "stream",
     "text": [
      "8.33222804541845 -15.303711703941335\n",
      "Finding shifts in image: set 2; image 028\n",
      "8.40419791526164 -15.151936821589189\n",
      "Finding shifts in image: set 2; image 029\n"
     ]
    },
    {
     "name": "stderr",
     "output_type": "stream",
     "text": [
      "WARNING: The fit may be unsuccessful; check fit_info['message'] for more information. [astropy.modeling.fitting]\n",
      "WARNING: The fit may be unsuccessful; check fit_info['message'] for more information. [astropy.modeling.fitting]\n",
      "WARNING: The fit may be unsuccessful; check fit_info['message'] for more information. [astropy.modeling.fitting]\n"
     ]
    },
    {
     "name": "stdout",
     "output_type": "stream",
     "text": [
      "10.415767301947291 -15.924305098295847\n",
      "Finding shifts in image: set 2; image 030\n"
     ]
    },
    {
     "name": "stderr",
     "output_type": "stream",
     "text": [
      "WARNING: The fit may be unsuccessful; check fit_info['message'] for more information. [astropy.modeling.fitting]\n"
     ]
    },
    {
     "name": "stdout",
     "output_type": "stream",
     "text": [
      "10.684790286428383 -15.857365189531059\n",
      "Finding shifts in image: set 2; image 031\n"
     ]
    },
    {
     "name": "stderr",
     "output_type": "stream",
     "text": [
      "WARNING: The fit may be unsuccessful; check fit_info['message'] for more information. [astropy.modeling.fitting]\n"
     ]
    },
    {
     "name": "stdout",
     "output_type": "stream",
     "text": [
      "10.559928836010757 -17.06067287929867\n",
      "Finding shifts in image: set 2; image 032\n"
     ]
    },
    {
     "name": "stderr",
     "output_type": "stream",
     "text": [
      "WARNING: The fit may be unsuccessful; check fit_info['message'] for more information. [astropy.modeling.fitting]\n",
      "WARNING: The fit may be unsuccessful; check fit_info['message'] for more information. [astropy.modeling.fitting]\n"
     ]
    },
    {
     "name": "stdout",
     "output_type": "stream",
     "text": [
      "14.222551163128928 -18.17140958936062\n",
      "Finding shifts in image: set 2; image 033\n"
     ]
    },
    {
     "name": "stderr",
     "output_type": "stream",
     "text": [
      "WARNING: The fit may be unsuccessful; check fit_info['message'] for more information. [astropy.modeling.fitting]\n",
      "WARNING: The fit may be unsuccessful; check fit_info['message'] for more information. [astropy.modeling.fitting]\n"
     ]
    },
    {
     "name": "stdout",
     "output_type": "stream",
     "text": [
      "11.222047620422938 -17.65477276663907\n",
      "Finding shifts in image: set 2; image 034\n"
     ]
    },
    {
     "name": "stderr",
     "output_type": "stream",
     "text": [
      "WARNING: The fit may be unsuccessful; check fit_info['message'] for more information. [astropy.modeling.fitting]\n",
      "WARNING: The fit may be unsuccessful; check fit_info['message'] for more information. [astropy.modeling.fitting]\n"
     ]
    },
    {
     "name": "stdout",
     "output_type": "stream",
     "text": [
      "11.394800717307353 -17.919226739180182\n",
      "Finding shifts in image: set 2; image 035\n"
     ]
    },
    {
     "name": "stderr",
     "output_type": "stream",
     "text": [
      "WARNING: The fit may be unsuccessful; check fit_info['message'] for more information. [astropy.modeling.fitting]\n",
      "WARNING: The fit may be unsuccessful; check fit_info['message'] for more information. [astropy.modeling.fitting]\n"
     ]
    },
    {
     "name": "stdout",
     "output_type": "stream",
     "text": [
      "12.430852437969754 -18.22222921220359\n",
      "Finding shifts in image: set 2; image 036\n"
     ]
    },
    {
     "name": "stderr",
     "output_type": "stream",
     "text": [
      "WARNING: The fit may be unsuccessful; check fit_info['message'] for more information. [astropy.modeling.fitting]\n",
      "WARNING: The fit may be unsuccessful; check fit_info['message'] for more information. [astropy.modeling.fitting]\n",
      "WARNING: The fit may be unsuccessful; check fit_info['message'] for more information. [astropy.modeling.fitting]\n"
     ]
    },
    {
     "name": "stdout",
     "output_type": "stream",
     "text": [
      "13.184422067045638 -18.644727225138666\n",
      "Finding shifts in image: set 2; image 037\n"
     ]
    },
    {
     "name": "stderr",
     "output_type": "stream",
     "text": [
      "WARNING: The fit may be unsuccessful; check fit_info['message'] for more information. [astropy.modeling.fitting]\n",
      "WARNING: The fit may be unsuccessful; check fit_info['message'] for more information. [astropy.modeling.fitting]\n"
     ]
    },
    {
     "name": "stdout",
     "output_type": "stream",
     "text": [
      "12.783599640805882 -18.32184451022472\n",
      "Finding shifts in image: set 2; image 038\n"
     ]
    },
    {
     "name": "stderr",
     "output_type": "stream",
     "text": [
      "WARNING: The fit may be unsuccessful; check fit_info['message'] for more information. [astropy.modeling.fitting]\n"
     ]
    },
    {
     "name": "stdout",
     "output_type": "stream",
     "text": [
      "11.835172245184435 -18.656455702001182\n",
      "Finding shifts in image: set 2; image 039\n"
     ]
    },
    {
     "name": "stderr",
     "output_type": "stream",
     "text": [
      "WARNING: The fit may be unsuccessful; check fit_info['message'] for more information. [astropy.modeling.fitting]\n",
      "WARNING: The fit may be unsuccessful; check fit_info['message'] for more information. [astropy.modeling.fitting]\n"
     ]
    },
    {
     "name": "stdout",
     "output_type": "stream",
     "text": [
      "12.267687520585588 -18.810448714830635\n",
      "Finding shifts in image: set 2; image 040\n"
     ]
    },
    {
     "name": "stderr",
     "output_type": "stream",
     "text": [
      "WARNING: The fit may be unsuccessful; check fit_info['message'] for more information. [astropy.modeling.fitting]\n",
      "WARNING: The fit may be unsuccessful; check fit_info['message'] for more information. [astropy.modeling.fitting]\n"
     ]
    },
    {
     "name": "stdout",
     "output_type": "stream",
     "text": [
      "13.798706863124751 -19.157196837040637\n",
      "Finding shifts in image: set 2; image 041\n"
     ]
    },
    {
     "name": "stderr",
     "output_type": "stream",
     "text": [
      "WARNING: The fit may be unsuccessful; check fit_info['message'] for more information. [astropy.modeling.fitting]\n",
      "WARNING: The fit may be unsuccessful; check fit_info['message'] for more information. [astropy.modeling.fitting]\n"
     ]
    },
    {
     "name": "stdout",
     "output_type": "stream",
     "text": [
      "13.892149523532996 -19.315418676193374\n",
      "Finding shifts in image: set 2; image 042\n"
     ]
    },
    {
     "name": "stderr",
     "output_type": "stream",
     "text": [
      "WARNING: The fit may be unsuccessful; check fit_info['message'] for more information. [astropy.modeling.fitting]\n"
     ]
    },
    {
     "name": "stdout",
     "output_type": "stream",
     "text": [
      "12.78732574808214 -19.43309872430469\n",
      "Finding shifts in image: set 2; image 043\n"
     ]
    },
    {
     "name": "stderr",
     "output_type": "stream",
     "text": [
      "WARNING: The fit may be unsuccessful; check fit_info['message'] for more information. [astropy.modeling.fitting]\n",
      "WARNING: The fit may be unsuccessful; check fit_info['message'] for more information. [astropy.modeling.fitting]\n",
      "WARNING: The fit may be unsuccessful; check fit_info['message'] for more information. [astropy.modeling.fitting]\n"
     ]
    },
    {
     "name": "stdout",
     "output_type": "stream",
     "text": [
      "12.630248919244895 -19.399145505527823\n",
      "Finding shifts in image: set 2; image 044\n"
     ]
    },
    {
     "name": "stderr",
     "output_type": "stream",
     "text": [
      "WARNING: The fit may be unsuccessful; check fit_info['message'] for more information. [astropy.modeling.fitting]\n"
     ]
    },
    {
     "name": "stdout",
     "output_type": "stream",
     "text": [
      "14.674225210052114 -19.736466999801458\n",
      "Finding shifts in image: set 2; image 045\n"
     ]
    },
    {
     "name": "stderr",
     "output_type": "stream",
     "text": [
      "WARNING: The fit may be unsuccessful; check fit_info['message'] for more information. [astropy.modeling.fitting]\n"
     ]
    },
    {
     "name": "stdout",
     "output_type": "stream",
     "text": [
      "14.625940711463116 -19.997044089485023\n",
      "Finding shifts in image: set 2; image 046\n"
     ]
    },
    {
     "name": "stderr",
     "output_type": "stream",
     "text": [
      "WARNING: The fit may be unsuccessful; check fit_info['message'] for more information. [astropy.modeling.fitting]\n",
      "WARNING: The fit may be unsuccessful; check fit_info['message'] for more information. [astropy.modeling.fitting]\n"
     ]
    },
    {
     "name": "stdout",
     "output_type": "stream",
     "text": [
      "13.819268097786612 -20.132910470351472\n",
      "Finding shifts in image: set 2; image 047\n"
     ]
    },
    {
     "name": "stderr",
     "output_type": "stream",
     "text": [
      "WARNING: The fit may be unsuccessful; check fit_info['message'] for more information. [astropy.modeling.fitting]\n",
      "WARNING: The fit may be unsuccessful; check fit_info['message'] for more information. [astropy.modeling.fitting]\n"
     ]
    },
    {
     "name": "stdout",
     "output_type": "stream",
     "text": [
      "13.182782864749171 -20.270525198425148\n",
      "Finding shifts in image: set 2; image 048\n"
     ]
    },
    {
     "name": "stderr",
     "output_type": "stream",
     "text": [
      "WARNING: The fit may be unsuccessful; check fit_info['message'] for more information. [astropy.modeling.fitting]\n",
      "WARNING: The fit may be unsuccessful; check fit_info['message'] for more information. [astropy.modeling.fitting]\n",
      "WARNING: The fit may be unsuccessful; check fit_info['message'] for more information. [astropy.modeling.fitting]\n",
      "WARNING: The fit may be unsuccessful; check fit_info['message'] for more information. [astropy.modeling.fitting]\n"
     ]
    },
    {
     "name": "stdout",
     "output_type": "stream",
     "text": [
      "14.763573088357965 -20.698292328928233\n",
      "Finding shifts in image: set 2; image 049\n"
     ]
    },
    {
     "name": "stderr",
     "output_type": "stream",
     "text": [
      "WARNING: The fit may be unsuccessful; check fit_info['message'] for more information. [astropy.modeling.fitting]\n"
     ]
    },
    {
     "name": "stdout",
     "output_type": "stream",
     "text": [
      "15.479846017356113 -20.659614525658995\n",
      "Finding shifts in image: set 2; image 050\n"
     ]
    },
    {
     "name": "stderr",
     "output_type": "stream",
     "text": [
      "WARNING: The fit may be unsuccessful; check fit_info['message'] for more information. [astropy.modeling.fitting]\n",
      "WARNING: The fit may be unsuccessful; check fit_info['message'] for more information. [astropy.modeling.fitting]\n"
     ]
    },
    {
     "name": "stdout",
     "output_type": "stream",
     "text": [
      "15.034766506494067 -20.923045084326937\n",
      "Finding shifts in image: set 3; image 001\n"
     ]
    },
    {
     "name": "stderr",
     "output_type": "stream",
     "text": [
      "WARNING: The fit may be unsuccessful; check fit_info['message'] for more information. [astropy.modeling.fitting]\n"
     ]
    },
    {
     "name": "stdout",
     "output_type": "stream",
     "text": [
      "15.99374177429436 -20.961974319551764\n",
      "Finding shifts in image: set 3; image 002\n"
     ]
    },
    {
     "name": "stderr",
     "output_type": "stream",
     "text": [
      "WARNING: The fit may be unsuccessful; check fit_info['message'] for more information. [astropy.modeling.fitting]\n",
      "WARNING: The fit may be unsuccessful; check fit_info['message'] for more information. [astropy.modeling.fitting]\n"
     ]
    },
    {
     "name": "stdout",
     "output_type": "stream",
     "text": [
      "16.450877401552134 -21.305542661684854\n",
      "Finding shifts in image: set 3; image 003\n",
      "15.80214865631278 -21.0781277869211\n",
      "Finding shifts in image: set 3; image 004\n"
     ]
    },
    {
     "name": "stderr",
     "output_type": "stream",
     "text": [
      "WARNING: The fit may be unsuccessful; check fit_info['message'] for more information. [astropy.modeling.fitting]\n",
      "WARNING: The fit may be unsuccessful; check fit_info['message'] for more information. [astropy.modeling.fitting]\n",
      "WARNING: The fit may be unsuccessful; check fit_info['message'] for more information. [astropy.modeling.fitting]\n",
      "WARNING: The fit may be unsuccessful; check fit_info['message'] for more information. [astropy.modeling.fitting]\n"
     ]
    },
    {
     "name": "stdout",
     "output_type": "stream",
     "text": [
      "14.803785357644815 -21.463199747560722\n",
      "Finding shifts in image: set 3; image 005\n"
     ]
    },
    {
     "name": "stderr",
     "output_type": "stream",
     "text": [
      "WARNING: The fit may be unsuccessful; check fit_info['message'] for more information. [astropy.modeling.fitting]\n"
     ]
    },
    {
     "name": "stdout",
     "output_type": "stream",
     "text": [
      "15.69120846783088 -21.765875781194822\n",
      "Finding shifts in image: set 3; image 006\n"
     ]
    },
    {
     "name": "stderr",
     "output_type": "stream",
     "text": [
      "WARNING: The fit may be unsuccessful; check fit_info['message'] for more information. [astropy.modeling.fitting]\n",
      "WARNING: The fit may be unsuccessful; check fit_info['message'] for more information. [astropy.modeling.fitting]\n",
      "WARNING: The fit may be unsuccessful; check fit_info['message'] for more information. [astropy.modeling.fitting]\n"
     ]
    },
    {
     "name": "stdout",
     "output_type": "stream",
     "text": [
      "17.21303641010522 -22.41714333384756\n",
      "Finding shifts in image: set 3; image 007\n"
     ]
    },
    {
     "name": "stderr",
     "output_type": "stream",
     "text": [
      "WARNING: The fit may be unsuccessful; check fit_info['message'] for more information. [astropy.modeling.fitting]\n",
      "WARNING: The fit may be unsuccessful; check fit_info['message'] for more information. [astropy.modeling.fitting]\n"
     ]
    },
    {
     "name": "stdout",
     "output_type": "stream",
     "text": [
      "16.741275429673628 -22.231231261758563\n",
      "Finding shifts in image: set 3; image 008\n"
     ]
    },
    {
     "name": "stderr",
     "output_type": "stream",
     "text": [
      "WARNING: The fit may be unsuccessful; check fit_info['message'] for more information. [astropy.modeling.fitting]\n"
     ]
    },
    {
     "name": "stdout",
     "output_type": "stream",
     "text": [
      "16.0223636953208 -22.23464485031878\n",
      "Finding shifts in image: set 3; image 009\n"
     ]
    },
    {
     "name": "stderr",
     "output_type": "stream",
     "text": [
      "WARNING: The fit may be unsuccessful; check fit_info['message'] for more information. [astropy.modeling.fitting]\n",
      "WARNING: The fit may be unsuccessful; check fit_info['message'] for more information. [astropy.modeling.fitting]\n"
     ]
    },
    {
     "name": "stdout",
     "output_type": "stream",
     "text": [
      "16.182336925284496 -22.511280116051502\n",
      "Finding shifts in image: set 3; image 010\n"
     ]
    },
    {
     "name": "stderr",
     "output_type": "stream",
     "text": [
      "WARNING: The fit may be unsuccessful; check fit_info['message'] for more information. [astropy.modeling.fitting]\n",
      "WARNING: The fit may be unsuccessful; check fit_info['message'] for more information. [astropy.modeling.fitting]\n"
     ]
    },
    {
     "name": "stdout",
     "output_type": "stream",
     "text": [
      "17.75060881659679 -22.738251332997674\n",
      "Finding shifts in image: set 3; image 011\n"
     ]
    },
    {
     "name": "stderr",
     "output_type": "stream",
     "text": [
      "WARNING: The fit may be unsuccessful; check fit_info['message'] for more information. [astropy.modeling.fitting]\n",
      "WARNING: The fit may be unsuccessful; check fit_info['message'] for more information. [astropy.modeling.fitting]\n",
      "WARNING: The fit may be unsuccessful; check fit_info['message'] for more information. [astropy.modeling.fitting]\n",
      "WARNING: The fit may be unsuccessful; check fit_info['message'] for more information. [astropy.modeling.fitting]\n"
     ]
    },
    {
     "name": "stdout",
     "output_type": "stream",
     "text": [
      "17.814678179721486 -22.860416522977545\n",
      "Finding shifts in image: set 3; image 012\n"
     ]
    },
    {
     "name": "stderr",
     "output_type": "stream",
     "text": [
      "WARNING: The fit may be unsuccessful; check fit_info['message'] for more information. [astropy.modeling.fitting]\n",
      "WARNING: The fit may be unsuccessful; check fit_info['message'] for more information. [astropy.modeling.fitting]\n"
     ]
    },
    {
     "name": "stdout",
     "output_type": "stream",
     "text": [
      "16.89375612739355 -22.7635124573012\n",
      "Finding shifts in image: set 3; image 013\n"
     ]
    },
    {
     "name": "stderr",
     "output_type": "stream",
     "text": [
      "WARNING: The fit may be unsuccessful; check fit_info['message'] for more information. [astropy.modeling.fitting]\n"
     ]
    },
    {
     "name": "stdout",
     "output_type": "stream",
     "text": [
      "16.55229184901607 -22.6933877324336\n",
      "Finding shifts in image: set 3; image 014\n"
     ]
    },
    {
     "name": "stderr",
     "output_type": "stream",
     "text": [
      "WARNING: The fit may be unsuccessful; check fit_info['message'] for more information. [astropy.modeling.fitting]\n",
      "WARNING: The fit may be unsuccessful; check fit_info['message'] for more information. [astropy.modeling.fitting]\n",
      "WARNING: The fit may be unsuccessful; check fit_info['message'] for more information. [astropy.modeling.fitting]\n",
      "WARNING: The fit may be unsuccessful; check fit_info['message'] for more information. [astropy.modeling.fitting]\n"
     ]
    },
    {
     "name": "stdout",
     "output_type": "stream",
     "text": [
      "18.256253880503117 -23.142495584944456\n",
      "Finding shifts in image: set 3; image 015\n",
      "19.51717088452034 -23.162443385550446\n",
      "Finding shifts in image: set 3; image 016\n"
     ]
    },
    {
     "name": "stderr",
     "output_type": "stream",
     "text": [
      "WARNING: The fit may be unsuccessful; check fit_info['message'] for more information. [astropy.modeling.fitting]\n"
     ]
    },
    {
     "name": "stdout",
     "output_type": "stream",
     "text": [
      "17.750340975572165 -23.080312769606795\n",
      "Finding shifts in image: set 3; image 017\n"
     ]
    },
    {
     "name": "stderr",
     "output_type": "stream",
     "text": [
      "WARNING: The fit may be unsuccessful; check fit_info['message'] for more information. [astropy.modeling.fitting]\n",
      "WARNING: The fit may be unsuccessful; check fit_info['message'] for more information. [astropy.modeling.fitting]\n"
     ]
    },
    {
     "name": "stdout",
     "output_type": "stream",
     "text": [
      "17.55474727762495 -23.61194682495495\n",
      "Finding shifts in image: set 3; image 018\n"
     ]
    },
    {
     "name": "stderr",
     "output_type": "stream",
     "text": [
      "WARNING: The fit may be unsuccessful; check fit_info['message'] for more information. [astropy.modeling.fitting]\n",
      "WARNING: The fit may be unsuccessful; check fit_info['message'] for more information. [astropy.modeling.fitting]\n",
      "WARNING: The fit may be unsuccessful; check fit_info['message'] for more information. [astropy.modeling.fitting]\n"
     ]
    },
    {
     "name": "stdout",
     "output_type": "stream",
     "text": [
      "18.668284241346623 -23.77083539045709\n",
      "Finding shifts in image: set 3; image 019\n"
     ]
    },
    {
     "name": "stderr",
     "output_type": "stream",
     "text": [
      "WARNING: The fit may be unsuccessful; check fit_info['message'] for more information. [astropy.modeling.fitting]\n",
      "WARNING: The fit may be unsuccessful; check fit_info['message'] for more information. [astropy.modeling.fitting]\n"
     ]
    },
    {
     "name": "stdout",
     "output_type": "stream",
     "text": [
      "19.977042448263255 -23.718839760422423\n",
      "Finding shifts in image: set 3; image 020\n"
     ]
    },
    {
     "name": "stderr",
     "output_type": "stream",
     "text": [
      "WARNING: The fit may be unsuccessful; check fit_info['message'] for more information. [astropy.modeling.fitting]\n"
     ]
    },
    {
     "name": "stdout",
     "output_type": "stream",
     "text": [
      "19.245182624384885 -24.179901710235523\n",
      "Finding shifts in image: set 3; image 021\n",
      "18.76385483570775 -24.035373870092627\n",
      "Finding shifts in image: set 3; image 022\n"
     ]
    },
    {
     "name": "stderr",
     "output_type": "stream",
     "text": [
      "WARNING: The fit may be unsuccessful; check fit_info['message'] for more information. [astropy.modeling.fitting]\n",
      "WARNING: The fit may be unsuccessful; check fit_info['message'] for more information. [astropy.modeling.fitting]\n",
      "WARNING: The fit may be unsuccessful; check fit_info['message'] for more information. [astropy.modeling.fitting]\n"
     ]
    },
    {
     "name": "stdout",
     "output_type": "stream",
     "text": [
      "19.103574231672585 -24.289451700335995\n",
      "Finding shifts in image: set 3; image 023\n"
     ]
    },
    {
     "name": "stderr",
     "output_type": "stream",
     "text": [
      "WARNING: The fit may be unsuccessful; check fit_info['message'] for more information. [astropy.modeling.fitting]\n"
     ]
    },
    {
     "name": "stdout",
     "output_type": "stream",
     "text": [
      "21.774145399550285 -24.46644659489187\n",
      "Finding shifts in image: set 3; image 024\n"
     ]
    },
    {
     "name": "stderr",
     "output_type": "stream",
     "text": [
      "WARNING: The fit may be unsuccessful; check fit_info['message'] for more information. [astropy.modeling.fitting]\n",
      "WARNING: The fit may be unsuccessful; check fit_info['message'] for more information. [astropy.modeling.fitting]\n",
      "WARNING: The fit may be unsuccessful; check fit_info['message'] for more information. [astropy.modeling.fitting]\n"
     ]
    },
    {
     "name": "stdout",
     "output_type": "stream",
     "text": [
      "20.55920180475932 -24.652907301359875\n",
      "Finding shifts in image: set 3; image 025\n"
     ]
    },
    {
     "name": "stderr",
     "output_type": "stream",
     "text": [
      "WARNING: The fit may be unsuccessful; check fit_info['message'] for more information. [astropy.modeling.fitting]\n",
      "WARNING: The fit may be unsuccessful; check fit_info['message'] for more information. [astropy.modeling.fitting]\n"
     ]
    },
    {
     "name": "stdout",
     "output_type": "stream",
     "text": [
      "20.05723065448774 -24.788042898477848\n",
      "Finding shifts in image: set 3; image 026\n"
     ]
    },
    {
     "name": "stderr",
     "output_type": "stream",
     "text": [
      "WARNING: The fit may be unsuccessful; check fit_info['message'] for more information. [astropy.modeling.fitting]\n",
      "WARNING: The fit may be unsuccessful; check fit_info['message'] for more information. [astropy.modeling.fitting]\n"
     ]
    },
    {
     "name": "stdout",
     "output_type": "stream",
     "text": [
      "19.759105156320594 -24.79480013040191\n",
      "Finding shifts in image: set 3; image 027\n",
      "21.613046800935745 -25.0981018840473\n",
      "Finding shifts in image: set 3; image 028\n",
      "21.614690839134944 -25.313213031444263\n",
      "Finding shifts in image: set 3; image 029\n"
     ]
    },
    {
     "name": "stderr",
     "output_type": "stream",
     "text": [
      "WARNING: The fit may be unsuccessful; check fit_info['message'] for more information. [astropy.modeling.fitting]\n",
      "WARNING: The fit may be unsuccessful; check fit_info['message'] for more information. [astropy.modeling.fitting]\n"
     ]
    },
    {
     "name": "stdout",
     "output_type": "stream",
     "text": [
      "21.02126122225961 -25.315620287868306\n",
      "Finding shifts in image: set 3; image 030\n",
      "20.235876175172546 -25.313578131365396\n",
      "Finding shifts in image: set 3; image 031\n"
     ]
    },
    {
     "name": "stderr",
     "output_type": "stream",
     "text": [
      "WARNING: The fit may be unsuccessful; check fit_info['message'] for more information. [astropy.modeling.fitting]\n",
      "WARNING: The fit may be unsuccessful; check fit_info['message'] for more information. [astropy.modeling.fitting]\n",
      "WARNING: The fit may be unsuccessful; check fit_info['message'] for more information. [astropy.modeling.fitting]\n"
     ]
    },
    {
     "name": "stdout",
     "output_type": "stream",
     "text": [
      "22.34510387610812 -26.043060607055182\n",
      "Finding shifts in image: set 3; image 032\n"
     ]
    },
    {
     "name": "stderr",
     "output_type": "stream",
     "text": [
      "WARNING: The fit may be unsuccessful; check fit_info['message'] for more information. [astropy.modeling.fitting]\n"
     ]
    },
    {
     "name": "stdout",
     "output_type": "stream",
     "text": [
      "23.248363528104058 -25.937319762520474\n",
      "Finding shifts in image: set 3; image 033\n"
     ]
    },
    {
     "name": "stderr",
     "output_type": "stream",
     "text": [
      "WARNING: The fit may be unsuccessful; check fit_info['message'] for more information. [astropy.modeling.fitting]\n"
     ]
    },
    {
     "name": "stdout",
     "output_type": "stream",
     "text": [
      "21.7424235225862 -26.099313215526806\n",
      "Finding shifts in image: set 3; image 034\n"
     ]
    },
    {
     "name": "stderr",
     "output_type": "stream",
     "text": [
      "WARNING: The fit may be unsuccessful; check fit_info['message'] for more information. [astropy.modeling.fitting]\n",
      "WARNING: The fit may be unsuccessful; check fit_info['message'] for more information. [astropy.modeling.fitting]\n",
      "WARNING: The fit may be unsuccessful; check fit_info['message'] for more information. [astropy.modeling.fitting]\n"
     ]
    },
    {
     "name": "stdout",
     "output_type": "stream",
     "text": [
      "21.85804825573629 -25.979817172417306\n",
      "Finding shifts in image: set 3; image 035\n"
     ]
    },
    {
     "name": "stderr",
     "output_type": "stream",
     "text": [
      "WARNING: The fit may be unsuccessful; check fit_info['message'] for more information. [astropy.modeling.fitting]\n"
     ]
    },
    {
     "name": "stdout",
     "output_type": "stream",
     "text": [
      "22.634417546037223 -26.184352246346403\n",
      "Finding shifts in image: set 3; image 036\n"
     ]
    },
    {
     "name": "stderr",
     "output_type": "stream",
     "text": [
      "WARNING: The fit may be unsuccessful; check fit_info['message'] for more information. [astropy.modeling.fitting]\n",
      "WARNING: The fit may be unsuccessful; check fit_info['message'] for more information. [astropy.modeling.fitting]\n"
     ]
    },
    {
     "name": "stdout",
     "output_type": "stream",
     "text": [
      "24.721909468271164 -26.49648328294525\n",
      "Finding shifts in image: set 3; image 037\n"
     ]
    },
    {
     "name": "stderr",
     "output_type": "stream",
     "text": [
      "WARNING: The fit may be unsuccessful; check fit_info['message'] for more information. [astropy.modeling.fitting]\n",
      "WARNING: The fit may be unsuccessful; check fit_info['message'] for more information. [astropy.modeling.fitting]\n"
     ]
    },
    {
     "name": "stdout",
     "output_type": "stream",
     "text": [
      "23.587869108745114 -26.140592208717557\n",
      "Finding shifts in image: set 3; image 038\n"
     ]
    },
    {
     "name": "stderr",
     "output_type": "stream",
     "text": [
      "WARNING: The fit may be unsuccessful; check fit_info['message'] for more information. [astropy.modeling.fitting]\n"
     ]
    },
    {
     "name": "stdout",
     "output_type": "stream",
     "text": [
      "23.104954225048516 -26.484044916151355\n",
      "Finding shifts in image: set 3; image 039\n"
     ]
    },
    {
     "name": "stderr",
     "output_type": "stream",
     "text": [
      "WARNING: The fit may be unsuccessful; check fit_info['message'] for more information. [astropy.modeling.fitting]\n"
     ]
    },
    {
     "name": "stdout",
     "output_type": "stream",
     "text": [
      "22.914347736822464 -25.992214681032905\n",
      "Finding shifts in image: set 3; image 040\n",
      "25.47983016994378 -26.959646806768312\n",
      "Finding shifts in image: set 3; image 041\n"
     ]
    },
    {
     "name": "stderr",
     "output_type": "stream",
     "text": [
      "WARNING: The fit may be unsuccessful; check fit_info['message'] for more information. [astropy.modeling.fitting]\n"
     ]
    },
    {
     "name": "stdout",
     "output_type": "stream",
     "text": [
      "24.512785628000287 -26.885948025263804\n",
      "Finding shifts in image: set 3; image 042\n"
     ]
    },
    {
     "name": "stderr",
     "output_type": "stream",
     "text": [
      "WARNING: The fit may be unsuccessful; check fit_info['message'] for more information. [astropy.modeling.fitting]\n"
     ]
    },
    {
     "name": "stdout",
     "output_type": "stream",
     "text": [
      "23.95841668009128 -26.9411095625994\n",
      "Finding shifts in image: set 3; image 043\n"
     ]
    },
    {
     "name": "stderr",
     "output_type": "stream",
     "text": [
      "WARNING: The fit may be unsuccessful; check fit_info['message'] for more information. [astropy.modeling.fitting]\n"
     ]
    },
    {
     "name": "stdout",
     "output_type": "stream",
     "text": [
      "23.44645067008697 -27.402712932256573\n",
      "Finding shifts in image: set 3; image 044\n",
      "25.570846300068663 -27.39865206916632\n",
      "Finding shifts in image: set 3; image 045\n"
     ]
    },
    {
     "name": "stderr",
     "output_type": "stream",
     "text": [
      "WARNING: The fit may be unsuccessful; check fit_info['message'] for more information. [astropy.modeling.fitting]\n",
      "WARNING: The fit may be unsuccessful; check fit_info['message'] for more information. [astropy.modeling.fitting]\n",
      "WARNING: The fit may be unsuccessful; check fit_info['message'] for more information. [astropy.modeling.fitting]\n"
     ]
    },
    {
     "name": "stdout",
     "output_type": "stream",
     "text": [
      "25.67675306150121 -27.48179514065521\n",
      "Finding shifts in image: set 3; image 046\n",
      "24.79215069816529 -27.120740555114466\n",
      "Finding shifts in image: set 3; image 047\n"
     ]
    },
    {
     "name": "stderr",
     "output_type": "stream",
     "text": [
      "WARNING: The fit may be unsuccessful; check fit_info['message'] for more information. [astropy.modeling.fitting]\n"
     ]
    },
    {
     "name": "stdout",
     "output_type": "stream",
     "text": [
      "24.246031569442863 -27.598459147577003\n",
      "Finding shifts in image: set 3; image 048\n"
     ]
    },
    {
     "name": "stderr",
     "output_type": "stream",
     "text": [
      "WARNING: The fit may be unsuccessful; check fit_info['message'] for more information. [astropy.modeling.fitting]\n",
      "WARNING: The fit may be unsuccessful; check fit_info['message'] for more information. [astropy.modeling.fitting]\n"
     ]
    },
    {
     "name": "stdout",
     "output_type": "stream",
     "text": [
      "25.424706855084253 -27.692038072269128\n",
      "Finding shifts in image: set 3; image 049\n"
     ]
    },
    {
     "name": "stderr",
     "output_type": "stream",
     "text": [
      "WARNING: The fit may be unsuccessful; check fit_info['message'] for more information. [astropy.modeling.fitting]\n",
      "WARNING: The fit may be unsuccessful; check fit_info['message'] for more information. [astropy.modeling.fitting]\n"
     ]
    },
    {
     "name": "stdout",
     "output_type": "stream",
     "text": [
      "27.325809950065015 -27.81049320574315\n",
      "Finding shifts in image: set 3; image 050\n"
     ]
    },
    {
     "name": "stderr",
     "output_type": "stream",
     "text": [
      "WARNING: The fit may be unsuccessful; check fit_info['message'] for more information. [astropy.modeling.fitting]\n",
      "WARNING: The fit may be unsuccessful; check fit_info['message'] for more information. [astropy.modeling.fitting]\n"
     ]
    },
    {
     "name": "stdout",
     "output_type": "stream",
     "text": [
      "25.940534254851453 -27.85789439324654\n",
      "Finding shifts in image: set 4; image 001\n"
     ]
    },
    {
     "name": "stderr",
     "output_type": "stream",
     "text": [
      "WARNING: The fit may be unsuccessful; check fit_info['message'] for more information. [astropy.modeling.fitting]\n",
      "WARNING: The fit may be unsuccessful; check fit_info['message'] for more information. [astropy.modeling.fitting]\n"
     ]
    },
    {
     "name": "stdout",
     "output_type": "stream",
     "text": [
      "26.87543200091401 -28.9819432332038\n",
      "Finding shifts in image: set 4; image 002\n"
     ]
    },
    {
     "name": "stderr",
     "output_type": "stream",
     "text": [
      "WARNING: The fit may be unsuccessful; check fit_info['message'] for more information. [astropy.modeling.fitting]\n"
     ]
    },
    {
     "name": "stdout",
     "output_type": "stream",
     "text": [
      "26.368241227136032 -28.59803382187502\n",
      "Finding shifts in image: set 4; image 003\n"
     ]
    },
    {
     "name": "stderr",
     "output_type": "stream",
     "text": [
      "WARNING: The fit may be unsuccessful; check fit_info['message'] for more information. [astropy.modeling.fitting]\n"
     ]
    },
    {
     "name": "stdout",
     "output_type": "stream",
     "text": [
      "30.015997035763593 -28.773484002078696\n",
      "Finding shifts in image: set 4; image 004\n"
     ]
    },
    {
     "name": "stderr",
     "output_type": "stream",
     "text": [
      "WARNING: The fit may be unsuccessful; check fit_info['message'] for more information. [astropy.modeling.fitting]\n",
      "WARNING: The fit may be unsuccessful; check fit_info['message'] for more information. [astropy.modeling.fitting]\n"
     ]
    },
    {
     "name": "stdout",
     "output_type": "stream",
     "text": [
      "27.303458630137232 -28.671120979058447\n",
      "Finding shifts in image: set 4; image 005\n"
     ]
    },
    {
     "name": "stderr",
     "output_type": "stream",
     "text": [
      "WARNING: The fit may be unsuccessful; check fit_info['message'] for more information. [astropy.modeling.fitting]\n"
     ]
    },
    {
     "name": "stdout",
     "output_type": "stream",
     "text": [
      "27.67305638729641 -28.68049354850544\n",
      "Finding shifts in image: set 4; image 006\n"
     ]
    },
    {
     "name": "stderr",
     "output_type": "stream",
     "text": [
      "WARNING: The fit may be unsuccessful; check fit_info['message'] for more information. [astropy.modeling.fitting]\n"
     ]
    },
    {
     "name": "stdout",
     "output_type": "stream",
     "text": [
      "26.833491537660667 -28.532756781447613\n",
      "Finding shifts in image: set 4; image 007\n"
     ]
    },
    {
     "name": "stderr",
     "output_type": "stream",
     "text": [
      "WARNING: The fit may be unsuccessful; check fit_info['message'] for more information. [astropy.modeling.fitting]\n",
      "WARNING: The fit may be unsuccessful; check fit_info['message'] for more information. [astropy.modeling.fitting]\n"
     ]
    },
    {
     "name": "stdout",
     "output_type": "stream",
     "text": [
      "29.231255340913734 -29.195859130793053\n",
      "Finding shifts in image: set 4; image 008\n"
     ]
    },
    {
     "name": "stderr",
     "output_type": "stream",
     "text": [
      "WARNING: The fit may be unsuccessful; check fit_info['message'] for more information. [astropy.modeling.fitting]\n"
     ]
    },
    {
     "name": "stdout",
     "output_type": "stream",
     "text": [
      "29.21971816028379 -28.873576358440328\n",
      "Finding shifts in image: set 4; image 009\n"
     ]
    },
    {
     "name": "stderr",
     "output_type": "stream",
     "text": [
      "WARNING: The fit may be unsuccessful; check fit_info['message'] for more information. [astropy.modeling.fitting]\n",
      "WARNING: The fit may be unsuccessful; check fit_info['message'] for more information. [astropy.modeling.fitting]\n"
     ]
    },
    {
     "name": "stdout",
     "output_type": "stream",
     "text": [
      "28.56491857721526 -29.219841811649616\n",
      "Finding shifts in image: set 4; image 010\n",
      "27.904575087030324 -28.582935064442328\n",
      "Finding shifts in image: set 4; image 011\n"
     ]
    },
    {
     "name": "stderr",
     "output_type": "stream",
     "text": [
      "WARNING: The fit may be unsuccessful; check fit_info['message'] for more information. [astropy.modeling.fitting]\n"
     ]
    },
    {
     "name": "stdout",
     "output_type": "stream",
     "text": [
      "29.703344724577565 -29.248878792878216\n",
      "Finding shifts in image: set 4; image 012\n"
     ]
    },
    {
     "name": "stderr",
     "output_type": "stream",
     "text": [
      "WARNING: The fit may be unsuccessful; check fit_info['message'] for more information. [astropy.modeling.fitting]\n",
      "WARNING: The fit may be unsuccessful; check fit_info['message'] for more information. [astropy.modeling.fitting]\n"
     ]
    },
    {
     "name": "stdout",
     "output_type": "stream",
     "text": [
      "30.598436760451364 -29.171390604761932\n",
      "Finding shifts in image: set 4; image 013\n"
     ]
    },
    {
     "name": "stderr",
     "output_type": "stream",
     "text": [
      "WARNING: The fit may be unsuccessful; check fit_info['message'] for more information. [astropy.modeling.fitting]\n"
     ]
    },
    {
     "name": "stdout",
     "output_type": "stream",
     "text": [
      "29.885300921701155 -29.255421380637202\n",
      "Finding shifts in image: set 4; image 014\n"
     ]
    },
    {
     "name": "stderr",
     "output_type": "stream",
     "text": [
      "WARNING: The fit may be unsuccessful; check fit_info['message'] for more information. [astropy.modeling.fitting]\n"
     ]
    },
    {
     "name": "stdout",
     "output_type": "stream",
     "text": [
      "29.393707077668395 -29.470249271305654\n",
      "Finding shifts in image: set 4; image 015\n",
      "29.765855393976075 -29.034285785506086\n",
      "Finding shifts in image: set 4; image 016\n"
     ]
    },
    {
     "name": "stderr",
     "output_type": "stream",
     "text": [
      "WARNING: The fit may be unsuccessful; check fit_info['message'] for more information. [astropy.modeling.fitting]\n",
      "WARNING: The fit may be unsuccessful; check fit_info['message'] for more information. [astropy.modeling.fitting]\n"
     ]
    },
    {
     "name": "stdout",
     "output_type": "stream",
     "text": [
      "31.706610441485815 -29.50940402401412\n",
      "Finding shifts in image: set 4; image 017\n"
     ]
    },
    {
     "name": "stderr",
     "output_type": "stream",
     "text": [
      "WARNING: The fit may be unsuccessful; check fit_info['message'] for more information. [astropy.modeling.fitting]\n"
     ]
    },
    {
     "name": "stdout",
     "output_type": "stream",
     "text": [
      "30.986929853964128 -29.306736117988816\n",
      "Finding shifts in image: set 4; image 018\n"
     ]
    },
    {
     "name": "stderr",
     "output_type": "stream",
     "text": [
      "WARNING: The fit may be unsuccessful; check fit_info['message'] for more information. [astropy.modeling.fitting]\n",
      "WARNING: The fit may be unsuccessful; check fit_info['message'] for more information. [astropy.modeling.fitting]\n",
      "WARNING: The fit may be unsuccessful; check fit_info['message'] for more information. [astropy.modeling.fitting]\n"
     ]
    },
    {
     "name": "stdout",
     "output_type": "stream",
     "text": [
      "30.202184645565097 -29.42338386084215\n",
      "Finding shifts in image: set 4; image 019\n",
      "30.158089049614397 -29.543273548423784\n",
      "Finding shifts in image: set 4; image 020\n"
     ]
    },
    {
     "name": "stderr",
     "output_type": "stream",
     "text": [
      "WARNING: The fit may be unsuccessful; check fit_info['message'] for more information. [astropy.modeling.fitting]\n",
      "WARNING: The fit may be unsuccessful; check fit_info['message'] for more information. [astropy.modeling.fitting]\n",
      "WARNING: The fit may be unsuccessful; check fit_info['message'] for more information. [astropy.modeling.fitting]\n",
      "WARNING: The fit may be unsuccessful; check fit_info['message'] for more information. [astropy.modeling.fitting]\n"
     ]
    },
    {
     "name": "stdout",
     "output_type": "stream",
     "text": [
      "32.2986417453306 -29.446828787140824\n",
      "Finding shifts in image: set 4; image 021\n"
     ]
    },
    {
     "name": "stderr",
     "output_type": "stream",
     "text": [
      "WARNING: The fit may be unsuccessful; check fit_info['message'] for more information. [astropy.modeling.fitting]\n",
      "WARNING: The fit may be unsuccessful; check fit_info['message'] for more information. [astropy.modeling.fitting]\n"
     ]
    },
    {
     "name": "stdout",
     "output_type": "stream",
     "text": [
      "31.89568407224408 -30.018730114046\n",
      "Finding shifts in image: set 4; image 022\n"
     ]
    },
    {
     "name": "stderr",
     "output_type": "stream",
     "text": [
      "WARNING: The fit may be unsuccessful; check fit_info['message'] for more information. [astropy.modeling.fitting]\n",
      "WARNING: The fit may be unsuccessful; check fit_info['message'] for more information. [astropy.modeling.fitting]\n"
     ]
    },
    {
     "name": "stdout",
     "output_type": "stream",
     "text": [
      "31.824643675576958 -29.60755193418897\n",
      "Finding shifts in image: set 4; image 023\n"
     ]
    },
    {
     "name": "stderr",
     "output_type": "stream",
     "text": [
      "WARNING: The fit may be unsuccessful; check fit_info['message'] for more information. [astropy.modeling.fitting]\n",
      "WARNING: The fit may be unsuccessful; check fit_info['message'] for more information. [astropy.modeling.fitting]\n"
     ]
    },
    {
     "name": "stdout",
     "output_type": "stream",
     "text": [
      "30.820355032867564 -29.459217507648017\n",
      "Finding shifts in image: set 4; image 024\n",
      "32.94373942917552 -29.69471084297506\n",
      "Finding shifts in image: set 4; image 025\n"
     ]
    },
    {
     "name": "stderr",
     "output_type": "stream",
     "text": [
      "WARNING: The fit may be unsuccessful; check fit_info['message'] for more information. [astropy.modeling.fitting]\n",
      "WARNING: The fit may be unsuccessful; check fit_info['message'] for more information. [astropy.modeling.fitting]\n"
     ]
    },
    {
     "name": "stdout",
     "output_type": "stream",
     "text": [
      "33.17970910280171 -30.012891583708132\n",
      "Finding shifts in image: set 4; image 026\n"
     ]
    },
    {
     "name": "stderr",
     "output_type": "stream",
     "text": [
      "WARNING: The fit may be unsuccessful; check fit_info['message'] for more information. [astropy.modeling.fitting]\n",
      "WARNING: The fit may be unsuccessful; check fit_info['message'] for more information. [astropy.modeling.fitting]\n"
     ]
    },
    {
     "name": "stdout",
     "output_type": "stream",
     "text": [
      "32.50777115659898 -30.00738667488481\n",
      "Finding shifts in image: set 4; image 027\n"
     ]
    },
    {
     "name": "stderr",
     "output_type": "stream",
     "text": [
      "WARNING: The fit may be unsuccessful; check fit_info['message'] for more information. [astropy.modeling.fitting]\n",
      "WARNING: The fit may be unsuccessful; check fit_info['message'] for more information. [astropy.modeling.fitting]\n"
     ]
    },
    {
     "name": "stdout",
     "output_type": "stream",
     "text": [
      "31.9882274373611 -29.84848408100173\n",
      "Finding shifts in image: set 4; image 028\n"
     ]
    },
    {
     "name": "stderr",
     "output_type": "stream",
     "text": [
      "WARNING: The fit may be unsuccessful; check fit_info['message'] for more information. [astropy.modeling.fitting]\n",
      "WARNING: The fit may be unsuccessful; check fit_info['message'] for more information. [astropy.modeling.fitting]\n",
      "WARNING: The fit may be unsuccessful; check fit_info['message'] for more information. [astropy.modeling.fitting]\n",
      "WARNING: The fit may be unsuccessful; check fit_info['message'] for more information. [astropy.modeling.fitting]\n"
     ]
    },
    {
     "name": "stdout",
     "output_type": "stream",
     "text": [
      "32.33089137891939 -29.957588542920174\n",
      "Finding shifts in image: set 4; image 029\n"
     ]
    },
    {
     "name": "stderr",
     "output_type": "stream",
     "text": [
      "WARNING: The fit may be unsuccessful; check fit_info['message'] for more information. [astropy.modeling.fitting]\n"
     ]
    },
    {
     "name": "stdout",
     "output_type": "stream",
     "text": [
      "34.407775113707544 -30.343507449968328\n",
      "Finding shifts in image: set 4; image 030\n",
      "33.44703686909457 -30.32891853032879\n",
      "Finding shifts in image: set 4; image 031\n"
     ]
    },
    {
     "name": "stderr",
     "output_type": "stream",
     "text": [
      "WARNING: The fit may be unsuccessful; check fit_info['message'] for more information. [astropy.modeling.fitting]\n"
     ]
    },
    {
     "name": "stdout",
     "output_type": "stream",
     "text": [
      "33.20746614981841 -30.492606480255247\n",
      "Finding shifts in image: set 4; image 032\n"
     ]
    },
    {
     "name": "stderr",
     "output_type": "stream",
     "text": [
      "WARNING: The fit may be unsuccessful; check fit_info['message'] for more information. [astropy.modeling.fitting]\n"
     ]
    },
    {
     "name": "stdout",
     "output_type": "stream",
     "text": [
      "32.62355617597095 -30.320039392334227\n",
      "Finding shifts in image: set 4; image 033\n",
      "35.39426712371444 -30.23646531184798\n",
      "Finding shifts in image: set 4; image 034\n",
      "34.39328140848817 -30.37014545168686\n",
      "Finding shifts in image: set 4; image 035\n"
     ]
    },
    {
     "name": "stderr",
     "output_type": "stream",
     "text": [
      "WARNING: The fit may be unsuccessful; check fit_info['message'] for more information. [astropy.modeling.fitting]\n",
      "WARNING: The fit may be unsuccessful; check fit_info['message'] for more information. [astropy.modeling.fitting]\n",
      "WARNING: The fit may be unsuccessful; check fit_info['message'] for more information. [astropy.modeling.fitting]\n"
     ]
    },
    {
     "name": "stdout",
     "output_type": "stream",
     "text": [
      "34.31669593847738 -30.138402456222458\n",
      "Finding shifts in image: set 4; image 036\n"
     ]
    },
    {
     "name": "stderr",
     "output_type": "stream",
     "text": [
      "WARNING: The fit may be unsuccessful; check fit_info['message'] for more information. [astropy.modeling.fitting]\n"
     ]
    },
    {
     "name": "stdout",
     "output_type": "stream",
     "text": [
      "32.9014146274498 -30.15368099753811\n",
      "Finding shifts in image: set 4; image 037\n"
     ]
    },
    {
     "name": "stderr",
     "output_type": "stream",
     "text": [
      "WARNING: The fit may be unsuccessful; check fit_info['message'] for more information. [astropy.modeling.fitting]\n"
     ]
    },
    {
     "name": "stdout",
     "output_type": "stream",
     "text": [
      "36.19257289152311 -30.41919735282236\n",
      "Finding shifts in image: set 4; image 038\n"
     ]
    },
    {
     "name": "stderr",
     "output_type": "stream",
     "text": [
      "WARNING: The fit may be unsuccessful; check fit_info['message'] for more information. [astropy.modeling.fitting]\n",
      "WARNING: The fit may be unsuccessful; check fit_info['message'] for more information. [astropy.modeling.fitting]\n"
     ]
    },
    {
     "name": "stdout",
     "output_type": "stream",
     "text": [
      "35.214875299405335 -30.850730492273744\n",
      "Finding shifts in image: set 4; image 039\n"
     ]
    },
    {
     "name": "stderr",
     "output_type": "stream",
     "text": [
      "WARNING: The fit may be unsuccessful; check fit_info['message'] for more information. [astropy.modeling.fitting]\n",
      "WARNING: The fit may be unsuccessful; check fit_info['message'] for more information. [astropy.modeling.fitting]\n"
     ]
    },
    {
     "name": "stdout",
     "output_type": "stream",
     "text": [
      "35.17398595837165 -30.058180255794298\n",
      "Finding shifts in image: set 4; image 040\n"
     ]
    },
    {
     "name": "stderr",
     "output_type": "stream",
     "text": [
      "WARNING: The fit may be unsuccessful; check fit_info['message'] for more information. [astropy.modeling.fitting]\n"
     ]
    },
    {
     "name": "stdout",
     "output_type": "stream",
     "text": [
      "34.51572367381776 -30.755824370172327\n",
      "Finding shifts in image: set 4; image 041\n"
     ]
    },
    {
     "name": "stderr",
     "output_type": "stream",
     "text": [
      "WARNING: The fit may be unsuccessful; check fit_info['message'] for more information. [astropy.modeling.fitting]\n",
      "WARNING: The fit may be unsuccessful; check fit_info['message'] for more information. [astropy.modeling.fitting]\n"
     ]
    },
    {
     "name": "stdout",
     "output_type": "stream",
     "text": [
      "35.82435141567534 -30.406847305751885\n",
      "Finding shifts in image: set 4; image 042\n"
     ]
    },
    {
     "name": "stderr",
     "output_type": "stream",
     "text": [
      "WARNING: The fit may be unsuccessful; check fit_info['message'] for more information. [astropy.modeling.fitting]\n",
      "WARNING: The fit may be unsuccessful; check fit_info['message'] for more information. [astropy.modeling.fitting]\n",
      "WARNING: The fit may be unsuccessful; check fit_info['message'] for more information. [astropy.modeling.fitting]\n",
      "WARNING: The fit may be unsuccessful; check fit_info['message'] for more information. [astropy.modeling.fitting]\n",
      "WARNING: The fit may be unsuccessful; check fit_info['message'] for more information. [astropy.modeling.fitting]\n"
     ]
    },
    {
     "name": "stdout",
     "output_type": "stream",
     "text": [
      "37.080955818239666 -30.549151715129977\n",
      "Finding shifts in image: set 4; image 043\n"
     ]
    },
    {
     "name": "stderr",
     "output_type": "stream",
     "text": [
      "WARNING: The fit may be unsuccessful; check fit_info['message'] for more information. [astropy.modeling.fitting]\n",
      "WARNING: The fit may be unsuccessful; check fit_info['message'] for more information. [astropy.modeling.fitting]\n"
     ]
    },
    {
     "name": "stdout",
     "output_type": "stream",
     "text": [
      "36.03979656235576 -30.761960077153166\n",
      "Finding shifts in image: set 4; image 044\n"
     ]
    },
    {
     "name": "stderr",
     "output_type": "stream",
     "text": [
      "WARNING: The fit may be unsuccessful; check fit_info['message'] for more information. [astropy.modeling.fitting]\n"
     ]
    },
    {
     "name": "stdout",
     "output_type": "stream",
     "text": [
      "36.11497398740829 -30.763069411634774\n",
      "Finding shifts in image: set 4; image 045\n"
     ]
    },
    {
     "name": "stderr",
     "output_type": "stream",
     "text": [
      "WARNING: The fit may be unsuccessful; check fit_info['message'] for more information. [astropy.modeling.fitting]\n",
      "WARNING: The fit may be unsuccessful; check fit_info['message'] for more information. [astropy.modeling.fitting]\n",
      "WARNING: The fit may be unsuccessful; check fit_info['message'] for more information. [astropy.modeling.fitting]\n"
     ]
    },
    {
     "name": "stdout",
     "output_type": "stream",
     "text": [
      "35.26367450750718 -30.69624129721877\n",
      "Finding shifts in image: set 4; image 046\n",
      "37.972684972535895 -30.93972329469662\n",
      "Finding shifts in image: set 4; image 047\n"
     ]
    },
    {
     "name": "stderr",
     "output_type": "stream",
     "text": [
      "WARNING: The fit may be unsuccessful; check fit_info['message'] for more information. [astropy.modeling.fitting]\n",
      "WARNING: The fit may be unsuccessful; check fit_info['message'] for more information. [astropy.modeling.fitting]\n"
     ]
    },
    {
     "name": "stdout",
     "output_type": "stream",
     "text": [
      "36.85436074927533 -31.101619157510818\n",
      "Finding shifts in image: set 4; image 048\n"
     ]
    },
    {
     "name": "stderr",
     "output_type": "stream",
     "text": [
      "WARNING: The fit may be unsuccessful; check fit_info['message'] for more information. [astropy.modeling.fitting]\n",
      "WARNING: The fit may be unsuccessful; check fit_info['message'] for more information. [astropy.modeling.fitting]\n"
     ]
    },
    {
     "name": "stdout",
     "output_type": "stream",
     "text": [
      "36.980433801305004 -31.01491837638081\n",
      "Finding shifts in image: set 4; image 049\n"
     ]
    },
    {
     "name": "stderr",
     "output_type": "stream",
     "text": [
      "WARNING: The fit may be unsuccessful; check fit_info['message'] for more information. [astropy.modeling.fitting]\n"
     ]
    },
    {
     "name": "stdout",
     "output_type": "stream",
     "text": [
      "35.78375836910669 -30.93444663203761\n",
      "Finding shifts in image: set 4; image 050\n"
     ]
    },
    {
     "name": "stderr",
     "output_type": "stream",
     "text": [
      "WARNING: The fit may be unsuccessful; check fit_info['message'] for more information. [astropy.modeling.fitting]\n",
      "WARNING: The fit may be unsuccessful; check fit_info['message'] for more information. [astropy.modeling.fitting]\n"
     ]
    },
    {
     "name": "stdout",
     "output_type": "stream",
     "text": [
      "37.878778186558 -30.976763418874775\n",
      "Finding shifts in image: set 5; image 001\n"
     ]
    },
    {
     "name": "stderr",
     "output_type": "stream",
     "text": [
      "WARNING: The fit may be unsuccessful; check fit_info['message'] for more information. [astropy.modeling.fitting]\n",
      "WARNING: The fit may be unsuccessful; check fit_info['message'] for more information. [astropy.modeling.fitting]\n"
     ]
    },
    {
     "name": "stdout",
     "output_type": "stream",
     "text": [
      "37.39617793384992 -31.400208532165895\n",
      "Finding shifts in image: set 5; image 002\n"
     ]
    },
    {
     "name": "stderr",
     "output_type": "stream",
     "text": [
      "WARNING: The fit may be unsuccessful; check fit_info['message'] for more information. [astropy.modeling.fitting]\n",
      "WARNING: The fit may be unsuccessful; check fit_info['message'] for more information. [astropy.modeling.fitting]\n",
      "WARNING: The fit may be unsuccessful; check fit_info['message'] for more information. [astropy.modeling.fitting]\n",
      "WARNING: The fit may be unsuccessful; check fit_info['message'] for more information. [astropy.modeling.fitting]\n"
     ]
    },
    {
     "name": "stdout",
     "output_type": "stream",
     "text": [
      "37.118974986773 -31.26600463775256\n",
      "Finding shifts in image: set 5; image 003\n"
     ]
    },
    {
     "name": "stderr",
     "output_type": "stream",
     "text": [
      "WARNING: The fit may be unsuccessful; check fit_info['message'] for more information. [astropy.modeling.fitting]\n"
     ]
    },
    {
     "name": "stdout",
     "output_type": "stream",
     "text": [
      "37.463752001928036 -31.208146649845727\n",
      "Finding shifts in image: set 5; image 004\n"
     ]
    },
    {
     "name": "stderr",
     "output_type": "stream",
     "text": [
      "WARNING: The fit may be unsuccessful; check fit_info['message'] for more information. [astropy.modeling.fitting]\n",
      "WARNING: The fit may be unsuccessful; check fit_info['message'] for more information. [astropy.modeling.fitting]\n",
      "WARNING: The fit may be unsuccessful; check fit_info['message'] for more information. [astropy.modeling.fitting]\n"
     ]
    },
    {
     "name": "stdout",
     "output_type": "stream",
     "text": [
      "39.18658239253128 -31.0581860050893\n",
      "Finding shifts in image: set 5; image 005\n"
     ]
    },
    {
     "name": "stderr",
     "output_type": "stream",
     "text": [
      "WARNING: The fit may be unsuccessful; check fit_info['message'] for more information. [astropy.modeling.fitting]\n",
      "WARNING: The fit may be unsuccessful; check fit_info['message'] for more information. [astropy.modeling.fitting]\n",
      "WARNING: The fit may be unsuccessful; check fit_info['message'] for more information. [astropy.modeling.fitting]\n",
      "WARNING: The fit may be unsuccessful; check fit_info['message'] for more information. [astropy.modeling.fitting]\n"
     ]
    },
    {
     "name": "stdout",
     "output_type": "stream",
     "text": [
      "38.28985320175156 -31.300074969537594\n",
      "Finding shifts in image: set 5; image 006\n"
     ]
    },
    {
     "name": "stderr",
     "output_type": "stream",
     "text": [
      "WARNING: The fit may be unsuccessful; check fit_info['message'] for more information. [astropy.modeling.fitting]\n",
      "WARNING: The fit may be unsuccessful; check fit_info['message'] for more information. [astropy.modeling.fitting]\n"
     ]
    },
    {
     "name": "stdout",
     "output_type": "stream",
     "text": [
      "37.94920909199333 -31.378664934023135\n",
      "Finding shifts in image: set 5; image 007\n"
     ]
    },
    {
     "name": "stderr",
     "output_type": "stream",
     "text": [
      "WARNING: The fit may be unsuccessful; check fit_info['message'] for more information. [astropy.modeling.fitting]\n",
      "WARNING: The fit may be unsuccessful; check fit_info['message'] for more information. [astropy.modeling.fitting]\n",
      "WARNING: The fit may be unsuccessful; check fit_info['message'] for more information. [astropy.modeling.fitting]\n",
      "WARNING: The fit may be unsuccessful; check fit_info['message'] for more information. [astropy.modeling.fitting]\n"
     ]
    },
    {
     "name": "stdout",
     "output_type": "stream",
     "text": [
      "37.46795155119636 -31.160251954399918\n",
      "Finding shifts in image: set 5; image 008\n"
     ]
    },
    {
     "name": "stderr",
     "output_type": "stream",
     "text": [
      "WARNING: The fit may be unsuccessful; check fit_info['message'] for more information. [astropy.modeling.fitting]\n",
      "WARNING: The fit may be unsuccessful; check fit_info['message'] for more information. [astropy.modeling.fitting]\n",
      "WARNING: The fit may be unsuccessful; check fit_info['message'] for more information. [astropy.modeling.fitting]\n"
     ]
    },
    {
     "name": "stdout",
     "output_type": "stream",
     "text": [
      "39.647611652125676 -31.73494136273694\n",
      "Finding shifts in image: set 5; image 009\n"
     ]
    },
    {
     "name": "stderr",
     "output_type": "stream",
     "text": [
      "WARNING: The fit may be unsuccessful; check fit_info['message'] for more information. [astropy.modeling.fitting]\n",
      "WARNING: The fit may be unsuccessful; check fit_info['message'] for more information. [astropy.modeling.fitting]\n"
     ]
    },
    {
     "name": "stdout",
     "output_type": "stream",
     "text": [
      "38.93537244640519 -31.540470051637087\n",
      "Finding shifts in image: set 5; image 010\n"
     ]
    },
    {
     "name": "stderr",
     "output_type": "stream",
     "text": [
      "WARNING: The fit may be unsuccessful; check fit_info['message'] for more information. [astropy.modeling.fitting]\n",
      "WARNING: The fit may be unsuccessful; check fit_info['message'] for more information. [astropy.modeling.fitting]\n",
      "WARNING: The fit may be unsuccessful; check fit_info['message'] for more information. [astropy.modeling.fitting]\n"
     ]
    },
    {
     "name": "stdout",
     "output_type": "stream",
     "text": [
      "39.03147029684714 -31.586693941955872\n",
      "Finding shifts in image: set 5; image 011\n"
     ]
    },
    {
     "name": "stderr",
     "output_type": "stream",
     "text": [
      "WARNING: The fit may be unsuccessful; check fit_info['message'] for more information. [astropy.modeling.fitting]\n",
      "WARNING: The fit may be unsuccessful; check fit_info['message'] for more information. [astropy.modeling.fitting]\n"
     ]
    },
    {
     "name": "stdout",
     "output_type": "stream",
     "text": [
      "38.0580524958914 -31.54799169054107\n",
      "Finding shifts in image: set 5; image 012\n"
     ]
    },
    {
     "name": "stderr",
     "output_type": "stream",
     "text": [
      "WARNING: The fit may be unsuccessful; check fit_info['message'] for more information. [astropy.modeling.fitting]\n"
     ]
    },
    {
     "name": "stdout",
     "output_type": "stream",
     "text": [
      "40.59270708011722 -31.5557597024418\n",
      "Finding shifts in image: set 5; image 013\n"
     ]
    },
    {
     "name": "stderr",
     "output_type": "stream",
     "text": [
      "WARNING: The fit may be unsuccessful; check fit_info['message'] for more information. [astropy.modeling.fitting]\n",
      "WARNING: The fit may be unsuccessful; check fit_info['message'] for more information. [astropy.modeling.fitting]\n"
     ]
    },
    {
     "name": "stdout",
     "output_type": "stream",
     "text": [
      "40.67207864029547 -31.35282607822962\n",
      "Finding shifts in image: set 5; image 014\n"
     ]
    },
    {
     "name": "stderr",
     "output_type": "stream",
     "text": [
      "WARNING: The fit may be unsuccessful; check fit_info['message'] for more information. [astropy.modeling.fitting]\n",
      "WARNING: The fit may be unsuccessful; check fit_info['message'] for more information. [astropy.modeling.fitting]\n"
     ]
    },
    {
     "name": "stdout",
     "output_type": "stream",
     "text": [
      "39.745531522766925 -31.22931745252395\n",
      "Finding shifts in image: set 5; image 015\n"
     ]
    },
    {
     "name": "stderr",
     "output_type": "stream",
     "text": [
      "WARNING: The fit may be unsuccessful; check fit_info['message'] for more information. [astropy.modeling.fitting]\n",
      "WARNING: The fit may be unsuccessful; check fit_info['message'] for more information. [astropy.modeling.fitting]\n"
     ]
    },
    {
     "name": "stdout",
     "output_type": "stream",
     "text": [
      "39.35664854050072 -31.60500217815282\n",
      "Finding shifts in image: set 5; image 016\n",
      "40.45661761731724 -31.477998072929815\n",
      "Finding shifts in image: set 5; image 017\n"
     ]
    },
    {
     "name": "stderr",
     "output_type": "stream",
     "text": [
      "WARNING: The fit may be unsuccessful; check fit_info['message'] for more information. [astropy.modeling.fitting]\n",
      "WARNING: The fit may be unsuccessful; check fit_info['message'] for more information. [astropy.modeling.fitting]\n",
      "WARNING: The fit may be unsuccessful; check fit_info['message'] for more information. [astropy.modeling.fitting]\n",
      "WARNING: The fit may be unsuccessful; check fit_info['message'] for more information. [astropy.modeling.fitting]\n",
      "WARNING: The fit may be unsuccessful; check fit_info['message'] for more information. [astropy.modeling.fitting]\n"
     ]
    },
    {
     "name": "stdout",
     "output_type": "stream",
     "text": [
      "41.89776438350532 -31.626086712239744\n",
      "Finding shifts in image: set 5; image 018\n",
      "40.703179508531484 -31.612327768371735\n",
      "Finding shifts in image: set 5; image 019\n"
     ]
    },
    {
     "name": "stderr",
     "output_type": "stream",
     "text": [
      "WARNING: The fit may be unsuccessful; check fit_info['message'] for more information. [astropy.modeling.fitting]\n",
      "WARNING: The fit may be unsuccessful; check fit_info['message'] for more information. [astropy.modeling.fitting]\n"
     ]
    },
    {
     "name": "stdout",
     "output_type": "stream",
     "text": [
      "40.542398486027025 -31.257244443597827\n",
      "Finding shifts in image: set 5; image 020\n"
     ]
    },
    {
     "name": "stderr",
     "output_type": "stream",
     "text": [
      "WARNING: The fit may be unsuccessful; check fit_info['message'] for more information. [astropy.modeling.fitting]\n",
      "WARNING: The fit may be unsuccessful; check fit_info['message'] for more information. [astropy.modeling.fitting]\n"
     ]
    },
    {
     "name": "stdout",
     "output_type": "stream",
     "text": [
      "40.10241497420405 -31.52215822331012\n",
      "Finding shifts in image: set 5; image 021\n"
     ]
    },
    {
     "name": "stderr",
     "output_type": "stream",
     "text": [
      "WARNING: The fit may be unsuccessful; check fit_info['message'] for more information. [astropy.modeling.fitting]\n",
      "WARNING: The fit may be unsuccessful; check fit_info['message'] for more information. [astropy.modeling.fitting]\n"
     ]
    },
    {
     "name": "stdout",
     "output_type": "stream",
     "text": [
      "42.72387374456968 -31.839893160694672\n",
      "Finding shifts in image: set 5; image 022\n"
     ]
    },
    {
     "name": "stderr",
     "output_type": "stream",
     "text": [
      "WARNING: The fit may be unsuccessful; check fit_info['message'] for more information. [astropy.modeling.fitting]\n",
      "WARNING: The fit may be unsuccessful; check fit_info['message'] for more information. [astropy.modeling.fitting]\n",
      "WARNING: The fit may be unsuccessful; check fit_info['message'] for more information. [astropy.modeling.fitting]\n",
      "WARNING: The fit may be unsuccessful; check fit_info['message'] for more information. [astropy.modeling.fitting]\n"
     ]
    },
    {
     "name": "stdout",
     "output_type": "stream",
     "text": [
      "41.414496975186495 -31.7607742875332\n",
      "Finding shifts in image: set 5; image 023\n"
     ]
    },
    {
     "name": "stderr",
     "output_type": "stream",
     "text": [
      "WARNING: The fit may be unsuccessful; check fit_info['message'] for more information. [astropy.modeling.fitting]\n",
      "WARNING: The fit may be unsuccessful; check fit_info['message'] for more information. [astropy.modeling.fitting]\n"
     ]
    },
    {
     "name": "stdout",
     "output_type": "stream",
     "text": [
      "41.2370277901415 -31.633359980578376\n",
      "Finding shifts in image: set 5; image 024\n"
     ]
    },
    {
     "name": "stderr",
     "output_type": "stream",
     "text": [
      "WARNING: The fit may be unsuccessful; check fit_info['message'] for more information. [astropy.modeling.fitting]\n",
      "WARNING: The fit may be unsuccessful; check fit_info['message'] for more information. [astropy.modeling.fitting]\n"
     ]
    },
    {
     "name": "stdout",
     "output_type": "stream",
     "text": [
      "40.2893704729023 -31.495156883570555\n",
      "Finding shifts in image: set 5; image 025\n"
     ]
    },
    {
     "name": "stderr",
     "output_type": "stream",
     "text": [
      "WARNING: The fit may be unsuccessful; check fit_info['message'] for more information. [astropy.modeling.fitting]\n"
     ]
    },
    {
     "name": "stdout",
     "output_type": "stream",
     "text": [
      "42.81063675475744 -32.03996279836832\n",
      "Finding shifts in image: set 5; image 026\n"
     ]
    },
    {
     "name": "stderr",
     "output_type": "stream",
     "text": [
      "WARNING: The fit may be unsuccessful; check fit_info['message'] for more information. [astropy.modeling.fitting]\n",
      "WARNING: The fit may be unsuccessful; check fit_info['message'] for more information. [astropy.modeling.fitting]\n",
      "WARNING: The fit may be unsuccessful; check fit_info['message'] for more information. [astropy.modeling.fitting]\n"
     ]
    },
    {
     "name": "stdout",
     "output_type": "stream",
     "text": [
      "42.235769267275224 -31.967987838977816\n",
      "Finding shifts in image: set 5; image 027\n"
     ]
    },
    {
     "name": "stderr",
     "output_type": "stream",
     "text": [
      "WARNING: The fit may be unsuccessful; check fit_info['message'] for more information. [astropy.modeling.fitting]\n",
      "WARNING: The fit may be unsuccessful; check fit_info['message'] for more information. [astropy.modeling.fitting]\n",
      "WARNING: The fit may be unsuccessful; check fit_info['message'] for more information. [astropy.modeling.fitting]\n",
      "WARNING: The fit may be unsuccessful; check fit_info['message'] for more information. [astropy.modeling.fitting]\n"
     ]
    },
    {
     "name": "stdout",
     "output_type": "stream",
     "text": [
      "42.23951810087974 -32.35600166760851\n",
      "Finding shifts in image: set 5; image 028\n"
     ]
    },
    {
     "name": "stderr",
     "output_type": "stream",
     "text": [
      "WARNING: The fit may be unsuccessful; check fit_info['message'] for more information. [astropy.modeling.fitting]\n"
     ]
    },
    {
     "name": "stdout",
     "output_type": "stream",
     "text": [
      "41.10985280328431 -31.347109020899\n",
      "Finding shifts in image: set 5; image 029\n"
     ]
    },
    {
     "name": "stderr",
     "output_type": "stream",
     "text": [
      "WARNING: The fit may be unsuccessful; check fit_info['message'] for more information. [astropy.modeling.fitting]\n",
      "WARNING: The fit may be unsuccessful; check fit_info['message'] for more information. [astropy.modeling.fitting]\n"
     ]
    },
    {
     "name": "stdout",
     "output_type": "stream",
     "text": [
      "42.47574788084208 -32.366016949482415\n",
      "Finding shifts in image: set 5; image 030\n"
     ]
    },
    {
     "name": "stderr",
     "output_type": "stream",
     "text": [
      "WARNING: The fit may be unsuccessful; check fit_info['message'] for more information. [astropy.modeling.fitting]\n",
      "WARNING: The fit may be unsuccessful; check fit_info['message'] for more information. [astropy.modeling.fitting]\n",
      "WARNING: The fit may be unsuccessful; check fit_info['message'] for more information. [astropy.modeling.fitting]\n",
      "WARNING: The fit may be unsuccessful; check fit_info['message'] for more information. [astropy.modeling.fitting]\n",
      "WARNING: The fit may be unsuccessful; check fit_info['message'] for more information. [astropy.modeling.fitting]\n"
     ]
    },
    {
     "name": "stdout",
     "output_type": "stream",
     "text": [
      "43.21350724043093 -31.930218519587363\n",
      "Finding shifts in image: set 5; image 031\n"
     ]
    },
    {
     "name": "stderr",
     "output_type": "stream",
     "text": [
      "WARNING: The fit may be unsuccessful; check fit_info['message'] for more information. [astropy.modeling.fitting]\n",
      "WARNING: The fit may be unsuccessful; check fit_info['message'] for more information. [astropy.modeling.fitting]\n"
     ]
    },
    {
     "name": "stdout",
     "output_type": "stream",
     "text": [
      "43.04481898274301 -32.36839957710175\n",
      "Finding shifts in image: set 5; image 032\n"
     ]
    },
    {
     "name": "stderr",
     "output_type": "stream",
     "text": [
      "WARNING: The fit may be unsuccessful; check fit_info['message'] for more information. [astropy.modeling.fitting]\n",
      "WARNING: The fit may be unsuccessful; check fit_info['message'] for more information. [astropy.modeling.fitting]\n",
      "WARNING: The fit may be unsuccessful; check fit_info['message'] for more information. [astropy.modeling.fitting]\n",
      "WARNING: The fit may be unsuccessful; check fit_info['message'] for more information. [astropy.modeling.fitting]\n",
      "WARNING: The fit may be unsuccessful; check fit_info['message'] for more information. [astropy.modeling.fitting]\n"
     ]
    },
    {
     "name": "stdout",
     "output_type": "stream",
     "text": [
      "42.25648291285306 -31.69175432000296\n",
      "Finding shifts in image: set 5; image 033\n",
      "42.39734046549303 -32.20068233395889\n",
      "Finding shifts in image: set 5; image 034\n"
     ]
    },
    {
     "name": "stderr",
     "output_type": "stream",
     "text": [
      "WARNING: The fit may be unsuccessful; check fit_info['message'] for more information. [astropy.modeling.fitting]\n",
      "WARNING: The fit may be unsuccessful; check fit_info['message'] for more information. [astropy.modeling.fitting]\n",
      "WARNING: The fit may be unsuccessful; check fit_info['message'] for more information. [astropy.modeling.fitting]\n",
      "WARNING: The fit may be unsuccessful; check fit_info['message'] for more information. [astropy.modeling.fitting]\n",
      "WARNING: The fit may be unsuccessful; check fit_info['message'] for more information. [astropy.modeling.fitting]\n"
     ]
    },
    {
     "name": "stdout",
     "output_type": "stream",
     "text": [
      "44.35309715709146 -32.31849081326036\n",
      "Finding shifts in image: set 5; image 035\n"
     ]
    },
    {
     "name": "stderr",
     "output_type": "stream",
     "text": [
      "WARNING: The fit may be unsuccessful; check fit_info['message'] for more information. [astropy.modeling.fitting]\n",
      "WARNING: The fit may be unsuccessful; check fit_info['message'] for more information. [astropy.modeling.fitting]\n",
      "WARNING: The fit may be unsuccessful; check fit_info['message'] for more information. [astropy.modeling.fitting]\n",
      "WARNING: The fit may be unsuccessful; check fit_info['message'] for more information. [astropy.modeling.fitting]\n",
      "WARNING: The fit may be unsuccessful; check fit_info['message'] for more information. [astropy.modeling.fitting]\n"
     ]
    },
    {
     "name": "stdout",
     "output_type": "stream",
     "text": [
      "43.72265840504381 -32.34770559280595\n",
      "Finding shifts in image: set 5; image 036\n"
     ]
    },
    {
     "name": "stderr",
     "output_type": "stream",
     "text": [
      "WARNING: The fit may be unsuccessful; check fit_info['message'] for more information. [astropy.modeling.fitting]\n",
      "WARNING: The fit may be unsuccessful; check fit_info['message'] for more information. [astropy.modeling.fitting]\n"
     ]
    },
    {
     "name": "stdout",
     "output_type": "stream",
     "text": [
      "43.38464377401015 -31.950402907356874\n",
      "Finding shifts in image: set 5; image 037\n"
     ]
    },
    {
     "name": "stderr",
     "output_type": "stream",
     "text": [
      "WARNING: The fit may be unsuccessful; check fit_info['message'] for more information. [astropy.modeling.fitting]\n",
      "WARNING: The fit may be unsuccessful; check fit_info['message'] for more information. [astropy.modeling.fitting]\n",
      "WARNING: The fit may be unsuccessful; check fit_info['message'] for more information. [astropy.modeling.fitting]\n",
      "WARNING: The fit may be unsuccessful; check fit_info['message'] for more information. [astropy.modeling.fitting]\n"
     ]
    },
    {
     "name": "stdout",
     "output_type": "stream",
     "text": [
      "42.557138682826675 -32.365056124619386\n",
      "Finding shifts in image: set 5; image 038\n"
     ]
    },
    {
     "name": "stderr",
     "output_type": "stream",
     "text": [
      "WARNING: The fit may be unsuccessful; check fit_info['message'] for more information. [astropy.modeling.fitting]\n",
      "WARNING: The fit may be unsuccessful; check fit_info['message'] for more information. [astropy.modeling.fitting]\n"
     ]
    },
    {
     "name": "stdout",
     "output_type": "stream",
     "text": [
      "45.5061067595961 -32.36765591513789\n",
      "Finding shifts in image: set 5; image 039\n"
     ]
    },
    {
     "name": "stderr",
     "output_type": "stream",
     "text": [
      "WARNING: The fit may be unsuccessful; check fit_info['message'] for more information. [astropy.modeling.fitting]\n",
      "WARNING: The fit may be unsuccessful; check fit_info['message'] for more information. [astropy.modeling.fitting]\n",
      "WARNING: The fit may be unsuccessful; check fit_info['message'] for more information. [astropy.modeling.fitting]\n",
      "WARNING: The fit may be unsuccessful; check fit_info['message'] for more information. [astropy.modeling.fitting]\n"
     ]
    },
    {
     "name": "stdout",
     "output_type": "stream",
     "text": [
      "44.11644684752398 -32.3067297393365\n",
      "Finding shifts in image: set 5; image 040\n"
     ]
    },
    {
     "name": "stderr",
     "output_type": "stream",
     "text": [
      "WARNING: The fit may be unsuccessful; check fit_info['message'] for more information. [astropy.modeling.fitting]\n",
      "WARNING: The fit may be unsuccessful; check fit_info['message'] for more information. [astropy.modeling.fitting]\n"
     ]
    },
    {
     "name": "stdout",
     "output_type": "stream",
     "text": [
      "44.94000225368795 -32.06799777620174\n",
      "Finding shifts in image: set 5; image 041\n"
     ]
    },
    {
     "name": "stderr",
     "output_type": "stream",
     "text": [
      "WARNING: The fit may be unsuccessful; check fit_info['message'] for more information. [astropy.modeling.fitting]\n",
      "WARNING: The fit may be unsuccessful; check fit_info['message'] for more information. [astropy.modeling.fitting]\n",
      "WARNING: The fit may be unsuccessful; check fit_info['message'] for more information. [astropy.modeling.fitting]\n",
      "WARNING: The fit may be unsuccessful; check fit_info['message'] for more information. [astropy.modeling.fitting]\n",
      "WARNING: The fit may be unsuccessful; check fit_info['message'] for more information. [astropy.modeling.fitting]\n"
     ]
    },
    {
     "name": "stdout",
     "output_type": "stream",
     "text": [
      "43.3984987224153 -32.30190120939596\n",
      "Finding shifts in image: set 5; image 042\n"
     ]
    },
    {
     "name": "stderr",
     "output_type": "stream",
     "text": [
      "WARNING: The fit may be unsuccessful; check fit_info['message'] for more information. [astropy.modeling.fitting]\n",
      "WARNING: The fit may be unsuccessful; check fit_info['message'] for more information. [astropy.modeling.fitting]\n",
      "WARNING: The fit may be unsuccessful; check fit_info['message'] for more information. [astropy.modeling.fitting]\n"
     ]
    },
    {
     "name": "stdout",
     "output_type": "stream",
     "text": [
      "44.9037490058277 -32.33218869013615\n",
      "Finding shifts in image: set 5; image 043\n"
     ]
    },
    {
     "name": "stderr",
     "output_type": "stream",
     "text": [
      "WARNING: The fit may be unsuccessful; check fit_info['message'] for more information. [astropy.modeling.fitting]\n",
      "WARNING: The fit may be unsuccessful; check fit_info['message'] for more information. [astropy.modeling.fitting]\n",
      "WARNING: The fit may be unsuccessful; check fit_info['message'] for more information. [astropy.modeling.fitting]\n"
     ]
    },
    {
     "name": "stdout",
     "output_type": "stream",
     "text": [
      "46.07007907431364 -32.21244654948747\n",
      "Finding shifts in image: set 5; image 044\n"
     ]
    },
    {
     "name": "stderr",
     "output_type": "stream",
     "text": [
      "WARNING: The fit may be unsuccessful; check fit_info['message'] for more information. [astropy.modeling.fitting]\n"
     ]
    },
    {
     "name": "stdout",
     "output_type": "stream",
     "text": [
      "45.46048506776421 -31.921436165942715\n",
      "Finding shifts in image: set 5; image 045\n"
     ]
    },
    {
     "name": "stderr",
     "output_type": "stream",
     "text": [
      "WARNING: The fit may be unsuccessful; check fit_info['message'] for more information. [astropy.modeling.fitting]\n",
      "WARNING: The fit may be unsuccessful; check fit_info['message'] for more information. [astropy.modeling.fitting]\n",
      "WARNING: The fit may be unsuccessful; check fit_info['message'] for more information. [astropy.modeling.fitting]\n",
      "WARNING: The fit may be unsuccessful; check fit_info['message'] for more information. [astropy.modeling.fitting]\n"
     ]
    },
    {
     "name": "stdout",
     "output_type": "stream",
     "text": [
      "45.07632413777068 -32.808588225089096\n",
      "Finding shifts in image: set 5; image 046\n"
     ]
    },
    {
     "name": "stderr",
     "output_type": "stream",
     "text": [
      "WARNING: The fit may be unsuccessful; check fit_info['message'] for more information. [astropy.modeling.fitting]\n"
     ]
    },
    {
     "name": "stdout",
     "output_type": "stream",
     "text": [
      "44.96010280292835 -32.545206314666146\n",
      "Finding shifts in image: set 5; image 047\n"
     ]
    },
    {
     "name": "stderr",
     "output_type": "stream",
     "text": [
      "WARNING: The fit may be unsuccessful; check fit_info['message'] for more information. [astropy.modeling.fitting]\n",
      "WARNING: The fit may be unsuccessful; check fit_info['message'] for more information. [astropy.modeling.fitting]\n",
      "WARNING: The fit may be unsuccessful; check fit_info['message'] for more information. [astropy.modeling.fitting]\n",
      "WARNING: The fit may be unsuccessful; check fit_info['message'] for more information. [astropy.modeling.fitting]\n",
      "WARNING: The fit may be unsuccessful; check fit_info['message'] for more information. [astropy.modeling.fitting]\n"
     ]
    },
    {
     "name": "stdout",
     "output_type": "stream",
     "text": [
      "47.60342384247614 -32.59902405987665\n",
      "Finding shifts in image: set 5; image 048\n"
     ]
    },
    {
     "name": "stderr",
     "output_type": "stream",
     "text": [
      "WARNING: The fit may be unsuccessful; check fit_info['message'] for more information. [astropy.modeling.fitting]\n",
      "WARNING: The fit may be unsuccessful; check fit_info['message'] for more information. [astropy.modeling.fitting]\n",
      "WARNING: The fit may be unsuccessful; check fit_info['message'] for more information. [astropy.modeling.fitting]\n"
     ]
    },
    {
     "name": "stdout",
     "output_type": "stream",
     "text": [
      "46.024681679767895 -32.363181381725305\n",
      "Finding shifts in image: set 5; image 049\n"
     ]
    },
    {
     "name": "stderr",
     "output_type": "stream",
     "text": [
      "WARNING: The fit may be unsuccessful; check fit_info['message'] for more information. [astropy.modeling.fitting]\n",
      "WARNING: The fit may be unsuccessful; check fit_info['message'] for more information. [astropy.modeling.fitting]\n",
      "WARNING: The fit may be unsuccessful; check fit_info['message'] for more information. [astropy.modeling.fitting]\n",
      "WARNING: The fit may be unsuccessful; check fit_info['message'] for more information. [astropy.modeling.fitting]\n",
      "WARNING: The fit may be unsuccessful; check fit_info['message'] for more information. [astropy.modeling.fitting]\n"
     ]
    },
    {
     "name": "stdout",
     "output_type": "stream",
     "text": [
      "46.435088982151136 -32.71108074292845\n",
      "Finding shifts in image: set 5; image 050\n"
     ]
    },
    {
     "name": "stderr",
     "output_type": "stream",
     "text": [
      "WARNING: The fit may be unsuccessful; check fit_info['message'] for more information. [astropy.modeling.fitting]\n",
      "WARNING: The fit may be unsuccessful; check fit_info['message'] for more information. [astropy.modeling.fitting]\n"
     ]
    },
    {
     "name": "stdout",
     "output_type": "stream",
     "text": [
      "45.02698982874217 -32.229288918828104\n",
      "Finding shifts in image: set 6; image 001\n"
     ]
    },
    {
     "name": "stderr",
     "output_type": "stream",
     "text": [
      "WARNING: The fit may be unsuccessful; check fit_info['message'] for more information. [astropy.modeling.fitting]\n",
      "WARNING: The fit may be unsuccessful; check fit_info['message'] for more information. [astropy.modeling.fitting]\n",
      "WARNING: The fit may be unsuccessful; check fit_info['message'] for more information. [astropy.modeling.fitting]\n",
      "WARNING: The fit may be unsuccessful; check fit_info['message'] for more information. [astropy.modeling.fitting]\n",
      "WARNING: The fit may be unsuccessful; check fit_info['message'] for more information. [astropy.modeling.fitting]\n"
     ]
    },
    {
     "name": "stdout",
     "output_type": "stream",
     "text": [
      "47.68853014770907 -32.64798376274223\n",
      "Finding shifts in image: set 6; image 002\n"
     ]
    },
    {
     "name": "stderr",
     "output_type": "stream",
     "text": [
      "WARNING: The fit may be unsuccessful; check fit_info['message'] for more information. [astropy.modeling.fitting]\n",
      "WARNING: The fit may be unsuccessful; check fit_info['message'] for more information. [astropy.modeling.fitting]\n",
      "WARNING: The fit may be unsuccessful; check fit_info['message'] for more information. [astropy.modeling.fitting]\n",
      "WARNING: The fit may be unsuccessful; check fit_info['message'] for more information. [astropy.modeling.fitting]\n",
      "WARNING: The fit may be unsuccessful; check fit_info['message'] for more information. [astropy.modeling.fitting]\n"
     ]
    },
    {
     "name": "stdout",
     "output_type": "stream",
     "text": [
      "45.77182966473939 -32.226834672096146\n",
      "Finding shifts in image: set 6; image 003\n"
     ]
    },
    {
     "name": "stderr",
     "output_type": "stream",
     "text": [
      "WARNING: The fit may be unsuccessful; check fit_info['message'] for more information. [astropy.modeling.fitting]\n",
      "WARNING: The fit may be unsuccessful; check fit_info['message'] for more information. [astropy.modeling.fitting]\n",
      "WARNING: The fit may be unsuccessful; check fit_info['message'] for more information. [astropy.modeling.fitting]\n"
     ]
    },
    {
     "name": "stdout",
     "output_type": "stream",
     "text": [
      "48.19975027899772 -32.3533769940499\n",
      "Finding shifts in image: set 6; image 004\n"
     ]
    },
    {
     "name": "stderr",
     "output_type": "stream",
     "text": [
      "WARNING: The fit may be unsuccessful; check fit_info['message'] for more information. [astropy.modeling.fitting]\n",
      "WARNING: The fit may be unsuccessful; check fit_info['message'] for more information. [astropy.modeling.fitting]\n",
      "WARNING: The fit may be unsuccessful; check fit_info['message'] for more information. [astropy.modeling.fitting]\n"
     ]
    },
    {
     "name": "stdout",
     "output_type": "stream",
     "text": [
      "47.52223146422282 -32.542396367002226\n",
      "Finding shifts in image: set 6; image 005\n"
     ]
    },
    {
     "name": "stderr",
     "output_type": "stream",
     "text": [
      "WARNING: The fit may be unsuccessful; check fit_info['message'] for more information. [astropy.modeling.fitting]\n",
      "WARNING: The fit may be unsuccessful; check fit_info['message'] for more information. [astropy.modeling.fitting]\n",
      "WARNING: The fit may be unsuccessful; check fit_info['message'] for more information. [astropy.modeling.fitting]\n",
      "WARNING: The fit may be unsuccessful; check fit_info['message'] for more information. [astropy.modeling.fitting]\n"
     ]
    },
    {
     "name": "stdout",
     "output_type": "stream",
     "text": [
      "47.88609056940743 -32.269598363802515\n",
      "Finding shifts in image: set 6; image 006\n"
     ]
    },
    {
     "name": "stderr",
     "output_type": "stream",
     "text": [
      "WARNING: The fit may be unsuccessful; check fit_info['message'] for more information. [astropy.modeling.fitting]\n",
      "WARNING: The fit may be unsuccessful; check fit_info['message'] for more information. [astropy.modeling.fitting]\n"
     ]
    },
    {
     "name": "stdout",
     "output_type": "stream",
     "text": [
      "47.499064086281436 -32.59096206569163\n",
      "Finding shifts in image: set 6; image 007\n"
     ]
    },
    {
     "name": "stderr",
     "output_type": "stream",
     "text": [
      "WARNING: The fit may be unsuccessful; check fit_info['message'] for more information. [astropy.modeling.fitting]\n",
      "WARNING: The fit may be unsuccessful; check fit_info['message'] for more information. [astropy.modeling.fitting]\n",
      "WARNING: The fit may be unsuccessful; check fit_info['message'] for more information. [astropy.modeling.fitting]\n",
      "WARNING: The fit may be unsuccessful; check fit_info['message'] for more information. [astropy.modeling.fitting]\n"
     ]
    },
    {
     "name": "stdout",
     "output_type": "stream",
     "text": [
      "47.24344863878258 -32.06107533763064\n",
      "Finding shifts in image: set 6; image 008\n"
     ]
    },
    {
     "name": "stderr",
     "output_type": "stream",
     "text": [
      "WARNING: The fit may be unsuccessful; check fit_info['message'] for more information. [astropy.modeling.fitting]\n",
      "WARNING: The fit may be unsuccessful; check fit_info['message'] for more information. [astropy.modeling.fitting]\n"
     ]
    },
    {
     "name": "stdout",
     "output_type": "stream",
     "text": [
      "49.018144653571014 -33.0480034840822\n",
      "Finding shifts in image: set 6; image 009\n"
     ]
    },
    {
     "name": "stderr",
     "output_type": "stream",
     "text": [
      "WARNING: The fit may be unsuccessful; check fit_info['message'] for more information. [astropy.modeling.fitting]\n",
      "WARNING: The fit may be unsuccessful; check fit_info['message'] for more information. [astropy.modeling.fitting]\n",
      "WARNING: The fit may be unsuccessful; check fit_info['message'] for more information. [astropy.modeling.fitting]\n"
     ]
    },
    {
     "name": "stdout",
     "output_type": "stream",
     "text": [
      "48.35571815816682 -32.45517061187716\n",
      "Finding shifts in image: set 6; image 010\n"
     ]
    },
    {
     "name": "stderr",
     "output_type": "stream",
     "text": [
      "WARNING: The fit may be unsuccessful; check fit_info['message'] for more information. [astropy.modeling.fitting]\n",
      "WARNING: The fit may be unsuccessful; check fit_info['message'] for more information. [astropy.modeling.fitting]\n",
      "WARNING: The fit may be unsuccessful; check fit_info['message'] for more information. [astropy.modeling.fitting]\n",
      "WARNING: The fit may be unsuccessful; check fit_info['message'] for more information. [astropy.modeling.fitting]\n",
      "WARNING: The fit may be unsuccessful; check fit_info['message'] for more information. [astropy.modeling.fitting]\n"
     ]
    },
    {
     "name": "stdout",
     "output_type": "stream",
     "text": [
      "48.611753252497756 -32.58415636362218\n",
      "Finding shifts in image: set 6; image 011\n"
     ]
    },
    {
     "name": "stderr",
     "output_type": "stream",
     "text": [
      "WARNING: The fit may be unsuccessful; check fit_info['message'] for more information. [astropy.modeling.fitting]\n",
      "WARNING: The fit may be unsuccessful; check fit_info['message'] for more information. [astropy.modeling.fitting]\n",
      "WARNING: The fit may be unsuccessful; check fit_info['message'] for more information. [astropy.modeling.fitting]\n"
     ]
    },
    {
     "name": "stdout",
     "output_type": "stream",
     "text": [
      "47.3371195666104 -32.33169760692982\n",
      "Finding shifts in image: set 6; image 012\n"
     ]
    },
    {
     "name": "stderr",
     "output_type": "stream",
     "text": [
      "WARNING: The fit may be unsuccessful; check fit_info['message'] for more information. [astropy.modeling.fitting]\n",
      "WARNING: The fit may be unsuccessful; check fit_info['message'] for more information. [astropy.modeling.fitting]\n",
      "WARNING: The fit may be unsuccessful; check fit_info['message'] for more information. [astropy.modeling.fitting]\n",
      "WARNING: The fit may be unsuccessful; check fit_info['message'] for more information. [astropy.modeling.fitting]\n",
      "WARNING: The fit may be unsuccessful; check fit_info['message'] for more information. [astropy.modeling.fitting]\n"
     ]
    },
    {
     "name": "stdout",
     "output_type": "stream",
     "text": [
      "49.66331884883411 -32.40049707608297\n",
      "Finding shifts in image: set 6; image 013\n"
     ]
    },
    {
     "name": "stderr",
     "output_type": "stream",
     "text": [
      "WARNING: The fit may be unsuccessful; check fit_info['message'] for more information. [astropy.modeling.fitting]\n",
      "WARNING: The fit may be unsuccessful; check fit_info['message'] for more information. [astropy.modeling.fitting]\n",
      "WARNING: The fit may be unsuccessful; check fit_info['message'] for more information. [astropy.modeling.fitting]\n",
      "WARNING: The fit may be unsuccessful; check fit_info['message'] for more information. [astropy.modeling.fitting]\n",
      "WARNING: The fit may be unsuccessful; check fit_info['message'] for more information. [astropy.modeling.fitting]\n"
     ]
    },
    {
     "name": "stdout",
     "output_type": "stream",
     "text": [
      "49.20181206155452 -32.371464163267845\n",
      "Finding shifts in image: set 6; image 014\n"
     ]
    },
    {
     "name": "stderr",
     "output_type": "stream",
     "text": [
      "WARNING: The fit may be unsuccessful; check fit_info['message'] for more information. [astropy.modeling.fitting]\n",
      "WARNING: The fit may be unsuccessful; check fit_info['message'] for more information. [astropy.modeling.fitting]\n",
      "WARNING: The fit may be unsuccessful; check fit_info['message'] for more information. [astropy.modeling.fitting]\n"
     ]
    },
    {
     "name": "stdout",
     "output_type": "stream",
     "text": [
      "49.378942516881054 -32.618149450505555\n",
      "Finding shifts in image: set 6; image 015\n"
     ]
    },
    {
     "name": "stderr",
     "output_type": "stream",
     "text": [
      "WARNING: The fit may be unsuccessful; check fit_info['message'] for more information. [astropy.modeling.fitting]\n",
      "WARNING: The fit may be unsuccessful; check fit_info['message'] for more information. [astropy.modeling.fitting]\n",
      "WARNING: The fit may be unsuccessful; check fit_info['message'] for more information. [astropy.modeling.fitting]\n"
     ]
    },
    {
     "name": "stdout",
     "output_type": "stream",
     "text": [
      "48.16530364914873 -32.22773936040892\n",
      "Finding shifts in image: set 6; image 016\n"
     ]
    },
    {
     "name": "stderr",
     "output_type": "stream",
     "text": [
      "WARNING: The fit may be unsuccessful; check fit_info['message'] for more information. [astropy.modeling.fitting]\n",
      "WARNING: The fit may be unsuccessful; check fit_info['message'] for more information. [astropy.modeling.fitting]\n",
      "WARNING: The fit may be unsuccessful; check fit_info['message'] for more information. [astropy.modeling.fitting]\n"
     ]
    },
    {
     "name": "stdout",
     "output_type": "stream",
     "text": [
      "49.733818564805645 -32.609204765452986\n",
      "Finding shifts in image: set 6; image 017\n"
     ]
    },
    {
     "name": "stderr",
     "output_type": "stream",
     "text": [
      "WARNING: The fit may be unsuccessful; check fit_info['message'] for more information. [astropy.modeling.fitting]\n"
     ]
    },
    {
     "name": "stdout",
     "output_type": "stream",
     "text": [
      "50.298811593725375 -32.39923636758742\n",
      "Finding shifts in image: set 6; image 018\n"
     ]
    },
    {
     "name": "stderr",
     "output_type": "stream",
     "text": [
      "WARNING: The fit may be unsuccessful; check fit_info['message'] for more information. [astropy.modeling.fitting]\n",
      "WARNING: The fit may be unsuccessful; check fit_info['message'] for more information. [astropy.modeling.fitting]\n",
      "WARNING: The fit may be unsuccessful; check fit_info['message'] for more information. [astropy.modeling.fitting]\n"
     ]
    },
    {
     "name": "stdout",
     "output_type": "stream",
     "text": [
      "50.05883724388769 -32.68794450636875\n",
      "Finding shifts in image: set 6; image 019\n"
     ]
    },
    {
     "name": "stderr",
     "output_type": "stream",
     "text": [
      "WARNING: The fit may be unsuccessful; check fit_info['message'] for more information. [astropy.modeling.fitting]\n",
      "WARNING: The fit may be unsuccessful; check fit_info['message'] for more information. [astropy.modeling.fitting]\n",
      "WARNING: The fit may be unsuccessful; check fit_info['message'] for more information. [astropy.modeling.fitting]\n"
     ]
    },
    {
     "name": "stdout",
     "output_type": "stream",
     "text": [
      "49.2162710176996 -32.43765010681925\n",
      "Finding shifts in image: set 6; image 020\n"
     ]
    },
    {
     "name": "stderr",
     "output_type": "stream",
     "text": [
      "WARNING: The fit may be unsuccessful; check fit_info['message'] for more information. [astropy.modeling.fitting]\n",
      "WARNING: The fit may be unsuccessful; check fit_info['message'] for more information. [astropy.modeling.fitting]\n",
      "WARNING: The fit may be unsuccessful; check fit_info['message'] for more information. [astropy.modeling.fitting]\n"
     ]
    },
    {
     "name": "stdout",
     "output_type": "stream",
     "text": [
      "49.59949367126777 -32.333500208319805\n",
      "Finding shifts in image: set 6; image 021\n"
     ]
    },
    {
     "name": "stderr",
     "output_type": "stream",
     "text": [
      "WARNING: The fit may be unsuccessful; check fit_info['message'] for more information. [astropy.modeling.fitting]\n",
      "WARNING: The fit may be unsuccessful; check fit_info['message'] for more information. [astropy.modeling.fitting]\n",
      "WARNING: The fit may be unsuccessful; check fit_info['message'] for more information. [astropy.modeling.fitting]\n"
     ]
    },
    {
     "name": "stdout",
     "output_type": "stream",
     "text": [
      "51.68101919390027 -32.55540375826555\n",
      "Finding shifts in image: set 6; image 022\n"
     ]
    },
    {
     "name": "stderr",
     "output_type": "stream",
     "text": [
      "WARNING: The fit may be unsuccessful; check fit_info['message'] for more information. [astropy.modeling.fitting]\n",
      "WARNING: The fit may be unsuccessful; check fit_info['message'] for more information. [astropy.modeling.fitting]\n",
      "WARNING: The fit may be unsuccessful; check fit_info['message'] for more information. [astropy.modeling.fitting]\n",
      "WARNING: The fit may be unsuccessful; check fit_info['message'] for more information. [astropy.modeling.fitting]\n"
     ]
    },
    {
     "name": "stdout",
     "output_type": "stream",
     "text": [
      "50.08468035110912 -32.4206958011184\n",
      "Finding shifts in image: set 6; image 023\n"
     ]
    },
    {
     "name": "stderr",
     "output_type": "stream",
     "text": [
      "WARNING: The fit may be unsuccessful; check fit_info['message'] for more information. [astropy.modeling.fitting]\n",
      "WARNING: The fit may be unsuccessful; check fit_info['message'] for more information. [astropy.modeling.fitting]\n"
     ]
    },
    {
     "name": "stdout",
     "output_type": "stream",
     "text": [
      "50.908031399539325 -32.14491719023166\n",
      "Finding shifts in image: set 6; image 024\n"
     ]
    },
    {
     "name": "stderr",
     "output_type": "stream",
     "text": [
      "WARNING: The fit may be unsuccessful; check fit_info['message'] for more information. [astropy.modeling.fitting]\n",
      "WARNING: The fit may be unsuccessful; check fit_info['message'] for more information. [astropy.modeling.fitting]\n",
      "WARNING: The fit may be unsuccessful; check fit_info['message'] for more information. [astropy.modeling.fitting]\n",
      "WARNING: The fit may be unsuccessful; check fit_info['message'] for more information. [astropy.modeling.fitting]\n",
      "WARNING: The fit may be unsuccessful; check fit_info['message'] for more information. [astropy.modeling.fitting]\n",
      "WARNING: The fit may be unsuccessful; check fit_info['message'] for more information. [astropy.modeling.fitting]\n"
     ]
    },
    {
     "name": "stdout",
     "output_type": "stream",
     "text": [
      "49.29562860528293 -32.35871406911866\n",
      "Finding shifts in image: set 6; image 025\n"
     ]
    },
    {
     "name": "stderr",
     "output_type": "stream",
     "text": [
      "WARNING: The fit may be unsuccessful; check fit_info['message'] for more information. [astropy.modeling.fitting]\n",
      "WARNING: The fit may be unsuccessful; check fit_info['message'] for more information. [astropy.modeling.fitting]\n",
      "WARNING: The fit may be unsuccessful; check fit_info['message'] for more information. [astropy.modeling.fitting]\n",
      "WARNING: The fit may be unsuccessful; check fit_info['message'] for more information. [astropy.modeling.fitting]\n"
     ]
    },
    {
     "name": "stdout",
     "output_type": "stream",
     "text": [
      "51.560327061742946 -32.36008760513788\n",
      "Finding shifts in image: set 6; image 026\n"
     ]
    },
    {
     "name": "stderr",
     "output_type": "stream",
     "text": [
      "WARNING: The fit may be unsuccessful; check fit_info['message'] for more information. [astropy.modeling.fitting]\n",
      "WARNING: The fit may be unsuccessful; check fit_info['message'] for more information. [astropy.modeling.fitting]\n"
     ]
    },
    {
     "name": "stdout",
     "output_type": "stream",
     "text": [
      "51.55122307891975 -32.08817911833339\n",
      "Finding shifts in image: set 6; image 027\n"
     ]
    },
    {
     "name": "stderr",
     "output_type": "stream",
     "text": [
      "WARNING: The fit may be unsuccessful; check fit_info['message'] for more information. [astropy.modeling.fitting]\n",
      "WARNING: The fit may be unsuccessful; check fit_info['message'] for more information. [astropy.modeling.fitting]\n",
      "WARNING: The fit may be unsuccessful; check fit_info['message'] for more information. [astropy.modeling.fitting]\n"
     ]
    },
    {
     "name": "stdout",
     "output_type": "stream",
     "text": [
      "51.887529960298544 -32.04296063174028\n",
      "Finding shifts in image: set 6; image 028\n"
     ]
    },
    {
     "name": "stderr",
     "output_type": "stream",
     "text": [
      "WARNING: The fit may be unsuccessful; check fit_info['message'] for more information. [astropy.modeling.fitting]\n",
      "WARNING: The fit may be unsuccessful; check fit_info['message'] for more information. [astropy.modeling.fitting]\n",
      "WARNING: The fit may be unsuccessful; check fit_info['message'] for more information. [astropy.modeling.fitting]\n"
     ]
    },
    {
     "name": "stdout",
     "output_type": "stream",
     "text": [
      "49.9465111412699 -32.43266501966453\n",
      "Finding shifts in image: set 6; image 029\n"
     ]
    },
    {
     "name": "stderr",
     "output_type": "stream",
     "text": [
      "WARNING: The fit may be unsuccessful; check fit_info['message'] for more information. [astropy.modeling.fitting]\n",
      "WARNING: The fit may be unsuccessful; check fit_info['message'] for more information. [astropy.modeling.fitting]\n",
      "WARNING: The fit may be unsuccessful; check fit_info['message'] for more information. [astropy.modeling.fitting]\n",
      "WARNING: The fit may be unsuccessful; check fit_info['message'] for more information. [astropy.modeling.fitting]\n"
     ]
    },
    {
     "name": "stdout",
     "output_type": "stream",
     "text": [
      "52.84576058787211 -31.990290077251114\n",
      "Finding shifts in image: set 6; image 030\n"
     ]
    },
    {
     "name": "stderr",
     "output_type": "stream",
     "text": [
      "WARNING: The fit may be unsuccessful; check fit_info['message'] for more information. [astropy.modeling.fitting]\n",
      "WARNING: The fit may be unsuccessful; check fit_info['message'] for more information. [astropy.modeling.fitting]\n",
      "WARNING: The fit may be unsuccessful; check fit_info['message'] for more information. [astropy.modeling.fitting]\n"
     ]
    },
    {
     "name": "stdout",
     "output_type": "stream",
     "text": [
      "52.160042143001355 -32.590646106944774\n",
      "Finding shifts in image: set 6; image 031\n"
     ]
    },
    {
     "name": "stderr",
     "output_type": "stream",
     "text": [
      "WARNING: The fit may be unsuccessful; check fit_info['message'] for more information. [astropy.modeling.fitting]\n",
      "WARNING: The fit may be unsuccessful; check fit_info['message'] for more information. [astropy.modeling.fitting]\n",
      "WARNING: The fit may be unsuccessful; check fit_info['message'] for more information. [astropy.modeling.fitting]\n"
     ]
    },
    {
     "name": "stdout",
     "output_type": "stream",
     "text": [
      "52.493660907571176 -32.6157461996613\n",
      "Finding shifts in image: set 6; image 032\n"
     ]
    },
    {
     "name": "stderr",
     "output_type": "stream",
     "text": [
      "WARNING: The fit may be unsuccessful; check fit_info['message'] for more information. [astropy.modeling.fitting]\n",
      "WARNING: The fit may be unsuccessful; check fit_info['message'] for more information. [astropy.modeling.fitting]\n",
      "WARNING: The fit may be unsuccessful; check fit_info['message'] for more information. [astropy.modeling.fitting]\n"
     ]
    },
    {
     "name": "stdout",
     "output_type": "stream",
     "text": [
      "51.439753072287175 -32.13422886148295\n",
      "Finding shifts in image: set 6; image 033\n"
     ]
    },
    {
     "name": "stderr",
     "output_type": "stream",
     "text": [
      "WARNING: The fit may be unsuccessful; check fit_info['message'] for more information. [astropy.modeling.fitting]\n",
      "WARNING: The fit may be unsuccessful; check fit_info['message'] for more information. [astropy.modeling.fitting]\n",
      "WARNING: The fit may be unsuccessful; check fit_info['message'] for more information. [astropy.modeling.fitting]\n",
      "WARNING: The fit may be unsuccessful; check fit_info['message'] for more information. [astropy.modeling.fitting]\n"
     ]
    },
    {
     "name": "stdout",
     "output_type": "stream",
     "text": [
      "52.66750244731516 -31.9286635402744\n",
      "Finding shifts in image: set 6; image 034\n"
     ]
    },
    {
     "name": "stderr",
     "output_type": "stream",
     "text": [
      "WARNING: The fit may be unsuccessful; check fit_info['message'] for more information. [astropy.modeling.fitting]\n",
      "WARNING: The fit may be unsuccessful; check fit_info['message'] for more information. [astropy.modeling.fitting]\n"
     ]
    },
    {
     "name": "stdout",
     "output_type": "stream",
     "text": [
      "54.290339655091614 -32.85203403000987\n",
      "Finding shifts in image: set 6; image 035\n"
     ]
    },
    {
     "name": "stderr",
     "output_type": "stream",
     "text": [
      "WARNING: The fit may be unsuccessful; check fit_info['message'] for more information. [astropy.modeling.fitting]\n",
      "WARNING: The fit may be unsuccessful; check fit_info['message'] for more information. [astropy.modeling.fitting]\n",
      "WARNING: The fit may be unsuccessful; check fit_info['message'] for more information. [astropy.modeling.fitting]\n"
     ]
    },
    {
     "name": "stdout",
     "output_type": "stream",
     "text": [
      "53.00217505762624 -31.781321383458657\n",
      "Finding shifts in image: set 6; image 036\n"
     ]
    },
    {
     "name": "stderr",
     "output_type": "stream",
     "text": [
      "WARNING: The fit may be unsuccessful; check fit_info['message'] for more information. [astropy.modeling.fitting]\n",
      "WARNING: The fit may be unsuccessful; check fit_info['message'] for more information. [astropy.modeling.fitting]\n"
     ]
    },
    {
     "name": "stdout",
     "output_type": "stream",
     "text": [
      "53.57378376990873 -32.144074988424535\n",
      "Finding shifts in image: set 6; image 037\n"
     ]
    },
    {
     "name": "stderr",
     "output_type": "stream",
     "text": [
      "WARNING: The fit may be unsuccessful; check fit_info['message'] for more information. [astropy.modeling.fitting]\n",
      "WARNING: The fit may be unsuccessful; check fit_info['message'] for more information. [astropy.modeling.fitting]\n"
     ]
    },
    {
     "name": "stdout",
     "output_type": "stream",
     "text": [
      "51.99452734587268 -31.907154666052065\n",
      "Finding shifts in image: set 6; image 038\n"
     ]
    },
    {
     "name": "stderr",
     "output_type": "stream",
     "text": [
      "WARNING: The fit may be unsuccessful; check fit_info['message'] for more information. [astropy.modeling.fitting]\n",
      "WARNING: The fit may be unsuccessful; check fit_info['message'] for more information. [astropy.modeling.fitting]\n",
      "WARNING: The fit may be unsuccessful; check fit_info['message'] for more information. [astropy.modeling.fitting]\n",
      "WARNING: The fit may be unsuccessful; check fit_info['message'] for more information. [astropy.modeling.fitting]\n"
     ]
    },
    {
     "name": "stdout",
     "output_type": "stream",
     "text": [
      "55.99206639560281 -32.18260547953651\n",
      "Finding shifts in image: set 6; image 039\n"
     ]
    },
    {
     "name": "stderr",
     "output_type": "stream",
     "text": [
      "WARNING: The fit may be unsuccessful; check fit_info['message'] for more information. [astropy.modeling.fitting]\n",
      "WARNING: The fit may be unsuccessful; check fit_info['message'] for more information. [astropy.modeling.fitting]\n",
      "WARNING: The fit may be unsuccessful; check fit_info['message'] for more information. [astropy.modeling.fitting]\n",
      "WARNING: The fit may be unsuccessful; check fit_info['message'] for more information. [astropy.modeling.fitting]\n"
     ]
    },
    {
     "name": "stdout",
     "output_type": "stream",
     "text": [
      "53.10841857782729 -32.13328308230295\n",
      "Finding shifts in image: set 6; image 040\n"
     ]
    },
    {
     "name": "stderr",
     "output_type": "stream",
     "text": [
      "WARNING: The fit may be unsuccessful; check fit_info['message'] for more information. [astropy.modeling.fitting]\n",
      "WARNING: The fit may be unsuccessful; check fit_info['message'] for more information. [astropy.modeling.fitting]\n",
      "WARNING: The fit may be unsuccessful; check fit_info['message'] for more information. [astropy.modeling.fitting]\n",
      "WARNING: The fit may be unsuccessful; check fit_info['message'] for more information. [astropy.modeling.fitting]\n"
     ]
    },
    {
     "name": "stdout",
     "output_type": "stream",
     "text": [
      "55.44196956447426 -32.01572022307946\n",
      "Finding shifts in image: set 6; image 041\n"
     ]
    },
    {
     "name": "stderr",
     "output_type": "stream",
     "text": [
      "WARNING: The fit may be unsuccessful; check fit_info['message'] for more information. [astropy.modeling.fitting]\n",
      "WARNING: The fit may be unsuccessful; check fit_info['message'] for more information. [astropy.modeling.fitting]\n",
      "WARNING: The fit may be unsuccessful; check fit_info['message'] for more information. [astropy.modeling.fitting]\n"
     ]
    },
    {
     "name": "stdout",
     "output_type": "stream",
     "text": [
      "52.1670022889546 -32.24088917301559\n",
      "Finding shifts in image: set 6; image 042\n"
     ]
    },
    {
     "name": "stderr",
     "output_type": "stream",
     "text": [
      "WARNING: The fit may be unsuccessful; check fit_info['message'] for more information. [astropy.modeling.fitting]\n",
      "WARNING: The fit may be unsuccessful; check fit_info['message'] for more information. [astropy.modeling.fitting]\n",
      "WARNING: The fit may be unsuccessful; check fit_info['message'] for more information. [astropy.modeling.fitting]\n",
      "WARNING: The fit may be unsuccessful; check fit_info['message'] for more information. [astropy.modeling.fitting]\n",
      "WARNING: The fit may be unsuccessful; check fit_info['message'] for more information. [astropy.modeling.fitting]\n",
      "WARNING: The fit may be unsuccessful; check fit_info['message'] for more information. [astropy.modeling.fitting]\n"
     ]
    },
    {
     "name": "stdout",
     "output_type": "stream",
     "text": [
      "54.77857082750679 -32.17481665150446\n",
      "Finding shifts in image: set 6; image 043\n"
     ]
    },
    {
     "name": "stderr",
     "output_type": "stream",
     "text": [
      "WARNING: The fit may be unsuccessful; check fit_info['message'] for more information. [astropy.modeling.fitting]\n",
      "WARNING: The fit may be unsuccessful; check fit_info['message'] for more information. [astropy.modeling.fitting]\n"
     ]
    },
    {
     "name": "stdout",
     "output_type": "stream",
     "text": [
      "55.35391990845676 -32.074633271634774\n",
      "Finding shifts in image: set 6; image 044\n"
     ]
    },
    {
     "name": "stderr",
     "output_type": "stream",
     "text": [
      "WARNING: The fit may be unsuccessful; check fit_info['message'] for more information. [astropy.modeling.fitting]\n",
      "WARNING: The fit may be unsuccessful; check fit_info['message'] for more information. [astropy.modeling.fitting]\n",
      "WARNING: The fit may be unsuccessful; check fit_info['message'] for more information. [astropy.modeling.fitting]\n"
     ]
    },
    {
     "name": "stdout",
     "output_type": "stream",
     "text": [
      "54.92222275001993 -31.94859582561512\n",
      "Finding shifts in image: set 6; image 045\n"
     ]
    },
    {
     "name": "stderr",
     "output_type": "stream",
     "text": [
      "WARNING: The fit may be unsuccessful; check fit_info['message'] for more information. [astropy.modeling.fitting]\n",
      "WARNING: The fit may be unsuccessful; check fit_info['message'] for more information. [astropy.modeling.fitting]\n"
     ]
    },
    {
     "name": "stdout",
     "output_type": "stream",
     "text": [
      "53.62811182590223 -31.95346366620959\n",
      "Finding shifts in image: set 6; image 046\n"
     ]
    },
    {
     "name": "stderr",
     "output_type": "stream",
     "text": [
      "WARNING: The fit may be unsuccessful; check fit_info['message'] for more information. [astropy.modeling.fitting]\n",
      "WARNING: The fit may be unsuccessful; check fit_info['message'] for more information. [astropy.modeling.fitting]\n",
      "WARNING: The fit may be unsuccessful; check fit_info['message'] for more information. [astropy.modeling.fitting]\n",
      "WARNING: The fit may be unsuccessful; check fit_info['message'] for more information. [astropy.modeling.fitting]\n"
     ]
    },
    {
     "name": "stdout",
     "output_type": "stream",
     "text": [
      "56.666731279362764 -31.894322407121063\n",
      "Finding shifts in image: set 6; image 047\n"
     ]
    },
    {
     "name": "stderr",
     "output_type": "stream",
     "text": [
      "WARNING: The fit may be unsuccessful; check fit_info['message'] for more information. [astropy.modeling.fitting]\n",
      "WARNING: The fit may be unsuccessful; check fit_info['message'] for more information. [astropy.modeling.fitting]\n"
     ]
    },
    {
     "name": "stdout",
     "output_type": "stream",
     "text": [
      "55.00794735062485 -32.06588290530619\n",
      "Finding shifts in image: set 6; image 048\n"
     ]
    },
    {
     "name": "stderr",
     "output_type": "stream",
     "text": [
      "WARNING: The fit may be unsuccessful; check fit_info['message'] for more information. [astropy.modeling.fitting]\n",
      "WARNING: The fit may be unsuccessful; check fit_info['message'] for more information. [astropy.modeling.fitting]\n",
      "WARNING: The fit may be unsuccessful; check fit_info['message'] for more information. [astropy.modeling.fitting]\n",
      "WARNING: The fit may be unsuccessful; check fit_info['message'] for more information. [astropy.modeling.fitting]\n",
      "WARNING: The fit may be unsuccessful; check fit_info['message'] for more information. [astropy.modeling.fitting]\n"
     ]
    },
    {
     "name": "stdout",
     "output_type": "stream",
     "text": [
      "56.8574609397684 -32.06966440694645\n",
      "Finding shifts in image: set 6; image 049\n"
     ]
    },
    {
     "name": "stderr",
     "output_type": "stream",
     "text": [
      "WARNING: The fit may be unsuccessful; check fit_info['message'] for more information. [astropy.modeling.fitting]\n",
      "WARNING: The fit may be unsuccessful; check fit_info['message'] for more information. [astropy.modeling.fitting]\n"
     ]
    },
    {
     "name": "stdout",
     "output_type": "stream",
     "text": [
      "54.45245241165045 -31.577857680754118\n",
      "Finding shifts in image: set 6; image 050\n"
     ]
    },
    {
     "name": "stderr",
     "output_type": "stream",
     "text": [
      "WARNING: The fit may be unsuccessful; check fit_info['message'] for more information. [astropy.modeling.fitting]\n",
      "WARNING: The fit may be unsuccessful; check fit_info['message'] for more information. [astropy.modeling.fitting]\n",
      "WARNING: The fit may be unsuccessful; check fit_info['message'] for more information. [astropy.modeling.fitting]\n",
      "WARNING: The fit may be unsuccessful; check fit_info['message'] for more information. [astropy.modeling.fitting]\n"
     ]
    },
    {
     "name": "stdout",
     "output_type": "stream",
     "text": [
      "55.77112934519777 -31.652143329660603\n",
      "Finding shifts in image: set 7; image 001\n"
     ]
    },
    {
     "name": "stderr",
     "output_type": "stream",
     "text": [
      "WARNING: The fit may be unsuccessful; check fit_info['message'] for more information. [astropy.modeling.fitting]\n",
      "WARNING: The fit may be unsuccessful; check fit_info['message'] for more information. [astropy.modeling.fitting]\n"
     ]
    },
    {
     "name": "stdout",
     "output_type": "stream",
     "text": [
      "57.47169315414676 -31.416147907516525\n",
      "Finding shifts in image: set 7; image 002\n"
     ]
    },
    {
     "name": "stderr",
     "output_type": "stream",
     "text": [
      "WARNING: The fit may be unsuccessful; check fit_info['message'] for more information. [astropy.modeling.fitting]\n",
      "WARNING: The fit may be unsuccessful; check fit_info['message'] for more information. [astropy.modeling.fitting]\n",
      "WARNING: The fit may be unsuccessful; check fit_info['message'] for more information. [astropy.modeling.fitting]\n"
     ]
    },
    {
     "name": "stdout",
     "output_type": "stream",
     "text": [
      "57.44255781084221 -31.55350211864936\n",
      "Finding shifts in image: set 7; image 003\n"
     ]
    },
    {
     "name": "stderr",
     "output_type": "stream",
     "text": [
      "WARNING: The fit may be unsuccessful; check fit_info['message'] for more information. [astropy.modeling.fitting]\n",
      "WARNING: The fit may be unsuccessful; check fit_info['message'] for more information. [astropy.modeling.fitting]\n"
     ]
    },
    {
     "name": "stdout",
     "output_type": "stream",
     "text": [
      "54.36247131994474 -31.611750850282775\n",
      "Finding shifts in image: set 7; image 004\n"
     ]
    },
    {
     "name": "stderr",
     "output_type": "stream",
     "text": [
      "WARNING: The fit may be unsuccessful; check fit_info['message'] for more information. [astropy.modeling.fitting]\n",
      "WARNING: The fit may be unsuccessful; check fit_info['message'] for more information. [astropy.modeling.fitting]\n",
      "WARNING: The fit may be unsuccessful; check fit_info['message'] for more information. [astropy.modeling.fitting]\n",
      "WARNING: The fit may be unsuccessful; check fit_info['message'] for more information. [astropy.modeling.fitting]\n",
      "WARNING: The fit may be unsuccessful; check fit_info['message'] for more information. [astropy.modeling.fitting]\n",
      "WARNING: The fit may be unsuccessful; check fit_info['message'] for more information. [astropy.modeling.fitting]\n",
      "WARNING: The fit may be unsuccessful; check fit_info['message'] for more information. [astropy.modeling.fitting]\n"
     ]
    },
    {
     "name": "stdout",
     "output_type": "stream",
     "text": [
      "56.92898157154593 -31.80844344412036\n",
      "Finding shifts in image: set 7; image 005\n"
     ]
    },
    {
     "name": "stderr",
     "output_type": "stream",
     "text": [
      "WARNING: The fit may be unsuccessful; check fit_info['message'] for more information. [astropy.modeling.fitting]\n",
      "WARNING: The fit may be unsuccessful; check fit_info['message'] for more information. [astropy.modeling.fitting]\n",
      "WARNING: The fit may be unsuccessful; check fit_info['message'] for more information. [astropy.modeling.fitting]\n",
      "WARNING: The fit may be unsuccessful; check fit_info['message'] for more information. [astropy.modeling.fitting]\n"
     ]
    },
    {
     "name": "stdout",
     "output_type": "stream",
     "text": [
      "58.963335138362574 -32.01518114757606\n",
      "Finding shifts in image: set 7; image 006\n"
     ]
    },
    {
     "name": "stderr",
     "output_type": "stream",
     "text": [
      "WARNING: The fit may be unsuccessful; check fit_info['message'] for more information. [astropy.modeling.fitting]\n",
      "WARNING: The fit may be unsuccessful; check fit_info['message'] for more information. [astropy.modeling.fitting]\n"
     ]
    },
    {
     "name": "stdout",
     "output_type": "stream",
     "text": [
      "56.48073223952378 -31.39754210671171\n",
      "Finding shifts in image: set 7; image 007\n"
     ]
    },
    {
     "name": "stderr",
     "output_type": "stream",
     "text": [
      "WARNING: The fit may be unsuccessful; check fit_info['message'] for more information. [astropy.modeling.fitting]\n"
     ]
    },
    {
     "name": "stdout",
     "output_type": "stream",
     "text": [
      "58.39049490930504 -31.341672023478676\n",
      "Finding shifts in image: set 7; image 008\n"
     ]
    },
    {
     "name": "stderr",
     "output_type": "stream",
     "text": [
      "WARNING: The fit may be unsuccessful; check fit_info['message'] for more information. [astropy.modeling.fitting]\n",
      "WARNING: The fit may be unsuccessful; check fit_info['message'] for more information. [astropy.modeling.fitting]\n",
      "WARNING: The fit may be unsuccessful; check fit_info['message'] for more information. [astropy.modeling.fitting]\n",
      "WARNING: The fit may be unsuccessful; check fit_info['message'] for more information. [astropy.modeling.fitting]\n"
     ]
    },
    {
     "name": "stdout",
     "output_type": "stream",
     "text": [
      "56.904529623237735 -31.54233743618382\n",
      "Finding shifts in image: set 7; image 009\n"
     ]
    },
    {
     "name": "stderr",
     "output_type": "stream",
     "text": [
      "WARNING: The fit may be unsuccessful; check fit_info['message'] for more information. [astropy.modeling.fitting]\n",
      "WARNING: The fit may be unsuccessful; check fit_info['message'] for more information. [astropy.modeling.fitting]\n"
     ]
    },
    {
     "name": "stdout",
     "output_type": "stream",
     "text": [
      "59.21821803884001 -31.73650287902861\n",
      "Finding shifts in image: set 7; image 010\n"
     ]
    },
    {
     "name": "stderr",
     "output_type": "stream",
     "text": [
      "WARNING: The fit may be unsuccessful; check fit_info['message'] for more information. [astropy.modeling.fitting]\n",
      "WARNING: The fit may be unsuccessful; check fit_info['message'] for more information. [astropy.modeling.fitting]\n"
     ]
    },
    {
     "name": "stdout",
     "output_type": "stream",
     "text": [
      "57.76029854380613 -31.254075899154643\n",
      "Finding shifts in image: set 7; image 011\n"
     ]
    },
    {
     "name": "stderr",
     "output_type": "stream",
     "text": [
      "WARNING: The fit may be unsuccessful; check fit_info['message'] for more information. [astropy.modeling.fitting]\n",
      "WARNING: The fit may be unsuccessful; check fit_info['message'] for more information. [astropy.modeling.fitting]\n",
      "WARNING: The fit may be unsuccessful; check fit_info['message'] for more information. [astropy.modeling.fitting]\n",
      "WARNING: The fit may be unsuccessful; check fit_info['message'] for more information. [astropy.modeling.fitting]\n"
     ]
    },
    {
     "name": "stdout",
     "output_type": "stream",
     "text": [
      "58.734669490135936 -31.422315143660107\n",
      "Finding shifts in image: set 7; image 012\n"
     ]
    },
    {
     "name": "stderr",
     "output_type": "stream",
     "text": [
      "WARNING: The fit may be unsuccessful; check fit_info['message'] for more information. [astropy.modeling.fitting]\n",
      "WARNING: The fit may be unsuccessful; check fit_info['message'] for more information. [astropy.modeling.fitting]\n"
     ]
    },
    {
     "name": "stdout",
     "output_type": "stream",
     "text": [
      "56.3895381690264 -31.060357137980574\n",
      "Finding shifts in image: set 7; image 013\n"
     ]
    },
    {
     "name": "stderr",
     "output_type": "stream",
     "text": [
      "WARNING: The fit may be unsuccessful; check fit_info['message'] for more information. [astropy.modeling.fitting]\n",
      "WARNING: The fit may be unsuccessful; check fit_info['message'] for more information. [astropy.modeling.fitting]\n",
      "WARNING: The fit may be unsuccessful; check fit_info['message'] for more information. [astropy.modeling.fitting]\n",
      "WARNING: The fit may be unsuccessful; check fit_info['message'] for more information. [astropy.modeling.fitting]\n",
      "WARNING: The fit may be unsuccessful; check fit_info['message'] for more information. [astropy.modeling.fitting]\n"
     ]
    },
    {
     "name": "stdout",
     "output_type": "stream",
     "text": [
      "59.318678185017646 -31.72706100662755\n",
      "Finding shifts in image: set 7; image 014\n"
     ]
    },
    {
     "name": "stderr",
     "output_type": "stream",
     "text": [
      "WARNING: The fit may be unsuccessful; check fit_info['message'] for more information. [astropy.modeling.fitting]\n",
      "WARNING: The fit may be unsuccessful; check fit_info['message'] for more information. [astropy.modeling.fitting]\n"
     ]
    },
    {
     "name": "stdout",
     "output_type": "stream",
     "text": [
      "59.04947078836667 -31.294079838051648\n",
      "Finding shifts in image: set 7; image 015\n"
     ]
    },
    {
     "name": "stderr",
     "output_type": "stream",
     "text": [
      "WARNING: The fit may be unsuccessful; check fit_info['message'] for more information. [astropy.modeling.fitting]\n",
      "WARNING: The fit may be unsuccessful; check fit_info['message'] for more information. [astropy.modeling.fitting]\n",
      "WARNING: The fit may be unsuccessful; check fit_info['message'] for more information. [astropy.modeling.fitting]\n",
      "WARNING: The fit may be unsuccessful; check fit_info['message'] for more information. [astropy.modeling.fitting]\n"
     ]
    },
    {
     "name": "stdout",
     "output_type": "stream",
     "text": [
      "61.01127406734048 -31.331588488343176\n",
      "Finding shifts in image: set 7; image 016\n"
     ]
    },
    {
     "name": "stderr",
     "output_type": "stream",
     "text": [
      "WARNING: The fit may be unsuccessful; check fit_info['message'] for more information. [astropy.modeling.fitting]\n",
      "WARNING: The fit may be unsuccessful; check fit_info['message'] for more information. [astropy.modeling.fitting]\n",
      "WARNING: The fit may be unsuccessful; check fit_info['message'] for more information. [astropy.modeling.fitting]\n"
     ]
    },
    {
     "name": "stdout",
     "output_type": "stream",
     "text": [
      "57.086348207508856 -31.315591118067953\n",
      "Finding shifts in image: set 7; image 017\n"
     ]
    },
    {
     "name": "stderr",
     "output_type": "stream",
     "text": [
      "WARNING: The fit may be unsuccessful; check fit_info['message'] for more information. [astropy.modeling.fitting]\n",
      "WARNING: The fit may be unsuccessful; check fit_info['message'] for more information. [astropy.modeling.fitting]\n",
      "WARNING: The fit may be unsuccessful; check fit_info['message'] for more information. [astropy.modeling.fitting]\n",
      "WARNING: The fit may be unsuccessful; check fit_info['message'] for more information. [astropy.modeling.fitting]\n",
      "WARNING: The fit may be unsuccessful; check fit_info['message'] for more information. [astropy.modeling.fitting]\n",
      "WARNING: The fit may be unsuccessful; check fit_info['message'] for more information. [astropy.modeling.fitting]\n"
     ]
    },
    {
     "name": "stdout",
     "output_type": "stream",
     "text": [
      "59.773026971375245 -31.1617229134165\n",
      "Finding shifts in image: set 7; image 018\n"
     ]
    },
    {
     "name": "stderr",
     "output_type": "stream",
     "text": [
      "WARNING: The fit may be unsuccessful; check fit_info['message'] for more information. [astropy.modeling.fitting]\n",
      "WARNING: The fit may be unsuccessful; check fit_info['message'] for more information. [astropy.modeling.fitting]\n",
      "WARNING: The fit may be unsuccessful; check fit_info['message'] for more information. [astropy.modeling.fitting]\n"
     ]
    },
    {
     "name": "stdout",
     "output_type": "stream",
     "text": [
      "61.01275443726534 -30.94755362008087\n",
      "Finding shifts in image: set 7; image 019\n"
     ]
    },
    {
     "name": "stderr",
     "output_type": "stream",
     "text": [
      "WARNING: The fit may be unsuccessful; check fit_info['message'] for more information. [astropy.modeling.fitting]\n",
      "WARNING: The fit may be unsuccessful; check fit_info['message'] for more information. [astropy.modeling.fitting]\n",
      "WARNING: The fit may be unsuccessful; check fit_info['message'] for more information. [astropy.modeling.fitting]\n",
      "WARNING: The fit may be unsuccessful; check fit_info['message'] for more information. [astropy.modeling.fitting]\n"
     ]
    },
    {
     "name": "stdout",
     "output_type": "stream",
     "text": [
      "60.12232950099872 -31.51647782243002\n",
      "Finding shifts in image: set 7; image 020\n"
     ]
    },
    {
     "name": "stderr",
     "output_type": "stream",
     "text": [
      "WARNING: The fit may be unsuccessful; check fit_info['message'] for more information. [astropy.modeling.fitting]\n",
      "WARNING: The fit may be unsuccessful; check fit_info['message'] for more information. [astropy.modeling.fitting]\n",
      "WARNING: The fit may be unsuccessful; check fit_info['message'] for more information. [astropy.modeling.fitting]\n",
      "WARNING: The fit may be unsuccessful; check fit_info['message'] for more information. [astropy.modeling.fitting]\n"
     ]
    },
    {
     "name": "stdout",
     "output_type": "stream",
     "text": [
      "59.66899152219914 -30.303903219131126\n",
      "Finding shifts in image: set 7; image 021\n"
     ]
    },
    {
     "name": "stderr",
     "output_type": "stream",
     "text": [
      "WARNING: The fit may be unsuccessful; check fit_info['message'] for more information. [astropy.modeling.fitting]\n",
      "WARNING: The fit may be unsuccessful; check fit_info['message'] for more information. [astropy.modeling.fitting]\n"
     ]
    },
    {
     "name": "stdout",
     "output_type": "stream",
     "text": [
      "60.68625170494738 -31.199192013956285\n",
      "Finding shifts in image: set 7; image 022\n"
     ]
    },
    {
     "name": "stderr",
     "output_type": "stream",
     "text": [
      "WARNING: The fit may be unsuccessful; check fit_info['message'] for more information. [astropy.modeling.fitting]\n",
      "WARNING: The fit may be unsuccessful; check fit_info['message'] for more information. [astropy.modeling.fitting]\n",
      "WARNING: The fit may be unsuccessful; check fit_info['message'] for more information. [astropy.modeling.fitting]\n",
      "WARNING: The fit may be unsuccessful; check fit_info['message'] for more information. [astropy.modeling.fitting]\n",
      "WARNING: The fit may be unsuccessful; check fit_info['message'] for more information. [astropy.modeling.fitting]\n"
     ]
    },
    {
     "name": "stdout",
     "output_type": "stream",
     "text": [
      "61.345280247207896 -30.55200567443797\n",
      "Finding shifts in image: set 7; image 023\n"
     ]
    },
    {
     "name": "stderr",
     "output_type": "stream",
     "text": [
      "WARNING: The fit may be unsuccessful; check fit_info['message'] for more information. [astropy.modeling.fitting]\n",
      "WARNING: The fit may be unsuccessful; check fit_info['message'] for more information. [astropy.modeling.fitting]\n"
     ]
    },
    {
     "name": "stdout",
     "output_type": "stream",
     "text": [
      "61.88316163958547 -31.461748795111582\n",
      "Finding shifts in image: set 7; image 024\n"
     ]
    },
    {
     "name": "stderr",
     "output_type": "stream",
     "text": [
      "WARNING: The fit may be unsuccessful; check fit_info['message'] for more information. [astropy.modeling.fitting]\n",
      "WARNING: The fit may be unsuccessful; check fit_info['message'] for more information. [astropy.modeling.fitting]\n"
     ]
    },
    {
     "name": "stdout",
     "output_type": "stream",
     "text": [
      "59.62935897761683 -30.083982358925113\n",
      "Finding shifts in image: set 7; image 025\n"
     ]
    },
    {
     "name": "stderr",
     "output_type": "stream",
     "text": [
      "WARNING: The fit may be unsuccessful; check fit_info['message'] for more information. [astropy.modeling.fitting]\n",
      "WARNING: The fit may be unsuccessful; check fit_info['message'] for more information. [astropy.modeling.fitting]\n",
      "WARNING: The fit may be unsuccessful; check fit_info['message'] for more information. [astropy.modeling.fitting]\n",
      "WARNING: The fit may be unsuccessful; check fit_info['message'] for more information. [astropy.modeling.fitting]\n",
      "WARNING: The fit may be unsuccessful; check fit_info['message'] for more information. [astropy.modeling.fitting]\n"
     ]
    },
    {
     "name": "stdout",
     "output_type": "stream",
     "text": [
      "60.24208889403171 -31.298953194526987\n",
      "Finding shifts in image: set 7; image 026\n"
     ]
    },
    {
     "name": "stderr",
     "output_type": "stream",
     "text": [
      "WARNING: The fit may be unsuccessful; check fit_info['message'] for more information. [astropy.modeling.fitting]\n",
      "WARNING: The fit may be unsuccessful; check fit_info['message'] for more information. [astropy.modeling.fitting]\n"
     ]
    },
    {
     "name": "stdout",
     "output_type": "stream",
     "text": [
      "62.88149935418127 -29.83175058251348\n",
      "Finding shifts in image: set 7; image 027\n"
     ]
    },
    {
     "name": "stderr",
     "output_type": "stream",
     "text": [
      "WARNING: The fit may be unsuccessful; check fit_info['message'] for more information. [astropy.modeling.fitting]\n",
      "WARNING: The fit may be unsuccessful; check fit_info['message'] for more information. [astropy.modeling.fitting]\n"
     ]
    },
    {
     "name": "stdout",
     "output_type": "stream",
     "text": [
      "60.663103284389386 -31.16530617408475\n",
      "Finding shifts in image: set 7; image 028\n"
     ]
    },
    {
     "name": "stderr",
     "output_type": "stream",
     "text": [
      "WARNING: The fit may be unsuccessful; check fit_info['message'] for more information. [astropy.modeling.fitting]\n",
      "WARNING: The fit may be unsuccessful; check fit_info['message'] for more information. [astropy.modeling.fitting]\n"
     ]
    },
    {
     "name": "stdout",
     "output_type": "stream",
     "text": [
      "63.71303653690539 -30.127962944608523\n",
      "Finding shifts in image: set 7; image 029\n"
     ]
    },
    {
     "name": "stderr",
     "output_type": "stream",
     "text": [
      "WARNING: The fit may be unsuccessful; check fit_info['message'] for more information. [astropy.modeling.fitting]\n",
      "WARNING: The fit may be unsuccessful; check fit_info['message'] for more information. [astropy.modeling.fitting]\n",
      "WARNING: The fit may be unsuccessful; check fit_info['message'] for more information. [astropy.modeling.fitting]\n",
      "WARNING: The fit may be unsuccessful; check fit_info['message'] for more information. [astropy.modeling.fitting]\n",
      "WARNING: The fit may be unsuccessful; check fit_info['message'] for more information. [astropy.modeling.fitting]\n"
     ]
    },
    {
     "name": "stdout",
     "output_type": "stream",
     "text": [
      "59.25179128399956 -30.82825509266793\n",
      "Finding shifts in image: set 7; image 030\n"
     ]
    },
    {
     "name": "stderr",
     "output_type": "stream",
     "text": [
      "WARNING: The fit may be unsuccessful; check fit_info['message'] for more information. [astropy.modeling.fitting]\n",
      "WARNING: The fit may be unsuccessful; check fit_info['message'] for more information. [astropy.modeling.fitting]\n",
      "WARNING: The fit may be unsuccessful; check fit_info['message'] for more information. [astropy.modeling.fitting]\n",
      "WARNING: The fit may be unsuccessful; check fit_info['message'] for more information. [astropy.modeling.fitting]\n"
     ]
    },
    {
     "name": "stdout",
     "output_type": "stream",
     "text": [
      "62.67277528099921 -30.872197106052358\n",
      "Finding shifts in image: set 7; image 031\n"
     ]
    },
    {
     "name": "stderr",
     "output_type": "stream",
     "text": [
      "WARNING: The fit may be unsuccessful; check fit_info['message'] for more information. [astropy.modeling.fitting]\n"
     ]
    },
    {
     "name": "stdout",
     "output_type": "stream",
     "text": [
      "63.101951457817165 -30.356058970687382\n",
      "Finding shifts in image: set 7; image 032\n"
     ]
    },
    {
     "name": "stderr",
     "output_type": "stream",
     "text": [
      "WARNING: The fit may be unsuccessful; check fit_info['message'] for more information. [astropy.modeling.fitting]\n"
     ]
    },
    {
     "name": "stdout",
     "output_type": "stream",
     "text": [
      "62.0205329638748 -30.07191858373134\n",
      "Finding shifts in image: set 7; image 033\n"
     ]
    },
    {
     "name": "stderr",
     "output_type": "stream",
     "text": [
      "WARNING: The fit may be unsuccessful; check fit_info['message'] for more information. [astropy.modeling.fitting]\n",
      "WARNING: The fit may be unsuccessful; check fit_info['message'] for more information. [astropy.modeling.fitting]\n",
      "WARNING: The fit may be unsuccessful; check fit_info['message'] for more information. [astropy.modeling.fitting]\n"
     ]
    },
    {
     "name": "stdout",
     "output_type": "stream",
     "text": [
      "61.2842028634305 -30.92222045771999\n",
      "Finding shifts in image: set 7; image 034\n"
     ]
    },
    {
     "name": "stderr",
     "output_type": "stream",
     "text": [
      "WARNING: The fit may be unsuccessful; check fit_info['message'] for more information. [astropy.modeling.fitting]\n",
      "WARNING: The fit may be unsuccessful; check fit_info['message'] for more information. [astropy.modeling.fitting]\n",
      "WARNING: The fit may be unsuccessful; check fit_info['message'] for more information. [astropy.modeling.fitting]\n"
     ]
    },
    {
     "name": "stdout",
     "output_type": "stream",
     "text": [
      "65.01776866352085 -29.70498393135378\n",
      "Finding shifts in image: set 7; image 035\n"
     ]
    },
    {
     "name": "stderr",
     "output_type": "stream",
     "text": [
      "WARNING: The fit may be unsuccessful; check fit_info['message'] for more information. [astropy.modeling.fitting]\n",
      "WARNING: The fit may be unsuccessful; check fit_info['message'] for more information. [astropy.modeling.fitting]\n"
     ]
    },
    {
     "name": "stdout",
     "output_type": "stream",
     "text": [
      "61.96043685165313 -30.80287684704056\n",
      "Finding shifts in image: set 7; image 036\n"
     ]
    },
    {
     "name": "stderr",
     "output_type": "stream",
     "text": [
      "WARNING: The fit may be unsuccessful; check fit_info['message'] for more information. [astropy.modeling.fitting]\n",
      "WARNING: The fit may be unsuccessful; check fit_info['message'] for more information. [astropy.modeling.fitting]\n"
     ]
    },
    {
     "name": "stdout",
     "output_type": "stream",
     "text": [
      "64.95495936860468 -29.847315738809044\n",
      "Finding shifts in image: set 7; image 037\n"
     ]
    },
    {
     "name": "stderr",
     "output_type": "stream",
     "text": [
      "WARNING: The fit may be unsuccessful; check fit_info['message'] for more information. [astropy.modeling.fitting]\n",
      "WARNING: The fit may be unsuccessful; check fit_info['message'] for more information. [astropy.modeling.fitting]\n"
     ]
    },
    {
     "name": "stdout",
     "output_type": "stream",
     "text": [
      "61.61590722848005 -30.024582433806195\n",
      "Finding shifts in image: set 7; image 038\n"
     ]
    },
    {
     "name": "stderr",
     "output_type": "stream",
     "text": [
      "WARNING: The fit may be unsuccessful; check fit_info['message'] for more information. [astropy.modeling.fitting]\n",
      "WARNING: The fit may be unsuccessful; check fit_info['message'] for more information. [astropy.modeling.fitting]\n",
      "WARNING: The fit may be unsuccessful; check fit_info['message'] for more information. [astropy.modeling.fitting]\n"
     ]
    },
    {
     "name": "stdout",
     "output_type": "stream",
     "text": [
      "64.03088607898195 -29.910221933027383\n",
      "Finding shifts in image: set 7; image 039\n"
     ]
    },
    {
     "name": "stderr",
     "output_type": "stream",
     "text": [
      "WARNING: The fit may be unsuccessful; check fit_info['message'] for more information. [astropy.modeling.fitting]\n",
      "WARNING: The fit may be unsuccessful; check fit_info['message'] for more information. [astropy.modeling.fitting]\n"
     ]
    },
    {
     "name": "stdout",
     "output_type": "stream",
     "text": [
      "64.117810876229 -30.014252487790777\n",
      "Finding shifts in image: set 7; image 040\n"
     ]
    },
    {
     "name": "stderr",
     "output_type": "stream",
     "text": [
      "WARNING: The fit may be unsuccessful; check fit_info['message'] for more information. [astropy.modeling.fitting]\n"
     ]
    },
    {
     "name": "stdout",
     "output_type": "stream",
     "text": [
      "64.8762407577654 -30.239756087470592\n",
      "Finding shifts in image: set 7; image 041\n"
     ]
    },
    {
     "name": "stderr",
     "output_type": "stream",
     "text": [
      "WARNING: The fit may be unsuccessful; check fit_info['message'] for more information. [astropy.modeling.fitting]\n",
      "WARNING: The fit may be unsuccessful; check fit_info['message'] for more information. [astropy.modeling.fitting]\n"
     ]
    },
    {
     "name": "stdout",
     "output_type": "stream",
     "text": [
      "64.35427318214457 -29.22299000214272\n",
      "Finding shifts in image: set 7; image 042\n"
     ]
    },
    {
     "name": "stderr",
     "output_type": "stream",
     "text": [
      "WARNING: The fit may be unsuccessful; check fit_info['message'] for more information. [astropy.modeling.fitting]\n",
      "WARNING: The fit may be unsuccessful; check fit_info['message'] for more information. [astropy.modeling.fitting]\n"
     ]
    },
    {
     "name": "stdout",
     "output_type": "stream",
     "text": [
      "62.68355980784754 -29.6732538948547\n",
      "Finding shifts in image: set 7; image 043\n"
     ]
    },
    {
     "name": "stderr",
     "output_type": "stream",
     "text": [
      "WARNING: The fit may be unsuccessful; check fit_info['message'] for more information. [astropy.modeling.fitting]\n",
      "WARNING: The fit may be unsuccessful; check fit_info['message'] for more information. [astropy.modeling.fitting]\n",
      "WARNING: The fit may be unsuccessful; check fit_info['message'] for more information. [astropy.modeling.fitting]\n",
      "WARNING: The fit may be unsuccessful; check fit_info['message'] for more information. [astropy.modeling.fitting]\n"
     ]
    },
    {
     "name": "stdout",
     "output_type": "stream",
     "text": [
      "67.32737168731512 -29.95345207434463\n",
      "Finding shifts in image: set 7; image 044\n"
     ]
    },
    {
     "name": "stderr",
     "output_type": "stream",
     "text": [
      "WARNING: The fit may be unsuccessful; check fit_info['message'] for more information. [astropy.modeling.fitting]\n",
      "WARNING: The fit may be unsuccessful; check fit_info['message'] for more information. [astropy.modeling.fitting]\n"
     ]
    },
    {
     "name": "stdout",
     "output_type": "stream",
     "text": [
      "63.56625299501653 -30.00915595468667\n",
      "Finding shifts in image: set 7; image 045\n"
     ]
    },
    {
     "name": "stderr",
     "output_type": "stream",
     "text": [
      "WARNING: The fit may be unsuccessful; check fit_info['message'] for more information. [astropy.modeling.fitting]\n"
     ]
    },
    {
     "name": "stdout",
     "output_type": "stream",
     "text": [
      "66.53212644694511 -29.636997008911266\n",
      "Finding shifts in image: set 7; image 046\n"
     ]
    },
    {
     "name": "stderr",
     "output_type": "stream",
     "text": [
      "WARNING: The fit may be unsuccessful; check fit_info['message'] for more information. [astropy.modeling.fitting]\n",
      "WARNING: The fit may be unsuccessful; check fit_info['message'] for more information. [astropy.modeling.fitting]\n"
     ]
    },
    {
     "name": "stdout",
     "output_type": "stream",
     "text": [
      "62.54757755829071 -30.036863275973992\n",
      "Finding shifts in image: set 7; image 047\n"
     ]
    },
    {
     "name": "stderr",
     "output_type": "stream",
     "text": [
      "WARNING: The fit may be unsuccessful; check fit_info['message'] for more information. [astropy.modeling.fitting]\n",
      "WARNING: The fit may be unsuccessful; check fit_info['message'] for more information. [astropy.modeling.fitting]\n",
      "WARNING: The fit may be unsuccessful; check fit_info['message'] for more information. [astropy.modeling.fitting]\n",
      "WARNING: The fit may be unsuccessful; check fit_info['message'] for more information. [astropy.modeling.fitting]\n",
      "WARNING: The fit may be unsuccessful; check fit_info['message'] for more information. [astropy.modeling.fitting]\n",
      "WARNING: The fit may be unsuccessful; check fit_info['message'] for more information. [astropy.modeling.fitting]\n"
     ]
    },
    {
     "name": "stdout",
     "output_type": "stream",
     "text": [
      "65.26593024178524 -29.850737536736737\n",
      "Finding shifts in image: set 7; image 048\n"
     ]
    },
    {
     "name": "stderr",
     "output_type": "stream",
     "text": [
      "WARNING: The fit may be unsuccessful; check fit_info['message'] for more information. [astropy.modeling.fitting]\n"
     ]
    },
    {
     "name": "stdout",
     "output_type": "stream",
     "text": [
      "67.74028191692496 -29.15334395894548\n",
      "Finding shifts in image: set 7; image 049\n"
     ]
    },
    {
     "name": "stderr",
     "output_type": "stream",
     "text": [
      "WARNING: The fit may be unsuccessful; check fit_info['message'] for more information. [astropy.modeling.fitting]\n",
      "WARNING: The fit may be unsuccessful; check fit_info['message'] for more information. [astropy.modeling.fitting]\n"
     ]
    },
    {
     "name": "stdout",
     "output_type": "stream",
     "text": [
      "63.72981667857189 -29.430460724663458\n",
      "Finding shifts in image: set 7; image 050\n"
     ]
    },
    {
     "name": "stderr",
     "output_type": "stream",
     "text": [
      "WARNING: The fit may be unsuccessful; check fit_info['message'] for more information. [astropy.modeling.fitting]\n",
      "WARNING: The fit may be unsuccessful; check fit_info['message'] for more information. [astropy.modeling.fitting]\n",
      "WARNING: The fit may be unsuccessful; check fit_info['message'] for more information. [astropy.modeling.fitting]\n"
     ]
    },
    {
     "name": "stdout",
     "output_type": "stream",
     "text": [
      "65.32827022203801 -28.73941531278992\n",
      "Finished finding shifts at 18:22:40\n"
     ]
    },
    {
     "name": "stderr",
     "output_type": "stream",
     "text": [
      "WARNING: The fit may be unsuccessful; check fit_info['message'] for more information. [astropy.modeling.fitting]\n"
     ]
    }
   ],
   "source": [
    "sf = ShiftFinder.ShiftFinder(Constants.workspace_dir, Constants.image_prefix,\n",
    "                             Constants.has_sets, Constants.set_size, Constants.n_sets)\n",
    "sf.get_all_shifts()\n",
    "Utilities.print_job(\"finding shifts\")"
   ]
  },
  {
   "cell_type": "code",
   "execution_count": 10,
   "metadata": {
    "scrolled": true
   },
   "outputs": [
    {
     "name": "stdout",
     "output_type": "stream",
     "text": [
      "Set 1; image 001\n",
      "Set 1; image 002\n",
      "Set 1; image 003\n",
      "Set 1; image 004\n",
      "Set 1; image 005\n",
      "Set 1; image 006\n",
      "Set 1; image 007\n",
      "Set 1; image 008\n",
      "Set 1; image 009\n",
      "Set 1; image 010\n",
      "Set 1; image 011\n",
      "Set 1; image 012\n",
      "Set 1; image 013\n",
      "Set 1; image 014\n",
      "Set 1; image 015\n",
      "Set 1; image 016\n",
      "Set 1; image 017\n",
      "Set 1; image 018\n",
      "Set 1; image 019\n",
      "Set 1; image 020\n",
      "Set 1; image 021\n",
      "Set 1; image 022\n",
      "Set 1; image 023\n",
      "Set 1; image 024\n",
      "Set 1; image 025\n",
      "Set 1; image 026\n",
      "Set 1; image 027\n",
      "Set 1; image 028\n",
      "Set 1; image 029\n",
      "Set 1; image 030\n",
      "Set 1; image 031\n",
      "Set 1; image 032\n",
      "Set 1; image 033\n",
      "Set 1; image 034\n",
      "Set 1; image 035\n",
      "Set 1; image 036\n",
      "Set 1; image 037\n",
      "Set 1; image 038\n",
      "Set 1; image 039\n",
      "Set 1; image 040\n",
      "Set 1; image 041\n",
      "Set 1; image 042\n",
      "Set 1; image 043\n",
      "Set 1; image 044\n",
      "Set 1; image 045\n",
      "Set 1; image 046\n",
      "Set 1; image 047\n",
      "Set 1; image 048\n",
      "Set 1; image 049\n",
      "Set 1; image 050\n",
      "Set 2; image 001\n",
      "Set 2; image 002\n",
      "Set 2; image 003\n",
      "Set 2; image 004\n",
      "Set 2; image 005\n",
      "Set 2; image 006\n",
      "Set 2; image 007\n",
      "Set 2; image 008\n",
      "Set 2; image 009\n",
      "Set 2; image 010\n",
      "Set 2; image 011\n",
      "Set 2; image 012\n",
      "Set 2; image 013\n",
      "Set 2; image 014\n",
      "Set 2; image 015\n",
      "Set 2; image 016\n",
      "Set 2; image 017\n",
      "Set 2; image 018\n",
      "Set 2; image 019\n",
      "Set 2; image 020\n",
      "Set 2; image 021\n",
      "Set 2; image 022\n",
      "Set 2; image 023\n",
      "Set 2; image 024\n",
      "Set 2; image 025\n",
      "Set 2; image 026\n",
      "Set 2; image 027\n",
      "Set 2; image 028\n",
      "Set 2; image 029\n",
      "Set 2; image 030\n",
      "Set 2; image 031\n",
      "Set 2; image 032\n",
      "Set 2; image 033\n",
      "Set 2; image 034\n",
      "Set 2; image 035\n",
      "Set 2; image 036\n",
      "Set 2; image 037\n",
      "Set 2; image 038\n",
      "Set 2; image 039\n",
      "Set 2; image 040\n",
      "Set 2; image 041\n",
      "Set 2; image 042\n",
      "Set 2; image 043\n",
      "Set 2; image 044\n",
      "Set 2; image 045\n",
      "Set 2; image 046\n",
      "Set 2; image 047\n",
      "Set 2; image 048\n",
      "Set 2; image 049\n",
      "Set 2; image 050\n",
      "Set 3; image 001\n",
      "Set 3; image 002\n",
      "Set 3; image 003\n",
      "Set 3; image 004\n",
      "Set 3; image 005\n",
      "Set 3; image 006\n",
      "Set 3; image 007\n",
      "Set 3; image 008\n",
      "Set 3; image 009\n",
      "Set 3; image 010\n",
      "Set 3; image 011\n",
      "Set 3; image 012\n",
      "Set 3; image 013\n",
      "Set 3; image 014\n",
      "Set 3; image 015\n",
      "Set 3; image 016\n",
      "Set 3; image 017\n",
      "Set 3; image 018\n",
      "Set 3; image 019\n",
      "Set 3; image 020\n",
      "Set 3; image 021\n",
      "Set 3; image 022\n",
      "Set 3; image 023\n",
      "Set 3; image 024\n",
      "Set 3; image 025\n",
      "Set 3; image 026\n",
      "Set 3; image 027\n",
      "Set 3; image 028\n",
      "Set 3; image 029\n",
      "Set 3; image 030\n",
      "Set 3; image 031\n",
      "Set 3; image 032\n",
      "Set 3; image 033\n",
      "Set 3; image 034\n",
      "Set 3; image 035\n",
      "Set 3; image 036\n",
      "Set 3; image 037\n",
      "Set 3; image 038\n",
      "Set 3; image 039\n",
      "Set 3; image 040\n",
      "Set 3; image 041\n",
      "Set 3; image 042\n",
      "Set 3; image 043\n",
      "Set 3; image 044\n",
      "Set 3; image 045\n",
      "Set 3; image 046\n",
      "Set 3; image 047\n",
      "Set 3; image 048\n",
      "Set 3; image 049\n",
      "Set 3; image 050\n",
      "Set 4; image 001\n",
      "Set 4; image 002\n",
      "Set 4; image 003\n",
      "Set 4; image 004\n",
      "Set 4; image 005\n",
      "Set 4; image 006\n",
      "Set 4; image 007\n",
      "Set 4; image 008\n",
      "Set 4; image 009\n",
      "Set 4; image 010\n",
      "Set 4; image 011\n",
      "Set 4; image 012\n",
      "Set 4; image 013\n",
      "Set 4; image 014\n",
      "Set 4; image 015\n",
      "Set 4; image 016\n",
      "Set 4; image 017\n",
      "Set 4; image 018\n",
      "Set 4; image 019\n",
      "Set 4; image 020\n",
      "Set 4; image 021\n",
      "Set 4; image 022\n",
      "Set 4; image 023\n",
      "Set 4; image 024\n",
      "Set 4; image 025\n",
      "Set 4; image 026\n",
      "Set 4; image 027\n",
      "Set 4; image 028\n",
      "Set 4; image 029\n",
      "Set 4; image 030\n",
      "Set 4; image 031\n",
      "Set 4; image 032\n",
      "Set 4; image 033\n",
      "Set 4; image 034\n",
      "Set 4; image 035\n",
      "Set 4; image 036\n",
      "Set 4; image 037\n",
      "Set 4; image 038\n",
      "Set 4; image 039\n",
      "Set 4; image 040\n",
      "Set 4; image 041\n",
      "Set 4; image 042\n",
      "Set 4; image 043\n",
      "Set 4; image 044\n",
      "Set 4; image 045\n",
      "Set 4; image 046\n",
      "Set 4; image 047\n",
      "Set 4; image 048\n",
      "Set 4; image 049\n",
      "Set 4; image 050\n",
      "Set 5; image 001\n",
      "Set 5; image 002\n",
      "Set 5; image 003\n",
      "Set 5; image 004\n",
      "Set 5; image 005\n",
      "Set 5; image 006\n",
      "Set 5; image 007\n",
      "Set 5; image 008\n",
      "Set 5; image 009\n",
      "Set 5; image 010\n",
      "Set 5; image 011\n",
      "Set 5; image 012\n",
      "Set 5; image 013\n",
      "Set 5; image 014\n",
      "Set 5; image 015\n",
      "Set 5; image 016\n",
      "Set 5; image 017\n",
      "Set 5; image 018\n",
      "Set 5; image 019\n",
      "Set 5; image 020\n",
      "Set 5; image 021\n",
      "Set 5; image 022\n",
      "Set 5; image 023\n",
      "Set 5; image 024\n",
      "Set 5; image 025\n",
      "Set 5; image 026\n",
      "Set 5; image 027\n",
      "Set 5; image 028\n",
      "Set 5; image 029\n",
      "Set 5; image 030\n",
      "Set 5; image 031\n",
      "Set 5; image 032\n",
      "Set 5; image 033\n",
      "Set 5; image 034\n",
      "Set 5; image 035\n",
      "Set 5; image 036\n",
      "Set 5; image 037\n",
      "Set 5; image 038\n",
      "Set 5; image 039\n",
      "Set 5; image 040\n",
      "Set 5; image 041\n",
      "Set 5; image 042\n",
      "Set 5; image 043\n",
      "Set 5; image 044\n",
      "Set 5; image 045\n",
      "Set 5; image 046\n",
      "Set 5; image 047\n",
      "Set 5; image 048\n",
      "Set 5; image 049\n",
      "Set 5; image 050\n",
      "Set 6; image 001\n",
      "Set 6; image 002\n",
      "Set 6; image 003\n",
      "Set 6; image 004\n",
      "Set 6; image 005\n",
      "Set 6; image 006\n",
      "Set 6; image 007\n",
      "Set 6; image 008\n",
      "Set 6; image 009\n",
      "Set 6; image 010\n",
      "Set 6; image 011\n",
      "Set 6; image 012\n",
      "Set 6; image 013\n",
      "Set 6; image 014\n",
      "Set 6; image 015\n",
      "Set 6; image 016\n",
      "Set 6; image 017\n",
      "Set 6; image 018\n",
      "Set 6; image 019\n",
      "Set 6; image 020\n",
      "Set 6; image 021\n",
      "Set 6; image 022\n",
      "Set 6; image 023\n",
      "Set 6; image 024\n",
      "Set 6; image 025\n",
      "Set 6; image 026\n",
      "Set 6; image 027\n",
      "Set 6; image 028\n",
      "Set 6; image 029\n",
      "Set 6; image 030\n",
      "Set 6; image 031\n",
      "Set 6; image 032\n",
      "Set 6; image 033\n",
      "Set 6; image 034\n",
      "Set 6; image 035\n",
      "Set 6; image 036\n",
      "Set 6; image 037\n",
      "Set 6; image 038\n",
      "Set 6; image 039\n",
      "Set 6; image 040\n",
      "Set 6; image 041\n",
      "Set 6; image 042\n",
      "Set 6; image 043\n",
      "Set 6; image 044\n",
      "Set 6; image 045\n",
      "Set 6; image 046\n",
      "Set 6; image 047\n",
      "Set 6; image 048\n",
      "Set 6; image 049\n",
      "Set 6; image 050\n",
      "Set 7; image 001\n",
      "Set 7; image 002\n",
      "Set 7; image 003\n",
      "Set 7; image 004\n",
      "Set 7; image 005\n",
      "Set 7; image 006\n",
      "Set 7; image 007\n",
      "Set 7; image 008\n",
      "Set 7; image 009\n",
      "Set 7; image 010\n",
      "Set 7; image 011\n",
      "Set 7; image 012\n",
      "Set 7; image 013\n",
      "Set 7; image 014\n",
      "Set 7; image 015\n",
      "Set 7; image 016\n",
      "Set 7; image 017\n",
      "Set 7; image 018\n",
      "Set 7; image 019\n",
      "Set 7; image 020\n",
      "Set 7; image 021\n",
      "Set 7; image 022\n",
      "Set 7; image 023\n",
      "Set 7; image 024\n",
      "Set 7; image 025\n",
      "Set 7; image 026\n",
      "Set 7; image 027\n",
      "Set 7; image 028\n",
      "Set 7; image 029\n",
      "Set 7; image 030\n",
      "Set 7; image 031\n",
      "Set 7; image 032\n",
      "Set 7; image 033\n",
      "Set 7; image 034\n",
      "Set 7; image 035\n",
      "Set 7; image 036\n",
      "Set 7; image 037\n",
      "Set 7; image 038\n",
      "Set 7; image 039\n",
      "Set 7; image 040\n",
      "Set 7; image 041\n",
      "Set 7; image 042\n",
      "Set 7; image 043\n",
      "Set 7; image 044\n",
      "Set 7; image 045\n",
      "Set 7; image 046\n",
      "Set 7; image 047\n",
      "Set 7; image 048\n",
      "Set 7; image 049\n",
      "Set 7; image 050\n",
      "Finding fluxes in image: set 1; image: 001\n",
      "Finding fluxes in image: set 1; image: 002\n",
      "Finding fluxes in image: set 1; image: 003\n",
      "Finding fluxes in image: set 1; image: 004\n",
      "Finding fluxes in image: set 1; image: 005\n",
      "Finding fluxes in image: set 1; image: 006\n",
      "Finding fluxes in image: set 1; image: 007\n",
      "Finding fluxes in image: set 1; image: 008\n",
      "Finding fluxes in image: set 1; image: 009\n",
      "Finding fluxes in image: set 1; image: 010\n",
      "Finding fluxes in image: set 1; image: 011\n",
      "Finding fluxes in image: set 1; image: 012\n",
      "Finding fluxes in image: set 1; image: 013\n",
      "Finding fluxes in image: set 1; image: 014\n",
      "Finding fluxes in image: set 1; image: 015\n",
      "Finding fluxes in image: set 1; image: 016\n",
      "Finding fluxes in image: set 1; image: 017\n",
      "Finding fluxes in image: set 1; image: 018\n",
      "Finding fluxes in image: set 1; image: 019\n",
      "Finding fluxes in image: set 1; image: 020\n",
      "Finding fluxes in image: set 1; image: 021\n",
      "Finding fluxes in image: set 1; image: 022\n",
      "Finding fluxes in image: set 1; image: 023\n",
      "Finding fluxes in image: set 1; image: 024\n",
      "Finding fluxes in image: set 1; image: 025\n",
      "Finding fluxes in image: set 1; image: 026\n",
      "Finding fluxes in image: set 1; image: 027\n",
      "Finding fluxes in image: set 1; image: 028\n",
      "Finding fluxes in image: set 1; image: 029\n",
      "Finding fluxes in image: set 1; image: 030\n",
      "Finding fluxes in image: set 1; image: 031\n",
      "Finding fluxes in image: set 1; image: 032\n",
      "Finding fluxes in image: set 1; image: 033\n",
      "Finding fluxes in image: set 1; image: 034\n",
      "Finding fluxes in image: set 1; image: 035\n",
      "Finding fluxes in image: set 1; image: 036\n",
      "Finding fluxes in image: set 1; image: 037\n",
      "Finding fluxes in image: set 1; image: 038\n",
      "Finding fluxes in image: set 1; image: 039\n",
      "Finding fluxes in image: set 1; image: 040\n",
      "Finding fluxes in image: set 1; image: 041\n",
      "Finding fluxes in image: set 1; image: 042\n",
      "Finding fluxes in image: set 1; image: 043\n",
      "Finding fluxes in image: set 1; image: 044\n",
      "Finding fluxes in image: set 1; image: 045\n",
      "Finding fluxes in image: set 1; image: 046\n",
      "Finding fluxes in image: set 1; image: 047\n",
      "Finding fluxes in image: set 1; image: 048\n",
      "Finding fluxes in image: set 1; image: 049\n",
      "Finding fluxes in image: set 1; image: 050\n",
      "Finding fluxes in image: set 2; image: 001\n",
      "Finding fluxes in image: set 2; image: 002\n",
      "Finding fluxes in image: set 2; image: 003\n"
     ]
    },
    {
     "name": "stdout",
     "output_type": "stream",
     "text": [
      "Finding fluxes in image: set 2; image: 004\n",
      "Finding fluxes in image: set 2; image: 005\n",
      "Finding fluxes in image: set 2; image: 006\n",
      "Finding fluxes in image: set 2; image: 007\n",
      "Finding fluxes in image: set 2; image: 008\n",
      "Finding fluxes in image: set 2; image: 009\n",
      "Finding fluxes in image: set 2; image: 010\n",
      "Finding fluxes in image: set 2; image: 011\n",
      "Finding fluxes in image: set 2; image: 012\n",
      "Finding fluxes in image: set 2; image: 013\n",
      "Finding fluxes in image: set 2; image: 014\n",
      "Finding fluxes in image: set 2; image: 015\n",
      "Finding fluxes in image: set 2; image: 016\n",
      "Finding fluxes in image: set 2; image: 017\n",
      "Finding fluxes in image: set 2; image: 018\n",
      "Finding fluxes in image: set 2; image: 019\n",
      "Finding fluxes in image: set 2; image: 020\n",
      "Finding fluxes in image: set 2; image: 021\n",
      "Finding fluxes in image: set 2; image: 022\n",
      "Finding fluxes in image: set 2; image: 023\n",
      "Finding fluxes in image: set 2; image: 024\n",
      "Finding fluxes in image: set 2; image: 025\n",
      "Finding fluxes in image: set 2; image: 026\n",
      "Finding fluxes in image: set 2; image: 027\n",
      "Finding fluxes in image: set 2; image: 028\n",
      "Finding fluxes in image: set 2; image: 029\n",
      "Finding fluxes in image: set 2; image: 030\n",
      "Finding fluxes in image: set 2; image: 031\n",
      "Finding fluxes in image: set 2; image: 032\n",
      "Finding fluxes in image: set 2; image: 033\n",
      "Finding fluxes in image: set 2; image: 034\n",
      "Finding fluxes in image: set 2; image: 035\n",
      "Finding fluxes in image: set 2; image: 036\n",
      "Finding fluxes in image: set 2; image: 037\n",
      "Finding fluxes in image: set 2; image: 038\n",
      "Finding fluxes in image: set 2; image: 039\n",
      "Finding fluxes in image: set 2; image: 040\n",
      "Finding fluxes in image: set 2; image: 041\n",
      "Finding fluxes in image: set 2; image: 042\n",
      "Finding fluxes in image: set 2; image: 043\n",
      "Finding fluxes in image: set 2; image: 044\n",
      "Finding fluxes in image: set 2; image: 045\n",
      "Finding fluxes in image: set 2; image: 046\n",
      "Finding fluxes in image: set 2; image: 047\n",
      "Finding fluxes in image: set 2; image: 048\n",
      "Finding fluxes in image: set 2; image: 049\n",
      "Finding fluxes in image: set 2; image: 050\n",
      "Finding fluxes in image: set 3; image: 001\n",
      "Finding fluxes in image: set 3; image: 002\n",
      "Finding fluxes in image: set 3; image: 003\n",
      "Finding fluxes in image: set 3; image: 004\n",
      "Finding fluxes in image: set 3; image: 005\n",
      "Finding fluxes in image: set 3; image: 006\n",
      "Finding fluxes in image: set 3; image: 007\n",
      "Finding fluxes in image: set 3; image: 008\n",
      "Finding fluxes in image: set 3; image: 009\n",
      "Finding fluxes in image: set 3; image: 010\n",
      "Finding fluxes in image: set 3; image: 011\n",
      "Finding fluxes in image: set 3; image: 012\n",
      "Finding fluxes in image: set 3; image: 013\n",
      "Finding fluxes in image: set 3; image: 014\n",
      "Finding fluxes in image: set 3; image: 015\n",
      "Finding fluxes in image: set 3; image: 016\n",
      "Finding fluxes in image: set 3; image: 017\n",
      "Finding fluxes in image: set 3; image: 018\n",
      "Finding fluxes in image: set 3; image: 019\n",
      "Finding fluxes in image: set 3; image: 020\n",
      "Finding fluxes in image: set 3; image: 021\n",
      "Finding fluxes in image: set 3; image: 022\n",
      "Finding fluxes in image: set 3; image: 023\n",
      "Finding fluxes in image: set 3; image: 024\n",
      "Finding fluxes in image: set 3; image: 025\n",
      "Finding fluxes in image: set 3; image: 026\n",
      "Finding fluxes in image: set 3; image: 027\n",
      "Finding fluxes in image: set 3; image: 028\n",
      "Finding fluxes in image: set 3; image: 029\n",
      "Finding fluxes in image: set 3; image: 030\n",
      "Finding fluxes in image: set 3; image: 031\n",
      "Finding fluxes in image: set 3; image: 032\n",
      "Finding fluxes in image: set 3; image: 033\n",
      "Finding fluxes in image: set 3; image: 034\n",
      "Finding fluxes in image: set 3; image: 035\n",
      "Finding fluxes in image: set 3; image: 036\n",
      "Finding fluxes in image: set 3; image: 037\n",
      "Finding fluxes in image: set 3; image: 038\n",
      "Finding fluxes in image: set 3; image: 039\n",
      "Finding fluxes in image: set 3; image: 040\n",
      "Finding fluxes in image: set 3; image: 041\n",
      "Finding fluxes in image: set 3; image: 042\n",
      "Finding fluxes in image: set 3; image: 043\n",
      "Finding fluxes in image: set 3; image: 044\n",
      "Finding fluxes in image: set 3; image: 045\n",
      "Finding fluxes in image: set 3; image: 046\n",
      "Finding fluxes in image: set 3; image: 047\n",
      "Finding fluxes in image: set 3; image: 048\n",
      "Finding fluxes in image: set 3; image: 049\n",
      "Finding fluxes in image: set 3; image: 050\n",
      "Finding fluxes in image: set 4; image: 001\n",
      "Finding fluxes in image: set 4; image: 002\n",
      "Finding fluxes in image: set 4; image: 003\n",
      "Finding fluxes in image: set 4; image: 004\n",
      "Finding fluxes in image: set 4; image: 005\n",
      "Finding fluxes in image: set 4; image: 006\n",
      "Finding fluxes in image: set 4; image: 007\n",
      "Finding fluxes in image: set 4; image: 008\n",
      "Finding fluxes in image: set 4; image: 009\n",
      "Finding fluxes in image: set 4; image: 010\n",
      "Finding fluxes in image: set 4; image: 011\n",
      "Finding fluxes in image: set 4; image: 012\n",
      "Finding fluxes in image: set 4; image: 013\n",
      "Finding fluxes in image: set 4; image: 014\n",
      "Finding fluxes in image: set 4; image: 015\n",
      "Finding fluxes in image: set 4; image: 016\n",
      "Finding fluxes in image: set 4; image: 017\n",
      "Finding fluxes in image: set 4; image: 018\n",
      "Finding fluxes in image: set 4; image: 019\n",
      "Finding fluxes in image: set 4; image: 020\n",
      "Finding fluxes in image: set 4; image: 021\n",
      "Finding fluxes in image: set 4; image: 022\n",
      "Finding fluxes in image: set 4; image: 023\n",
      "Finding fluxes in image: set 4; image: 024\n",
      "Finding fluxes in image: set 4; image: 025\n",
      "Finding fluxes in image: set 4; image: 026\n",
      "Finding fluxes in image: set 4; image: 027\n",
      "Finding fluxes in image: set 4; image: 028\n",
      "Finding fluxes in image: set 4; image: 029\n",
      "Finding fluxes in image: set 4; image: 030\n",
      "Finding fluxes in image: set 4; image: 031\n",
      "Finding fluxes in image: set 4; image: 032\n",
      "Finding fluxes in image: set 4; image: 033\n",
      "Finding fluxes in image: set 4; image: 034\n",
      "Finding fluxes in image: set 4; image: 035\n",
      "Finding fluxes in image: set 4; image: 036\n",
      "Finding fluxes in image: set 4; image: 037\n",
      "Finding fluxes in image: set 4; image: 038\n",
      "Finding fluxes in image: set 4; image: 039\n",
      "Finding fluxes in image: set 4; image: 040\n",
      "Finding fluxes in image: set 4; image: 041\n",
      "Finding fluxes in image: set 4; image: 042\n",
      "Finding fluxes in image: set 4; image: 043\n",
      "Finding fluxes in image: set 4; image: 044\n",
      "Finding fluxes in image: set 4; image: 045\n",
      "Finding fluxes in image: set 4; image: 046\n",
      "Finding fluxes in image: set 4; image: 047\n",
      "Finding fluxes in image: set 4; image: 048\n",
      "Finding fluxes in image: set 4; image: 049\n",
      "Finding fluxes in image: set 4; image: 050\n",
      "Finding fluxes in image: set 5; image: 001\n",
      "Finding fluxes in image: set 5; image: 002\n",
      "Finding fluxes in image: set 5; image: 003\n",
      "Finding fluxes in image: set 5; image: 004\n",
      "Finding fluxes in image: set 5; image: 005\n",
      "Finding fluxes in image: set 5; image: 006\n",
      "Finding fluxes in image: set 5; image: 007\n",
      "Finding fluxes in image: set 5; image: 008\n",
      "Finding fluxes in image: set 5; image: 009\n",
      "Finding fluxes in image: set 5; image: 010\n",
      "Finding fluxes in image: set 5; image: 011\n",
      "Finding fluxes in image: set 5; image: 012\n",
      "Finding fluxes in image: set 5; image: 013\n",
      "Finding fluxes in image: set 5; image: 014\n",
      "Finding fluxes in image: set 5; image: 015\n",
      "Finding fluxes in image: set 5; image: 016\n",
      "Finding fluxes in image: set 5; image: 017\n",
      "Finding fluxes in image: set 5; image: 018\n",
      "Finding fluxes in image: set 5; image: 019\n",
      "Finding fluxes in image: set 5; image: 020\n",
      "Finding fluxes in image: set 5; image: 021\n",
      "Finding fluxes in image: set 5; image: 022\n",
      "Finding fluxes in image: set 5; image: 023\n",
      "Finding fluxes in image: set 5; image: 024\n",
      "Finding fluxes in image: set 5; image: 025\n",
      "Finding fluxes in image: set 5; image: 026\n",
      "Finding fluxes in image: set 5; image: 027\n",
      "Finding fluxes in image: set 5; image: 028\n",
      "Finding fluxes in image: set 5; image: 029\n",
      "Finding fluxes in image: set 5; image: 030\n",
      "Finding fluxes in image: set 5; image: 031\n",
      "Finding fluxes in image: set 5; image: 032\n",
      "Finding fluxes in image: set 5; image: 033\n",
      "Finding fluxes in image: set 5; image: 034\n",
      "Finding fluxes in image: set 5; image: 035\n",
      "Finding fluxes in image: set 5; image: 036\n",
      "Finding fluxes in image: set 5; image: 037\n",
      "Finding fluxes in image: set 5; image: 038\n",
      "Finding fluxes in image: set 5; image: 039\n",
      "Finding fluxes in image: set 5; image: 040\n",
      "Finding fluxes in image: set 5; image: 041\n",
      "Finding fluxes in image: set 5; image: 042\n",
      "Finding fluxes in image: set 5; image: 043\n",
      "Finding fluxes in image: set 5; image: 044\n"
     ]
    },
    {
     "name": "stdout",
     "output_type": "stream",
     "text": [
      "Finding fluxes in image: set 5; image: 045\n",
      "Finding fluxes in image: set 5; image: 046\n",
      "Finding fluxes in image: set 5; image: 047\n",
      "Finding fluxes in image: set 5; image: 048\n",
      "Finding fluxes in image: set 5; image: 049\n",
      "Finding fluxes in image: set 5; image: 050\n",
      "Finding fluxes in image: set 6; image: 001\n",
      "Finding fluxes in image: set 6; image: 002\n",
      "Finding fluxes in image: set 6; image: 003\n",
      "Finding fluxes in image: set 6; image: 004\n",
      "Finding fluxes in image: set 6; image: 005\n",
      "Finding fluxes in image: set 6; image: 006\n",
      "Finding fluxes in image: set 6; image: 007\n",
      "Finding fluxes in image: set 6; image: 008\n",
      "Finding fluxes in image: set 6; image: 009\n",
      "Finding fluxes in image: set 6; image: 010\n",
      "Finding fluxes in image: set 6; image: 011\n",
      "Finding fluxes in image: set 6; image: 012\n",
      "Finding fluxes in image: set 6; image: 013\n",
      "Finding fluxes in image: set 6; image: 014\n",
      "Finding fluxes in image: set 6; image: 015\n",
      "Finding fluxes in image: set 6; image: 016\n",
      "Finding fluxes in image: set 6; image: 017\n",
      "Finding fluxes in image: set 6; image: 018\n",
      "Finding fluxes in image: set 6; image: 019\n",
      "Finding fluxes in image: set 6; image: 020\n",
      "Finding fluxes in image: set 6; image: 021\n",
      "Finding fluxes in image: set 6; image: 022\n",
      "Finding fluxes in image: set 6; image: 023\n",
      "Finding fluxes in image: set 6; image: 024\n",
      "Finding fluxes in image: set 6; image: 025\n",
      "Finding fluxes in image: set 6; image: 026\n",
      "Finding fluxes in image: set 6; image: 027\n",
      "Finding fluxes in image: set 6; image: 028\n",
      "Finding fluxes in image: set 6; image: 029\n",
      "Finding fluxes in image: set 6; image: 030\n",
      "Finding fluxes in image: set 6; image: 031\n",
      "Finding fluxes in image: set 6; image: 032\n",
      "Finding fluxes in image: set 6; image: 033\n",
      "Finding fluxes in image: set 6; image: 034\n",
      "Finding fluxes in image: set 6; image: 035\n",
      "Finding fluxes in image: set 6; image: 036\n",
      "Finding fluxes in image: set 6; image: 037\n",
      "Finding fluxes in image: set 6; image: 038\n",
      "Finding fluxes in image: set 6; image: 039\n",
      "Finding fluxes in image: set 6; image: 040\n",
      "Finding fluxes in image: set 6; image: 041\n",
      "Finding fluxes in image: set 6; image: 042\n",
      "Finding fluxes in image: set 6; image: 043\n",
      "Finding fluxes in image: set 6; image: 044\n",
      "Finding fluxes in image: set 6; image: 045\n",
      "Finding fluxes in image: set 6; image: 046\n",
      "Finding fluxes in image: set 6; image: 047\n",
      "Finding fluxes in image: set 6; image: 048\n",
      "Finding fluxes in image: set 6; image: 049\n",
      "Finding fluxes in image: set 6; image: 050\n",
      "Finding fluxes in image: set 7; image: 001\n",
      "Finding fluxes in image: set 7; image: 002\n",
      "Finding fluxes in image: set 7; image: 003\n",
      "Finding fluxes in image: set 7; image: 004\n",
      "Finding fluxes in image: set 7; image: 005\n",
      "Finding fluxes in image: set 7; image: 006\n",
      "Finding fluxes in image: set 7; image: 007\n",
      "Finding fluxes in image: set 7; image: 008\n",
      "Finding fluxes in image: set 7; image: 009\n",
      "Finding fluxes in image: set 7; image: 010\n",
      "Finding fluxes in image: set 7; image: 011\n",
      "Finding fluxes in image: set 7; image: 012\n",
      "Finding fluxes in image: set 7; image: 013\n",
      "Finding fluxes in image: set 7; image: 014\n",
      "Finding fluxes in image: set 7; image: 015\n",
      "Finding fluxes in image: set 7; image: 016\n",
      "Finding fluxes in image: set 7; image: 017\n",
      "Finding fluxes in image: set 7; image: 018\n",
      "Finding fluxes in image: set 7; image: 019\n",
      "Finding fluxes in image: set 7; image: 020\n",
      "Finding fluxes in image: set 7; image: 021\n",
      "Finding fluxes in image: set 7; image: 022\n",
      "Finding fluxes in image: set 7; image: 023\n",
      "Finding fluxes in image: set 7; image: 024\n",
      "Finding fluxes in image: set 7; image: 025\n",
      "Finding fluxes in image: set 7; image: 026\n",
      "Finding fluxes in image: set 7; image: 027\n",
      "Finding fluxes in image: set 7; image: 028\n",
      "Finding fluxes in image: set 7; image: 029\n",
      "Finding fluxes in image: set 7; image: 030\n",
      "Finding fluxes in image: set 7; image: 031\n",
      "Finding fluxes in image: set 7; image: 032\n",
      "Finding fluxes in image: set 7; image: 033\n",
      "Finding fluxes in image: set 7; image: 034\n",
      "Finding fluxes in image: set 7; image: 035\n",
      "Finding fluxes in image: set 7; image: 036\n",
      "Finding fluxes in image: set 7; image: 037\n",
      "Finding fluxes in image: set 7; image: 038\n",
      "Finding fluxes in image: set 7; image: 039\n",
      "Finding fluxes in image: set 7; image: 040\n",
      "Finding fluxes in image: set 7; image: 041\n",
      "Finding fluxes in image: set 7; image: 042\n",
      "Finding fluxes in image: set 7; image: 043\n",
      "Finding fluxes in image: set 7; image: 044\n",
      "Finding fluxes in image: set 7; image: 045\n",
      "Finding fluxes in image: set 7; image: 046\n",
      "Finding fluxes in image: set 7; image: 047\n",
      "Finding fluxes in image: set 7; image: 048\n",
      "Finding fluxes in image: set 7; image: 049\n",
      "Finding fluxes in image: set 7; image: 050\n",
      "Finished making light curves at 18:31:46\n"
     ]
    }
   ],
   "source": [
    "ff = FluxFinder.FluxFinder(Constants.workspace_dir, Constants.image_prefix,\n",
    "                           True, set_size=Constants.set_size, n_sets=Constants.n_sets)\n",
    "ff.find_all_fluxes()\n",
    "ff.make_light_curves()\n",
    "Utilities.print_job(\"making light curves\")"
   ]
  },
  {
   "cell_type": "code",
   "execution_count": 11,
   "metadata": {
    "scrolled": true
   },
   "outputs": [
    {
     "name": "stdout",
     "output_type": "stream",
     "text": [
      "Finished adjusting light curves at 18:34:03\n"
     ]
    }
   ],
   "source": [
    "r = None\n",
    "c = None\n",
    "sf = None\n",
    "\n",
    "da = DataAnalyser.DataAnalyser(Constants.workspace_dir, Constants.image_prefix,\n",
    "                               True, Constants.set_size, Constants.n_sets)\n",
    "\n",
    "da.get_means_and_stds(False)\n",
    "da.get_variables(False)\n",
    "#da.output_results() #this should not be here - make it just create results folder with separate method\n",
    "da.plot_means_and_stds(\"_adjusted\")\n",
    "ids = da.get_ids_for_avg()\n",
    "\n",
    "ff.make_avg_curve(ids)\n",
    "ff.divide_by_average()\n",
    "avg_fname = \"{}_avg{}\".format(Constants.image_prefix, Constants.standard_file_extension)\n",
    "ff.plot_light_curve(None, os.path.join(Constants.workspace_dir, avg_fname), True)\n",
    "Utilities.print_job(\"adjusting light curves\")"
   ]
  },
  {
   "cell_type": "code",
   "execution_count": 12,
   "metadata": {},
   "outputs": [
    {
     "name": "stdout",
     "output_type": "stream",
     "text": [
      "cosmic detected at approx 10675s in id:\n",
      "0534\n",
      "cosmic detected at approx 11970s in id:\n",
      "1158\n",
      "cosmic detected at approx 11130s in id:\n",
      "0314\n",
      "cosmic detected at approx 10675s in id:\n",
      "0581\n",
      "cosmic detected at approx 11970s in id:\n",
      "0360\n",
      "cosmic detected at approx 12005s in id:\n",
      "0091\n",
      "cosmic detected at approx 12215s in id:\n",
      "0507\n",
      "cosmic detected at approx 12215s in id:\n",
      "0233\n",
      "cosmic detected at approx 11900s in id:\n",
      "0277\n",
      "cosmic detected at approx 10080s in id:\n",
      "1018\n",
      "cosmic detected at approx 11760s in id:\n",
      "0849\n",
      "cosmic detected at approx 10570s in id:\n",
      "0892\n",
      "cosmic detected at approx 11375s in id:\n",
      "0609\n",
      "cosmic detected at approx 12215s in id:\n",
      "0939\n",
      "cosmic detected at approx 10675s in id:\n",
      "0988\n",
      "cosmic detected at approx 12005s in id:\n",
      "0274\n",
      "cosmic detected at approx 12040s in id:\n",
      "0721\n",
      "cosmic detected at approx 11025s in id:\n",
      "0661\n",
      "cosmic detected at approx 11515s in id:\n",
      "0903\n",
      "cosmic detected at approx 11410s in id:\n",
      "0399\n",
      "cosmic detected at approx 11970s in id:\n",
      "0776\n",
      "cosmic detected at approx 11025s in id:\n",
      "0117\n",
      "cosmic detected at approx 11970s in id:\n",
      "0478\n",
      "cosmic detected at approx 12180s in id:\n",
      "0311\n",
      "cosmic detected at approx 12215s in id:\n",
      "0648\n",
      "cosmic detected at approx 11305s in id:\n",
      "0623\n",
      "cosmic detected at approx 9905s in id:\n",
      "0258\n",
      "cosmic detected at approx 10045s in id:\n",
      "0282\n",
      "cosmic detected at approx 10675s in id:\n",
      "0840\n",
      "cosmic detected at approx 12215s in id:\n",
      "0580\n",
      "cosmic detected at approx 12215s in id:\n",
      "0488\n",
      "cosmic detected at approx 11690s in id:\n",
      "0370\n",
      "cosmic detected at approx 12215s in id:\n",
      "0113\n",
      "cosmic detected at approx 12005s in id:\n",
      "1051\n",
      "cosmic detected at approx 11060s in id:\n",
      "0129\n",
      "cosmic detected at approx 12215s in id:\n",
      "0926\n",
      "cosmic detected at approx 11795s in id:\n",
      "0378\n",
      "cosmic detected at approx 11725s in id:\n",
      "0325\n",
      "cosmic detected at approx 12145s in id:\n",
      "0814\n",
      "cosmic detected at approx 1785s in id:\n",
      "0625\n",
      "cosmic detected at approx 11900s in id:\n",
      "0919\n",
      "cosmic detected at approx 10920s in id:\n",
      "0875\n",
      "cosmic detected at approx 12215s in id:\n",
      "0643\n",
      "cosmic detected at approx 12215s in id:\n",
      "1035\n",
      "cosmic detected at approx 12005s in id:\n",
      "0138\n",
      "cosmic detected at approx 11725s in id:\n",
      "0480\n",
      "cosmic detected at approx 11445s in id:\n",
      "0769\n",
      "cosmic detected at approx 11760s in id:\n",
      "0705\n",
      "cosmic detected at approx 11935s in id:\n",
      "0042\n",
      "cosmic detected at approx 11970s in id:\n",
      "0441\n",
      "cosmic detected at approx 10675s in id:\n",
      "0868\n",
      "cosmic detected at approx 12215s in id:\n",
      "0330\n",
      "cosmic detected at approx 11480s in id:\n",
      "0292\n",
      "cosmic detected at approx 11585s in id:\n",
      "0440\n",
      "cosmic detected at approx 11900s in id:\n",
      "0983\n",
      "cosmic detected at approx 10955s in id:\n",
      "0591\n",
      "cosmic detected at approx 12040s in id:\n",
      "0546\n",
      "cosmic detected at approx 12005s in id:\n",
      "0302\n",
      "cosmic detected at approx 10570s in id:\n",
      "0385\n",
      "cosmic detected at approx 12145s in id:\n",
      "0918\n",
      "cosmic detected at approx 11865s in id:\n",
      "0694\n",
      "cosmic detected at approx 12145s in id:\n",
      "0961\n",
      "cosmic detected at approx 12215s in id:\n",
      "0197\n",
      "cosmic detected at approx 11585s in id:\n",
      "0801\n",
      "cosmic detected at approx 11550s in id:\n",
      "0680\n",
      "cosmic detected at approx 12005s in id:\n",
      "1084\n",
      "cosmic detected at approx 12215s in id:\n",
      "0099\n",
      "cosmic detected at approx 12005s in id:\n",
      "0448\n",
      "cosmic detected at approx 11305s in id:\n",
      "0890\n",
      "cosmic detected at approx 11970s in id:\n",
      "0089\n",
      "cosmic detected at approx 11690s in id:\n",
      "0665\n",
      "cosmic detected at approx 10640s in id:\n",
      "0933\n",
      "cosmic detected at approx 11515s in id:\n",
      "0736\n",
      "cosmic detected at approx 11935s in id:\n",
      "0799\n",
      "cosmic detected at approx 11655s in id:\n",
      "0298\n",
      "cosmic detected at approx 12215s in id:\n",
      "0557\n",
      "cosmic detected at approx 11900s in id:\n",
      "0931\n",
      "cosmic detected at approx 11760s in id:\n",
      "0166\n",
      "cosmic detected at approx 10675s in id:\n",
      "0784\n",
      "cosmic detected at approx 11200s in id:\n",
      "1074\n",
      "cosmic detected at approx 10675s in id:\n",
      "0345\n",
      "cosmic detected at approx 11620s in id:\n",
      "0271\n",
      "cosmic detected at approx 10675s in id:\n",
      "0633\n",
      "cosmic detected at approx 12215s in id:\n",
      "0066\n",
      "cosmic detected at approx 11690s in id:\n",
      "0985\n",
      "cosmic detected at approx 12215s in id:\n",
      "0772\n",
      "cosmic detected at approx 10675s in id:\n",
      "0709\n",
      "cosmic detected at approx 10850s in id:\n",
      "0977\n",
      "cosmic detected at approx 11970s in id:\n",
      "0416\n",
      "cosmic detected at approx 11690s in id:\n",
      "0149\n",
      "cosmic detected at approx 4795s in id:\n",
      "0867\n",
      "cosmic detected at approx 12040s in id:\n",
      "0945\n",
      "cosmic detected at approx 11725s in id:\n",
      "1043\n",
      "cosmic detected at approx 11445s in id:\n",
      "0105\n",
      "cosmic detected at approx 11900s in id:\n",
      "0727\n",
      "cosmic detected at approx 210s in id:\n",
      "1078\n",
      "cosmic detected at approx 210s in id:\n",
      "1089\n",
      "cosmic detected at approx 10745s in id:\n",
      "0422\n",
      "cosmic detected at approx 210s in id:\n",
      "0917\n",
      "cosmic detected at approx 11935s in id:\n",
      "1161\n",
      "cosmic detected at approx 10255s in id:\n",
      "0651\n",
      "cosmic detected at approx 11445s in id:\n",
      "0708\n",
      "cosmic detected at approx 12005s in id:\n",
      "0531\n",
      "cosmic detected at approx 10675s in id:\n",
      "0588\n",
      "cosmic detected at approx 11865s in id:\n",
      "0303\n",
      "cosmic detected at approx 11935s in id:\n",
      "1149\n",
      "cosmic detected at approx 12215s in id:\n",
      "0236\n",
      "cosmic detected at approx 12180s in id:\n",
      "0483\n",
      "cosmic detected at approx 11375s in id:\n",
      "0073\n",
      "cosmic detected at approx 12180s in id:\n",
      "0953\n",
      "cosmic detected at approx 11865s in id:\n",
      "0853\n",
      "cosmic detected at approx 12215s in id:\n",
      "0253\n",
      "Floor at 0.017347857888282983\n",
      "Creating thumbnail for id 987.0, centroid 235.51147,1294.2348\n",
      "Creating thumbnail for id 45.0, centroid 588.01547,59.604465\n",
      "Creating thumbnail for id 58.0, centroid 588.50301,70.788782\n",
      "Creating thumbnail for id 502.0, centroid 1575.2812,656.4614\n",
      "Creating thumbnail for id 257.0, centroid 1240.5669,340.82666\n",
      "Creating thumbnail for id 394.0, centroid 268.2486,531.9852\n",
      "Creating thumbnail for id 953.0, centroid 732.21242,1248.2894\n",
      "Creating thumbnail for id 804.0, centroid 1892.5739,1063.9615\n",
      "Creating thumbnail for id 839.0, centroid 2109.052,1102.7345\n",
      "Creating thumbnail for id 324.0, centroid 1908.251,435.29242\n",
      "Creating thumbnail for id 713.0, centroid 1938.3878,940.60228\n",
      "Creating thumbnail for id 1127.0, centroid 2277.3067,1475.5059\n",
      "Creating thumbnail for id 410.0, centroid 1274.2574,547.36338\n",
      "Creating thumbnail for id 346.0, centroid 1585.6693,466.48897\n",
      "Creating thumbnail for id 837.0, centroid 2095.0792,1100.5766\n",
      "Creating thumbnail for id 86.0, centroid 1560.2489,106.4019\n",
      "Creating thumbnail for id 909.0, centroid 2163.3946,1189.8004\n",
      "Creating thumbnail for id 711.0, centroid 2004.8662,938.37593\n",
      "Creating thumbnail for id 879.0, centroid 854.25766,1151.8959\n",
      "Creating thumbnail for id 1113.0, centroid 2000.1741,1456.572\n",
      "Creating thumbnail for id 687.0, centroid 416.76998,904.43659\n",
      "Creating thumbnail for id 986.0, centroid 265.37839,1292.7428\n",
      "Creating thumbnail for id 48.0, centroid 2020.7749,61.630272\n",
      "Creating thumbnail for id 759.0, centroid 939.26573,1007.4564\n",
      "Creating thumbnail for id 478.0, centroid 740.14166,637.80079\n",
      "Creating thumbnail for id 294.0, centroid 788.90793,379.1738\n",
      "Creating thumbnail for id 353.0, centroid 1574.5491,475.32513\n",
      "Creating thumbnail for id 279.0, centroid 777.03209,368.43438\n",
      "Creating thumbnail for id 543.0, centroid 191.02403,716.36925\n",
      "Creating thumbnail for id 825.0, centroid 1593.5365,1086.0407\n",
      "Creating thumbnail for id 682.0, centroid 398.27745,898.76899\n",
      "Creating thumbnail for id 105.0, centroid 869.8009,139.36337\n",
      "Creating thumbnail for id 247.0, centroid 391.00064,330.16912\n",
      "Creating thumbnail for id 730.0, centroid 1661.3193,962.12418\n",
      "Creating thumbnail for id 402.0, centroid 656.91914,537.50355\n",
      "Creating thumbnail for id 320.0, centroid 2145.2484,432.00758\n",
      "Creating thumbnail for id 554.0, centroid 632.96569,730.98234\n",
      "Creating thumbnail for id 344.0, centroid 1727.524,462.83768\n",
      "Creating thumbnail for id 360.0, centroid 1155.7131,492.55112\n",
      "Creating thumbnail for id 834.0, centroid 1885.6546,1099.9027\n",
      "Creating thumbnail for id 800.0, centroid 1767.617,1058.0037\n",
      "Creating thumbnail for id 313.0, centroid 702.35236,411.67362\n",
      "Creating thumbnail for id 70.0, centroid 678.71408,82.328596\n",
      "Creating thumbnail for id 1081.0, centroid 1997.626,1411.4\n",
      "Creating thumbnail for id 1051.0, centroid 1634.3565,1379.4\n",
      "Creating thumbnail for id 318.0, centroid 2250.7113,425.36327\n",
      "Creating thumbnail for id 750.0, centroid 1897.2938,990.90933\n",
      "Creating thumbnail for id 534.0, centroid 209.01424,701.98825\n",
      "Creating thumbnail for id 891.0, centroid 145.46292,1166.5959\n",
      "Creating thumbnail for id 945.0, centroid 1976.6439,1234.8923\n",
      "Creating thumbnail for id 395.0, centroid 650.87064,533.30004\n",
      "Creating thumbnail for id 1066.0, centroid 1086.3515,1401.2298\n",
      "Creating thumbnail for id 823.0, centroid 2146.6597,1084.7549\n",
      "Creating thumbnail for id 54.0, centroid 669.56979,70.414017\n"
     ]
    },
    {
     "name": "stdout",
     "output_type": "stream",
     "text": [
      "Creating thumbnail for id 337.0, centroid 1264.5954,451.86992\n",
      "Creating thumbnail for id 1096.0, centroid 1320.356,1428.2388\n",
      "Creating thumbnail for id 742.0, centroid 1073.2756,972.04705\n",
      "Finished everything at 18:35:11\n"
     ]
    }
   ],
   "source": [
    "da.get_means_and_stds(True)\n",
    "da.get_variables(True)\n",
    "da.plot_means_and_stds(\"_adjusted\")\n",
    "da.output_results()\n",
    "da.create_thumbnails(ff)\n",
    "\n",
    "Utilities.print_job(\"everything\")"
   ]
  },
  {
   "cell_type": "code",
   "execution_count": null,
   "metadata": {},
   "outputs": [],
   "source": []
  }
 ],
 "metadata": {
  "interpreter": {
   "hash": "661cda2bc47445e7c6e25a640ed59596e312375c87e120a1d4c7c6ced0f09253"
  },
  "kernelspec": {
   "display_name": "Python 3 (ipykernel)",
   "language": "python",
   "name": "python3"
  },
  "language_info": {
   "codemirror_mode": {
    "name": "ipython",
    "version": 3
   },
   "file_extension": ".py",
   "mimetype": "text/x-python",
   "name": "python",
   "nbconvert_exporter": "python",
   "pygments_lexer": "ipython3",
   "version": "3.10.2"
  }
 },
 "nbformat": 4,
 "nbformat_minor": 2
}
