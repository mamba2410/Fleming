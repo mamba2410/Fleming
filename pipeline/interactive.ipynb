{
 "cells": [
  {
   "cell_type": "markdown",
   "metadata": {},
   "source": [
    "# Fleming Pipeline - ipython notebook version\n",
    "\n",
    "Note on astrometry.net keys:\n",
    "[Go to the website](http://nova.astrometry.net/api_help) and sign in and follow the instructions.\n",
    "\n",
    "Need to add your own key to `~/.astroquery/config/astroquery.cfg` and `pipeline/astrometry_api_key.txt`"
   ]
  },
  {
   "cell_type": "code",
   "execution_count": null,
   "metadata": {},
   "outputs": [],
   "source": [
    "## Imports\n",
    "import Reducer\n",
    "import ShiftFinder\n",
    "import FluxFinder\n",
    "import DataAnalyser\n",
    "import Constants\n",
    "import Utilities\n",
    "import MovingObjectFinder\n",
    "import StreakFinder\n",
    "import Cataloguer\n",
    "\n",
    "from datetime import datetime\n",
    "import os\n",
    "import importlib\n",
    "\n",
    "#from astroquery import log\n",
    "#log.setLevel(\"TRACE\")\n"
   ]
  },
  {
   "cell_type": "code",
   "execution_count": null,
   "metadata": {},
   "outputs": [],
   "source": [
    "## Reload imports (if files changed, only used for testing)\n",
    "ShiftFinder = importlib.reload(ShiftFinder)\n",
    "FluxFinder = importlib.reload(FluxFinder)\n",
    "DataAnalyser = importlib.reload(DataAnalyser)\n",
    "Utilities = importlib.reload(Utilities)\n",
    "Cataloguer = importlib.reload(Cataloguer)\n",
    "Constants = importlib.reload(Constants)\n"
   ]
  },
  {
   "cell_type": "code",
   "execution_count": null,
   "metadata": {},
   "outputs": [],
   "source": [
    "# REMOVE ME WHEN NOT USING DARK MODE\n",
    "import matplotlib as mpl\n",
    "COLOR = \"white\"\n",
    "#COLOR = \"black\"\n",
    "mpl.rcParams['text.color'] = COLOR\n",
    "mpl.rcParams['axes.labelcolor'] = COLOR\n",
    "mpl.rcParams['xtick.color'] = COLOR\n",
    "mpl.rcParams['ytick.color'] = COLOR"
   ]
  },
  {
   "cell_type": "code",
   "execution_count": null,
   "metadata": {},
   "outputs": [],
   "source": [
    "config = Constants.Config(\n",
    "    image_subdir = \"../images/0121\",\n",
    "    image_prefix = \"l137_0\",\n",
    "    has_sets = True,\n",
    "    set_size = 50,\n",
    "    n_sets = 7\n",
    ")"
   ]
  },
  {
   "cell_type": "code",
   "execution_count": null,
   "metadata": {},
   "outputs": [],
   "source": [
    "#r = Reducer.Reducer(Constants.folder,\"No filter\",Constants.file_name, 9, 50)\n",
    "#r.reduce(True)\n",
    "# # #set_size, n_sets = r.get_set_info()"
   ]
  },
  {
   "cell_type": "code",
   "execution_count": null,
   "metadata": {},
   "outputs": [],
   "source": [
    "c = Cataloguer.Cataloguer(config)\n",
    "catalogue_image = os.path.join(config.image_dir,\n",
    "        config.image_format_str.format(1, 1))\n",
    "#print(catalogue_image)\n",
    "c.catalogue(catalogue_image)\n",
    "Utilities.print_job(\"cataloguing images\")"
   ]
  },
  {
   "cell_type": "code",
   "execution_count": null,
   "metadata": {
    "scrolled": true
   },
   "outputs": [],
   "source": [
    "sf = ShiftFinder.ShiftFinder(config)\n",
    "sf.get_all_shifts()\n",
    "Utilities.print_job(\"finding shifts\")"
   ]
  },
  {
   "cell_type": "code",
   "execution_count": null,
   "metadata": {
    "scrolled": true
   },
   "outputs": [],
   "source": [
    "ff = FluxFinder.FluxFinder(config)\n",
    "ff.find_all_fluxes()\n",
    "ff.make_light_curves()\n",
    "Utilities.print_job(\"making light curves\")"
   ]
  },
  {
   "cell_type": "code",
   "execution_count": null,
   "metadata": {
    "scrolled": true
   },
   "outputs": [],
   "source": [
    "r = None\n",
    "c = None\n",
    "sf = None\n",
    "\n",
    "da = DataAnalyser.DataAnalyser(config)\n",
    "\n",
    "da.get_means_and_stds(False)\n",
    "da.get_variables(False)\n",
    "#da.output_results() #this should not be here - make it just create results folder with separate method\n",
    "da.plot_means_and_stds(\"_adjusted\")\n",
    "ids = da.get_ids_for_avg()\n",
    "\n",
    "ff.make_avg_curve(ids)\n",
    "ff.divide_by_average()\n",
    "avg_fname = \"{}_avg{}\".format(config.image_prefix, config.standard_file_extension)\n",
    "ff.plot_light_curve(None, os.path.join(config.workspace_dir, avg_fname), True)\n",
    "Utilities.print_job(\"adjusting light curves\")"
   ]
  },
  {
   "cell_type": "code",
   "execution_count": null,
   "metadata": {
    "scrolled": true
   },
   "outputs": [],
   "source": [
    "da.get_means_and_stds(True)\n",
    "da.get_variables(True)\n",
    "da.plot_means_and_stds(True)\n",
    "da.output_results()\n",
    "da.create_thumbnails(ff)\n",
    "\n",
    "Utilities.print_job(\"everything\")"
   ]
  },
  {
   "cell_type": "code",
   "execution_count": null,
   "metadata": {},
   "outputs": [],
   "source": []
  }
 ],
 "metadata": {
  "interpreter": {
   "hash": "661cda2bc47445e7c6e25a640ed59596e312375c87e120a1d4c7c6ced0f09253"
  },
  "kernelspec": {
   "display_name": "Python 3 (ipykernel)",
   "language": "python",
   "name": "python3"
  },
  "language_info": {
   "codemirror_mode": {
    "name": "ipython",
    "version": 3
   },
   "file_extension": ".py",
   "mimetype": "text/x-python",
   "name": "python",
   "nbconvert_exporter": "python",
   "pygments_lexer": "ipython3",
   "version": "3.10.2"
  }
 },
 "nbformat": 4,
 "nbformat_minor": 2
}
