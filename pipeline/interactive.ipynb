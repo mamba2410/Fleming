{
 "cells": [
  {
   "cell_type": "markdown",
   "metadata": {},
   "source": [
    "# Fleming Pipeline - ipython notebook version\n",
    "\n",
    "Note on astrometry.net keys:\n",
    "[Go to the website](http://nova.astrometry.net/api_help) and sign in and follow the instructions.\n",
    "\n",
    "Key shouldn't matter if not `force_upload==False`\n",
    "~~Need to add your own key to `~/.astroquery/config/astroquery.cfg` and `pipeline/astrometry_api_key.txt`~~"
   ]
  },
  {
   "cell_type": "code",
   "execution_count": 1,
   "metadata": {},
   "outputs": [],
   "source": [
    "## Imports\n",
    "import Reducer\n",
    "import ShiftFinder\n",
    "import FluxFinder\n",
    "import DataAnalyser\n",
    "import Constants\n",
    "import Utilities\n",
    "import MovingObjectFinder\n",
    "import StreakFinder\n",
    "import Cataloguer\n",
    "\n",
    "from datetime import datetime\n",
    "import os\n",
    "import importlib\n",
    "\n",
    "#from astroquery import log\n",
    "#log.setLevel(\"TRACE\")\n"
   ]
  },
  {
   "cell_type": "code",
   "execution_count": 2,
   "metadata": {},
   "outputs": [],
   "source": [
    "## Reload imports (if files changed, only used for testing)\n",
    "ShiftFinder = importlib.reload(ShiftFinder)\n",
    "FluxFinder = importlib.reload(FluxFinder)\n",
    "DataAnalyser = importlib.reload(DataAnalyser)\n",
    "Utilities = importlib.reload(Utilities)\n",
    "Cataloguer = importlib.reload(Cataloguer)\n",
    "Constants = importlib.reload(Constants)\n"
   ]
  },
  {
   "cell_type": "code",
   "execution_count": 3,
   "metadata": {},
   "outputs": [],
   "source": [
    "# REMOVE ME WHEN NOT USING DARK MODE\n",
    "import matplotlib as mpl\n",
    "COLOR = \"white\"\n",
    "#COLOR = \"black\"\n",
    "mpl.rcParams['text.color'] = COLOR\n",
    "mpl.rcParams['axes.labelcolor'] = COLOR\n",
    "mpl.rcParams['xtick.color'] = COLOR\n",
    "mpl.rcParams['ytick.color'] = COLOR"
   ]
  },
  {
   "cell_type": "code",
   "execution_count": 4,
   "metadata": {},
   "outputs": [],
   "source": [
    "config = Constants.Config(\n",
    "    image_subdir = \"../images/0121\",\n",
    "    image_prefix = \"l137_0\",\n",
    "    has_sets = True,\n",
    "    set_size = 50,\n",
    "    n_sets = 7\n",
    ")"
   ]
  },
  {
   "cell_type": "code",
   "execution_count": 5,
   "metadata": {},
   "outputs": [],
   "source": [
    "#r = Reducer.Reducer(Constants.folder,\"No filter\",Constants.file_name, 9, 50)\n",
    "#r.reduce(True)\n",
    "# # #set_size, n_sets = r.get_set_info()"
   ]
  },
  {
   "cell_type": "code",
   "execution_count": 6,
   "metadata": {},
   "outputs": [
    {
     "name": "stdout",
     "output_type": "stream",
     "text": [
      "[Cataloguer] filtered out 112 objects\n",
      "[Cataloguer] Catalogued 1108 objects\n",
      "[Cataloguer] Getting coordinate system for image './workspace/../images/0121/l137_0_1_001.fit'\n",
      "[Astrometry] Starting job\n",
      "Determining background stats\n"
     ]
    },
    {
     "name": "stderr",
     "output_type": "stream",
     "text": [
      "WARNING: FITSFixedWarning: 'datfix' made the change 'Set MJD-OBS to 59600.739850 from DATE-OBS'. [astropy.wcs.wcs]\n"
     ]
    },
    {
     "name": "stdout",
     "output_type": "stream",
     "text": [
      "Finding sources\n",
      "Found 1355 sources\n",
      " id      xcentroid      ...        flux                 mag          \n",
      "---- ------------------ ... ------------------ ----------------------\n",
      " 881 2078.6676678777644 ... 168.73045076485548     -5.567983666842608\n",
      " 428 1312.5969976127772 ...  161.7241408363077     -5.521937131544891\n",
      "1296  752.8349638637275 ... 158.32350036887271     -5.498863457765951\n",
      "1121 1473.1473451113136 ...  133.2528962604471     -5.311691643050666\n",
      " 606 1233.8588987377507 ...   131.428198146547     -5.296721384627498\n",
      " 917 1015.1401707765954 ...  128.1301155178985    -5.2691280442307145\n",
      " 787 1523.1761813437708 ... 118.90228311343414     -5.187975484613304\n",
      " 368 1165.2002511192618 ... 112.79986988619136     -5.130771496730416\n",
      " ...                ... ...                ...                    ...\n",
      " 321  87.03187558897051 ... 1.0059251130527922  -0.006414126256755618\n",
      " 630 1677.6664477527775 ... 1.0054829274069417  -0.005936752235173444\n",
      "1315 1995.4931867732557 ... 1.0052621224314129  -0.005698297382724346\n",
      " 594 1788.0072813668514 ... 1.0051012094980318  -0.005524489001737745\n",
      "1184 1902.0237777638263 ...  1.004841684960584  -0.005244107714614514\n",
      "1146  1806.305157512327 ... 1.0047943699943336  -0.005192982465574802\n",
      "   3 1393.7531762904932 ... 1.0035516968208975 -0.0038493739614823145\n",
      " 731 2326.9134471526345 ... 1.0013326824842712 -0.0014459783214968518\n",
      " 970 1543.3161623712824 ... 1.0009075332841735 -0.0009848948987665033\n",
      "Length = 1355 rows\n",
      "Solving............................................................................................................\n",
      "[Astrometry] Error: WCS failed\n",
      "............ Exception: ('Solve timed out without success or failure', 5454124)\n",
      "\n",
      "[Astrometry] Finished job\n",
      "Finished cataloguing images at 20:09:38\n"
     ]
    }
   ],
   "source": [
    "c = Cataloguer.Cataloguer(config)\n",
    "catalogue_image = os.path.join(config.image_dir,\n",
    "        config.image_format_str.format(1, 1))\n",
    "#print(catalogue_image)\n",
    "c.catalogue(catalogue_image)\n",
    "Utilities.print_job(\"cataloguing images\")"
   ]
  },
  {
   "cell_type": "code",
   "execution_count": 7,
   "metadata": {
    "scrolled": true
   },
   "outputs": [
    {
     "name": "stdout",
     "output_type": "stream",
     "text": [
      "[ShiftFinder] Finding shifts in image: set 1; image 001...\n"
     ]
    },
    {
     "name": "stderr",
     "output_type": "stream",
     "text": [
      "WARNING: The fit may be unsuccessful; check fit_info['message'] for more information. [astropy.modeling.fitting]\n",
      "WARNING: The fit may be unsuccessful; check fit_info['message'] for more information. [astropy.modeling.fitting]\n"
     ]
    },
    {
     "name": "stdout",
     "output_type": "stream",
     "text": [
      "[ShiftFinder] ...Shifts: 0.5129786036788362,0.730675845486819\n",
      "[ShiftFinder] Finding shifts in image: set 1; image 002...\n"
     ]
    },
    {
     "name": "stderr",
     "output_type": "stream",
     "text": [
      "WARNING: The fit may be unsuccessful; check fit_info['message'] for more information. [astropy.modeling.fitting]\n"
     ]
    },
    {
     "name": "stdout",
     "output_type": "stream",
     "text": [
      "[ShiftFinder] ...Shifts: -1.4030576961818957,0.27367387952120126\n",
      "[ShiftFinder] Finding shifts in image: set 1; image 003...\n"
     ]
    },
    {
     "name": "stderr",
     "output_type": "stream",
     "text": [
      "WARNING: The fit may be unsuccessful; check fit_info['message'] for more information. [astropy.modeling.fitting]\n",
      "WARNING: The fit may be unsuccessful; check fit_info['message'] for more information. [astropy.modeling.fitting]\n",
      "WARNING: The fit may be unsuccessful; check fit_info['message'] for more information. [astropy.modeling.fitting]\n",
      "WARNING: The fit may be unsuccessful; check fit_info['message'] for more information. [astropy.modeling.fitting]\n"
     ]
    },
    {
     "name": "stdout",
     "output_type": "stream",
     "text": [
      "[ShiftFinder] ...Shifts: -0.973242785198444,-0.10824512685953902\n",
      "[ShiftFinder] Finding shifts in image: set 1; image 004...\n"
     ]
    },
    {
     "name": "stderr",
     "output_type": "stream",
     "text": [
      "WARNING: The fit may be unsuccessful; check fit_info['message'] for more information. [astropy.modeling.fitting]\n"
     ]
    },
    {
     "name": "stdout",
     "output_type": "stream",
     "text": [
      "[ShiftFinder] ...Shifts: 0.9722054543366667,-0.3853482223828335\n",
      "[ShiftFinder] Finding shifts in image: set 1; image 005...\n"
     ]
    },
    {
     "name": "stderr",
     "output_type": "stream",
     "text": [
      "WARNING: The fit may be unsuccessful; check fit_info['message'] for more information. [astropy.modeling.fitting]\n",
      "WARNING: The fit may be unsuccessful; check fit_info['message'] for more information. [astropy.modeling.fitting]\n",
      "WARNING: The fit may be unsuccessful; check fit_info['message'] for more information. [astropy.modeling.fitting]\n"
     ]
    },
    {
     "name": "stdout",
     "output_type": "stream",
     "text": [
      "[ShiftFinder] ...Shifts: 0.7707820282328761,-0.42350485088491396\n",
      "[ShiftFinder] Finding shifts in image: set 1; image 006...\n"
     ]
    },
    {
     "name": "stderr",
     "output_type": "stream",
     "text": [
      "WARNING: The fit may be unsuccessful; check fit_info['message'] for more information. [astropy.modeling.fitting]\n",
      "WARNING: The fit may be unsuccessful; check fit_info['message'] for more information. [astropy.modeling.fitting]\n"
     ]
    },
    {
     "name": "stdout",
     "output_type": "stream",
     "text": [
      "[ShiftFinder] ...Shifts: -0.1703043357050582,-0.522495696664989\n",
      "[ShiftFinder] Finding shifts in image: set 1; image 007...\n"
     ]
    },
    {
     "name": "stderr",
     "output_type": "stream",
     "text": [
      "WARNING: The fit may be unsuccessful; check fit_info['message'] for more information. [astropy.modeling.fitting]\n"
     ]
    },
    {
     "name": "stdout",
     "output_type": "stream",
     "text": [
      "[ShiftFinder] ...Shifts: -0.8252524956827427,-0.45678991374362\n",
      "[ShiftFinder] Finding shifts in image: set 1; image 008...\n",
      "[ShiftFinder] ...Shifts: 0.6349002195195581,-1.215554915762934\n",
      "[ShiftFinder] Finding shifts in image: set 1; image 009...\n"
     ]
    },
    {
     "name": "stderr",
     "output_type": "stream",
     "text": [
      "WARNING: The fit may be unsuccessful; check fit_info['message'] for more information. [astropy.modeling.fitting]\n",
      "WARNING: The fit may be unsuccessful; check fit_info['message'] for more information. [astropy.modeling.fitting]\n",
      "WARNING: The fit may be unsuccessful; check fit_info['message'] for more information. [astropy.modeling.fitting]\n",
      "WARNING: The fit may be unsuccessful; check fit_info['message'] for more information. [astropy.modeling.fitting]\n"
     ]
    },
    {
     "name": "stdout",
     "output_type": "stream",
     "text": [
      "[ShiftFinder] ...Shifts: 1.8507557793838751,-1.6118951394388006\n",
      "[ShiftFinder] Finding shifts in image: set 1; image 010...\n"
     ]
    },
    {
     "name": "stderr",
     "output_type": "stream",
     "text": [
      "WARNING: The fit may be unsuccessful; check fit_info['message'] for more information. [astropy.modeling.fitting]\n",
      "WARNING: The fit may be unsuccessful; check fit_info['message'] for more information. [astropy.modeling.fitting]\n"
     ]
    },
    {
     "name": "stdout",
     "output_type": "stream",
     "text": [
      "[ShiftFinder] ...Shifts: 0.3894905895125049,-0.9357283152554077\n",
      "[ShiftFinder] Finding shifts in image: set 1; image 011...\n"
     ]
    },
    {
     "name": "stderr",
     "output_type": "stream",
     "text": [
      "WARNING: The fit may be unsuccessful; check fit_info['message'] for more information. [astropy.modeling.fitting]\n",
      "WARNING: The fit may be unsuccessful; check fit_info['message'] for more information. [astropy.modeling.fitting]\n"
     ]
    },
    {
     "name": "stdout",
     "output_type": "stream",
     "text": [
      "[ShiftFinder] ...Shifts: -0.318815599462587,-1.8134933301503242\n",
      "[ShiftFinder] Finding shifts in image: set 1; image 012...\n"
     ]
    },
    {
     "name": "stderr",
     "output_type": "stream",
     "text": [
      "WARNING: The fit may be unsuccessful; check fit_info['message'] for more information. [astropy.modeling.fitting]\n",
      "WARNING: The fit may be unsuccessful; check fit_info['message'] for more information. [astropy.modeling.fitting]\n",
      "WARNING: The fit may be unsuccessful; check fit_info['message'] for more information. [astropy.modeling.fitting]\n",
      "WARNING: The fit may be unsuccessful; check fit_info['message'] for more information. [astropy.modeling.fitting]\n"
     ]
    },
    {
     "name": "stdout",
     "output_type": "stream",
     "text": [
      "[ShiftFinder] ...Shifts: 0.532584155557867,-1.845198351373253\n",
      "[ShiftFinder] Finding shifts in image: set 1; image 013...\n"
     ]
    },
    {
     "name": "stderr",
     "output_type": "stream",
     "text": [
      "WARNING: The fit may be unsuccessful; check fit_info['message'] for more information. [astropy.modeling.fitting]\n",
      "WARNING: The fit may be unsuccessful; check fit_info['message'] for more information. [astropy.modeling.fitting]\n",
      "WARNING: The fit may be unsuccessful; check fit_info['message'] for more information. [astropy.modeling.fitting]\n"
     ]
    },
    {
     "name": "stdout",
     "output_type": "stream",
     "text": [
      "[ShiftFinder] ...Shifts: 2.866822358156833,-2.268700638981751\n",
      "[ShiftFinder] Finding shifts in image: set 1; image 014...\n"
     ]
    },
    {
     "name": "stderr",
     "output_type": "stream",
     "text": [
      "WARNING: The fit may be unsuccessful; check fit_info['message'] for more information. [astropy.modeling.fitting]\n",
      "WARNING: The fit may be unsuccessful; check fit_info['message'] for more information. [astropy.modeling.fitting]\n"
     ]
    },
    {
     "name": "stdout",
     "output_type": "stream",
     "text": [
      "[ShiftFinder] ...Shifts: 1.1055230097234432,-2.3728513392337733\n",
      "[ShiftFinder] Finding shifts in image: set 1; image 015...\n"
     ]
    },
    {
     "name": "stderr",
     "output_type": "stream",
     "text": [
      "WARNING: The fit may be unsuccessful; check fit_info['message'] for more information. [astropy.modeling.fitting]\n",
      "WARNING: The fit may be unsuccessful; check fit_info['message'] for more information. [astropy.modeling.fitting]\n",
      "WARNING: The fit may be unsuccessful; check fit_info['message'] for more information. [astropy.modeling.fitting]\n"
     ]
    },
    {
     "name": "stdout",
     "output_type": "stream",
     "text": [
      "[ShiftFinder] ...Shifts: 0.17654352896075665,-2.4403491946824136\n",
      "[ShiftFinder] Finding shifts in image: set 1; image 016...\n"
     ]
    },
    {
     "name": "stderr",
     "output_type": "stream",
     "text": [
      "WARNING: The fit may be unsuccessful; check fit_info['message'] for more information. [astropy.modeling.fitting]\n",
      "WARNING: The fit may be unsuccessful; check fit_info['message'] for more information. [astropy.modeling.fitting]\n",
      "WARNING: The fit may be unsuccessful; check fit_info['message'] for more information. [astropy.modeling.fitting]\n",
      "WARNING: The fit may be unsuccessful; check fit_info['message'] for more information. [astropy.modeling.fitting]\n"
     ]
    },
    {
     "name": "stdout",
     "output_type": "stream",
     "text": [
      "[ShiftFinder] ...Shifts: 0.3462856344920846,-2.5774716996948044\n",
      "[ShiftFinder] Finding shifts in image: set 1; image 017...\n"
     ]
    },
    {
     "name": "stderr",
     "output_type": "stream",
     "text": [
      "WARNING: The fit may be unsuccessful; check fit_info['message'] for more information. [astropy.modeling.fitting]\n"
     ]
    },
    {
     "name": "stdout",
     "output_type": "stream",
     "text": [
      "[ShiftFinder] ...Shifts: 3.0181714004622204,-3.02144254883739\n",
      "[ShiftFinder] Finding shifts in image: set 1; image 018...\n"
     ]
    },
    {
     "name": "stderr",
     "output_type": "stream",
     "text": [
      "WARNING: The fit may be unsuccessful; check fit_info['message'] for more information. [astropy.modeling.fitting]\n",
      "WARNING: The fit may be unsuccessful; check fit_info['message'] for more information. [astropy.modeling.fitting]\n",
      "WARNING: The fit may be unsuccessful; check fit_info['message'] for more information. [astropy.modeling.fitting]\n",
      "WARNING: The fit may be unsuccessful; check fit_info['message'] for more information. [astropy.modeling.fitting]\n",
      "WARNING: The fit may be unsuccessful; check fit_info['message'] for more information. [astropy.modeling.fitting]\n"
     ]
    },
    {
     "name": "stdout",
     "output_type": "stream",
     "text": [
      "[ShiftFinder] ...Shifts: 1.9123294546809646,-3.4708634302729813\n",
      "[ShiftFinder] Finding shifts in image: set 1; image 019...\n"
     ]
    },
    {
     "name": "stderr",
     "output_type": "stream",
     "text": [
      "WARNING: The fit may be unsuccessful; check fit_info['message'] for more information. [astropy.modeling.fitting]\n",
      "WARNING: The fit may be unsuccessful; check fit_info['message'] for more information. [astropy.modeling.fitting]\n",
      "WARNING: The fit may be unsuccessful; check fit_info['message'] for more information. [astropy.modeling.fitting]\n"
     ]
    },
    {
     "name": "stdout",
     "output_type": "stream",
     "text": [
      "[ShiftFinder] ...Shifts: 0.7846227108352339,-2.8903671501159414\n",
      "[ShiftFinder] Finding shifts in image: set 1; image 020...\n"
     ]
    },
    {
     "name": "stderr",
     "output_type": "stream",
     "text": [
      "WARNING: The fit may be unsuccessful; check fit_info['message'] for more information. [astropy.modeling.fitting]\n",
      "WARNING: The fit may be unsuccessful; check fit_info['message'] for more information. [astropy.modeling.fitting]\n",
      "WARNING: The fit may be unsuccessful; check fit_info['message'] for more information. [astropy.modeling.fitting]\n",
      "WARNING: The fit may be unsuccessful; check fit_info['message'] for more information. [astropy.modeling.fitting]\n",
      "WARNING: The fit may be unsuccessful; check fit_info['message'] for more information. [astropy.modeling.fitting]\n"
     ]
    },
    {
     "name": "stdout",
     "output_type": "stream",
     "text": [
      "[ShiftFinder] ...Shifts: 0.49947481224727497,-3.895342441206492\n",
      "[ShiftFinder] Finding shifts in image: set 1; image 021...\n"
     ]
    },
    {
     "name": "stderr",
     "output_type": "stream",
     "text": [
      "WARNING: The fit may be unsuccessful; check fit_info['message'] for more information. [astropy.modeling.fitting]\n",
      "WARNING: The fit may be unsuccessful; check fit_info['message'] for more information. [astropy.modeling.fitting]\n",
      "WARNING: The fit may be unsuccessful; check fit_info['message'] for more information. [astropy.modeling.fitting]\n",
      "WARNING: The fit may be unsuccessful; check fit_info['message'] for more information. [astropy.modeling.fitting]\n"
     ]
    },
    {
     "name": "stdout",
     "output_type": "stream",
     "text": [
      "[ShiftFinder] ...Shifts: 2.178113576604706,-3.937579561128877\n",
      "[ShiftFinder] Finding shifts in image: set 1; image 022...\n"
     ]
    },
    {
     "name": "stderr",
     "output_type": "stream",
     "text": [
      "WARNING: The fit may be unsuccessful; check fit_info['message'] for more information. [astropy.modeling.fitting]\n",
      "WARNING: The fit may be unsuccessful; check fit_info['message'] for more information. [astropy.modeling.fitting]\n"
     ]
    },
    {
     "name": "stdout",
     "output_type": "stream",
     "text": [
      "[ShiftFinder] ...Shifts: 2.6510797704773417,-4.215971092494162\n",
      "[ShiftFinder] Finding shifts in image: set 1; image 023...\n"
     ]
    },
    {
     "name": "stderr",
     "output_type": "stream",
     "text": [
      "WARNING: The fit may be unsuccessful; check fit_info['message'] for more information. [astropy.modeling.fitting]\n",
      "WARNING: The fit may be unsuccessful; check fit_info['message'] for more information. [astropy.modeling.fitting]\n",
      "WARNING: The fit may be unsuccessful; check fit_info['message'] for more information. [astropy.modeling.fitting]\n",
      "WARNING: The fit may be unsuccessful; check fit_info['message'] for more information. [astropy.modeling.fitting]\n"
     ]
    },
    {
     "name": "stdout",
     "output_type": "stream",
     "text": [
      "[ShiftFinder] ...Shifts: 1.7104532085702662,-4.1159861568670015\n",
      "[ShiftFinder] Finding shifts in image: set 1; image 024...\n"
     ]
    },
    {
     "name": "stderr",
     "output_type": "stream",
     "text": [
      "WARNING: The fit may be unsuccessful; check fit_info['message'] for more information. [astropy.modeling.fitting]\n",
      "WARNING: The fit may be unsuccessful; check fit_info['message'] for more information. [astropy.modeling.fitting]\n"
     ]
    },
    {
     "name": "stdout",
     "output_type": "stream",
     "text": [
      "[ShiftFinder] ...Shifts: 0.9922330741153749,-4.629160805572176\n",
      "[ShiftFinder] Finding shifts in image: set 1; image 025...\n"
     ]
    },
    {
     "name": "stderr",
     "output_type": "stream",
     "text": [
      "WARNING: The fit may be unsuccessful; check fit_info['message'] for more information. [astropy.modeling.fitting]\n"
     ]
    },
    {
     "name": "stdout",
     "output_type": "stream",
     "text": [
      "[ShiftFinder] ...Shifts: 2.0686629479349534,-4.499284243044399\n",
      "[ShiftFinder] Finding shifts in image: set 1; image 026...\n"
     ]
    },
    {
     "name": "stderr",
     "output_type": "stream",
     "text": [
      "WARNING: The fit may be unsuccessful; check fit_info['message'] for more information. [astropy.modeling.fitting]\n",
      "WARNING: The fit may be unsuccessful; check fit_info['message'] for more information. [astropy.modeling.fitting]\n",
      "WARNING: The fit may be unsuccessful; check fit_info['message'] for more information. [astropy.modeling.fitting]\n"
     ]
    },
    {
     "name": "stdout",
     "output_type": "stream",
     "text": [
      "[ShiftFinder] ...Shifts: 3.525163012777954,-5.124300836815269\n",
      "[ShiftFinder] Finding shifts in image: set 1; image 027...\n"
     ]
    },
    {
     "name": "stderr",
     "output_type": "stream",
     "text": [
      "WARNING: The fit may be unsuccessful; check fit_info['message'] for more information. [astropy.modeling.fitting]\n",
      "WARNING: The fit may be unsuccessful; check fit_info['message'] for more information. [astropy.modeling.fitting]\n",
      "WARNING: The fit may be unsuccessful; check fit_info['message'] for more information. [astropy.modeling.fitting]\n"
     ]
    },
    {
     "name": "stdout",
     "output_type": "stream",
     "text": [
      "[ShiftFinder] ...Shifts: 2.8096164583596552,-5.174299473147336\n",
      "[ShiftFinder] Finding shifts in image: set 1; image 028...\n"
     ]
    },
    {
     "name": "stderr",
     "output_type": "stream",
     "text": [
      "WARNING: The fit may be unsuccessful; check fit_info['message'] for more information. [astropy.modeling.fitting]\n",
      "WARNING: The fit may be unsuccessful; check fit_info['message'] for more information. [astropy.modeling.fitting]\n"
     ]
    },
    {
     "name": "stdout",
     "output_type": "stream",
     "text": [
      "[ShiftFinder] ...Shifts: 1.6977682677914485,-4.836736166437422\n",
      "[ShiftFinder] Finding shifts in image: set 1; image 029...\n"
     ]
    },
    {
     "name": "stderr",
     "output_type": "stream",
     "text": [
      "WARNING: The fit may be unsuccessful; check fit_info['message'] for more information. [astropy.modeling.fitting]\n",
      "WARNING: The fit may be unsuccessful; check fit_info['message'] for more information. [astropy.modeling.fitting]\n"
     ]
    },
    {
     "name": "stdout",
     "output_type": "stream",
     "text": [
      "[ShiftFinder] ...Shifts: 2.0995096554284567,-5.36456326391305\n",
      "[ShiftFinder] Finding shifts in image: set 1; image 030...\n"
     ]
    },
    {
     "name": "stderr",
     "output_type": "stream",
     "text": [
      "WARNING: The fit may be unsuccessful; check fit_info['message'] for more information. [astropy.modeling.fitting]\n",
      "WARNING: The fit may be unsuccessful; check fit_info['message'] for more information. [astropy.modeling.fitting]\n",
      "WARNING: The fit may be unsuccessful; check fit_info['message'] for more information. [astropy.modeling.fitting]\n"
     ]
    },
    {
     "name": "stdout",
     "output_type": "stream",
     "text": [
      "[ShiftFinder] ...Shifts: 4.676144193183337,-5.534546808474324\n",
      "[ShiftFinder] Finding shifts in image: set 1; image 031...\n"
     ]
    },
    {
     "name": "stderr",
     "output_type": "stream",
     "text": [
      "WARNING: The fit may be unsuccessful; check fit_info['message'] for more information. [astropy.modeling.fitting]\n",
      "WARNING: The fit may be unsuccessful; check fit_info['message'] for more information. [astropy.modeling.fitting]\n"
     ]
    },
    {
     "name": "stdout",
     "output_type": "stream",
     "text": [
      "[ShiftFinder] ...Shifts: 3.5514208127907514,-5.792715337169973\n",
      "[ShiftFinder] Finding shifts in image: set 1; image 032...\n"
     ]
    },
    {
     "name": "stderr",
     "output_type": "stream",
     "text": [
      "WARNING: The fit may be unsuccessful; check fit_info['message'] for more information. [astropy.modeling.fitting]\n",
      "WARNING: The fit may be unsuccessful; check fit_info['message'] for more information. [astropy.modeling.fitting]\n"
     ]
    },
    {
     "name": "stdout",
     "output_type": "stream",
     "text": [
      "[ShiftFinder] ...Shifts: 2.613275043466812,-5.9936914243100885\n",
      "[ShiftFinder] Finding shifts in image: set 1; image 033...\n"
     ]
    },
    {
     "name": "stderr",
     "output_type": "stream",
     "text": [
      "WARNING: The fit may be unsuccessful; check fit_info['message'] for more information. [astropy.modeling.fitting]\n",
      "WARNING: The fit may be unsuccessful; check fit_info['message'] for more information. [astropy.modeling.fitting]\n",
      "WARNING: The fit may be unsuccessful; check fit_info['message'] for more information. [astropy.modeling.fitting]\n",
      "WARNING: The fit may be unsuccessful; check fit_info['message'] for more information. [astropy.modeling.fitting]\n"
     ]
    },
    {
     "name": "stdout",
     "output_type": "stream",
     "text": [
      "[ShiftFinder] ...Shifts: 2.1850329274519487,-6.172365825757272\n",
      "[ShiftFinder] Finding shifts in image: set 1; image 034...\n"
     ]
    },
    {
     "name": "stderr",
     "output_type": "stream",
     "text": [
      "WARNING: The fit may be unsuccessful; check fit_info['message'] for more information. [astropy.modeling.fitting]\n",
      "WARNING: The fit may be unsuccessful; check fit_info['message'] for more information. [astropy.modeling.fitting]\n"
     ]
    },
    {
     "name": "stdout",
     "output_type": "stream",
     "text": [
      "[ShiftFinder] ...Shifts: 4.467791797141408,-6.549518754704891\n",
      "[ShiftFinder] Finding shifts in image: set 1; image 035...\n"
     ]
    },
    {
     "name": "stderr",
     "output_type": "stream",
     "text": [
      "WARNING: The fit may be unsuccessful; check fit_info['message'] for more information. [astropy.modeling.fitting]\n",
      "WARNING: The fit may be unsuccessful; check fit_info['message'] for more information. [astropy.modeling.fitting]\n"
     ]
    },
    {
     "name": "stdout",
     "output_type": "stream",
     "text": [
      "[ShiftFinder] ...Shifts: 4.520875674628687,-6.506849460616699\n",
      "[ShiftFinder] Finding shifts in image: set 1; image 036...\n"
     ]
    },
    {
     "name": "stderr",
     "output_type": "stream",
     "text": [
      "WARNING: The fit may be unsuccessful; check fit_info['message'] for more information. [astropy.modeling.fitting]\n",
      "WARNING: The fit may be unsuccessful; check fit_info['message'] for more information. [astropy.modeling.fitting]\n",
      "WARNING: The fit may be unsuccessful; check fit_info['message'] for more information. [astropy.modeling.fitting]\n",
      "WARNING: The fit may be unsuccessful; check fit_info['message'] for more information. [astropy.modeling.fitting]\n",
      "WARNING: The fit may be unsuccessful; check fit_info['message'] for more information. [astropy.modeling.fitting]\n"
     ]
    },
    {
     "name": "stdout",
     "output_type": "stream",
     "text": [
      "[ShiftFinder] ...Shifts: 3.274992043753988,-6.817392173278984\n",
      "[ShiftFinder] Finding shifts in image: set 1; image 037...\n"
     ]
    },
    {
     "name": "stderr",
     "output_type": "stream",
     "text": [
      "WARNING: The fit may be unsuccessful; check fit_info['message'] for more information. [astropy.modeling.fitting]\n",
      "WARNING: The fit may be unsuccessful; check fit_info['message'] for more information. [astropy.modeling.fitting]\n"
     ]
    },
    {
     "name": "stdout",
     "output_type": "stream",
     "text": [
      "[ShiftFinder] ...Shifts: 2.805628223586498,-7.005470413947391\n",
      "[ShiftFinder] Finding shifts in image: set 1; image 038...\n"
     ]
    },
    {
     "name": "stderr",
     "output_type": "stream",
     "text": [
      "WARNING: The fit may be unsuccessful; check fit_info['message'] for more information. [astropy.modeling.fitting]\n",
      "WARNING: The fit may be unsuccessful; check fit_info['message'] for more information. [astropy.modeling.fitting]\n"
     ]
    },
    {
     "name": "stdout",
     "output_type": "stream",
     "text": [
      "[ShiftFinder] ...Shifts: 4.216687186675463,-7.0831799224208485\n",
      "[ShiftFinder] Finding shifts in image: set 1; image 039...\n",
      "[ShiftFinder] ...Shifts: 5.274503665672137,-7.868987810248819\n",
      "[ShiftFinder] Finding shifts in image: set 1; image 040...\n",
      "[ShiftFinder] ...Shifts: 4.40845462042806,-7.476627724794293\n",
      "[ShiftFinder] Finding shifts in image: set 1; image 041...\n"
     ]
    },
    {
     "name": "stderr",
     "output_type": "stream",
     "text": [
      "WARNING: The fit may be unsuccessful; check fit_info['message'] for more information. [astropy.modeling.fitting]\n",
      "WARNING: The fit may be unsuccessful; check fit_info['message'] for more information. [astropy.modeling.fitting]\n",
      "WARNING: The fit may be unsuccessful; check fit_info['message'] for more information. [astropy.modeling.fitting]\n"
     ]
    },
    {
     "name": "stdout",
     "output_type": "stream",
     "text": [
      "[ShiftFinder] ...Shifts: 3.3184530993539365,-7.707052828327509\n",
      "[ShiftFinder] Finding shifts in image: set 1; image 042...\n"
     ]
    },
    {
     "name": "stderr",
     "output_type": "stream",
     "text": [
      "WARNING: The fit may be unsuccessful; check fit_info['message'] for more information. [astropy.modeling.fitting]\n"
     ]
    },
    {
     "name": "stdout",
     "output_type": "stream",
     "text": [
      "[ShiftFinder] ...Shifts: 3.8590384690709785,-7.863389557998433\n",
      "[ShiftFinder] Finding shifts in image: set 1; image 043...\n"
     ]
    },
    {
     "name": "stderr",
     "output_type": "stream",
     "text": [
      "WARNING: The fit may be unsuccessful; check fit_info['message'] for more information. [astropy.modeling.fitting]\n",
      "WARNING: The fit may be unsuccessful; check fit_info['message'] for more information. [astropy.modeling.fitting]\n"
     ]
    },
    {
     "name": "stdout",
     "output_type": "stream",
     "text": [
      "[ShiftFinder] ...Shifts: 6.220328803139326,-8.652483691247628\n",
      "[ShiftFinder] Finding shifts in image: set 1; image 044...\n"
     ]
    },
    {
     "name": "stderr",
     "output_type": "stream",
     "text": [
      "WARNING: The fit may be unsuccessful; check fit_info['message'] for more information. [astropy.modeling.fitting]\n",
      "WARNING: The fit may be unsuccessful; check fit_info['message'] for more information. [astropy.modeling.fitting]\n",
      "WARNING: The fit may be unsuccessful; check fit_info['message'] for more information. [astropy.modeling.fitting]\n"
     ]
    },
    {
     "name": "stdout",
     "output_type": "stream",
     "text": [
      "[ShiftFinder] ...Shifts: 5.055889208119647,-8.304142500272587\n",
      "[ShiftFinder] Finding shifts in image: set 1; image 045...\n"
     ]
    },
    {
     "name": "stderr",
     "output_type": "stream",
     "text": [
      "WARNING: The fit may be unsuccessful; check fit_info['message'] for more information. [astropy.modeling.fitting]\n",
      "WARNING: The fit may be unsuccessful; check fit_info['message'] for more information. [astropy.modeling.fitting]\n"
     ]
    },
    {
     "name": "stdout",
     "output_type": "stream",
     "text": [
      "[ShiftFinder] ...Shifts: 4.20451159138007,-8.748871551625568\n",
      "[ShiftFinder] Finding shifts in image: set 1; image 046...\n"
     ]
    },
    {
     "name": "stderr",
     "output_type": "stream",
     "text": [
      "WARNING: The fit may be unsuccessful; check fit_info['message'] for more information. [astropy.modeling.fitting]\n",
      "WARNING: The fit may be unsuccessful; check fit_info['message'] for more information. [astropy.modeling.fitting]\n",
      "WARNING: The fit may be unsuccessful; check fit_info['message'] for more information. [astropy.modeling.fitting]\n"
     ]
    },
    {
     "name": "stdout",
     "output_type": "stream",
     "text": [
      "[ShiftFinder] ...Shifts: 4.228775440767403,-8.528279891547365\n",
      "[ShiftFinder] Finding shifts in image: set 1; image 047...\n"
     ]
    },
    {
     "name": "stderr",
     "output_type": "stream",
     "text": [
      "WARNING: The fit may be unsuccessful; check fit_info['message'] for more information. [astropy.modeling.fitting]\n",
      "WARNING: The fit may be unsuccessful; check fit_info['message'] for more information. [astropy.modeling.fitting]\n",
      "WARNING: The fit may be unsuccessful; check fit_info['message'] for more information. [astropy.modeling.fitting]\n",
      "WARNING: The fit may be unsuccessful; check fit_info['message'] for more information. [astropy.modeling.fitting]\n"
     ]
    },
    {
     "name": "stdout",
     "output_type": "stream",
     "text": [
      "[ShiftFinder] ...Shifts: 6.810481536406285,-9.163564401624006\n",
      "[ShiftFinder] Finding shifts in image: set 1; image 048...\n"
     ]
    },
    {
     "name": "stderr",
     "output_type": "stream",
     "text": [
      "WARNING: The fit may be unsuccessful; check fit_info['message'] for more information. [astropy.modeling.fitting]\n",
      "WARNING: The fit may be unsuccessful; check fit_info['message'] for more information. [astropy.modeling.fitting]\n"
     ]
    },
    {
     "name": "stdout",
     "output_type": "stream",
     "text": [
      "[ShiftFinder] ...Shifts: 5.909754334194684,-9.113920624527037\n",
      "[ShiftFinder] Finding shifts in image: set 1; image 049...\n"
     ]
    },
    {
     "name": "stderr",
     "output_type": "stream",
     "text": [
      "WARNING: The fit may be unsuccessful; check fit_info['message'] for more information. [astropy.modeling.fitting]\n"
     ]
    },
    {
     "name": "stdout",
     "output_type": "stream",
     "text": [
      "[ShiftFinder] ...Shifts: 4.755679234158891,-9.79444478828135\n",
      "[ShiftFinder] Finding shifts in image: set 1; image 050...\n"
     ]
    },
    {
     "name": "stderr",
     "output_type": "stream",
     "text": [
      "WARNING: The fit may be unsuccessful; check fit_info['message'] for more information. [astropy.modeling.fitting]\n",
      "WARNING: The fit may be unsuccessful; check fit_info['message'] for more information. [astropy.modeling.fitting]\n"
     ]
    },
    {
     "name": "stdout",
     "output_type": "stream",
     "text": [
      "[ShiftFinder] ...Shifts: 4.270330625927257,-9.076611362632928\n",
      "[ShiftFinder] Finding shifts in image: set 2; image 001...\n"
     ]
    },
    {
     "name": "stderr",
     "output_type": "stream",
     "text": [
      "WARNING: The fit may be unsuccessful; check fit_info['message'] for more information. [astropy.modeling.fitting]\n",
      "WARNING: The fit may be unsuccessful; check fit_info['message'] for more information. [astropy.modeling.fitting]\n",
      "WARNING: The fit may be unsuccessful; check fit_info['message'] for more information. [astropy.modeling.fitting]\n",
      "WARNING: The fit may be unsuccessful; check fit_info['message'] for more information. [astropy.modeling.fitting]\n",
      "WARNING: The fit may be unsuccessful; check fit_info['message'] for more information. [astropy.modeling.fitting]\n"
     ]
    },
    {
     "name": "stdout",
     "output_type": "stream",
     "text": [
      "[ShiftFinder] ...Shifts: 5.823607431125593,-10.903711840151253\n",
      "[ShiftFinder] Finding shifts in image: set 2; image 002...\n"
     ]
    },
    {
     "name": "stderr",
     "output_type": "stream",
     "text": [
      "WARNING: The fit may be unsuccessful; check fit_info['message'] for more information. [astropy.modeling.fitting]\n",
      "WARNING: The fit may be unsuccessful; check fit_info['message'] for more information. [astropy.modeling.fitting]\n",
      "WARNING: The fit may be unsuccessful; check fit_info['message'] for more information. [astropy.modeling.fitting]\n"
     ]
    },
    {
     "name": "stdout",
     "output_type": "stream",
     "text": [
      "[ShiftFinder] ...Shifts: 4.7601713334479925,-10.328243234673167\n",
      "[ShiftFinder] Finding shifts in image: set 2; image 003...\n"
     ]
    },
    {
     "name": "stderr",
     "output_type": "stream",
     "text": [
      "WARNING: The fit may be unsuccessful; check fit_info['message'] for more information. [astropy.modeling.fitting]\n",
      "WARNING: The fit may be unsuccessful; check fit_info['message'] for more information. [astropy.modeling.fitting]\n",
      "WARNING: The fit may be unsuccessful; check fit_info['message'] for more information. [astropy.modeling.fitting]\n"
     ]
    },
    {
     "name": "stdout",
     "output_type": "stream",
     "text": [
      "[ShiftFinder] ...Shifts: 7.011095378290789,-10.858652062603998\n",
      "[ShiftFinder] Finding shifts in image: set 2; image 004...\n"
     ]
    },
    {
     "name": "stderr",
     "output_type": "stream",
     "text": [
      "WARNING: The fit may be unsuccessful; check fit_info['message'] for more information. [astropy.modeling.fitting]\n",
      "WARNING: The fit may be unsuccessful; check fit_info['message'] for more information. [astropy.modeling.fitting]\n",
      "WARNING: The fit may be unsuccessful; check fit_info['message'] for more information. [astropy.modeling.fitting]\n"
     ]
    },
    {
     "name": "stdout",
     "output_type": "stream",
     "text": [
      "[ShiftFinder] ...Shifts: 6.997445555138288,-10.983170585599368\n",
      "[ShiftFinder] Finding shifts in image: set 2; image 005...\n"
     ]
    },
    {
     "name": "stderr",
     "output_type": "stream",
     "text": [
      "WARNING: The fit may be unsuccessful; check fit_info['message'] for more information. [astropy.modeling.fitting]\n",
      "WARNING: The fit may be unsuccessful; check fit_info['message'] for more information. [astropy.modeling.fitting]\n"
     ]
    },
    {
     "name": "stdout",
     "output_type": "stream",
     "text": [
      "[ShiftFinder] ...Shifts: 6.161050531276976,-11.063246926501227\n",
      "[ShiftFinder] Finding shifts in image: set 2; image 006...\n"
     ]
    },
    {
     "name": "stderr",
     "output_type": "stream",
     "text": [
      "WARNING: The fit may be unsuccessful; check fit_info['message'] for more information. [astropy.modeling.fitting]\n",
      "WARNING: The fit may be unsuccessful; check fit_info['message'] for more information. [astropy.modeling.fitting]\n"
     ]
    },
    {
     "name": "stdout",
     "output_type": "stream",
     "text": [
      "[ShiftFinder] ...Shifts: 5.272039755156492,-11.201660891235175\n",
      "[ShiftFinder] Finding shifts in image: set 2; image 007...\n"
     ]
    },
    {
     "name": "stderr",
     "output_type": "stream",
     "text": [
      "WARNING: The fit may be unsuccessful; check fit_info['message'] for more information. [astropy.modeling.fitting]\n",
      "WARNING: The fit may be unsuccessful; check fit_info['message'] for more information. [astropy.modeling.fitting]\n",
      "WARNING: The fit may be unsuccessful; check fit_info['message'] for more information. [astropy.modeling.fitting]\n"
     ]
    },
    {
     "name": "stdout",
     "output_type": "stream",
     "text": [
      "[ShiftFinder] ...Shifts: 6.675980292595987,-11.143534352140563\n",
      "[ShiftFinder] Finding shifts in image: set 2; image 008...\n"
     ]
    },
    {
     "name": "stderr",
     "output_type": "stream",
     "text": [
      "WARNING: The fit may be unsuccessful; check fit_info['message'] for more information. [astropy.modeling.fitting]\n",
      "WARNING: The fit may be unsuccessful; check fit_info['message'] for more information. [astropy.modeling.fitting]\n"
     ]
    },
    {
     "name": "stdout",
     "output_type": "stream",
     "text": [
      "[ShiftFinder] ...Shifts: 7.952238121628189,-11.766277242906938\n",
      "[ShiftFinder] Finding shifts in image: set 2; image 009...\n"
     ]
    },
    {
     "name": "stderr",
     "output_type": "stream",
     "text": [
      "WARNING: The fit may be unsuccessful; check fit_info['message'] for more information. [astropy.modeling.fitting]\n",
      "WARNING: The fit may be unsuccessful; check fit_info['message'] for more information. [astropy.modeling.fitting]\n"
     ]
    },
    {
     "name": "stdout",
     "output_type": "stream",
     "text": [
      "[ShiftFinder] ...Shifts: 6.849077377001519,-11.845467139653733\n",
      "[ShiftFinder] Finding shifts in image: set 2; image 010...\n"
     ]
    },
    {
     "name": "stderr",
     "output_type": "stream",
     "text": [
      "WARNING: The fit may be unsuccessful; check fit_info['message'] for more information. [astropy.modeling.fitting]\n",
      "WARNING: The fit may be unsuccessful; check fit_info['message'] for more information. [astropy.modeling.fitting]\n",
      "WARNING: The fit may be unsuccessful; check fit_info['message'] for more information. [astropy.modeling.fitting]\n",
      "WARNING: The fit may be unsuccessful; check fit_info['message'] for more information. [astropy.modeling.fitting]\n"
     ]
    },
    {
     "name": "stdout",
     "output_type": "stream",
     "text": [
      "[ShiftFinder] ...Shifts: 6.083782759637202,-12.106329343384648\n",
      "[ShiftFinder] Finding shifts in image: set 2; image 011...\n"
     ]
    },
    {
     "name": "stderr",
     "output_type": "stream",
     "text": [
      "WARNING: The fit may be unsuccessful; check fit_info['message'] for more information. [astropy.modeling.fitting]\n"
     ]
    },
    {
     "name": "stdout",
     "output_type": "stream",
     "text": [
      "[ShiftFinder] ...Shifts: 6.194786091582927,-12.28841291752826\n",
      "[ShiftFinder] Finding shifts in image: set 2; image 012...\n"
     ]
    },
    {
     "name": "stderr",
     "output_type": "stream",
     "text": [
      "WARNING: The fit may be unsuccessful; check fit_info['message'] for more information. [astropy.modeling.fitting]\n"
     ]
    },
    {
     "name": "stdout",
     "output_type": "stream",
     "text": [
      "[ShiftFinder] ...Shifts: 9.295420101004225,-12.75534373696847\n",
      "[ShiftFinder] Finding shifts in image: set 2; image 013...\n"
     ]
    },
    {
     "name": "stderr",
     "output_type": "stream",
     "text": [
      "WARNING: The fit may be unsuccessful; check fit_info['message'] for more information. [astropy.modeling.fitting]\n",
      "WARNING: The fit may be unsuccessful; check fit_info['message'] for more information. [astropy.modeling.fitting]\n"
     ]
    },
    {
     "name": "stdout",
     "output_type": "stream",
     "text": [
      "[ShiftFinder] ...Shifts: 7.27845400782101,-12.60167151434148\n",
      "[ShiftFinder] Finding shifts in image: set 2; image 014...\n"
     ]
    },
    {
     "name": "stderr",
     "output_type": "stream",
     "text": [
      "WARNING: The fit may be unsuccessful; check fit_info['message'] for more information. [astropy.modeling.fitting]\n"
     ]
    },
    {
     "name": "stdout",
     "output_type": "stream",
     "text": [
      "[ShiftFinder] ...Shifts: 6.67697990107527,-12.381241733151736\n",
      "[ShiftFinder] Finding shifts in image: set 2; image 015...\n",
      "[ShiftFinder] ...Shifts: 6.463100000109579,-12.886764895703992\n",
      "[ShiftFinder] Finding shifts in image: set 2; image 016...\n"
     ]
    },
    {
     "name": "stderr",
     "output_type": "stream",
     "text": [
      "WARNING: The fit may be unsuccessful; check fit_info['message'] for more information. [astropy.modeling.fitting]\n",
      "WARNING: The fit may be unsuccessful; check fit_info['message'] for more information. [astropy.modeling.fitting]\n",
      "WARNING: The fit may be unsuccessful; check fit_info['message'] for more information. [astropy.modeling.fitting]\n",
      "WARNING: The fit may be unsuccessful; check fit_info['message'] for more information. [astropy.modeling.fitting]\n"
     ]
    },
    {
     "name": "stdout",
     "output_type": "stream",
     "text": [
      "[ShiftFinder] ...Shifts: 8.599495509452609,-13.32443985214427\n",
      "[ShiftFinder] Finding shifts in image: set 2; image 017...\n"
     ]
    },
    {
     "name": "stderr",
     "output_type": "stream",
     "text": [
      "WARNING: The fit may be unsuccessful; check fit_info['message'] for more information. [astropy.modeling.fitting]\n",
      "WARNING: The fit may be unsuccessful; check fit_info['message'] for more information. [astropy.modeling.fitting]\n"
     ]
    },
    {
     "name": "stdout",
     "output_type": "stream",
     "text": [
      "[ShiftFinder] ...Shifts: 8.870294492604962,-12.79163729073178\n",
      "[ShiftFinder] Finding shifts in image: set 2; image 018...\n"
     ]
    },
    {
     "name": "stderr",
     "output_type": "stream",
     "text": [
      "WARNING: The fit may be unsuccessful; check fit_info['message'] for more information. [astropy.modeling.fitting]\n",
      "WARNING: The fit may be unsuccessful; check fit_info['message'] for more information. [astropy.modeling.fitting]\n"
     ]
    },
    {
     "name": "stdout",
     "output_type": "stream",
     "text": [
      "[ShiftFinder] ...Shifts: 7.78805484881101,-13.617925041699955\n",
      "[ShiftFinder] Finding shifts in image: set 2; image 019...\n"
     ]
    },
    {
     "name": "stderr",
     "output_type": "stream",
     "text": [
      "WARNING: The fit may be unsuccessful; check fit_info['message'] for more information. [astropy.modeling.fitting]\n",
      "WARNING: The fit may be unsuccessful; check fit_info['message'] for more information. [astropy.modeling.fitting]\n"
     ]
    },
    {
     "name": "stdout",
     "output_type": "stream",
     "text": [
      "[ShiftFinder] ...Shifts: 7.131176872714225,-13.066281921665873\n",
      "[ShiftFinder] Finding shifts in image: set 2; image 020...\n"
     ]
    },
    {
     "name": "stderr",
     "output_type": "stream",
     "text": [
      "WARNING: The fit may be unsuccessful; check fit_info['message'] for more information. [astropy.modeling.fitting]\n",
      "WARNING: The fit may be unsuccessful; check fit_info['message'] for more information. [astropy.modeling.fitting]\n"
     ]
    },
    {
     "name": "stdout",
     "output_type": "stream",
     "text": [
      "[ShiftFinder] ...Shifts: 9.107156517197403,-13.842946422259065\n",
      "[ShiftFinder] Finding shifts in image: set 2; image 021...\n"
     ]
    },
    {
     "name": "stderr",
     "output_type": "stream",
     "text": [
      "WARNING: The fit may be unsuccessful; check fit_info['message'] for more information. [astropy.modeling.fitting]\n",
      "WARNING: The fit may be unsuccessful; check fit_info['message'] for more information. [astropy.modeling.fitting]\n"
     ]
    },
    {
     "name": "stdout",
     "output_type": "stream",
     "text": [
      "[ShiftFinder] ...Shifts: 9.630310262504672,-14.134669100756248\n",
      "[ShiftFinder] Finding shifts in image: set 2; image 022...\n"
     ]
    },
    {
     "name": "stderr",
     "output_type": "stream",
     "text": [
      "WARNING: The fit may be unsuccessful; check fit_info['message'] for more information. [astropy.modeling.fitting]\n",
      "WARNING: The fit may be unsuccessful; check fit_info['message'] for more information. [astropy.modeling.fitting]\n",
      "WARNING: The fit may be unsuccessful; check fit_info['message'] for more information. [astropy.modeling.fitting]\n"
     ]
    },
    {
     "name": "stdout",
     "output_type": "stream",
     "text": [
      "[ShiftFinder] ...Shifts: 8.743743419641152,-14.279355934345617\n",
      "[ShiftFinder] Finding shifts in image: set 2; image 023...\n"
     ]
    },
    {
     "name": "stderr",
     "output_type": "stream",
     "text": [
      "WARNING: The fit may be unsuccessful; check fit_info['message'] for more information. [astropy.modeling.fitting]\n",
      "WARNING: The fit may be unsuccessful; check fit_info['message'] for more information. [astropy.modeling.fitting]\n",
      "WARNING: The fit may be unsuccessful; check fit_info['message'] for more information. [astropy.modeling.fitting]\n"
     ]
    },
    {
     "name": "stdout",
     "output_type": "stream",
     "text": [
      "[ShiftFinder] ...Shifts: 7.6273051441894575,-13.772607823412013\n",
      "[ShiftFinder] Finding shifts in image: set 2; image 024...\n",
      "[ShiftFinder] ...Shifts: 8.288726930785053,-14.617576502612067\n",
      "[ShiftFinder] Finding shifts in image: set 2; image 025...\n"
     ]
    },
    {
     "name": "stderr",
     "output_type": "stream",
     "text": [
      "WARNING: The fit may be unsuccessful; check fit_info['message'] for more information. [astropy.modeling.fitting]\n",
      "WARNING: The fit may be unsuccessful; check fit_info['message'] for more information. [astropy.modeling.fitting]\n",
      "WARNING: The fit may be unsuccessful; check fit_info['message'] for more information. [astropy.modeling.fitting]\n"
     ]
    },
    {
     "name": "stdout",
     "output_type": "stream",
     "text": [
      "[ShiftFinder] ...Shifts: 10.405388612342684,-14.836103577615113\n",
      "[ShiftFinder] Finding shifts in image: set 2; image 026...\n"
     ]
    },
    {
     "name": "stderr",
     "output_type": "stream",
     "text": [
      "WARNING: The fit may be unsuccessful; check fit_info['message'] for more information. [astropy.modeling.fitting]\n",
      "WARNING: The fit may be unsuccessful; check fit_info['message'] for more information. [astropy.modeling.fitting]\n",
      "WARNING: The fit may be unsuccessful; check fit_info['message'] for more information. [astropy.modeling.fitting]\n"
     ]
    },
    {
     "name": "stdout",
     "output_type": "stream",
     "text": [
      "[ShiftFinder] ...Shifts: 9.511587615153172,-14.96047099946216\n",
      "[ShiftFinder] Finding shifts in image: set 2; image 027...\n"
     ]
    },
    {
     "name": "stderr",
     "output_type": "stream",
     "text": [
      "WARNING: The fit may be unsuccessful; check fit_info['message'] for more information. [astropy.modeling.fitting]\n"
     ]
    },
    {
     "name": "stdout",
     "output_type": "stream",
     "text": [
      "[ShiftFinder] ...Shifts: 8.33222804541845,-15.303711703941335\n",
      "[ShiftFinder] Finding shifts in image: set 2; image 028...\n",
      "[ShiftFinder] ...Shifts: 8.40419791526164,-15.151936821589189\n",
      "[ShiftFinder] Finding shifts in image: set 2; image 029...\n"
     ]
    },
    {
     "name": "stderr",
     "output_type": "stream",
     "text": [
      "WARNING: The fit may be unsuccessful; check fit_info['message'] for more information. [astropy.modeling.fitting]\n",
      "WARNING: The fit may be unsuccessful; check fit_info['message'] for more information. [astropy.modeling.fitting]\n"
     ]
    },
    {
     "name": "stdout",
     "output_type": "stream",
     "text": [
      "[ShiftFinder] ...Shifts: 10.415767301947291,-15.924305098295847\n",
      "[ShiftFinder] Finding shifts in image: set 2; image 030...\n"
     ]
    },
    {
     "name": "stderr",
     "output_type": "stream",
     "text": [
      "WARNING: The fit may be unsuccessful; check fit_info['message'] for more information. [astropy.modeling.fitting]\n",
      "WARNING: The fit may be unsuccessful; check fit_info['message'] for more information. [astropy.modeling.fitting]\n"
     ]
    },
    {
     "name": "stdout",
     "output_type": "stream",
     "text": [
      "[ShiftFinder] ...Shifts: 10.684790286428383,-15.857365189531059\n",
      "[ShiftFinder] Finding shifts in image: set 2; image 031...\n"
     ]
    },
    {
     "name": "stderr",
     "output_type": "stream",
     "text": [
      "WARNING: The fit may be unsuccessful; check fit_info['message'] for more information. [astropy.modeling.fitting]\n"
     ]
    },
    {
     "name": "stdout",
     "output_type": "stream",
     "text": [
      "[ShiftFinder] ...Shifts: 10.559928836010757,-17.06067287929867\n",
      "[ShiftFinder] Finding shifts in image: set 2; image 032...\n"
     ]
    },
    {
     "name": "stderr",
     "output_type": "stream",
     "text": [
      "WARNING: The fit may be unsuccessful; check fit_info['message'] for more information. [astropy.modeling.fitting]\n",
      "WARNING: The fit may be unsuccessful; check fit_info['message'] for more information. [astropy.modeling.fitting]\n"
     ]
    },
    {
     "name": "stdout",
     "output_type": "stream",
     "text": [
      "[ShiftFinder] ...Shifts: 14.222551163128928,-18.17140958936062\n",
      "[ShiftFinder] Finding shifts in image: set 2; image 033...\n"
     ]
    },
    {
     "name": "stderr",
     "output_type": "stream",
     "text": [
      "WARNING: The fit may be unsuccessful; check fit_info['message'] for more information. [astropy.modeling.fitting]\n",
      "WARNING: The fit may be unsuccessful; check fit_info['message'] for more information. [astropy.modeling.fitting]\n"
     ]
    },
    {
     "name": "stdout",
     "output_type": "stream",
     "text": [
      "[ShiftFinder] ...Shifts: 11.222047620422938,-17.65477276663907\n",
      "[ShiftFinder] Finding shifts in image: set 2; image 034...\n"
     ]
    },
    {
     "name": "stderr",
     "output_type": "stream",
     "text": [
      "WARNING: The fit may be unsuccessful; check fit_info['message'] for more information. [astropy.modeling.fitting]\n",
      "WARNING: The fit may be unsuccessful; check fit_info['message'] for more information. [astropy.modeling.fitting]\n"
     ]
    },
    {
     "name": "stdout",
     "output_type": "stream",
     "text": [
      "[ShiftFinder] ...Shifts: 11.394800717307353,-17.919226739180182\n",
      "[ShiftFinder] Finding shifts in image: set 2; image 035...\n"
     ]
    },
    {
     "name": "stderr",
     "output_type": "stream",
     "text": [
      "WARNING: The fit may be unsuccessful; check fit_info['message'] for more information. [astropy.modeling.fitting]\n",
      "WARNING: The fit may be unsuccessful; check fit_info['message'] for more information. [astropy.modeling.fitting]\n"
     ]
    },
    {
     "name": "stdout",
     "output_type": "stream",
     "text": [
      "[ShiftFinder] ...Shifts: 12.430852437969754,-18.22222921220359\n",
      "[ShiftFinder] Finding shifts in image: set 2; image 036...\n"
     ]
    },
    {
     "name": "stderr",
     "output_type": "stream",
     "text": [
      "WARNING: The fit may be unsuccessful; check fit_info['message'] for more information. [astropy.modeling.fitting]\n",
      "WARNING: The fit may be unsuccessful; check fit_info['message'] for more information. [astropy.modeling.fitting]\n",
      "WARNING: The fit may be unsuccessful; check fit_info['message'] for more information. [astropy.modeling.fitting]\n"
     ]
    },
    {
     "name": "stdout",
     "output_type": "stream",
     "text": [
      "[ShiftFinder] ...Shifts: 13.184422067045638,-18.644727225138666\n",
      "[ShiftFinder] Finding shifts in image: set 2; image 037...\n"
     ]
    },
    {
     "name": "stderr",
     "output_type": "stream",
     "text": [
      "WARNING: The fit may be unsuccessful; check fit_info['message'] for more information. [astropy.modeling.fitting]\n",
      "WARNING: The fit may be unsuccessful; check fit_info['message'] for more information. [astropy.modeling.fitting]\n"
     ]
    },
    {
     "name": "stdout",
     "output_type": "stream",
     "text": [
      "[ShiftFinder] ...Shifts: 12.783599640805882,-18.32184451022472\n",
      "[ShiftFinder] Finding shifts in image: set 2; image 038...\n"
     ]
    },
    {
     "name": "stderr",
     "output_type": "stream",
     "text": [
      "WARNING: The fit may be unsuccessful; check fit_info['message'] for more information. [astropy.modeling.fitting]\n"
     ]
    },
    {
     "name": "stdout",
     "output_type": "stream",
     "text": [
      "[ShiftFinder] ...Shifts: 11.835172245184435,-18.656455702001182\n",
      "[ShiftFinder] Finding shifts in image: set 2; image 039...\n"
     ]
    },
    {
     "name": "stderr",
     "output_type": "stream",
     "text": [
      "WARNING: The fit may be unsuccessful; check fit_info['message'] for more information. [astropy.modeling.fitting]\n",
      "WARNING: The fit may be unsuccessful; check fit_info['message'] for more information. [astropy.modeling.fitting]\n"
     ]
    },
    {
     "name": "stdout",
     "output_type": "stream",
     "text": [
      "[ShiftFinder] ...Shifts: 12.267687520585588,-18.810448714830635\n",
      "[ShiftFinder] Finding shifts in image: set 2; image 040...\n"
     ]
    },
    {
     "name": "stderr",
     "output_type": "stream",
     "text": [
      "WARNING: The fit may be unsuccessful; check fit_info['message'] for more information. [astropy.modeling.fitting]\n",
      "WARNING: The fit may be unsuccessful; check fit_info['message'] for more information. [astropy.modeling.fitting]\n"
     ]
    },
    {
     "name": "stdout",
     "output_type": "stream",
     "text": [
      "[ShiftFinder] ...Shifts: 13.798706863124751,-19.157196837040637\n",
      "[ShiftFinder] Finding shifts in image: set 2; image 041...\n"
     ]
    },
    {
     "name": "stderr",
     "output_type": "stream",
     "text": [
      "WARNING: The fit may be unsuccessful; check fit_info['message'] for more information. [astropy.modeling.fitting]\n",
      "WARNING: The fit may be unsuccessful; check fit_info['message'] for more information. [astropy.modeling.fitting]\n"
     ]
    },
    {
     "name": "stdout",
     "output_type": "stream",
     "text": [
      "[ShiftFinder] ...Shifts: 13.892149523532996,-19.315418676193374\n",
      "[ShiftFinder] Finding shifts in image: set 2; image 042...\n"
     ]
    },
    {
     "name": "stderr",
     "output_type": "stream",
     "text": [
      "WARNING: The fit may be unsuccessful; check fit_info['message'] for more information. [astropy.modeling.fitting]\n"
     ]
    },
    {
     "name": "stdout",
     "output_type": "stream",
     "text": [
      "[ShiftFinder] ...Shifts: 12.78732574808214,-19.43309872430469\n",
      "[ShiftFinder] Finding shifts in image: set 2; image 043...\n"
     ]
    },
    {
     "name": "stderr",
     "output_type": "stream",
     "text": [
      "WARNING: The fit may be unsuccessful; check fit_info['message'] for more information. [astropy.modeling.fitting]\n",
      "WARNING: The fit may be unsuccessful; check fit_info['message'] for more information. [astropy.modeling.fitting]\n",
      "WARNING: The fit may be unsuccessful; check fit_info['message'] for more information. [astropy.modeling.fitting]\n"
     ]
    },
    {
     "name": "stdout",
     "output_type": "stream",
     "text": [
      "[ShiftFinder] ...Shifts: 12.630248919244895,-19.399145505527823\n",
      "[ShiftFinder] Finding shifts in image: set 2; image 044...\n"
     ]
    },
    {
     "name": "stderr",
     "output_type": "stream",
     "text": [
      "WARNING: The fit may be unsuccessful; check fit_info['message'] for more information. [astropy.modeling.fitting]\n"
     ]
    },
    {
     "name": "stdout",
     "output_type": "stream",
     "text": [
      "[ShiftFinder] ...Shifts: 14.674225210052114,-19.736466999801458\n",
      "[ShiftFinder] Finding shifts in image: set 2; image 045...\n"
     ]
    },
    {
     "name": "stderr",
     "output_type": "stream",
     "text": [
      "WARNING: The fit may be unsuccessful; check fit_info['message'] for more information. [astropy.modeling.fitting]\n"
     ]
    },
    {
     "name": "stdout",
     "output_type": "stream",
     "text": [
      "[ShiftFinder] ...Shifts: 14.625940711463116,-19.997044089485023\n",
      "[ShiftFinder] Finding shifts in image: set 2; image 046...\n"
     ]
    },
    {
     "name": "stderr",
     "output_type": "stream",
     "text": [
      "WARNING: The fit may be unsuccessful; check fit_info['message'] for more information. [astropy.modeling.fitting]\n",
      "WARNING: The fit may be unsuccessful; check fit_info['message'] for more information. [astropy.modeling.fitting]\n"
     ]
    },
    {
     "name": "stdout",
     "output_type": "stream",
     "text": [
      "[ShiftFinder] ...Shifts: 13.819268097786612,-20.132910470351472\n",
      "[ShiftFinder] Finding shifts in image: set 2; image 047...\n"
     ]
    },
    {
     "name": "stderr",
     "output_type": "stream",
     "text": [
      "WARNING: The fit may be unsuccessful; check fit_info['message'] for more information. [astropy.modeling.fitting]\n",
      "WARNING: The fit may be unsuccessful; check fit_info['message'] for more information. [astropy.modeling.fitting]\n"
     ]
    },
    {
     "name": "stdout",
     "output_type": "stream",
     "text": [
      "[ShiftFinder] ...Shifts: 13.182782864749171,-20.270525198425148\n",
      "[ShiftFinder] Finding shifts in image: set 2; image 048...\n"
     ]
    },
    {
     "name": "stderr",
     "output_type": "stream",
     "text": [
      "WARNING: The fit may be unsuccessful; check fit_info['message'] for more information. [astropy.modeling.fitting]\n",
      "WARNING: The fit may be unsuccessful; check fit_info['message'] for more information. [astropy.modeling.fitting]\n",
      "WARNING: The fit may be unsuccessful; check fit_info['message'] for more information. [astropy.modeling.fitting]\n"
     ]
    },
    {
     "name": "stdout",
     "output_type": "stream",
     "text": [
      "[ShiftFinder] ...Shifts: 14.763573088357965,-20.698292328928233\n",
      "[ShiftFinder] Finding shifts in image: set 2; image 049...\n"
     ]
    },
    {
     "name": "stderr",
     "output_type": "stream",
     "text": [
      "WARNING: The fit may be unsuccessful; check fit_info['message'] for more information. [astropy.modeling.fitting]\n",
      "WARNING: The fit may be unsuccessful; check fit_info['message'] for more information. [astropy.modeling.fitting]\n"
     ]
    },
    {
     "name": "stdout",
     "output_type": "stream",
     "text": [
      "[ShiftFinder] ...Shifts: 15.479846017356113,-20.659614525658995\n",
      "[ShiftFinder] Finding shifts in image: set 2; image 050...\n"
     ]
    },
    {
     "name": "stderr",
     "output_type": "stream",
     "text": [
      "WARNING: The fit may be unsuccessful; check fit_info['message'] for more information. [astropy.modeling.fitting]\n",
      "WARNING: The fit may be unsuccessful; check fit_info['message'] for more information. [astropy.modeling.fitting]\n"
     ]
    },
    {
     "name": "stdout",
     "output_type": "stream",
     "text": [
      "[ShiftFinder] ...Shifts: 15.034766506494067,-20.923045084326937\n",
      "[ShiftFinder] Finding shifts in image: set 3; image 001...\n"
     ]
    },
    {
     "name": "stderr",
     "output_type": "stream",
     "text": [
      "WARNING: The fit may be unsuccessful; check fit_info['message'] for more information. [astropy.modeling.fitting]\n"
     ]
    },
    {
     "name": "stdout",
     "output_type": "stream",
     "text": [
      "[ShiftFinder] ...Shifts: 15.99374177429436,-20.961974319551764\n",
      "[ShiftFinder] Finding shifts in image: set 3; image 002...\n"
     ]
    },
    {
     "name": "stderr",
     "output_type": "stream",
     "text": [
      "WARNING: The fit may be unsuccessful; check fit_info['message'] for more information. [astropy.modeling.fitting]\n",
      "WARNING: The fit may be unsuccessful; check fit_info['message'] for more information. [astropy.modeling.fitting]\n"
     ]
    },
    {
     "name": "stdout",
     "output_type": "stream",
     "text": [
      "[ShiftFinder] ...Shifts: 16.450877401552134,-21.305542661684854\n",
      "[ShiftFinder] Finding shifts in image: set 3; image 003...\n",
      "[ShiftFinder] ...Shifts: 15.80214865631278,-21.0781277869211\n",
      "[ShiftFinder] Finding shifts in image: set 3; image 004...\n"
     ]
    },
    {
     "name": "stderr",
     "output_type": "stream",
     "text": [
      "WARNING: The fit may be unsuccessful; check fit_info['message'] for more information. [astropy.modeling.fitting]\n",
      "WARNING: The fit may be unsuccessful; check fit_info['message'] for more information. [astropy.modeling.fitting]\n",
      "WARNING: The fit may be unsuccessful; check fit_info['message'] for more information. [astropy.modeling.fitting]\n",
      "WARNING: The fit may be unsuccessful; check fit_info['message'] for more information. [astropy.modeling.fitting]\n"
     ]
    },
    {
     "name": "stdout",
     "output_type": "stream",
     "text": [
      "[ShiftFinder] ...Shifts: 14.803785357644815,-21.463199747560722\n",
      "[ShiftFinder] Finding shifts in image: set 3; image 005...\n"
     ]
    },
    {
     "name": "stderr",
     "output_type": "stream",
     "text": [
      "WARNING: The fit may be unsuccessful; check fit_info['message'] for more information. [astropy.modeling.fitting]\n"
     ]
    },
    {
     "name": "stdout",
     "output_type": "stream",
     "text": [
      "[ShiftFinder] ...Shifts: 15.69120846783088,-21.765875781194822\n",
      "[ShiftFinder] Finding shifts in image: set 3; image 006...\n"
     ]
    },
    {
     "name": "stderr",
     "output_type": "stream",
     "text": [
      "WARNING: The fit may be unsuccessful; check fit_info['message'] for more information. [astropy.modeling.fitting]\n",
      "WARNING: The fit may be unsuccessful; check fit_info['message'] for more information. [astropy.modeling.fitting]\n",
      "WARNING: The fit may be unsuccessful; check fit_info['message'] for more information. [astropy.modeling.fitting]\n"
     ]
    },
    {
     "name": "stdout",
     "output_type": "stream",
     "text": [
      "[ShiftFinder] ...Shifts: 17.21303641010522,-22.41714333384756\n",
      "[ShiftFinder] Finding shifts in image: set 3; image 007...\n"
     ]
    },
    {
     "name": "stderr",
     "output_type": "stream",
     "text": [
      "WARNING: The fit may be unsuccessful; check fit_info['message'] for more information. [astropy.modeling.fitting]\n",
      "WARNING: The fit may be unsuccessful; check fit_info['message'] for more information. [astropy.modeling.fitting]\n"
     ]
    },
    {
     "name": "stdout",
     "output_type": "stream",
     "text": [
      "[ShiftFinder] ...Shifts: 16.741275429673628,-22.231231261758563\n",
      "[ShiftFinder] Finding shifts in image: set 3; image 008...\n"
     ]
    },
    {
     "name": "stderr",
     "output_type": "stream",
     "text": [
      "WARNING: The fit may be unsuccessful; check fit_info['message'] for more information. [astropy.modeling.fitting]\n"
     ]
    },
    {
     "name": "stdout",
     "output_type": "stream",
     "text": [
      "[ShiftFinder] ...Shifts: 16.0223636953208,-22.23464485031878\n",
      "[ShiftFinder] Finding shifts in image: set 3; image 009...\n"
     ]
    },
    {
     "name": "stderr",
     "output_type": "stream",
     "text": [
      "WARNING: The fit may be unsuccessful; check fit_info['message'] for more information. [astropy.modeling.fitting]\n",
      "WARNING: The fit may be unsuccessful; check fit_info['message'] for more information. [astropy.modeling.fitting]\n"
     ]
    },
    {
     "name": "stdout",
     "output_type": "stream",
     "text": [
      "[ShiftFinder] ...Shifts: 16.182336925284496,-22.511280116051502\n",
      "[ShiftFinder] Finding shifts in image: set 3; image 010...\n"
     ]
    },
    {
     "name": "stderr",
     "output_type": "stream",
     "text": [
      "WARNING: The fit may be unsuccessful; check fit_info['message'] for more information. [astropy.modeling.fitting]\n",
      "WARNING: The fit may be unsuccessful; check fit_info['message'] for more information. [astropy.modeling.fitting]\n"
     ]
    },
    {
     "name": "stdout",
     "output_type": "stream",
     "text": [
      "[ShiftFinder] ...Shifts: 17.75060881659679,-22.738251332997674\n",
      "[ShiftFinder] Finding shifts in image: set 3; image 011...\n"
     ]
    },
    {
     "name": "stderr",
     "output_type": "stream",
     "text": [
      "WARNING: The fit may be unsuccessful; check fit_info['message'] for more information. [astropy.modeling.fitting]\n",
      "WARNING: The fit may be unsuccessful; check fit_info['message'] for more information. [astropy.modeling.fitting]\n",
      "WARNING: The fit may be unsuccessful; check fit_info['message'] for more information. [astropy.modeling.fitting]\n",
      "WARNING: The fit may be unsuccessful; check fit_info['message'] for more information. [astropy.modeling.fitting]\n"
     ]
    },
    {
     "name": "stdout",
     "output_type": "stream",
     "text": [
      "[ShiftFinder] ...Shifts: 17.814678179721486,-22.860416522977545\n",
      "[ShiftFinder] Finding shifts in image: set 3; image 012...\n"
     ]
    },
    {
     "name": "stderr",
     "output_type": "stream",
     "text": [
      "WARNING: The fit may be unsuccessful; check fit_info['message'] for more information. [astropy.modeling.fitting]\n",
      "WARNING: The fit may be unsuccessful; check fit_info['message'] for more information. [astropy.modeling.fitting]\n"
     ]
    },
    {
     "name": "stdout",
     "output_type": "stream",
     "text": [
      "[ShiftFinder] ...Shifts: 16.89375612739355,-22.7635124573012\n",
      "[ShiftFinder] Finding shifts in image: set 3; image 013...\n"
     ]
    },
    {
     "name": "stderr",
     "output_type": "stream",
     "text": [
      "WARNING: The fit may be unsuccessful; check fit_info['message'] for more information. [astropy.modeling.fitting]\n"
     ]
    },
    {
     "name": "stdout",
     "output_type": "stream",
     "text": [
      "[ShiftFinder] ...Shifts: 16.55229184901607,-22.6933877324336\n",
      "[ShiftFinder] Finding shifts in image: set 3; image 014...\n"
     ]
    },
    {
     "name": "stderr",
     "output_type": "stream",
     "text": [
      "WARNING: The fit may be unsuccessful; check fit_info['message'] for more information. [astropy.modeling.fitting]\n",
      "WARNING: The fit may be unsuccessful; check fit_info['message'] for more information. [astropy.modeling.fitting]\n",
      "WARNING: The fit may be unsuccessful; check fit_info['message'] for more information. [astropy.modeling.fitting]\n",
      "WARNING: The fit may be unsuccessful; check fit_info['message'] for more information. [astropy.modeling.fitting]\n"
     ]
    },
    {
     "name": "stdout",
     "output_type": "stream",
     "text": [
      "[ShiftFinder] ...Shifts: 18.256253880503117,-23.142495584944456\n",
      "[ShiftFinder] Finding shifts in image: set 3; image 015...\n",
      "[ShiftFinder] ...Shifts: 19.51717088452034,-23.162443385550446\n",
      "[ShiftFinder] Finding shifts in image: set 3; image 016...\n"
     ]
    },
    {
     "name": "stderr",
     "output_type": "stream",
     "text": [
      "WARNING: The fit may be unsuccessful; check fit_info['message'] for more information. [astropy.modeling.fitting]\n"
     ]
    },
    {
     "name": "stdout",
     "output_type": "stream",
     "text": [
      "[ShiftFinder] ...Shifts: 17.750340975572165,-23.080312769606795\n",
      "[ShiftFinder] Finding shifts in image: set 3; image 017...\n"
     ]
    },
    {
     "name": "stderr",
     "output_type": "stream",
     "text": [
      "WARNING: The fit may be unsuccessful; check fit_info['message'] for more information. [astropy.modeling.fitting]\n",
      "WARNING: The fit may be unsuccessful; check fit_info['message'] for more information. [astropy.modeling.fitting]\n"
     ]
    },
    {
     "name": "stdout",
     "output_type": "stream",
     "text": [
      "[ShiftFinder] ...Shifts: 17.55474727762495,-23.61194682495495\n",
      "[ShiftFinder] Finding shifts in image: set 3; image 018...\n"
     ]
    },
    {
     "name": "stderr",
     "output_type": "stream",
     "text": [
      "WARNING: The fit may be unsuccessful; check fit_info['message'] for more information. [astropy.modeling.fitting]\n",
      "WARNING: The fit may be unsuccessful; check fit_info['message'] for more information. [astropy.modeling.fitting]\n",
      "WARNING: The fit may be unsuccessful; check fit_info['message'] for more information. [astropy.modeling.fitting]\n"
     ]
    },
    {
     "name": "stdout",
     "output_type": "stream",
     "text": [
      "[ShiftFinder] ...Shifts: 18.668284241346623,-23.77083539045709\n",
      "[ShiftFinder] Finding shifts in image: set 3; image 019...\n"
     ]
    },
    {
     "name": "stderr",
     "output_type": "stream",
     "text": [
      "WARNING: The fit may be unsuccessful; check fit_info['message'] for more information. [astropy.modeling.fitting]\n",
      "WARNING: The fit may be unsuccessful; check fit_info['message'] for more information. [astropy.modeling.fitting]\n"
     ]
    },
    {
     "name": "stdout",
     "output_type": "stream",
     "text": [
      "[ShiftFinder] ...Shifts: 19.977042448263255,-23.718839760422423\n",
      "[ShiftFinder] Finding shifts in image: set 3; image 020...\n"
     ]
    },
    {
     "name": "stderr",
     "output_type": "stream",
     "text": [
      "WARNING: The fit may be unsuccessful; check fit_info['message'] for more information. [astropy.modeling.fitting]\n"
     ]
    },
    {
     "name": "stdout",
     "output_type": "stream",
     "text": [
      "[ShiftFinder] ...Shifts: 19.245182624384885,-24.179901710235523\n",
      "[ShiftFinder] Finding shifts in image: set 3; image 021...\n",
      "[ShiftFinder] ...Shifts: 18.76385483570775,-24.035373870092627\n",
      "[ShiftFinder] Finding shifts in image: set 3; image 022...\n"
     ]
    },
    {
     "name": "stderr",
     "output_type": "stream",
     "text": [
      "WARNING: The fit may be unsuccessful; check fit_info['message'] for more information. [astropy.modeling.fitting]\n",
      "WARNING: The fit may be unsuccessful; check fit_info['message'] for more information. [astropy.modeling.fitting]\n",
      "WARNING: The fit may be unsuccessful; check fit_info['message'] for more information. [astropy.modeling.fitting]\n"
     ]
    },
    {
     "name": "stdout",
     "output_type": "stream",
     "text": [
      "[ShiftFinder] ...Shifts: 19.103574231672585,-24.289451700335995\n",
      "[ShiftFinder] Finding shifts in image: set 3; image 023...\n"
     ]
    },
    {
     "name": "stderr",
     "output_type": "stream",
     "text": [
      "WARNING: The fit may be unsuccessful; check fit_info['message'] for more information. [astropy.modeling.fitting]\n"
     ]
    },
    {
     "name": "stdout",
     "output_type": "stream",
     "text": [
      "[ShiftFinder] ...Shifts: 21.774145399550285,-24.46644659489187\n",
      "[ShiftFinder] Finding shifts in image: set 3; image 024...\n"
     ]
    },
    {
     "name": "stderr",
     "output_type": "stream",
     "text": [
      "WARNING: The fit may be unsuccessful; check fit_info['message'] for more information. [astropy.modeling.fitting]\n",
      "WARNING: The fit may be unsuccessful; check fit_info['message'] for more information. [astropy.modeling.fitting]\n",
      "WARNING: The fit may be unsuccessful; check fit_info['message'] for more information. [astropy.modeling.fitting]\n"
     ]
    },
    {
     "name": "stdout",
     "output_type": "stream",
     "text": [
      "[ShiftFinder] ...Shifts: 20.55920180475932,-24.652907301359875\n",
      "[ShiftFinder] Finding shifts in image: set 3; image 025...\n"
     ]
    },
    {
     "name": "stderr",
     "output_type": "stream",
     "text": [
      "WARNING: The fit may be unsuccessful; check fit_info['message'] for more information. [astropy.modeling.fitting]\n",
      "WARNING: The fit may be unsuccessful; check fit_info['message'] for more information. [astropy.modeling.fitting]\n"
     ]
    },
    {
     "name": "stdout",
     "output_type": "stream",
     "text": [
      "[ShiftFinder] ...Shifts: 20.05723065448774,-24.788042898477848\n",
      "[ShiftFinder] Finding shifts in image: set 3; image 026...\n"
     ]
    },
    {
     "name": "stderr",
     "output_type": "stream",
     "text": [
      "WARNING: The fit may be unsuccessful; check fit_info['message'] for more information. [astropy.modeling.fitting]\n",
      "WARNING: The fit may be unsuccessful; check fit_info['message'] for more information. [astropy.modeling.fitting]\n"
     ]
    },
    {
     "name": "stdout",
     "output_type": "stream",
     "text": [
      "[ShiftFinder] ...Shifts: 19.759105156320594,-24.79480013040191\n",
      "[ShiftFinder] Finding shifts in image: set 3; image 027...\n",
      "[ShiftFinder] ...Shifts: 21.613046800935745,-25.0981018840473\n",
      "[ShiftFinder] Finding shifts in image: set 3; image 028...\n",
      "[ShiftFinder] ...Shifts: 21.614690839134944,-25.313213031444263\n",
      "[ShiftFinder] Finding shifts in image: set 3; image 029...\n"
     ]
    },
    {
     "name": "stderr",
     "output_type": "stream",
     "text": [
      "WARNING: The fit may be unsuccessful; check fit_info['message'] for more information. [astropy.modeling.fitting]\n",
      "WARNING: The fit may be unsuccessful; check fit_info['message'] for more information. [astropy.modeling.fitting]\n"
     ]
    },
    {
     "name": "stdout",
     "output_type": "stream",
     "text": [
      "[ShiftFinder] ...Shifts: 21.02126122225961,-25.315620287868306\n",
      "[ShiftFinder] Finding shifts in image: set 3; image 030...\n",
      "[ShiftFinder] ...Shifts: 20.235876175172546,-25.313578131365396\n",
      "[ShiftFinder] Finding shifts in image: set 3; image 031...\n"
     ]
    },
    {
     "name": "stderr",
     "output_type": "stream",
     "text": [
      "WARNING: The fit may be unsuccessful; check fit_info['message'] for more information. [astropy.modeling.fitting]\n",
      "WARNING: The fit may be unsuccessful; check fit_info['message'] for more information. [astropy.modeling.fitting]\n",
      "WARNING: The fit may be unsuccessful; check fit_info['message'] for more information. [astropy.modeling.fitting]\n"
     ]
    },
    {
     "name": "stdout",
     "output_type": "stream",
     "text": [
      "[ShiftFinder] ...Shifts: 22.34510387610812,-26.043060607055182\n",
      "[ShiftFinder] Finding shifts in image: set 3; image 032...\n"
     ]
    },
    {
     "name": "stderr",
     "output_type": "stream",
     "text": [
      "WARNING: The fit may be unsuccessful; check fit_info['message'] for more information. [astropy.modeling.fitting]\n"
     ]
    },
    {
     "name": "stdout",
     "output_type": "stream",
     "text": [
      "[ShiftFinder] ...Shifts: 23.248363528104058,-25.937319762520474\n",
      "[ShiftFinder] Finding shifts in image: set 3; image 033...\n"
     ]
    },
    {
     "name": "stderr",
     "output_type": "stream",
     "text": [
      "WARNING: The fit may be unsuccessful; check fit_info['message'] for more information. [astropy.modeling.fitting]\n"
     ]
    },
    {
     "name": "stdout",
     "output_type": "stream",
     "text": [
      "[ShiftFinder] ...Shifts: 21.7424235225862,-26.099313215526806\n",
      "[ShiftFinder] Finding shifts in image: set 3; image 034...\n"
     ]
    },
    {
     "name": "stderr",
     "output_type": "stream",
     "text": [
      "WARNING: The fit may be unsuccessful; check fit_info['message'] for more information. [astropy.modeling.fitting]\n",
      "WARNING: The fit may be unsuccessful; check fit_info['message'] for more information. [astropy.modeling.fitting]\n",
      "WARNING: The fit may be unsuccessful; check fit_info['message'] for more information. [astropy.modeling.fitting]\n"
     ]
    },
    {
     "name": "stdout",
     "output_type": "stream",
     "text": [
      "[ShiftFinder] ...Shifts: 21.85804825573629,-25.979817172417306\n",
      "[ShiftFinder] Finding shifts in image: set 3; image 035...\n"
     ]
    },
    {
     "name": "stderr",
     "output_type": "stream",
     "text": [
      "WARNING: The fit may be unsuccessful; check fit_info['message'] for more information. [astropy.modeling.fitting]\n"
     ]
    },
    {
     "name": "stdout",
     "output_type": "stream",
     "text": [
      "[ShiftFinder] ...Shifts: 22.634417546037223,-26.184352246346403\n",
      "[ShiftFinder] Finding shifts in image: set 3; image 036...\n"
     ]
    },
    {
     "name": "stderr",
     "output_type": "stream",
     "text": [
      "WARNING: The fit may be unsuccessful; check fit_info['message'] for more information. [astropy.modeling.fitting]\n",
      "WARNING: The fit may be unsuccessful; check fit_info['message'] for more information. [astropy.modeling.fitting]\n"
     ]
    },
    {
     "name": "stdout",
     "output_type": "stream",
     "text": [
      "[ShiftFinder] ...Shifts: 24.721909468271164,-26.49648328294525\n",
      "[ShiftFinder] Finding shifts in image: set 3; image 037...\n"
     ]
    },
    {
     "name": "stderr",
     "output_type": "stream",
     "text": [
      "WARNING: The fit may be unsuccessful; check fit_info['message'] for more information. [astropy.modeling.fitting]\n",
      "WARNING: The fit may be unsuccessful; check fit_info['message'] for more information. [astropy.modeling.fitting]\n"
     ]
    },
    {
     "name": "stdout",
     "output_type": "stream",
     "text": [
      "[ShiftFinder] ...Shifts: 23.587869108745114,-26.140592208717557\n",
      "[ShiftFinder] Finding shifts in image: set 3; image 038...\n"
     ]
    },
    {
     "name": "stderr",
     "output_type": "stream",
     "text": [
      "WARNING: The fit may be unsuccessful; check fit_info['message'] for more information. [astropy.modeling.fitting]\n"
     ]
    },
    {
     "name": "stdout",
     "output_type": "stream",
     "text": [
      "[ShiftFinder] ...Shifts: 23.104954225048516,-26.484044916151355\n",
      "[ShiftFinder] Finding shifts in image: set 3; image 039...\n"
     ]
    },
    {
     "name": "stderr",
     "output_type": "stream",
     "text": [
      "WARNING: The fit may be unsuccessful; check fit_info['message'] for more information. [astropy.modeling.fitting]\n"
     ]
    },
    {
     "name": "stdout",
     "output_type": "stream",
     "text": [
      "[ShiftFinder] ...Shifts: 22.914347736822464,-25.992214681032905\n",
      "[ShiftFinder] Finding shifts in image: set 3; image 040...\n",
      "[ShiftFinder] ...Shifts: 25.47983016994378,-26.959646806768312\n",
      "[ShiftFinder] Finding shifts in image: set 3; image 041...\n"
     ]
    },
    {
     "name": "stderr",
     "output_type": "stream",
     "text": [
      "WARNING: The fit may be unsuccessful; check fit_info['message'] for more information. [astropy.modeling.fitting]\n"
     ]
    },
    {
     "name": "stdout",
     "output_type": "stream",
     "text": [
      "[ShiftFinder] ...Shifts: 24.512785628000287,-26.885948025263804\n",
      "[ShiftFinder] Finding shifts in image: set 3; image 042...\n"
     ]
    },
    {
     "name": "stderr",
     "output_type": "stream",
     "text": [
      "WARNING: The fit may be unsuccessful; check fit_info['message'] for more information. [astropy.modeling.fitting]\n"
     ]
    },
    {
     "name": "stdout",
     "output_type": "stream",
     "text": [
      "[ShiftFinder] ...Shifts: 23.95841668009128,-26.9411095625994\n",
      "[ShiftFinder] Finding shifts in image: set 3; image 043...\n"
     ]
    },
    {
     "name": "stderr",
     "output_type": "stream",
     "text": [
      "WARNING: The fit may be unsuccessful; check fit_info['message'] for more information. [astropy.modeling.fitting]\n"
     ]
    },
    {
     "name": "stdout",
     "output_type": "stream",
     "text": [
      "[ShiftFinder] ...Shifts: 23.44645067008697,-27.402712932256573\n",
      "[ShiftFinder] Finding shifts in image: set 3; image 044...\n",
      "[ShiftFinder] ...Shifts: 25.570846300068663,-27.39865206916632\n",
      "[ShiftFinder] Finding shifts in image: set 3; image 045...\n"
     ]
    },
    {
     "name": "stderr",
     "output_type": "stream",
     "text": [
      "WARNING: The fit may be unsuccessful; check fit_info['message'] for more information. [astropy.modeling.fitting]\n",
      "WARNING: The fit may be unsuccessful; check fit_info['message'] for more information. [astropy.modeling.fitting]\n",
      "WARNING: The fit may be unsuccessful; check fit_info['message'] for more information. [astropy.modeling.fitting]\n"
     ]
    },
    {
     "name": "stdout",
     "output_type": "stream",
     "text": [
      "[ShiftFinder] ...Shifts: 25.67675306150121,-27.48179514065521\n",
      "[ShiftFinder] Finding shifts in image: set 3; image 046...\n",
      "[ShiftFinder] ...Shifts: 24.79215069816529,-27.120740555114466\n",
      "[ShiftFinder] Finding shifts in image: set 3; image 047...\n"
     ]
    },
    {
     "name": "stderr",
     "output_type": "stream",
     "text": [
      "WARNING: The fit may be unsuccessful; check fit_info['message'] for more information. [astropy.modeling.fitting]\n",
      "WARNING: The fit may be unsuccessful; check fit_info['message'] for more information. [astropy.modeling.fitting]\n"
     ]
    },
    {
     "name": "stdout",
     "output_type": "stream",
     "text": [
      "[ShiftFinder] ...Shifts: 24.246031569442863,-27.598459147577003\n",
      "[ShiftFinder] Finding shifts in image: set 3; image 048...\n"
     ]
    },
    {
     "name": "stderr",
     "output_type": "stream",
     "text": [
      "WARNING: The fit may be unsuccessful; check fit_info['message'] for more information. [astropy.modeling.fitting]\n"
     ]
    },
    {
     "name": "stdout",
     "output_type": "stream",
     "text": [
      "[ShiftFinder] ...Shifts: 25.424706855084253,-27.692038072269128\n",
      "[ShiftFinder] Finding shifts in image: set 3; image 049...\n"
     ]
    },
    {
     "name": "stderr",
     "output_type": "stream",
     "text": [
      "WARNING: The fit may be unsuccessful; check fit_info['message'] for more information. [astropy.modeling.fitting]\n",
      "WARNING: The fit may be unsuccessful; check fit_info['message'] for more information. [astropy.modeling.fitting]\n"
     ]
    },
    {
     "name": "stdout",
     "output_type": "stream",
     "text": [
      "[ShiftFinder] ...Shifts: 27.325809950065015,-27.81049320574315\n",
      "[ShiftFinder] Finding shifts in image: set 3; image 050...\n"
     ]
    },
    {
     "name": "stderr",
     "output_type": "stream",
     "text": [
      "WARNING: The fit may be unsuccessful; check fit_info['message'] for more information. [astropy.modeling.fitting]\n",
      "WARNING: The fit may be unsuccessful; check fit_info['message'] for more information. [astropy.modeling.fitting]\n"
     ]
    },
    {
     "name": "stdout",
     "output_type": "stream",
     "text": [
      "[ShiftFinder] ...Shifts: 25.940534254851453,-27.85789439324654\n",
      "[ShiftFinder] Finding shifts in image: set 4; image 001...\n"
     ]
    },
    {
     "name": "stderr",
     "output_type": "stream",
     "text": [
      "WARNING: The fit may be unsuccessful; check fit_info['message'] for more information. [astropy.modeling.fitting]\n"
     ]
    },
    {
     "name": "stdout",
     "output_type": "stream",
     "text": [
      "[ShiftFinder] ...Shifts: 26.87543200091401,-28.9819432332038\n",
      "[ShiftFinder] Finding shifts in image: set 4; image 002...\n"
     ]
    },
    {
     "name": "stderr",
     "output_type": "stream",
     "text": [
      "WARNING: The fit may be unsuccessful; check fit_info['message'] for more information. [astropy.modeling.fitting]\n",
      "WARNING: The fit may be unsuccessful; check fit_info['message'] for more information. [astropy.modeling.fitting]\n"
     ]
    },
    {
     "name": "stdout",
     "output_type": "stream",
     "text": [
      "[ShiftFinder] ...Shifts: 26.368241227136032,-28.59803382187502\n",
      "[ShiftFinder] Finding shifts in image: set 4; image 003...\n"
     ]
    },
    {
     "name": "stderr",
     "output_type": "stream",
     "text": [
      "WARNING: The fit may be unsuccessful; check fit_info['message'] for more information. [astropy.modeling.fitting]\n"
     ]
    },
    {
     "name": "stdout",
     "output_type": "stream",
     "text": [
      "[ShiftFinder] ...Shifts: 30.015997035763593,-28.773484002078696\n",
      "[ShiftFinder] Finding shifts in image: set 4; image 004...\n"
     ]
    },
    {
     "name": "stderr",
     "output_type": "stream",
     "text": [
      "WARNING: The fit may be unsuccessful; check fit_info['message'] for more information. [astropy.modeling.fitting]\n",
      "WARNING: The fit may be unsuccessful; check fit_info['message'] for more information. [astropy.modeling.fitting]\n"
     ]
    },
    {
     "name": "stdout",
     "output_type": "stream",
     "text": [
      "[ShiftFinder] ...Shifts: 27.303458630137232,-28.671120979058447\n",
      "[ShiftFinder] Finding shifts in image: set 4; image 005...\n"
     ]
    },
    {
     "name": "stderr",
     "output_type": "stream",
     "text": [
      "WARNING: The fit may be unsuccessful; check fit_info['message'] for more information. [astropy.modeling.fitting]\n"
     ]
    },
    {
     "name": "stdout",
     "output_type": "stream",
     "text": [
      "[ShiftFinder] ...Shifts: 27.67305638729641,-28.68049354850544\n",
      "[ShiftFinder] Finding shifts in image: set 4; image 006...\n"
     ]
    },
    {
     "name": "stderr",
     "output_type": "stream",
     "text": [
      "WARNING: The fit may be unsuccessful; check fit_info['message'] for more information. [astropy.modeling.fitting]\n"
     ]
    },
    {
     "name": "stdout",
     "output_type": "stream",
     "text": [
      "[ShiftFinder] ...Shifts: 26.833491537660667,-28.532756781447613\n",
      "[ShiftFinder] Finding shifts in image: set 4; image 007...\n"
     ]
    },
    {
     "name": "stderr",
     "output_type": "stream",
     "text": [
      "WARNING: The fit may be unsuccessful; check fit_info['message'] for more information. [astropy.modeling.fitting]\n",
      "WARNING: The fit may be unsuccessful; check fit_info['message'] for more information. [astropy.modeling.fitting]\n"
     ]
    },
    {
     "name": "stdout",
     "output_type": "stream",
     "text": [
      "[ShiftFinder] ...Shifts: 29.231255340913734,-29.195859130793053\n",
      "[ShiftFinder] Finding shifts in image: set 4; image 008...\n"
     ]
    },
    {
     "name": "stderr",
     "output_type": "stream",
     "text": [
      "WARNING: The fit may be unsuccessful; check fit_info['message'] for more information. [astropy.modeling.fitting]\n"
     ]
    },
    {
     "name": "stdout",
     "output_type": "stream",
     "text": [
      "[ShiftFinder] ...Shifts: 29.21971816028379,-28.873576358440328\n",
      "[ShiftFinder] Finding shifts in image: set 4; image 009...\n"
     ]
    },
    {
     "name": "stderr",
     "output_type": "stream",
     "text": [
      "WARNING: The fit may be unsuccessful; check fit_info['message'] for more information. [astropy.modeling.fitting]\n",
      "WARNING: The fit may be unsuccessful; check fit_info['message'] for more information. [astropy.modeling.fitting]\n"
     ]
    },
    {
     "name": "stdout",
     "output_type": "stream",
     "text": [
      "[ShiftFinder] ...Shifts: 28.56491857721526,-29.219841811649616\n",
      "[ShiftFinder] Finding shifts in image: set 4; image 010...\n",
      "[ShiftFinder] ...Shifts: 27.904575087030324,-28.582935064442328\n",
      "[ShiftFinder] Finding shifts in image: set 4; image 011...\n"
     ]
    },
    {
     "name": "stderr",
     "output_type": "stream",
     "text": [
      "WARNING: The fit may be unsuccessful; check fit_info['message'] for more information. [astropy.modeling.fitting]\n"
     ]
    },
    {
     "name": "stdout",
     "output_type": "stream",
     "text": [
      "[ShiftFinder] ...Shifts: 29.703344724577565,-29.248878792878216\n",
      "[ShiftFinder] Finding shifts in image: set 4; image 012...\n"
     ]
    },
    {
     "name": "stderr",
     "output_type": "stream",
     "text": [
      "WARNING: The fit may be unsuccessful; check fit_info['message'] for more information. [astropy.modeling.fitting]\n",
      "WARNING: The fit may be unsuccessful; check fit_info['message'] for more information. [astropy.modeling.fitting]\n"
     ]
    },
    {
     "name": "stdout",
     "output_type": "stream",
     "text": [
      "[ShiftFinder] ...Shifts: 30.598436760451364,-29.171390604761932\n",
      "[ShiftFinder] Finding shifts in image: set 4; image 013...\n"
     ]
    },
    {
     "name": "stderr",
     "output_type": "stream",
     "text": [
      "WARNING: The fit may be unsuccessful; check fit_info['message'] for more information. [astropy.modeling.fitting]\n"
     ]
    },
    {
     "name": "stdout",
     "output_type": "stream",
     "text": [
      "[ShiftFinder] ...Shifts: 29.885300921701155,-29.255421380637202\n",
      "[ShiftFinder] Finding shifts in image: set 4; image 014...\n"
     ]
    },
    {
     "name": "stderr",
     "output_type": "stream",
     "text": [
      "WARNING: The fit may be unsuccessful; check fit_info['message'] for more information. [astropy.modeling.fitting]\n"
     ]
    },
    {
     "name": "stdout",
     "output_type": "stream",
     "text": [
      "[ShiftFinder] ...Shifts: 29.393707077668395,-29.470249271305654\n",
      "[ShiftFinder] Finding shifts in image: set 4; image 015...\n",
      "[ShiftFinder] ...Shifts: 29.765855393976075,-29.034285785506086\n",
      "[ShiftFinder] Finding shifts in image: set 4; image 016...\n"
     ]
    },
    {
     "name": "stderr",
     "output_type": "stream",
     "text": [
      "WARNING: The fit may be unsuccessful; check fit_info['message'] for more information. [astropy.modeling.fitting]\n",
      "WARNING: The fit may be unsuccessful; check fit_info['message'] for more information. [astropy.modeling.fitting]\n"
     ]
    },
    {
     "name": "stdout",
     "output_type": "stream",
     "text": [
      "[ShiftFinder] ...Shifts: 31.706610441485815,-29.50940402401412\n",
      "[ShiftFinder] Finding shifts in image: set 4; image 017...\n"
     ]
    },
    {
     "name": "stderr",
     "output_type": "stream",
     "text": [
      "WARNING: The fit may be unsuccessful; check fit_info['message'] for more information. [astropy.modeling.fitting]\n"
     ]
    },
    {
     "name": "stdout",
     "output_type": "stream",
     "text": [
      "[ShiftFinder] ...Shifts: 30.986929853964128,-29.306736117988816\n",
      "[ShiftFinder] Finding shifts in image: set 4; image 018...\n"
     ]
    },
    {
     "name": "stderr",
     "output_type": "stream",
     "text": [
      "WARNING: The fit may be unsuccessful; check fit_info['message'] for more information. [astropy.modeling.fitting]\n",
      "WARNING: The fit may be unsuccessful; check fit_info['message'] for more information. [astropy.modeling.fitting]\n",
      "WARNING: The fit may be unsuccessful; check fit_info['message'] for more information. [astropy.modeling.fitting]\n"
     ]
    },
    {
     "name": "stdout",
     "output_type": "stream",
     "text": [
      "[ShiftFinder] ...Shifts: 30.202184645565097,-29.42338386084215\n",
      "[ShiftFinder] Finding shifts in image: set 4; image 019...\n",
      "[ShiftFinder] ...Shifts: 30.158089049614397,-29.543273548423784\n",
      "[ShiftFinder] Finding shifts in image: set 4; image 020...\n"
     ]
    },
    {
     "name": "stderr",
     "output_type": "stream",
     "text": [
      "WARNING: The fit may be unsuccessful; check fit_info['message'] for more information. [astropy.modeling.fitting]\n",
      "WARNING: The fit may be unsuccessful; check fit_info['message'] for more information. [astropy.modeling.fitting]\n",
      "WARNING: The fit may be unsuccessful; check fit_info['message'] for more information. [astropy.modeling.fitting]\n",
      "WARNING: The fit may be unsuccessful; check fit_info['message'] for more information. [astropy.modeling.fitting]\n"
     ]
    },
    {
     "name": "stdout",
     "output_type": "stream",
     "text": [
      "[ShiftFinder] ...Shifts: 32.2986417453306,-29.446828787140824\n",
      "[ShiftFinder] Finding shifts in image: set 4; image 021...\n"
     ]
    },
    {
     "name": "stderr",
     "output_type": "stream",
     "text": [
      "WARNING: The fit may be unsuccessful; check fit_info['message'] for more information. [astropy.modeling.fitting]\n",
      "WARNING: The fit may be unsuccessful; check fit_info['message'] for more information. [astropy.modeling.fitting]\n"
     ]
    },
    {
     "name": "stdout",
     "output_type": "stream",
     "text": [
      "[ShiftFinder] ...Shifts: 31.89568407224408,-30.018730114046\n",
      "[ShiftFinder] Finding shifts in image: set 4; image 022...\n"
     ]
    },
    {
     "name": "stderr",
     "output_type": "stream",
     "text": [
      "WARNING: The fit may be unsuccessful; check fit_info['message'] for more information. [astropy.modeling.fitting]\n",
      "WARNING: The fit may be unsuccessful; check fit_info['message'] for more information. [astropy.modeling.fitting]\n"
     ]
    },
    {
     "name": "stdout",
     "output_type": "stream",
     "text": [
      "[ShiftFinder] ...Shifts: 31.824643675576958,-29.60755193418897\n",
      "[ShiftFinder] Finding shifts in image: set 4; image 023...\n"
     ]
    },
    {
     "name": "stderr",
     "output_type": "stream",
     "text": [
      "WARNING: The fit may be unsuccessful; check fit_info['message'] for more information. [astropy.modeling.fitting]\n",
      "WARNING: The fit may be unsuccessful; check fit_info['message'] for more information. [astropy.modeling.fitting]\n"
     ]
    },
    {
     "name": "stdout",
     "output_type": "stream",
     "text": [
      "[ShiftFinder] ...Shifts: 30.820355032867564,-29.459217507648017\n",
      "[ShiftFinder] Finding shifts in image: set 4; image 024...\n",
      "[ShiftFinder] ...Shifts: 32.94373942917552,-29.69471084297506\n",
      "[ShiftFinder] Finding shifts in image: set 4; image 025...\n"
     ]
    },
    {
     "name": "stderr",
     "output_type": "stream",
     "text": [
      "WARNING: The fit may be unsuccessful; check fit_info['message'] for more information. [astropy.modeling.fitting]\n",
      "WARNING: The fit may be unsuccessful; check fit_info['message'] for more information. [astropy.modeling.fitting]\n"
     ]
    },
    {
     "name": "stdout",
     "output_type": "stream",
     "text": [
      "[ShiftFinder] ...Shifts: 33.17970910280171,-30.012891583708132\n",
      "[ShiftFinder] Finding shifts in image: set 4; image 026...\n"
     ]
    },
    {
     "name": "stderr",
     "output_type": "stream",
     "text": [
      "WARNING: The fit may be unsuccessful; check fit_info['message'] for more information. [astropy.modeling.fitting]\n",
      "WARNING: The fit may be unsuccessful; check fit_info['message'] for more information. [astropy.modeling.fitting]\n"
     ]
    },
    {
     "name": "stdout",
     "output_type": "stream",
     "text": [
      "[ShiftFinder] ...Shifts: 32.50777115659898,-30.00738667488481\n",
      "[ShiftFinder] Finding shifts in image: set 4; image 027...\n"
     ]
    },
    {
     "name": "stderr",
     "output_type": "stream",
     "text": [
      "WARNING: The fit may be unsuccessful; check fit_info['message'] for more information. [astropy.modeling.fitting]\n",
      "WARNING: The fit may be unsuccessful; check fit_info['message'] for more information. [astropy.modeling.fitting]\n"
     ]
    },
    {
     "name": "stdout",
     "output_type": "stream",
     "text": [
      "[ShiftFinder] ...Shifts: 31.9882274373611,-29.84848408100173\n",
      "[ShiftFinder] Finding shifts in image: set 4; image 028...\n"
     ]
    },
    {
     "name": "stderr",
     "output_type": "stream",
     "text": [
      "WARNING: The fit may be unsuccessful; check fit_info['message'] for more information. [astropy.modeling.fitting]\n",
      "WARNING: The fit may be unsuccessful; check fit_info['message'] for more information. [astropy.modeling.fitting]\n",
      "WARNING: The fit may be unsuccessful; check fit_info['message'] for more information. [astropy.modeling.fitting]\n",
      "WARNING: The fit may be unsuccessful; check fit_info['message'] for more information. [astropy.modeling.fitting]\n"
     ]
    },
    {
     "name": "stdout",
     "output_type": "stream",
     "text": [
      "[ShiftFinder] ...Shifts: 32.33089137891939,-29.957588542920174\n",
      "[ShiftFinder] Finding shifts in image: set 4; image 029...\n"
     ]
    },
    {
     "name": "stderr",
     "output_type": "stream",
     "text": [
      "WARNING: The fit may be unsuccessful; check fit_info['message'] for more information. [astropy.modeling.fitting]\n"
     ]
    },
    {
     "name": "stdout",
     "output_type": "stream",
     "text": [
      "[ShiftFinder] ...Shifts: 34.407775113707544,-30.343507449968328\n",
      "[ShiftFinder] Finding shifts in image: set 4; image 030...\n",
      "[ShiftFinder] ...Shifts: 33.44703686909457,-30.32891853032879\n",
      "[ShiftFinder] Finding shifts in image: set 4; image 031...\n"
     ]
    },
    {
     "name": "stderr",
     "output_type": "stream",
     "text": [
      "WARNING: The fit may be unsuccessful; check fit_info['message'] for more information. [astropy.modeling.fitting]\n"
     ]
    },
    {
     "name": "stdout",
     "output_type": "stream",
     "text": [
      "[ShiftFinder] ...Shifts: 33.20746614981841,-30.492606480255247\n",
      "[ShiftFinder] Finding shifts in image: set 4; image 032...\n"
     ]
    },
    {
     "name": "stderr",
     "output_type": "stream",
     "text": [
      "WARNING: The fit may be unsuccessful; check fit_info['message'] for more information. [astropy.modeling.fitting]\n",
      "WARNING: The fit may be unsuccessful; check fit_info['message'] for more information. [astropy.modeling.fitting]\n"
     ]
    },
    {
     "name": "stdout",
     "output_type": "stream",
     "text": [
      "[ShiftFinder] ...Shifts: 32.62355617597095,-30.320039392334227\n",
      "[ShiftFinder] Finding shifts in image: set 4; image 033...\n",
      "[ShiftFinder] ...Shifts: 35.39426712371444,-30.23646531184798\n",
      "[ShiftFinder] Finding shifts in image: set 4; image 034...\n",
      "[ShiftFinder] ...Shifts: 34.39328140848817,-30.37014545168686\n",
      "[ShiftFinder] Finding shifts in image: set 4; image 035...\n"
     ]
    },
    {
     "name": "stderr",
     "output_type": "stream",
     "text": [
      "WARNING: The fit may be unsuccessful; check fit_info['message'] for more information. [astropy.modeling.fitting]\n",
      "WARNING: The fit may be unsuccessful; check fit_info['message'] for more information. [astropy.modeling.fitting]\n"
     ]
    },
    {
     "name": "stdout",
     "output_type": "stream",
     "text": [
      "[ShiftFinder] ...Shifts: 34.31669593847738,-30.138402456222458\n",
      "[ShiftFinder] Finding shifts in image: set 4; image 036...\n"
     ]
    },
    {
     "name": "stderr",
     "output_type": "stream",
     "text": [
      "WARNING: The fit may be unsuccessful; check fit_info['message'] for more information. [astropy.modeling.fitting]\n"
     ]
    },
    {
     "name": "stdout",
     "output_type": "stream",
     "text": [
      "[ShiftFinder] ...Shifts: 32.9014146274498,-30.15368099753811\n",
      "[ShiftFinder] Finding shifts in image: set 4; image 037...\n"
     ]
    },
    {
     "name": "stderr",
     "output_type": "stream",
     "text": [
      "WARNING: The fit may be unsuccessful; check fit_info['message'] for more information. [astropy.modeling.fitting]\n"
     ]
    },
    {
     "name": "stdout",
     "output_type": "stream",
     "text": [
      "[ShiftFinder] ...Shifts: 36.19257289152311,-30.41919735282236\n",
      "[ShiftFinder] Finding shifts in image: set 4; image 038...\n"
     ]
    },
    {
     "name": "stderr",
     "output_type": "stream",
     "text": [
      "WARNING: The fit may be unsuccessful; check fit_info['message'] for more information. [astropy.modeling.fitting]\n",
      "WARNING: The fit may be unsuccessful; check fit_info['message'] for more information. [astropy.modeling.fitting]\n"
     ]
    },
    {
     "name": "stdout",
     "output_type": "stream",
     "text": [
      "[ShiftFinder] ...Shifts: 35.214875299405335,-30.850730492273744\n",
      "[ShiftFinder] Finding shifts in image: set 4; image 039...\n"
     ]
    },
    {
     "name": "stderr",
     "output_type": "stream",
     "text": [
      "WARNING: The fit may be unsuccessful; check fit_info['message'] for more information. [astropy.modeling.fitting]\n",
      "WARNING: The fit may be unsuccessful; check fit_info['message'] for more information. [astropy.modeling.fitting]\n"
     ]
    },
    {
     "name": "stdout",
     "output_type": "stream",
     "text": [
      "[ShiftFinder] ...Shifts: 35.17398595837165,-30.058180255794298\n",
      "[ShiftFinder] Finding shifts in image: set 4; image 040...\n"
     ]
    },
    {
     "name": "stderr",
     "output_type": "stream",
     "text": [
      "WARNING: The fit may be unsuccessful; check fit_info['message'] for more information. [astropy.modeling.fitting]\n"
     ]
    },
    {
     "name": "stdout",
     "output_type": "stream",
     "text": [
      "[ShiftFinder] ...Shifts: 34.51572367381776,-30.755824370172327\n",
      "[ShiftFinder] Finding shifts in image: set 4; image 041...\n"
     ]
    },
    {
     "name": "stderr",
     "output_type": "stream",
     "text": [
      "WARNING: The fit may be unsuccessful; check fit_info['message'] for more information. [astropy.modeling.fitting]\n",
      "WARNING: The fit may be unsuccessful; check fit_info['message'] for more information. [astropy.modeling.fitting]\n"
     ]
    },
    {
     "name": "stdout",
     "output_type": "stream",
     "text": [
      "[ShiftFinder] ...Shifts: 35.82435141567534,-30.406847305751885\n",
      "[ShiftFinder] Finding shifts in image: set 4; image 042...\n"
     ]
    },
    {
     "name": "stderr",
     "output_type": "stream",
     "text": [
      "WARNING: The fit may be unsuccessful; check fit_info['message'] for more information. [astropy.modeling.fitting]\n",
      "WARNING: The fit may be unsuccessful; check fit_info['message'] for more information. [astropy.modeling.fitting]\n",
      "WARNING: The fit may be unsuccessful; check fit_info['message'] for more information. [astropy.modeling.fitting]\n",
      "WARNING: The fit may be unsuccessful; check fit_info['message'] for more information. [astropy.modeling.fitting]\n",
      "WARNING: The fit may be unsuccessful; check fit_info['message'] for more information. [astropy.modeling.fitting]\n"
     ]
    },
    {
     "name": "stdout",
     "output_type": "stream",
     "text": [
      "[ShiftFinder] ...Shifts: 37.080955818239666,-30.549151715129977\n",
      "[ShiftFinder] Finding shifts in image: set 4; image 043...\n"
     ]
    },
    {
     "name": "stderr",
     "output_type": "stream",
     "text": [
      "WARNING: The fit may be unsuccessful; check fit_info['message'] for more information. [astropy.modeling.fitting]\n",
      "WARNING: The fit may be unsuccessful; check fit_info['message'] for more information. [astropy.modeling.fitting]\n"
     ]
    },
    {
     "name": "stdout",
     "output_type": "stream",
     "text": [
      "[ShiftFinder] ...Shifts: 36.03979656235576,-30.761960077153166\n",
      "[ShiftFinder] Finding shifts in image: set 4; image 044...\n"
     ]
    },
    {
     "name": "stderr",
     "output_type": "stream",
     "text": [
      "WARNING: The fit may be unsuccessful; check fit_info['message'] for more information. [astropy.modeling.fitting]\n"
     ]
    },
    {
     "name": "stdout",
     "output_type": "stream",
     "text": [
      "[ShiftFinder] ...Shifts: 36.11497398740829,-30.763069411634774\n",
      "[ShiftFinder] Finding shifts in image: set 4; image 045...\n"
     ]
    },
    {
     "name": "stderr",
     "output_type": "stream",
     "text": [
      "WARNING: The fit may be unsuccessful; check fit_info['message'] for more information. [astropy.modeling.fitting]\n",
      "WARNING: The fit may be unsuccessful; check fit_info['message'] for more information. [astropy.modeling.fitting]\n",
      "WARNING: The fit may be unsuccessful; check fit_info['message'] for more information. [astropy.modeling.fitting]\n"
     ]
    },
    {
     "name": "stdout",
     "output_type": "stream",
     "text": [
      "[ShiftFinder] ...Shifts: 35.26367450750718,-30.69624129721877\n",
      "[ShiftFinder] Finding shifts in image: set 4; image 046...\n",
      "[ShiftFinder] ...Shifts: 37.972684972535895,-30.93972329469662\n",
      "[ShiftFinder] Finding shifts in image: set 4; image 047...\n"
     ]
    },
    {
     "name": "stderr",
     "output_type": "stream",
     "text": [
      "WARNING: The fit may be unsuccessful; check fit_info['message'] for more information. [astropy.modeling.fitting]\n",
      "WARNING: The fit may be unsuccessful; check fit_info['message'] for more information. [astropy.modeling.fitting]\n"
     ]
    },
    {
     "name": "stdout",
     "output_type": "stream",
     "text": [
      "[ShiftFinder] ...Shifts: 36.85436074927533,-31.101619157510818\n",
      "[ShiftFinder] Finding shifts in image: set 4; image 048...\n"
     ]
    },
    {
     "name": "stderr",
     "output_type": "stream",
     "text": [
      "WARNING: The fit may be unsuccessful; check fit_info['message'] for more information. [astropy.modeling.fitting]\n",
      "WARNING: The fit may be unsuccessful; check fit_info['message'] for more information. [astropy.modeling.fitting]\n"
     ]
    },
    {
     "name": "stdout",
     "output_type": "stream",
     "text": [
      "[ShiftFinder] ...Shifts: 36.980433801305004,-31.01491837638081\n",
      "[ShiftFinder] Finding shifts in image: set 4; image 049...\n"
     ]
    },
    {
     "name": "stderr",
     "output_type": "stream",
     "text": [
      "WARNING: The fit may be unsuccessful; check fit_info['message'] for more information. [astropy.modeling.fitting]\n"
     ]
    },
    {
     "name": "stdout",
     "output_type": "stream",
     "text": [
      "[ShiftFinder] ...Shifts: 35.78375836910669,-30.93444663203761\n",
      "[ShiftFinder] Finding shifts in image: set 4; image 050...\n"
     ]
    },
    {
     "name": "stderr",
     "output_type": "stream",
     "text": [
      "WARNING: The fit may be unsuccessful; check fit_info['message'] for more information. [astropy.modeling.fitting]\n",
      "WARNING: The fit may be unsuccessful; check fit_info['message'] for more information. [astropy.modeling.fitting]\n"
     ]
    },
    {
     "name": "stdout",
     "output_type": "stream",
     "text": [
      "[ShiftFinder] ...Shifts: 37.878778186558,-30.976763418874775\n",
      "[ShiftFinder] Finding shifts in image: set 5; image 001...\n"
     ]
    },
    {
     "name": "stderr",
     "output_type": "stream",
     "text": [
      "WARNING: The fit may be unsuccessful; check fit_info['message'] for more information. [astropy.modeling.fitting]\n",
      "WARNING: The fit may be unsuccessful; check fit_info['message'] for more information. [astropy.modeling.fitting]\n"
     ]
    },
    {
     "name": "stdout",
     "output_type": "stream",
     "text": [
      "[ShiftFinder] ...Shifts: 37.39617793384992,-31.400208532165895\n",
      "[ShiftFinder] Finding shifts in image: set 5; image 002...\n"
     ]
    },
    {
     "name": "stderr",
     "output_type": "stream",
     "text": [
      "WARNING: The fit may be unsuccessful; check fit_info['message'] for more information. [astropy.modeling.fitting]\n",
      "WARNING: The fit may be unsuccessful; check fit_info['message'] for more information. [astropy.modeling.fitting]\n",
      "WARNING: The fit may be unsuccessful; check fit_info['message'] for more information. [astropy.modeling.fitting]\n",
      "WARNING: The fit may be unsuccessful; check fit_info['message'] for more information. [astropy.modeling.fitting]\n"
     ]
    },
    {
     "name": "stdout",
     "output_type": "stream",
     "text": [
      "[ShiftFinder] ...Shifts: 37.118974986773,-31.26600463775256\n",
      "[ShiftFinder] Finding shifts in image: set 5; image 003...\n"
     ]
    },
    {
     "name": "stderr",
     "output_type": "stream",
     "text": [
      "WARNING: The fit may be unsuccessful; check fit_info['message'] for more information. [astropy.modeling.fitting]\n"
     ]
    },
    {
     "name": "stdout",
     "output_type": "stream",
     "text": [
      "[ShiftFinder] ...Shifts: 37.463752001928036,-31.208146649845727\n",
      "[ShiftFinder] Finding shifts in image: set 5; image 004...\n"
     ]
    },
    {
     "name": "stderr",
     "output_type": "stream",
     "text": [
      "WARNING: The fit may be unsuccessful; check fit_info['message'] for more information. [astropy.modeling.fitting]\n",
      "WARNING: The fit may be unsuccessful; check fit_info['message'] for more information. [astropy.modeling.fitting]\n",
      "WARNING: The fit may be unsuccessful; check fit_info['message'] for more information. [astropy.modeling.fitting]\n"
     ]
    },
    {
     "name": "stdout",
     "output_type": "stream",
     "text": [
      "[ShiftFinder] ...Shifts: 39.18658239253128,-31.0581860050893\n",
      "[ShiftFinder] Finding shifts in image: set 5; image 005...\n"
     ]
    },
    {
     "name": "stderr",
     "output_type": "stream",
     "text": [
      "WARNING: The fit may be unsuccessful; check fit_info['message'] for more information. [astropy.modeling.fitting]\n",
      "WARNING: The fit may be unsuccessful; check fit_info['message'] for more information. [astropy.modeling.fitting]\n",
      "WARNING: The fit may be unsuccessful; check fit_info['message'] for more information. [astropy.modeling.fitting]\n",
      "WARNING: The fit may be unsuccessful; check fit_info['message'] for more information. [astropy.modeling.fitting]\n",
      "WARNING: The fit may be unsuccessful; check fit_info['message'] for more information. [astropy.modeling.fitting]\n"
     ]
    },
    {
     "name": "stdout",
     "output_type": "stream",
     "text": [
      "[ShiftFinder] ...Shifts: 38.28985320175156,-31.300074969537594\n",
      "[ShiftFinder] Finding shifts in image: set 5; image 006...\n"
     ]
    },
    {
     "name": "stderr",
     "output_type": "stream",
     "text": [
      "WARNING: The fit may be unsuccessful; check fit_info['message'] for more information. [astropy.modeling.fitting]\n",
      "WARNING: The fit may be unsuccessful; check fit_info['message'] for more information. [astropy.modeling.fitting]\n"
     ]
    },
    {
     "name": "stdout",
     "output_type": "stream",
     "text": [
      "[ShiftFinder] ...Shifts: 37.94920909199333,-31.378664934023135\n",
      "[ShiftFinder] Finding shifts in image: set 5; image 007...\n"
     ]
    },
    {
     "name": "stderr",
     "output_type": "stream",
     "text": [
      "WARNING: The fit may be unsuccessful; check fit_info['message'] for more information. [astropy.modeling.fitting]\n",
      "WARNING: The fit may be unsuccessful; check fit_info['message'] for more information. [astropy.modeling.fitting]\n",
      "WARNING: The fit may be unsuccessful; check fit_info['message'] for more information. [astropy.modeling.fitting]\n"
     ]
    },
    {
     "name": "stdout",
     "output_type": "stream",
     "text": [
      "[ShiftFinder] ...Shifts: 37.46795155119636,-31.160251954399918\n",
      "[ShiftFinder] Finding shifts in image: set 5; image 008...\n"
     ]
    },
    {
     "name": "stderr",
     "output_type": "stream",
     "text": [
      "WARNING: The fit may be unsuccessful; check fit_info['message'] for more information. [astropy.modeling.fitting]\n",
      "WARNING: The fit may be unsuccessful; check fit_info['message'] for more information. [astropy.modeling.fitting]\n",
      "WARNING: The fit may be unsuccessful; check fit_info['message'] for more information. [astropy.modeling.fitting]\n"
     ]
    },
    {
     "name": "stdout",
     "output_type": "stream",
     "text": [
      "[ShiftFinder] ...Shifts: 39.647611652125676,-31.73494136273694\n",
      "[ShiftFinder] Finding shifts in image: set 5; image 009...\n"
     ]
    },
    {
     "name": "stderr",
     "output_type": "stream",
     "text": [
      "WARNING: The fit may be unsuccessful; check fit_info['message'] for more information. [astropy.modeling.fitting]\n",
      "WARNING: The fit may be unsuccessful; check fit_info['message'] for more information. [astropy.modeling.fitting]\n"
     ]
    },
    {
     "name": "stdout",
     "output_type": "stream",
     "text": [
      "[ShiftFinder] ...Shifts: 38.93537244640519,-31.540470051637087\n",
      "[ShiftFinder] Finding shifts in image: set 5; image 010...\n"
     ]
    },
    {
     "name": "stderr",
     "output_type": "stream",
     "text": [
      "WARNING: The fit may be unsuccessful; check fit_info['message'] for more information. [astropy.modeling.fitting]\n",
      "WARNING: The fit may be unsuccessful; check fit_info['message'] for more information. [astropy.modeling.fitting]\n",
      "WARNING: The fit may be unsuccessful; check fit_info['message'] for more information. [astropy.modeling.fitting]\n"
     ]
    },
    {
     "name": "stdout",
     "output_type": "stream",
     "text": [
      "[ShiftFinder] ...Shifts: 39.03147029684714,-31.586693941955872\n",
      "[ShiftFinder] Finding shifts in image: set 5; image 011...\n"
     ]
    },
    {
     "name": "stderr",
     "output_type": "stream",
     "text": [
      "WARNING: The fit may be unsuccessful; check fit_info['message'] for more information. [astropy.modeling.fitting]\n",
      "WARNING: The fit may be unsuccessful; check fit_info['message'] for more information. [astropy.modeling.fitting]\n"
     ]
    },
    {
     "name": "stdout",
     "output_type": "stream",
     "text": [
      "[ShiftFinder] ...Shifts: 38.0580524958914,-31.54799169054107\n",
      "[ShiftFinder] Finding shifts in image: set 5; image 012...\n"
     ]
    },
    {
     "name": "stderr",
     "output_type": "stream",
     "text": [
      "WARNING: The fit may be unsuccessful; check fit_info['message'] for more information. [astropy.modeling.fitting]\n"
     ]
    },
    {
     "name": "stdout",
     "output_type": "stream",
     "text": [
      "[ShiftFinder] ...Shifts: 40.59270708011722,-31.5557597024418\n",
      "[ShiftFinder] Finding shifts in image: set 5; image 013...\n"
     ]
    },
    {
     "name": "stderr",
     "output_type": "stream",
     "text": [
      "WARNING: The fit may be unsuccessful; check fit_info['message'] for more information. [astropy.modeling.fitting]\n",
      "WARNING: The fit may be unsuccessful; check fit_info['message'] for more information. [astropy.modeling.fitting]\n"
     ]
    },
    {
     "name": "stdout",
     "output_type": "stream",
     "text": [
      "[ShiftFinder] ...Shifts: 40.67207864029547,-31.35282607822962\n",
      "[ShiftFinder] Finding shifts in image: set 5; image 014...\n"
     ]
    },
    {
     "name": "stderr",
     "output_type": "stream",
     "text": [
      "WARNING: The fit may be unsuccessful; check fit_info['message'] for more information. [astropy.modeling.fitting]\n",
      "WARNING: The fit may be unsuccessful; check fit_info['message'] for more information. [astropy.modeling.fitting]\n"
     ]
    },
    {
     "name": "stdout",
     "output_type": "stream",
     "text": [
      "[ShiftFinder] ...Shifts: 39.745531522766925,-31.22931745252395\n",
      "[ShiftFinder] Finding shifts in image: set 5; image 015...\n"
     ]
    },
    {
     "name": "stderr",
     "output_type": "stream",
     "text": [
      "WARNING: The fit may be unsuccessful; check fit_info['message'] for more information. [astropy.modeling.fitting]\n",
      "WARNING: The fit may be unsuccessful; check fit_info['message'] for more information. [astropy.modeling.fitting]\n"
     ]
    },
    {
     "name": "stdout",
     "output_type": "stream",
     "text": [
      "[ShiftFinder] ...Shifts: 39.35664854050072,-31.60500217815282\n",
      "[ShiftFinder] Finding shifts in image: set 5; image 016...\n",
      "[ShiftFinder] ...Shifts: 40.45661761731724,-31.477998072929815\n",
      "[ShiftFinder] Finding shifts in image: set 5; image 017...\n"
     ]
    },
    {
     "name": "stderr",
     "output_type": "stream",
     "text": [
      "WARNING: The fit may be unsuccessful; check fit_info['message'] for more information. [astropy.modeling.fitting]\n",
      "WARNING: The fit may be unsuccessful; check fit_info['message'] for more information. [astropy.modeling.fitting]\n",
      "WARNING: The fit may be unsuccessful; check fit_info['message'] for more information. [astropy.modeling.fitting]\n",
      "WARNING: The fit may be unsuccessful; check fit_info['message'] for more information. [astropy.modeling.fitting]\n",
      "WARNING: The fit may be unsuccessful; check fit_info['message'] for more information. [astropy.modeling.fitting]\n"
     ]
    },
    {
     "name": "stdout",
     "output_type": "stream",
     "text": [
      "[ShiftFinder] ...Shifts: 41.89776438350532,-31.626086712239744\n",
      "[ShiftFinder] Finding shifts in image: set 5; image 018...\n",
      "[ShiftFinder] ...Shifts: 40.703179508531484,-31.612327768371735\n",
      "[ShiftFinder] Finding shifts in image: set 5; image 019...\n"
     ]
    },
    {
     "name": "stderr",
     "output_type": "stream",
     "text": [
      "WARNING: The fit may be unsuccessful; check fit_info['message'] for more information. [astropy.modeling.fitting]\n",
      "WARNING: The fit may be unsuccessful; check fit_info['message'] for more information. [astropy.modeling.fitting]\n"
     ]
    },
    {
     "name": "stdout",
     "output_type": "stream",
     "text": [
      "[ShiftFinder] ...Shifts: 40.542398486027025,-31.257244443597827\n",
      "[ShiftFinder] Finding shifts in image: set 5; image 020...\n"
     ]
    },
    {
     "name": "stderr",
     "output_type": "stream",
     "text": [
      "WARNING: The fit may be unsuccessful; check fit_info['message'] for more information. [astropy.modeling.fitting]\n",
      "WARNING: The fit may be unsuccessful; check fit_info['message'] for more information. [astropy.modeling.fitting]\n"
     ]
    },
    {
     "name": "stdout",
     "output_type": "stream",
     "text": [
      "[ShiftFinder] ...Shifts: 40.10241497420405,-31.52215822331012\n",
      "[ShiftFinder] Finding shifts in image: set 5; image 021...\n"
     ]
    },
    {
     "name": "stderr",
     "output_type": "stream",
     "text": [
      "WARNING: The fit may be unsuccessful; check fit_info['message'] for more information. [astropy.modeling.fitting]\n",
      "WARNING: The fit may be unsuccessful; check fit_info['message'] for more information. [astropy.modeling.fitting]\n"
     ]
    },
    {
     "name": "stdout",
     "output_type": "stream",
     "text": [
      "[ShiftFinder] ...Shifts: 42.72387374456968,-31.839893160694672\n",
      "[ShiftFinder] Finding shifts in image: set 5; image 022...\n"
     ]
    },
    {
     "name": "stderr",
     "output_type": "stream",
     "text": [
      "WARNING: The fit may be unsuccessful; check fit_info['message'] for more information. [astropy.modeling.fitting]\n",
      "WARNING: The fit may be unsuccessful; check fit_info['message'] for more information. [astropy.modeling.fitting]\n",
      "WARNING: The fit may be unsuccessful; check fit_info['message'] for more information. [astropy.modeling.fitting]\n",
      "WARNING: The fit may be unsuccessful; check fit_info['message'] for more information. [astropy.modeling.fitting]\n",
      "WARNING: The fit may be unsuccessful; check fit_info['message'] for more information. [astropy.modeling.fitting]\n"
     ]
    },
    {
     "name": "stdout",
     "output_type": "stream",
     "text": [
      "[ShiftFinder] ...Shifts: 41.414496975186495,-31.7607742875332\n",
      "[ShiftFinder] Finding shifts in image: set 5; image 023...\n"
     ]
    },
    {
     "name": "stderr",
     "output_type": "stream",
     "text": [
      "WARNING: The fit may be unsuccessful; check fit_info['message'] for more information. [astropy.modeling.fitting]\n"
     ]
    },
    {
     "name": "stdout",
     "output_type": "stream",
     "text": [
      "[ShiftFinder] ...Shifts: 41.2370277901415,-31.633359980578376\n",
      "[ShiftFinder] Finding shifts in image: set 5; image 024...\n"
     ]
    },
    {
     "name": "stderr",
     "output_type": "stream",
     "text": [
      "WARNING: The fit may be unsuccessful; check fit_info['message'] for more information. [astropy.modeling.fitting]\n",
      "WARNING: The fit may be unsuccessful; check fit_info['message'] for more information. [astropy.modeling.fitting]\n"
     ]
    },
    {
     "name": "stdout",
     "output_type": "stream",
     "text": [
      "[ShiftFinder] ...Shifts: 40.2893704729023,-31.495156883570555\n",
      "[ShiftFinder] Finding shifts in image: set 5; image 025...\n"
     ]
    },
    {
     "name": "stderr",
     "output_type": "stream",
     "text": [
      "WARNING: The fit may be unsuccessful; check fit_info['message'] for more information. [astropy.modeling.fitting]\n"
     ]
    },
    {
     "name": "stdout",
     "output_type": "stream",
     "text": [
      "[ShiftFinder] ...Shifts: 42.81063675475744,-32.03996279836832\n",
      "[ShiftFinder] Finding shifts in image: set 5; image 026...\n"
     ]
    },
    {
     "name": "stderr",
     "output_type": "stream",
     "text": [
      "WARNING: The fit may be unsuccessful; check fit_info['message'] for more information. [astropy.modeling.fitting]\n",
      "WARNING: The fit may be unsuccessful; check fit_info['message'] for more information. [astropy.modeling.fitting]\n",
      "WARNING: The fit may be unsuccessful; check fit_info['message'] for more information. [astropy.modeling.fitting]\n"
     ]
    },
    {
     "name": "stdout",
     "output_type": "stream",
     "text": [
      "[ShiftFinder] ...Shifts: 42.235769267275224,-31.967987838977816\n",
      "[ShiftFinder] Finding shifts in image: set 5; image 027...\n"
     ]
    },
    {
     "name": "stderr",
     "output_type": "stream",
     "text": [
      "WARNING: The fit may be unsuccessful; check fit_info['message'] for more information. [astropy.modeling.fitting]\n",
      "WARNING: The fit may be unsuccessful; check fit_info['message'] for more information. [astropy.modeling.fitting]\n",
      "WARNING: The fit may be unsuccessful; check fit_info['message'] for more information. [astropy.modeling.fitting]\n",
      "WARNING: The fit may be unsuccessful; check fit_info['message'] for more information. [astropy.modeling.fitting]\n"
     ]
    },
    {
     "name": "stdout",
     "output_type": "stream",
     "text": [
      "[ShiftFinder] ...Shifts: 42.23951810087974,-32.35600166760851\n",
      "[ShiftFinder] Finding shifts in image: set 5; image 028...\n"
     ]
    },
    {
     "name": "stderr",
     "output_type": "stream",
     "text": [
      "WARNING: The fit may be unsuccessful; check fit_info['message'] for more information. [astropy.modeling.fitting]\n"
     ]
    },
    {
     "name": "stdout",
     "output_type": "stream",
     "text": [
      "[ShiftFinder] ...Shifts: 41.10985280328431,-31.347109020899\n",
      "[ShiftFinder] Finding shifts in image: set 5; image 029...\n"
     ]
    },
    {
     "name": "stderr",
     "output_type": "stream",
     "text": [
      "WARNING: The fit may be unsuccessful; check fit_info['message'] for more information. [astropy.modeling.fitting]\n",
      "WARNING: The fit may be unsuccessful; check fit_info['message'] for more information. [astropy.modeling.fitting]\n"
     ]
    },
    {
     "name": "stdout",
     "output_type": "stream",
     "text": [
      "[ShiftFinder] ...Shifts: 42.47574788084208,-32.366016949482415\n",
      "[ShiftFinder] Finding shifts in image: set 5; image 030...\n"
     ]
    },
    {
     "name": "stderr",
     "output_type": "stream",
     "text": [
      "WARNING: The fit may be unsuccessful; check fit_info['message'] for more information. [astropy.modeling.fitting]\n",
      "WARNING: The fit may be unsuccessful; check fit_info['message'] for more information. [astropy.modeling.fitting]\n",
      "WARNING: The fit may be unsuccessful; check fit_info['message'] for more information. [astropy.modeling.fitting]\n",
      "WARNING: The fit may be unsuccessful; check fit_info['message'] for more information. [astropy.modeling.fitting]\n",
      "WARNING: The fit may be unsuccessful; check fit_info['message'] for more information. [astropy.modeling.fitting]\n"
     ]
    },
    {
     "name": "stdout",
     "output_type": "stream",
     "text": [
      "[ShiftFinder] ...Shifts: 43.21350724043093,-31.930218519587363\n",
      "[ShiftFinder] Finding shifts in image: set 5; image 031...\n"
     ]
    },
    {
     "name": "stderr",
     "output_type": "stream",
     "text": [
      "WARNING: The fit may be unsuccessful; check fit_info['message'] for more information. [astropy.modeling.fitting]\n",
      "WARNING: The fit may be unsuccessful; check fit_info['message'] for more information. [astropy.modeling.fitting]\n"
     ]
    },
    {
     "name": "stdout",
     "output_type": "stream",
     "text": [
      "[ShiftFinder] ...Shifts: 43.04481898274301,-32.36839957710175\n",
      "[ShiftFinder] Finding shifts in image: set 5; image 032...\n"
     ]
    },
    {
     "name": "stderr",
     "output_type": "stream",
     "text": [
      "WARNING: The fit may be unsuccessful; check fit_info['message'] for more information. [astropy.modeling.fitting]\n",
      "WARNING: The fit may be unsuccessful; check fit_info['message'] for more information. [astropy.modeling.fitting]\n",
      "WARNING: The fit may be unsuccessful; check fit_info['message'] for more information. [astropy.modeling.fitting]\n",
      "WARNING: The fit may be unsuccessful; check fit_info['message'] for more information. [astropy.modeling.fitting]\n",
      "WARNING: The fit may be unsuccessful; check fit_info['message'] for more information. [astropy.modeling.fitting]\n"
     ]
    },
    {
     "name": "stdout",
     "output_type": "stream",
     "text": [
      "[ShiftFinder] ...Shifts: 42.25648291285306,-31.69175432000296\n",
      "[ShiftFinder] Finding shifts in image: set 5; image 033...\n",
      "[ShiftFinder] ...Shifts: 42.39734046549303,-32.20068233395889\n",
      "[ShiftFinder] Finding shifts in image: set 5; image 034...\n"
     ]
    },
    {
     "name": "stderr",
     "output_type": "stream",
     "text": [
      "WARNING: The fit may be unsuccessful; check fit_info['message'] for more information. [astropy.modeling.fitting]\n",
      "WARNING: The fit may be unsuccessful; check fit_info['message'] for more information. [astropy.modeling.fitting]\n",
      "WARNING: The fit may be unsuccessful; check fit_info['message'] for more information. [astropy.modeling.fitting]\n",
      "WARNING: The fit may be unsuccessful; check fit_info['message'] for more information. [astropy.modeling.fitting]\n",
      "WARNING: The fit may be unsuccessful; check fit_info['message'] for more information. [astropy.modeling.fitting]\n"
     ]
    },
    {
     "name": "stdout",
     "output_type": "stream",
     "text": [
      "[ShiftFinder] ...Shifts: 44.35309715709146,-32.31849081326036\n",
      "[ShiftFinder] Finding shifts in image: set 5; image 035...\n"
     ]
    },
    {
     "name": "stderr",
     "output_type": "stream",
     "text": [
      "WARNING: The fit may be unsuccessful; check fit_info['message'] for more information. [astropy.modeling.fitting]\n",
      "WARNING: The fit may be unsuccessful; check fit_info['message'] for more information. [astropy.modeling.fitting]\n",
      "WARNING: The fit may be unsuccessful; check fit_info['message'] for more information. [astropy.modeling.fitting]\n",
      "WARNING: The fit may be unsuccessful; check fit_info['message'] for more information. [astropy.modeling.fitting]\n",
      "WARNING: The fit may be unsuccessful; check fit_info['message'] for more information. [astropy.modeling.fitting]\n"
     ]
    },
    {
     "name": "stdout",
     "output_type": "stream",
     "text": [
      "[ShiftFinder] ...Shifts: 43.72265840504381,-32.34770559280595\n",
      "[ShiftFinder] Finding shifts in image: set 5; image 036...\n"
     ]
    },
    {
     "name": "stderr",
     "output_type": "stream",
     "text": [
      "WARNING: The fit may be unsuccessful; check fit_info['message'] for more information. [astropy.modeling.fitting]\n",
      "WARNING: The fit may be unsuccessful; check fit_info['message'] for more information. [astropy.modeling.fitting]\n"
     ]
    },
    {
     "name": "stdout",
     "output_type": "stream",
     "text": [
      "[ShiftFinder] ...Shifts: 43.38464377401015,-31.950402907356874\n",
      "[ShiftFinder] Finding shifts in image: set 5; image 037...\n"
     ]
    },
    {
     "name": "stderr",
     "output_type": "stream",
     "text": [
      "WARNING: The fit may be unsuccessful; check fit_info['message'] for more information. [astropy.modeling.fitting]\n",
      "WARNING: The fit may be unsuccessful; check fit_info['message'] for more information. [astropy.modeling.fitting]\n",
      "WARNING: The fit may be unsuccessful; check fit_info['message'] for more information. [astropy.modeling.fitting]\n",
      "WARNING: The fit may be unsuccessful; check fit_info['message'] for more information. [astropy.modeling.fitting]\n"
     ]
    },
    {
     "name": "stdout",
     "output_type": "stream",
     "text": [
      "[ShiftFinder] ...Shifts: 42.557138682826675,-32.365056124619386\n",
      "[ShiftFinder] Finding shifts in image: set 5; image 038...\n"
     ]
    },
    {
     "name": "stderr",
     "output_type": "stream",
     "text": [
      "WARNING: The fit may be unsuccessful; check fit_info['message'] for more information. [astropy.modeling.fitting]\n",
      "WARNING: The fit may be unsuccessful; check fit_info['message'] for more information. [astropy.modeling.fitting]\n"
     ]
    },
    {
     "name": "stdout",
     "output_type": "stream",
     "text": [
      "[ShiftFinder] ...Shifts: 45.5061067595961,-32.36765591513789\n",
      "[ShiftFinder] Finding shifts in image: set 5; image 039...\n"
     ]
    },
    {
     "name": "stderr",
     "output_type": "stream",
     "text": [
      "WARNING: The fit may be unsuccessful; check fit_info['message'] for more information. [astropy.modeling.fitting]\n",
      "WARNING: The fit may be unsuccessful; check fit_info['message'] for more information. [astropy.modeling.fitting]\n",
      "WARNING: The fit may be unsuccessful; check fit_info['message'] for more information. [astropy.modeling.fitting]\n",
      "WARNING: The fit may be unsuccessful; check fit_info['message'] for more information. [astropy.modeling.fitting]\n"
     ]
    },
    {
     "name": "stdout",
     "output_type": "stream",
     "text": [
      "[ShiftFinder] ...Shifts: 44.11644684752398,-32.3067297393365\n",
      "[ShiftFinder] Finding shifts in image: set 5; image 040...\n"
     ]
    },
    {
     "name": "stderr",
     "output_type": "stream",
     "text": [
      "WARNING: The fit may be unsuccessful; check fit_info['message'] for more information. [astropy.modeling.fitting]\n",
      "WARNING: The fit may be unsuccessful; check fit_info['message'] for more information. [astropy.modeling.fitting]\n"
     ]
    },
    {
     "name": "stdout",
     "output_type": "stream",
     "text": [
      "[ShiftFinder] ...Shifts: 44.94000225368795,-32.06799777620174\n",
      "[ShiftFinder] Finding shifts in image: set 5; image 041...\n"
     ]
    },
    {
     "name": "stderr",
     "output_type": "stream",
     "text": [
      "WARNING: The fit may be unsuccessful; check fit_info['message'] for more information. [astropy.modeling.fitting]\n",
      "WARNING: The fit may be unsuccessful; check fit_info['message'] for more information. [astropy.modeling.fitting]\n",
      "WARNING: The fit may be unsuccessful; check fit_info['message'] for more information. [astropy.modeling.fitting]\n",
      "WARNING: The fit may be unsuccessful; check fit_info['message'] for more information. [astropy.modeling.fitting]\n",
      "WARNING: The fit may be unsuccessful; check fit_info['message'] for more information. [astropy.modeling.fitting]\n"
     ]
    },
    {
     "name": "stdout",
     "output_type": "stream",
     "text": [
      "[ShiftFinder] ...Shifts: 43.3984987224153,-32.30190120939596\n",
      "[ShiftFinder] Finding shifts in image: set 5; image 042...\n"
     ]
    },
    {
     "name": "stderr",
     "output_type": "stream",
     "text": [
      "WARNING: The fit may be unsuccessful; check fit_info['message'] for more information. [astropy.modeling.fitting]\n",
      "WARNING: The fit may be unsuccessful; check fit_info['message'] for more information. [astropy.modeling.fitting]\n",
      "WARNING: The fit may be unsuccessful; check fit_info['message'] for more information. [astropy.modeling.fitting]\n"
     ]
    },
    {
     "name": "stdout",
     "output_type": "stream",
     "text": [
      "[ShiftFinder] ...Shifts: 44.9037490058277,-32.33218869013615\n",
      "[ShiftFinder] Finding shifts in image: set 5; image 043...\n"
     ]
    },
    {
     "name": "stderr",
     "output_type": "stream",
     "text": [
      "WARNING: The fit may be unsuccessful; check fit_info['message'] for more information. [astropy.modeling.fitting]\n",
      "WARNING: The fit may be unsuccessful; check fit_info['message'] for more information. [astropy.modeling.fitting]\n",
      "WARNING: The fit may be unsuccessful; check fit_info['message'] for more information. [astropy.modeling.fitting]\n"
     ]
    },
    {
     "name": "stdout",
     "output_type": "stream",
     "text": [
      "[ShiftFinder] ...Shifts: 46.07007907431364,-32.21244654948747\n",
      "[ShiftFinder] Finding shifts in image: set 5; image 044...\n"
     ]
    },
    {
     "name": "stderr",
     "output_type": "stream",
     "text": [
      "WARNING: The fit may be unsuccessful; check fit_info['message'] for more information. [astropy.modeling.fitting]\n"
     ]
    },
    {
     "name": "stdout",
     "output_type": "stream",
     "text": [
      "[ShiftFinder] ...Shifts: 45.46048506776421,-31.921436165942715\n",
      "[ShiftFinder] Finding shifts in image: set 5; image 045...\n"
     ]
    },
    {
     "name": "stderr",
     "output_type": "stream",
     "text": [
      "WARNING: The fit may be unsuccessful; check fit_info['message'] for more information. [astropy.modeling.fitting]\n",
      "WARNING: The fit may be unsuccessful; check fit_info['message'] for more information. [astropy.modeling.fitting]\n",
      "WARNING: The fit may be unsuccessful; check fit_info['message'] for more information. [astropy.modeling.fitting]\n",
      "WARNING: The fit may be unsuccessful; check fit_info['message'] for more information. [astropy.modeling.fitting]\n"
     ]
    },
    {
     "name": "stdout",
     "output_type": "stream",
     "text": [
      "[ShiftFinder] ...Shifts: 45.07632413777068,-32.808588225089096\n",
      "[ShiftFinder] Finding shifts in image: set 5; image 046...\n"
     ]
    },
    {
     "name": "stderr",
     "output_type": "stream",
     "text": [
      "WARNING: The fit may be unsuccessful; check fit_info['message'] for more information. [astropy.modeling.fitting]\n"
     ]
    },
    {
     "name": "stdout",
     "output_type": "stream",
     "text": [
      "[ShiftFinder] ...Shifts: 44.96010280292835,-32.545206314666146\n",
      "[ShiftFinder] Finding shifts in image: set 5; image 047...\n"
     ]
    },
    {
     "name": "stderr",
     "output_type": "stream",
     "text": [
      "WARNING: The fit may be unsuccessful; check fit_info['message'] for more information. [astropy.modeling.fitting]\n",
      "WARNING: The fit may be unsuccessful; check fit_info['message'] for more information. [astropy.modeling.fitting]\n",
      "WARNING: The fit may be unsuccessful; check fit_info['message'] for more information. [astropy.modeling.fitting]\n",
      "WARNING: The fit may be unsuccessful; check fit_info['message'] for more information. [astropy.modeling.fitting]\n",
      "WARNING: The fit may be unsuccessful; check fit_info['message'] for more information. [astropy.modeling.fitting]\n"
     ]
    },
    {
     "name": "stdout",
     "output_type": "stream",
     "text": [
      "[ShiftFinder] ...Shifts: 47.60342384247614,-32.59902405987665\n",
      "[ShiftFinder] Finding shifts in image: set 5; image 048...\n"
     ]
    },
    {
     "name": "stderr",
     "output_type": "stream",
     "text": [
      "WARNING: The fit may be unsuccessful; check fit_info['message'] for more information. [astropy.modeling.fitting]\n",
      "WARNING: The fit may be unsuccessful; check fit_info['message'] for more information. [astropy.modeling.fitting]\n",
      "WARNING: The fit may be unsuccessful; check fit_info['message'] for more information. [astropy.modeling.fitting]\n"
     ]
    },
    {
     "name": "stdout",
     "output_type": "stream",
     "text": [
      "[ShiftFinder] ...Shifts: 46.024681679767895,-32.363181381725305\n",
      "[ShiftFinder] Finding shifts in image: set 5; image 049...\n"
     ]
    },
    {
     "name": "stderr",
     "output_type": "stream",
     "text": [
      "WARNING: The fit may be unsuccessful; check fit_info['message'] for more information. [astropy.modeling.fitting]\n",
      "WARNING: The fit may be unsuccessful; check fit_info['message'] for more information. [astropy.modeling.fitting]\n",
      "WARNING: The fit may be unsuccessful; check fit_info['message'] for more information. [astropy.modeling.fitting]\n",
      "WARNING: The fit may be unsuccessful; check fit_info['message'] for more information. [astropy.modeling.fitting]\n",
      "WARNING: The fit may be unsuccessful; check fit_info['message'] for more information. [astropy.modeling.fitting]\n"
     ]
    },
    {
     "name": "stdout",
     "output_type": "stream",
     "text": [
      "[ShiftFinder] ...Shifts: 46.435088982151136,-32.71108074292845\n",
      "[ShiftFinder] Finding shifts in image: set 5; image 050...\n"
     ]
    },
    {
     "name": "stderr",
     "output_type": "stream",
     "text": [
      "WARNING: The fit may be unsuccessful; check fit_info['message'] for more information. [astropy.modeling.fitting]\n",
      "WARNING: The fit may be unsuccessful; check fit_info['message'] for more information. [astropy.modeling.fitting]\n"
     ]
    },
    {
     "name": "stdout",
     "output_type": "stream",
     "text": [
      "[ShiftFinder] ...Shifts: 45.02698982874217,-32.229288918828104\n",
      "[ShiftFinder] Finding shifts in image: set 6; image 001...\n"
     ]
    },
    {
     "name": "stderr",
     "output_type": "stream",
     "text": [
      "WARNING: The fit may be unsuccessful; check fit_info['message'] for more information. [astropy.modeling.fitting]\n",
      "WARNING: The fit may be unsuccessful; check fit_info['message'] for more information. [astropy.modeling.fitting]\n",
      "WARNING: The fit may be unsuccessful; check fit_info['message'] for more information. [astropy.modeling.fitting]\n",
      "WARNING: The fit may be unsuccessful; check fit_info['message'] for more information. [astropy.modeling.fitting]\n",
      "WARNING: The fit may be unsuccessful; check fit_info['message'] for more information. [astropy.modeling.fitting]\n"
     ]
    },
    {
     "name": "stdout",
     "output_type": "stream",
     "text": [
      "[ShiftFinder] ...Shifts: 47.68853014770907,-32.64798376274223\n",
      "[ShiftFinder] Finding shifts in image: set 6; image 002...\n"
     ]
    },
    {
     "name": "stderr",
     "output_type": "stream",
     "text": [
      "WARNING: The fit may be unsuccessful; check fit_info['message'] for more information. [astropy.modeling.fitting]\n",
      "WARNING: The fit may be unsuccessful; check fit_info['message'] for more information. [astropy.modeling.fitting]\n",
      "WARNING: The fit may be unsuccessful; check fit_info['message'] for more information. [astropy.modeling.fitting]\n",
      "WARNING: The fit may be unsuccessful; check fit_info['message'] for more information. [astropy.modeling.fitting]\n",
      "WARNING: The fit may be unsuccessful; check fit_info['message'] for more information. [astropy.modeling.fitting]\n"
     ]
    },
    {
     "name": "stdout",
     "output_type": "stream",
     "text": [
      "[ShiftFinder] ...Shifts: 45.77182966473939,-32.226834672096146\n",
      "[ShiftFinder] Finding shifts in image: set 6; image 003...\n"
     ]
    },
    {
     "name": "stderr",
     "output_type": "stream",
     "text": [
      "WARNING: The fit may be unsuccessful; check fit_info['message'] for more information. [astropy.modeling.fitting]\n",
      "WARNING: The fit may be unsuccessful; check fit_info['message'] for more information. [astropy.modeling.fitting]\n",
      "WARNING: The fit may be unsuccessful; check fit_info['message'] for more information. [astropy.modeling.fitting]\n"
     ]
    },
    {
     "name": "stdout",
     "output_type": "stream",
     "text": [
      "[ShiftFinder] ...Shifts: 48.19975027899772,-32.3533769940499\n",
      "[ShiftFinder] Finding shifts in image: set 6; image 004...\n"
     ]
    },
    {
     "name": "stderr",
     "output_type": "stream",
     "text": [
      "WARNING: The fit may be unsuccessful; check fit_info['message'] for more information. [astropy.modeling.fitting]\n",
      "WARNING: The fit may be unsuccessful; check fit_info['message'] for more information. [astropy.modeling.fitting]\n",
      "WARNING: The fit may be unsuccessful; check fit_info['message'] for more information. [astropy.modeling.fitting]\n"
     ]
    },
    {
     "name": "stdout",
     "output_type": "stream",
     "text": [
      "[ShiftFinder] ...Shifts: 47.52223146422282,-32.542396367002226\n",
      "[ShiftFinder] Finding shifts in image: set 6; image 005...\n"
     ]
    },
    {
     "name": "stderr",
     "output_type": "stream",
     "text": [
      "WARNING: The fit may be unsuccessful; check fit_info['message'] for more information. [astropy.modeling.fitting]\n",
      "WARNING: The fit may be unsuccessful; check fit_info['message'] for more information. [astropy.modeling.fitting]\n",
      "WARNING: The fit may be unsuccessful; check fit_info['message'] for more information. [astropy.modeling.fitting]\n",
      "WARNING: The fit may be unsuccessful; check fit_info['message'] for more information. [astropy.modeling.fitting]\n"
     ]
    },
    {
     "name": "stdout",
     "output_type": "stream",
     "text": [
      "[ShiftFinder] ...Shifts: 47.88609056940743,-32.269598363802515\n",
      "[ShiftFinder] Finding shifts in image: set 6; image 006...\n"
     ]
    },
    {
     "name": "stderr",
     "output_type": "stream",
     "text": [
      "WARNING: The fit may be unsuccessful; check fit_info['message'] for more information. [astropy.modeling.fitting]\n",
      "WARNING: The fit may be unsuccessful; check fit_info['message'] for more information. [astropy.modeling.fitting]\n"
     ]
    },
    {
     "name": "stdout",
     "output_type": "stream",
     "text": [
      "[ShiftFinder] ...Shifts: 47.499064086281436,-32.59096206569163\n",
      "[ShiftFinder] Finding shifts in image: set 6; image 007...\n"
     ]
    },
    {
     "name": "stderr",
     "output_type": "stream",
     "text": [
      "WARNING: The fit may be unsuccessful; check fit_info['message'] for more information. [astropy.modeling.fitting]\n",
      "WARNING: The fit may be unsuccessful; check fit_info['message'] for more information. [astropy.modeling.fitting]\n",
      "WARNING: The fit may be unsuccessful; check fit_info['message'] for more information. [astropy.modeling.fitting]\n",
      "WARNING: The fit may be unsuccessful; check fit_info['message'] for more information. [astropy.modeling.fitting]\n"
     ]
    },
    {
     "name": "stdout",
     "output_type": "stream",
     "text": [
      "[ShiftFinder] ...Shifts: 47.24344863878258,-32.06107533763064\n",
      "[ShiftFinder] Finding shifts in image: set 6; image 008...\n"
     ]
    },
    {
     "name": "stderr",
     "output_type": "stream",
     "text": [
      "WARNING: The fit may be unsuccessful; check fit_info['message'] for more information. [astropy.modeling.fitting]\n",
      "WARNING: The fit may be unsuccessful; check fit_info['message'] for more information. [astropy.modeling.fitting]\n"
     ]
    },
    {
     "name": "stdout",
     "output_type": "stream",
     "text": [
      "[ShiftFinder] ...Shifts: 49.018144653571014,-33.0480034840822\n",
      "[ShiftFinder] Finding shifts in image: set 6; image 009...\n"
     ]
    },
    {
     "name": "stderr",
     "output_type": "stream",
     "text": [
      "WARNING: The fit may be unsuccessful; check fit_info['message'] for more information. [astropy.modeling.fitting]\n",
      "WARNING: The fit may be unsuccessful; check fit_info['message'] for more information. [astropy.modeling.fitting]\n",
      "WARNING: The fit may be unsuccessful; check fit_info['message'] for more information. [astropy.modeling.fitting]\n"
     ]
    },
    {
     "name": "stdout",
     "output_type": "stream",
     "text": [
      "[ShiftFinder] ...Shifts: 48.35571815816682,-32.45517061187716\n",
      "[ShiftFinder] Finding shifts in image: set 6; image 010...\n"
     ]
    },
    {
     "name": "stderr",
     "output_type": "stream",
     "text": [
      "WARNING: The fit may be unsuccessful; check fit_info['message'] for more information. [astropy.modeling.fitting]\n",
      "WARNING: The fit may be unsuccessful; check fit_info['message'] for more information. [astropy.modeling.fitting]\n",
      "WARNING: The fit may be unsuccessful; check fit_info['message'] for more information. [astropy.modeling.fitting]\n",
      "WARNING: The fit may be unsuccessful; check fit_info['message'] for more information. [astropy.modeling.fitting]\n",
      "WARNING: The fit may be unsuccessful; check fit_info['message'] for more information. [astropy.modeling.fitting]\n"
     ]
    },
    {
     "name": "stdout",
     "output_type": "stream",
     "text": [
      "[ShiftFinder] ...Shifts: 48.611753252497756,-32.58415636362218\n",
      "[ShiftFinder] Finding shifts in image: set 6; image 011...\n"
     ]
    },
    {
     "name": "stderr",
     "output_type": "stream",
     "text": [
      "WARNING: The fit may be unsuccessful; check fit_info['message'] for more information. [astropy.modeling.fitting]\n",
      "WARNING: The fit may be unsuccessful; check fit_info['message'] for more information. [astropy.modeling.fitting]\n",
      "WARNING: The fit may be unsuccessful; check fit_info['message'] for more information. [astropy.modeling.fitting]\n"
     ]
    },
    {
     "name": "stdout",
     "output_type": "stream",
     "text": [
      "[ShiftFinder] ...Shifts: 47.3371195666104,-32.33169760692982\n",
      "[ShiftFinder] Finding shifts in image: set 6; image 012...\n"
     ]
    },
    {
     "name": "stderr",
     "output_type": "stream",
     "text": [
      "WARNING: The fit may be unsuccessful; check fit_info['message'] for more information. [astropy.modeling.fitting]\n",
      "WARNING: The fit may be unsuccessful; check fit_info['message'] for more information. [astropy.modeling.fitting]\n",
      "WARNING: The fit may be unsuccessful; check fit_info['message'] for more information. [astropy.modeling.fitting]\n",
      "WARNING: The fit may be unsuccessful; check fit_info['message'] for more information. [astropy.modeling.fitting]\n",
      "WARNING: The fit may be unsuccessful; check fit_info['message'] for more information. [astropy.modeling.fitting]\n"
     ]
    },
    {
     "name": "stdout",
     "output_type": "stream",
     "text": [
      "[ShiftFinder] ...Shifts: 49.66331884883411,-32.40049707608297\n",
      "[ShiftFinder] Finding shifts in image: set 6; image 013...\n"
     ]
    },
    {
     "name": "stderr",
     "output_type": "stream",
     "text": [
      "WARNING: The fit may be unsuccessful; check fit_info['message'] for more information. [astropy.modeling.fitting]\n",
      "WARNING: The fit may be unsuccessful; check fit_info['message'] for more information. [astropy.modeling.fitting]\n",
      "WARNING: The fit may be unsuccessful; check fit_info['message'] for more information. [astropy.modeling.fitting]\n",
      "WARNING: The fit may be unsuccessful; check fit_info['message'] for more information. [astropy.modeling.fitting]\n",
      "WARNING: The fit may be unsuccessful; check fit_info['message'] for more information. [astropy.modeling.fitting]\n"
     ]
    },
    {
     "name": "stdout",
     "output_type": "stream",
     "text": [
      "[ShiftFinder] ...Shifts: 49.20181206155452,-32.371464163267845\n",
      "[ShiftFinder] Finding shifts in image: set 6; image 014...\n"
     ]
    },
    {
     "name": "stderr",
     "output_type": "stream",
     "text": [
      "WARNING: The fit may be unsuccessful; check fit_info['message'] for more information. [astropy.modeling.fitting]\n",
      "WARNING: The fit may be unsuccessful; check fit_info['message'] for more information. [astropy.modeling.fitting]\n",
      "WARNING: The fit may be unsuccessful; check fit_info['message'] for more information. [astropy.modeling.fitting]\n"
     ]
    },
    {
     "name": "stdout",
     "output_type": "stream",
     "text": [
      "[ShiftFinder] ...Shifts: 49.378942516881054,-32.618149450505555\n",
      "[ShiftFinder] Finding shifts in image: set 6; image 015...\n"
     ]
    },
    {
     "name": "stderr",
     "output_type": "stream",
     "text": [
      "WARNING: The fit may be unsuccessful; check fit_info['message'] for more information. [astropy.modeling.fitting]\n",
      "WARNING: The fit may be unsuccessful; check fit_info['message'] for more information. [astropy.modeling.fitting]\n",
      "WARNING: The fit may be unsuccessful; check fit_info['message'] for more information. [astropy.modeling.fitting]\n"
     ]
    },
    {
     "name": "stdout",
     "output_type": "stream",
     "text": [
      "[ShiftFinder] ...Shifts: 48.16530364914873,-32.22773936040892\n",
      "[ShiftFinder] Finding shifts in image: set 6; image 016...\n"
     ]
    },
    {
     "name": "stderr",
     "output_type": "stream",
     "text": [
      "WARNING: The fit may be unsuccessful; check fit_info['message'] for more information. [astropy.modeling.fitting]\n",
      "WARNING: The fit may be unsuccessful; check fit_info['message'] for more information. [astropy.modeling.fitting]\n",
      "WARNING: The fit may be unsuccessful; check fit_info['message'] for more information. [astropy.modeling.fitting]\n"
     ]
    },
    {
     "name": "stdout",
     "output_type": "stream",
     "text": [
      "[ShiftFinder] ...Shifts: 49.733818564805645,-32.609204765452986\n",
      "[ShiftFinder] Finding shifts in image: set 6; image 017...\n"
     ]
    },
    {
     "name": "stderr",
     "output_type": "stream",
     "text": [
      "WARNING: The fit may be unsuccessful; check fit_info['message'] for more information. [astropy.modeling.fitting]\n"
     ]
    },
    {
     "name": "stdout",
     "output_type": "stream",
     "text": [
      "[ShiftFinder] ...Shifts: 50.298811593725375,-32.39923636758742\n",
      "[ShiftFinder] Finding shifts in image: set 6; image 018...\n"
     ]
    },
    {
     "name": "stderr",
     "output_type": "stream",
     "text": [
      "WARNING: The fit may be unsuccessful; check fit_info['message'] for more information. [astropy.modeling.fitting]\n",
      "WARNING: The fit may be unsuccessful; check fit_info['message'] for more information. [astropy.modeling.fitting]\n",
      "WARNING: The fit may be unsuccessful; check fit_info['message'] for more information. [astropy.modeling.fitting]\n"
     ]
    },
    {
     "name": "stdout",
     "output_type": "stream",
     "text": [
      "[ShiftFinder] ...Shifts: 50.05883724388769,-32.68794450636875\n",
      "[ShiftFinder] Finding shifts in image: set 6; image 019...\n"
     ]
    },
    {
     "name": "stderr",
     "output_type": "stream",
     "text": [
      "WARNING: The fit may be unsuccessful; check fit_info['message'] for more information. [astropy.modeling.fitting]\n",
      "WARNING: The fit may be unsuccessful; check fit_info['message'] for more information. [astropy.modeling.fitting]\n",
      "WARNING: The fit may be unsuccessful; check fit_info['message'] for more information. [astropy.modeling.fitting]\n"
     ]
    },
    {
     "name": "stdout",
     "output_type": "stream",
     "text": [
      "[ShiftFinder] ...Shifts: 49.2162710176996,-32.43765010681925\n",
      "[ShiftFinder] Finding shifts in image: set 6; image 020...\n"
     ]
    },
    {
     "name": "stderr",
     "output_type": "stream",
     "text": [
      "WARNING: The fit may be unsuccessful; check fit_info['message'] for more information. [astropy.modeling.fitting]\n",
      "WARNING: The fit may be unsuccessful; check fit_info['message'] for more information. [astropy.modeling.fitting]\n",
      "WARNING: The fit may be unsuccessful; check fit_info['message'] for more information. [astropy.modeling.fitting]\n"
     ]
    },
    {
     "name": "stdout",
     "output_type": "stream",
     "text": [
      "[ShiftFinder] ...Shifts: 49.59949367126777,-32.333500208319805\n",
      "[ShiftFinder] Finding shifts in image: set 6; image 021...\n"
     ]
    },
    {
     "name": "stderr",
     "output_type": "stream",
     "text": [
      "WARNING: The fit may be unsuccessful; check fit_info['message'] for more information. [astropy.modeling.fitting]\n",
      "WARNING: The fit may be unsuccessful; check fit_info['message'] for more information. [astropy.modeling.fitting]\n",
      "WARNING: The fit may be unsuccessful; check fit_info['message'] for more information. [astropy.modeling.fitting]\n"
     ]
    },
    {
     "name": "stdout",
     "output_type": "stream",
     "text": [
      "[ShiftFinder] ...Shifts: 51.68101919390027,-32.55540375826555\n",
      "[ShiftFinder] Finding shifts in image: set 6; image 022...\n"
     ]
    },
    {
     "name": "stderr",
     "output_type": "stream",
     "text": [
      "WARNING: The fit may be unsuccessful; check fit_info['message'] for more information. [astropy.modeling.fitting]\n",
      "WARNING: The fit may be unsuccessful; check fit_info['message'] for more information. [astropy.modeling.fitting]\n",
      "WARNING: The fit may be unsuccessful; check fit_info['message'] for more information. [astropy.modeling.fitting]\n",
      "WARNING: The fit may be unsuccessful; check fit_info['message'] for more information. [astropy.modeling.fitting]\n"
     ]
    },
    {
     "name": "stdout",
     "output_type": "stream",
     "text": [
      "[ShiftFinder] ...Shifts: 50.08468035110912,-32.4206958011184\n",
      "[ShiftFinder] Finding shifts in image: set 6; image 023...\n"
     ]
    },
    {
     "name": "stderr",
     "output_type": "stream",
     "text": [
      "WARNING: The fit may be unsuccessful; check fit_info['message'] for more information. [astropy.modeling.fitting]\n",
      "WARNING: The fit may be unsuccessful; check fit_info['message'] for more information. [astropy.modeling.fitting]\n"
     ]
    },
    {
     "name": "stdout",
     "output_type": "stream",
     "text": [
      "[ShiftFinder] ...Shifts: 50.908031399539325,-32.14491719023166\n",
      "[ShiftFinder] Finding shifts in image: set 6; image 024...\n"
     ]
    },
    {
     "name": "stderr",
     "output_type": "stream",
     "text": [
      "WARNING: The fit may be unsuccessful; check fit_info['message'] for more information. [astropy.modeling.fitting]\n",
      "WARNING: The fit may be unsuccessful; check fit_info['message'] for more information. [astropy.modeling.fitting]\n",
      "WARNING: The fit may be unsuccessful; check fit_info['message'] for more information. [astropy.modeling.fitting]\n",
      "WARNING: The fit may be unsuccessful; check fit_info['message'] for more information. [astropy.modeling.fitting]\n",
      "WARNING: The fit may be unsuccessful; check fit_info['message'] for more information. [astropy.modeling.fitting]\n",
      "WARNING: The fit may be unsuccessful; check fit_info['message'] for more information. [astropy.modeling.fitting]\n"
     ]
    },
    {
     "name": "stdout",
     "output_type": "stream",
     "text": [
      "[ShiftFinder] ...Shifts: 49.29562860528293,-32.35871406911866\n",
      "[ShiftFinder] Finding shifts in image: set 6; image 025...\n"
     ]
    },
    {
     "name": "stderr",
     "output_type": "stream",
     "text": [
      "WARNING: The fit may be unsuccessful; check fit_info['message'] for more information. [astropy.modeling.fitting]\n",
      "WARNING: The fit may be unsuccessful; check fit_info['message'] for more information. [astropy.modeling.fitting]\n",
      "WARNING: The fit may be unsuccessful; check fit_info['message'] for more information. [astropy.modeling.fitting]\n",
      "WARNING: The fit may be unsuccessful; check fit_info['message'] for more information. [astropy.modeling.fitting]\n"
     ]
    },
    {
     "name": "stdout",
     "output_type": "stream",
     "text": [
      "[ShiftFinder] ...Shifts: 51.560327061742946,-32.36008760513788\n",
      "[ShiftFinder] Finding shifts in image: set 6; image 026...\n"
     ]
    },
    {
     "name": "stderr",
     "output_type": "stream",
     "text": [
      "WARNING: The fit may be unsuccessful; check fit_info['message'] for more information. [astropy.modeling.fitting]\n",
      "WARNING: The fit may be unsuccessful; check fit_info['message'] for more information. [astropy.modeling.fitting]\n"
     ]
    },
    {
     "name": "stdout",
     "output_type": "stream",
     "text": [
      "[ShiftFinder] ...Shifts: 51.55122307891975,-32.08817911833339\n",
      "[ShiftFinder] Finding shifts in image: set 6; image 027...\n"
     ]
    },
    {
     "name": "stderr",
     "output_type": "stream",
     "text": [
      "WARNING: The fit may be unsuccessful; check fit_info['message'] for more information. [astropy.modeling.fitting]\n",
      "WARNING: The fit may be unsuccessful; check fit_info['message'] for more information. [astropy.modeling.fitting]\n",
      "WARNING: The fit may be unsuccessful; check fit_info['message'] for more information. [astropy.modeling.fitting]\n"
     ]
    },
    {
     "name": "stdout",
     "output_type": "stream",
     "text": [
      "[ShiftFinder] ...Shifts: 51.887529960298544,-32.04296063174028\n",
      "[ShiftFinder] Finding shifts in image: set 6; image 028...\n"
     ]
    },
    {
     "name": "stderr",
     "output_type": "stream",
     "text": [
      "WARNING: The fit may be unsuccessful; check fit_info['message'] for more information. [astropy.modeling.fitting]\n",
      "WARNING: The fit may be unsuccessful; check fit_info['message'] for more information. [astropy.modeling.fitting]\n",
      "WARNING: The fit may be unsuccessful; check fit_info['message'] for more information. [astropy.modeling.fitting]\n"
     ]
    },
    {
     "name": "stdout",
     "output_type": "stream",
     "text": [
      "[ShiftFinder] ...Shifts: 49.9465111412699,-32.43266501966453\n",
      "[ShiftFinder] Finding shifts in image: set 6; image 029...\n"
     ]
    },
    {
     "name": "stderr",
     "output_type": "stream",
     "text": [
      "WARNING: The fit may be unsuccessful; check fit_info['message'] for more information. [astropy.modeling.fitting]\n",
      "WARNING: The fit may be unsuccessful; check fit_info['message'] for more information. [astropy.modeling.fitting]\n",
      "WARNING: The fit may be unsuccessful; check fit_info['message'] for more information. [astropy.modeling.fitting]\n",
      "WARNING: The fit may be unsuccessful; check fit_info['message'] for more information. [astropy.modeling.fitting]\n"
     ]
    },
    {
     "name": "stdout",
     "output_type": "stream",
     "text": [
      "[ShiftFinder] ...Shifts: 52.84576058787211,-31.990290077251114\n",
      "[ShiftFinder] Finding shifts in image: set 6; image 030...\n"
     ]
    },
    {
     "name": "stderr",
     "output_type": "stream",
     "text": [
      "WARNING: The fit may be unsuccessful; check fit_info['message'] for more information. [astropy.modeling.fitting]\n",
      "WARNING: The fit may be unsuccessful; check fit_info['message'] for more information. [astropy.modeling.fitting]\n",
      "WARNING: The fit may be unsuccessful; check fit_info['message'] for more information. [astropy.modeling.fitting]\n"
     ]
    },
    {
     "name": "stdout",
     "output_type": "stream",
     "text": [
      "[ShiftFinder] ...Shifts: 52.160042143001355,-32.590646106944774\n",
      "[ShiftFinder] Finding shifts in image: set 6; image 031...\n"
     ]
    },
    {
     "name": "stderr",
     "output_type": "stream",
     "text": [
      "WARNING: The fit may be unsuccessful; check fit_info['message'] for more information. [astropy.modeling.fitting]\n",
      "WARNING: The fit may be unsuccessful; check fit_info['message'] for more information. [astropy.modeling.fitting]\n",
      "WARNING: The fit may be unsuccessful; check fit_info['message'] for more information. [astropy.modeling.fitting]\n"
     ]
    },
    {
     "name": "stdout",
     "output_type": "stream",
     "text": [
      "[ShiftFinder] ...Shifts: 52.493660907571176,-32.6157461996613\n",
      "[ShiftFinder] Finding shifts in image: set 6; image 032...\n"
     ]
    },
    {
     "name": "stderr",
     "output_type": "stream",
     "text": [
      "WARNING: The fit may be unsuccessful; check fit_info['message'] for more information. [astropy.modeling.fitting]\n",
      "WARNING: The fit may be unsuccessful; check fit_info['message'] for more information. [astropy.modeling.fitting]\n",
      "WARNING: The fit may be unsuccessful; check fit_info['message'] for more information. [astropy.modeling.fitting]\n"
     ]
    },
    {
     "name": "stdout",
     "output_type": "stream",
     "text": [
      "[ShiftFinder] ...Shifts: 51.439753072287175,-32.13422886148295\n",
      "[ShiftFinder] Finding shifts in image: set 6; image 033...\n"
     ]
    },
    {
     "name": "stderr",
     "output_type": "stream",
     "text": [
      "WARNING: The fit may be unsuccessful; check fit_info['message'] for more information. [astropy.modeling.fitting]\n",
      "WARNING: The fit may be unsuccessful; check fit_info['message'] for more information. [astropy.modeling.fitting]\n",
      "WARNING: The fit may be unsuccessful; check fit_info['message'] for more information. [astropy.modeling.fitting]\n",
      "WARNING: The fit may be unsuccessful; check fit_info['message'] for more information. [astropy.modeling.fitting]\n"
     ]
    },
    {
     "name": "stdout",
     "output_type": "stream",
     "text": [
      "[ShiftFinder] ...Shifts: 52.66750244731516,-31.9286635402744\n",
      "[ShiftFinder] Finding shifts in image: set 6; image 034...\n"
     ]
    },
    {
     "name": "stderr",
     "output_type": "stream",
     "text": [
      "WARNING: The fit may be unsuccessful; check fit_info['message'] for more information. [astropy.modeling.fitting]\n",
      "WARNING: The fit may be unsuccessful; check fit_info['message'] for more information. [astropy.modeling.fitting]\n"
     ]
    },
    {
     "name": "stdout",
     "output_type": "stream",
     "text": [
      "[ShiftFinder] ...Shifts: 54.290339655091614,-32.85203403000987\n",
      "[ShiftFinder] Finding shifts in image: set 6; image 035...\n"
     ]
    },
    {
     "name": "stderr",
     "output_type": "stream",
     "text": [
      "WARNING: The fit may be unsuccessful; check fit_info['message'] for more information. [astropy.modeling.fitting]\n",
      "WARNING: The fit may be unsuccessful; check fit_info['message'] for more information. [astropy.modeling.fitting]\n",
      "WARNING: The fit may be unsuccessful; check fit_info['message'] for more information. [astropy.modeling.fitting]\n"
     ]
    },
    {
     "name": "stdout",
     "output_type": "stream",
     "text": [
      "[ShiftFinder] ...Shifts: 53.00217505762624,-31.781321383458657\n",
      "[ShiftFinder] Finding shifts in image: set 6; image 036...\n"
     ]
    },
    {
     "name": "stderr",
     "output_type": "stream",
     "text": [
      "WARNING: The fit may be unsuccessful; check fit_info['message'] for more information. [astropy.modeling.fitting]\n",
      "WARNING: The fit may be unsuccessful; check fit_info['message'] for more information. [astropy.modeling.fitting]\n"
     ]
    },
    {
     "name": "stdout",
     "output_type": "stream",
     "text": [
      "[ShiftFinder] ...Shifts: 53.57378376990873,-32.144074988424535\n",
      "[ShiftFinder] Finding shifts in image: set 6; image 037...\n"
     ]
    },
    {
     "name": "stderr",
     "output_type": "stream",
     "text": [
      "WARNING: The fit may be unsuccessful; check fit_info['message'] for more information. [astropy.modeling.fitting]\n",
      "WARNING: The fit may be unsuccessful; check fit_info['message'] for more information. [astropy.modeling.fitting]\n"
     ]
    },
    {
     "name": "stdout",
     "output_type": "stream",
     "text": [
      "[ShiftFinder] ...Shifts: 51.99452734587268,-31.907154666052065\n",
      "[ShiftFinder] Finding shifts in image: set 6; image 038...\n"
     ]
    },
    {
     "name": "stderr",
     "output_type": "stream",
     "text": [
      "WARNING: The fit may be unsuccessful; check fit_info['message'] for more information. [astropy.modeling.fitting]\n",
      "WARNING: The fit may be unsuccessful; check fit_info['message'] for more information. [astropy.modeling.fitting]\n",
      "WARNING: The fit may be unsuccessful; check fit_info['message'] for more information. [astropy.modeling.fitting]\n",
      "WARNING: The fit may be unsuccessful; check fit_info['message'] for more information. [astropy.modeling.fitting]\n"
     ]
    },
    {
     "name": "stdout",
     "output_type": "stream",
     "text": [
      "[ShiftFinder] ...Shifts: 55.99206639560281,-32.18260547953651\n",
      "[ShiftFinder] Finding shifts in image: set 6; image 039...\n"
     ]
    },
    {
     "name": "stderr",
     "output_type": "stream",
     "text": [
      "WARNING: The fit may be unsuccessful; check fit_info['message'] for more information. [astropy.modeling.fitting]\n",
      "WARNING: The fit may be unsuccessful; check fit_info['message'] for more information. [astropy.modeling.fitting]\n",
      "WARNING: The fit may be unsuccessful; check fit_info['message'] for more information. [astropy.modeling.fitting]\n",
      "WARNING: The fit may be unsuccessful; check fit_info['message'] for more information. [astropy.modeling.fitting]\n"
     ]
    },
    {
     "name": "stdout",
     "output_type": "stream",
     "text": [
      "[ShiftFinder] ...Shifts: 53.10841857782729,-32.13328308230295\n",
      "[ShiftFinder] Finding shifts in image: set 6; image 040...\n"
     ]
    },
    {
     "name": "stderr",
     "output_type": "stream",
     "text": [
      "WARNING: The fit may be unsuccessful; check fit_info['message'] for more information. [astropy.modeling.fitting]\n",
      "WARNING: The fit may be unsuccessful; check fit_info['message'] for more information. [astropy.modeling.fitting]\n",
      "WARNING: The fit may be unsuccessful; check fit_info['message'] for more information. [astropy.modeling.fitting]\n"
     ]
    },
    {
     "name": "stdout",
     "output_type": "stream",
     "text": [
      "[ShiftFinder] ...Shifts: 55.44196956447426,-32.01572022307946\n",
      "[ShiftFinder] Finding shifts in image: set 6; image 041...\n"
     ]
    },
    {
     "name": "stderr",
     "output_type": "stream",
     "text": [
      "WARNING: The fit may be unsuccessful; check fit_info['message'] for more information. [astropy.modeling.fitting]\n",
      "WARNING: The fit may be unsuccessful; check fit_info['message'] for more information. [astropy.modeling.fitting]\n",
      "WARNING: The fit may be unsuccessful; check fit_info['message'] for more information. [astropy.modeling.fitting]\n",
      "WARNING: The fit may be unsuccessful; check fit_info['message'] for more information. [astropy.modeling.fitting]\n",
      "WARNING: The fit may be unsuccessful; check fit_info['message'] for more information. [astropy.modeling.fitting]\n"
     ]
    },
    {
     "name": "stdout",
     "output_type": "stream",
     "text": [
      "[ShiftFinder] ...Shifts: 52.1670022889546,-32.24088917301559\n",
      "[ShiftFinder] Finding shifts in image: set 6; image 042...\n"
     ]
    },
    {
     "name": "stderr",
     "output_type": "stream",
     "text": [
      "WARNING: The fit may be unsuccessful; check fit_info['message'] for more information. [astropy.modeling.fitting]\n",
      "WARNING: The fit may be unsuccessful; check fit_info['message'] for more information. [astropy.modeling.fitting]\n",
      "WARNING: The fit may be unsuccessful; check fit_info['message'] for more information. [astropy.modeling.fitting]\n",
      "WARNING: The fit may be unsuccessful; check fit_info['message'] for more information. [astropy.modeling.fitting]\n",
      "WARNING: The fit may be unsuccessful; check fit_info['message'] for more information. [astropy.modeling.fitting]\n"
     ]
    },
    {
     "name": "stdout",
     "output_type": "stream",
     "text": [
      "[ShiftFinder] ...Shifts: 54.77857082750679,-32.17481665150446\n",
      "[ShiftFinder] Finding shifts in image: set 6; image 043...\n"
     ]
    },
    {
     "name": "stderr",
     "output_type": "stream",
     "text": [
      "WARNING: The fit may be unsuccessful; check fit_info['message'] for more information. [astropy.modeling.fitting]\n",
      "WARNING: The fit may be unsuccessful; check fit_info['message'] for more information. [astropy.modeling.fitting]\n"
     ]
    },
    {
     "name": "stdout",
     "output_type": "stream",
     "text": [
      "[ShiftFinder] ...Shifts: 55.35391990845676,-32.074633271634774\n",
      "[ShiftFinder] Finding shifts in image: set 6; image 044...\n"
     ]
    },
    {
     "name": "stderr",
     "output_type": "stream",
     "text": [
      "WARNING: The fit may be unsuccessful; check fit_info['message'] for more information. [astropy.modeling.fitting]\n",
      "WARNING: The fit may be unsuccessful; check fit_info['message'] for more information. [astropy.modeling.fitting]\n",
      "WARNING: The fit may be unsuccessful; check fit_info['message'] for more information. [astropy.modeling.fitting]\n"
     ]
    },
    {
     "name": "stdout",
     "output_type": "stream",
     "text": [
      "[ShiftFinder] ...Shifts: 54.92222275001993,-31.94859582561512\n",
      "[ShiftFinder] Finding shifts in image: set 6; image 045...\n"
     ]
    },
    {
     "name": "stderr",
     "output_type": "stream",
     "text": [
      "WARNING: The fit may be unsuccessful; check fit_info['message'] for more information. [astropy.modeling.fitting]\n",
      "WARNING: The fit may be unsuccessful; check fit_info['message'] for more information. [astropy.modeling.fitting]\n"
     ]
    },
    {
     "name": "stdout",
     "output_type": "stream",
     "text": [
      "[ShiftFinder] ...Shifts: 53.62811182590223,-31.95346366620959\n",
      "[ShiftFinder] Finding shifts in image: set 6; image 046...\n"
     ]
    },
    {
     "name": "stderr",
     "output_type": "stream",
     "text": [
      "WARNING: The fit may be unsuccessful; check fit_info['message'] for more information. [astropy.modeling.fitting]\n",
      "WARNING: The fit may be unsuccessful; check fit_info['message'] for more information. [astropy.modeling.fitting]\n",
      "WARNING: The fit may be unsuccessful; check fit_info['message'] for more information. [astropy.modeling.fitting]\n",
      "WARNING: The fit may be unsuccessful; check fit_info['message'] for more information. [astropy.modeling.fitting]\n"
     ]
    },
    {
     "name": "stdout",
     "output_type": "stream",
     "text": [
      "[ShiftFinder] ...Shifts: 56.666731279362764,-31.894322407121063\n",
      "[ShiftFinder] Finding shifts in image: set 6; image 047...\n"
     ]
    },
    {
     "name": "stderr",
     "output_type": "stream",
     "text": [
      "WARNING: The fit may be unsuccessful; check fit_info['message'] for more information. [astropy.modeling.fitting]\n",
      "WARNING: The fit may be unsuccessful; check fit_info['message'] for more information. [astropy.modeling.fitting]\n"
     ]
    },
    {
     "name": "stdout",
     "output_type": "stream",
     "text": [
      "[ShiftFinder] ...Shifts: 55.00794735062485,-32.06588290530619\n",
      "[ShiftFinder] Finding shifts in image: set 6; image 048...\n"
     ]
    },
    {
     "name": "stderr",
     "output_type": "stream",
     "text": [
      "WARNING: The fit may be unsuccessful; check fit_info['message'] for more information. [astropy.modeling.fitting]\n",
      "WARNING: The fit may be unsuccessful; check fit_info['message'] for more information. [astropy.modeling.fitting]\n",
      "WARNING: The fit may be unsuccessful; check fit_info['message'] for more information. [astropy.modeling.fitting]\n",
      "WARNING: The fit may be unsuccessful; check fit_info['message'] for more information. [astropy.modeling.fitting]\n",
      "WARNING: The fit may be unsuccessful; check fit_info['message'] for more information. [astropy.modeling.fitting]\n"
     ]
    },
    {
     "name": "stdout",
     "output_type": "stream",
     "text": [
      "[ShiftFinder] ...Shifts: 56.8574609397684,-32.06966440694645\n",
      "[ShiftFinder] Finding shifts in image: set 6; image 049...\n"
     ]
    },
    {
     "name": "stderr",
     "output_type": "stream",
     "text": [
      "WARNING: The fit may be unsuccessful; check fit_info['message'] for more information. [astropy.modeling.fitting]\n",
      "WARNING: The fit may be unsuccessful; check fit_info['message'] for more information. [astropy.modeling.fitting]\n"
     ]
    },
    {
     "name": "stdout",
     "output_type": "stream",
     "text": [
      "[ShiftFinder] ...Shifts: 54.45245241165045,-31.577857680754118\n",
      "[ShiftFinder] Finding shifts in image: set 6; image 050...\n"
     ]
    },
    {
     "name": "stderr",
     "output_type": "stream",
     "text": [
      "WARNING: The fit may be unsuccessful; check fit_info['message'] for more information. [astropy.modeling.fitting]\n",
      "WARNING: The fit may be unsuccessful; check fit_info['message'] for more information. [astropy.modeling.fitting]\n",
      "WARNING: The fit may be unsuccessful; check fit_info['message'] for more information. [astropy.modeling.fitting]\n",
      "WARNING: The fit may be unsuccessful; check fit_info['message'] for more information. [astropy.modeling.fitting]\n"
     ]
    },
    {
     "name": "stdout",
     "output_type": "stream",
     "text": [
      "[ShiftFinder] ...Shifts: 55.77112934519777,-31.652143329660603\n",
      "[ShiftFinder] Finding shifts in image: set 7; image 001...\n"
     ]
    },
    {
     "name": "stderr",
     "output_type": "stream",
     "text": [
      "WARNING: The fit may be unsuccessful; check fit_info['message'] for more information. [astropy.modeling.fitting]\n",
      "WARNING: The fit may be unsuccessful; check fit_info['message'] for more information. [astropy.modeling.fitting]\n"
     ]
    },
    {
     "name": "stdout",
     "output_type": "stream",
     "text": [
      "[ShiftFinder] ...Shifts: 57.47169315414676,-31.416147907516525\n",
      "[ShiftFinder] Finding shifts in image: set 7; image 002...\n"
     ]
    },
    {
     "name": "stderr",
     "output_type": "stream",
     "text": [
      "WARNING: The fit may be unsuccessful; check fit_info['message'] for more information. [astropy.modeling.fitting]\n",
      "WARNING: The fit may be unsuccessful; check fit_info['message'] for more information. [astropy.modeling.fitting]\n",
      "WARNING: The fit may be unsuccessful; check fit_info['message'] for more information. [astropy.modeling.fitting]\n"
     ]
    },
    {
     "name": "stdout",
     "output_type": "stream",
     "text": [
      "[ShiftFinder] ...Shifts: 57.44255781084221,-31.55350211864936\n",
      "[ShiftFinder] Finding shifts in image: set 7; image 003...\n"
     ]
    },
    {
     "name": "stderr",
     "output_type": "stream",
     "text": [
      "WARNING: The fit may be unsuccessful; check fit_info['message'] for more information. [astropy.modeling.fitting]\n",
      "WARNING: The fit may be unsuccessful; check fit_info['message'] for more information. [astropy.modeling.fitting]\n"
     ]
    },
    {
     "name": "stdout",
     "output_type": "stream",
     "text": [
      "[ShiftFinder] ...Shifts: 54.36247131994474,-31.611750850282775\n",
      "[ShiftFinder] Finding shifts in image: set 7; image 004...\n"
     ]
    },
    {
     "name": "stderr",
     "output_type": "stream",
     "text": [
      "WARNING: The fit may be unsuccessful; check fit_info['message'] for more information. [astropy.modeling.fitting]\n",
      "WARNING: The fit may be unsuccessful; check fit_info['message'] for more information. [astropy.modeling.fitting]\n",
      "WARNING: The fit may be unsuccessful; check fit_info['message'] for more information. [astropy.modeling.fitting]\n",
      "WARNING: The fit may be unsuccessful; check fit_info['message'] for more information. [astropy.modeling.fitting]\n",
      "WARNING: The fit may be unsuccessful; check fit_info['message'] for more information. [astropy.modeling.fitting]\n",
      "WARNING: The fit may be unsuccessful; check fit_info['message'] for more information. [astropy.modeling.fitting]\n",
      "WARNING: The fit may be unsuccessful; check fit_info['message'] for more information. [astropy.modeling.fitting]\n",
      "WARNING: The fit may be unsuccessful; check fit_info['message'] for more information. [astropy.modeling.fitting]\n"
     ]
    },
    {
     "name": "stdout",
     "output_type": "stream",
     "text": [
      "[ShiftFinder] ...Shifts: 56.92898157154593,-31.80844344412036\n",
      "[ShiftFinder] Finding shifts in image: set 7; image 005...\n"
     ]
    },
    {
     "name": "stderr",
     "output_type": "stream",
     "text": [
      "WARNING: The fit may be unsuccessful; check fit_info['message'] for more information. [astropy.modeling.fitting]\n",
      "WARNING: The fit may be unsuccessful; check fit_info['message'] for more information. [astropy.modeling.fitting]\n",
      "WARNING: The fit may be unsuccessful; check fit_info['message'] for more information. [astropy.modeling.fitting]\n"
     ]
    },
    {
     "name": "stdout",
     "output_type": "stream",
     "text": [
      "[ShiftFinder] ...Shifts: 58.963335138362574,-32.01518114757606\n",
      "[ShiftFinder] Finding shifts in image: set 7; image 006...\n"
     ]
    },
    {
     "name": "stderr",
     "output_type": "stream",
     "text": [
      "WARNING: The fit may be unsuccessful; check fit_info['message'] for more information. [astropy.modeling.fitting]\n",
      "WARNING: The fit may be unsuccessful; check fit_info['message'] for more information. [astropy.modeling.fitting]\n"
     ]
    },
    {
     "name": "stdout",
     "output_type": "stream",
     "text": [
      "[ShiftFinder] ...Shifts: 56.48073223952378,-31.39754210671171\n",
      "[ShiftFinder] Finding shifts in image: set 7; image 007...\n"
     ]
    },
    {
     "name": "stderr",
     "output_type": "stream",
     "text": [
      "WARNING: The fit may be unsuccessful; check fit_info['message'] for more information. [astropy.modeling.fitting]\n"
     ]
    },
    {
     "name": "stdout",
     "output_type": "stream",
     "text": [
      "[ShiftFinder] ...Shifts: 58.39049490930504,-31.341672023478676\n",
      "[ShiftFinder] Finding shifts in image: set 7; image 008...\n"
     ]
    },
    {
     "name": "stderr",
     "output_type": "stream",
     "text": [
      "WARNING: The fit may be unsuccessful; check fit_info['message'] for more information. [astropy.modeling.fitting]\n",
      "WARNING: The fit may be unsuccessful; check fit_info['message'] for more information. [astropy.modeling.fitting]\n",
      "WARNING: The fit may be unsuccessful; check fit_info['message'] for more information. [astropy.modeling.fitting]\n"
     ]
    },
    {
     "name": "stdout",
     "output_type": "stream",
     "text": [
      "[ShiftFinder] ...Shifts: 56.904529623237735,-31.54233743618382\n",
      "[ShiftFinder] Finding shifts in image: set 7; image 009...\n"
     ]
    },
    {
     "name": "stderr",
     "output_type": "stream",
     "text": [
      "WARNING: The fit may be unsuccessful; check fit_info['message'] for more information. [astropy.modeling.fitting]\n",
      "WARNING: The fit may be unsuccessful; check fit_info['message'] for more information. [astropy.modeling.fitting]\n",
      "WARNING: The fit may be unsuccessful; check fit_info['message'] for more information. [astropy.modeling.fitting]\n"
     ]
    },
    {
     "name": "stdout",
     "output_type": "stream",
     "text": [
      "[ShiftFinder] ...Shifts: 59.21821803884001,-31.73650287902861\n",
      "[ShiftFinder] Finding shifts in image: set 7; image 010...\n"
     ]
    },
    {
     "name": "stderr",
     "output_type": "stream",
     "text": [
      "WARNING: The fit may be unsuccessful; check fit_info['message'] for more information. [astropy.modeling.fitting]\n",
      "WARNING: The fit may be unsuccessful; check fit_info['message'] for more information. [astropy.modeling.fitting]\n",
      "WARNING: The fit may be unsuccessful; check fit_info['message'] for more information. [astropy.modeling.fitting]\n"
     ]
    },
    {
     "name": "stdout",
     "output_type": "stream",
     "text": [
      "[ShiftFinder] ...Shifts: 57.76029854380613,-31.254075899154643\n",
      "[ShiftFinder] Finding shifts in image: set 7; image 011...\n"
     ]
    },
    {
     "name": "stderr",
     "output_type": "stream",
     "text": [
      "WARNING: The fit may be unsuccessful; check fit_info['message'] for more information. [astropy.modeling.fitting]\n",
      "WARNING: The fit may be unsuccessful; check fit_info['message'] for more information. [astropy.modeling.fitting]\n",
      "WARNING: The fit may be unsuccessful; check fit_info['message'] for more information. [astropy.modeling.fitting]\n"
     ]
    },
    {
     "name": "stdout",
     "output_type": "stream",
     "text": [
      "[ShiftFinder] ...Shifts: 58.734669490135936,-31.422315143660107\n",
      "[ShiftFinder] Finding shifts in image: set 7; image 012...\n"
     ]
    },
    {
     "name": "stderr",
     "output_type": "stream",
     "text": [
      "WARNING: The fit may be unsuccessful; check fit_info['message'] for more information. [astropy.modeling.fitting]\n",
      "WARNING: The fit may be unsuccessful; check fit_info['message'] for more information. [astropy.modeling.fitting]\n"
     ]
    },
    {
     "name": "stdout",
     "output_type": "stream",
     "text": [
      "[ShiftFinder] ...Shifts: 56.3895381690264,-31.060357137980574\n",
      "[ShiftFinder] Finding shifts in image: set 7; image 013...\n"
     ]
    },
    {
     "name": "stderr",
     "output_type": "stream",
     "text": [
      "WARNING: The fit may be unsuccessful; check fit_info['message'] for more information. [astropy.modeling.fitting]\n",
      "WARNING: The fit may be unsuccessful; check fit_info['message'] for more information. [astropy.modeling.fitting]\n",
      "WARNING: The fit may be unsuccessful; check fit_info['message'] for more information. [astropy.modeling.fitting]\n",
      "WARNING: The fit may be unsuccessful; check fit_info['message'] for more information. [astropy.modeling.fitting]\n",
      "WARNING: The fit may be unsuccessful; check fit_info['message'] for more information. [astropy.modeling.fitting]\n"
     ]
    },
    {
     "name": "stdout",
     "output_type": "stream",
     "text": [
      "[ShiftFinder] ...Shifts: 59.318678185017646,-31.72706100662755\n",
      "[ShiftFinder] Finding shifts in image: set 7; image 014...\n"
     ]
    },
    {
     "name": "stderr",
     "output_type": "stream",
     "text": [
      "WARNING: The fit may be unsuccessful; check fit_info['message'] for more information. [astropy.modeling.fitting]\n",
      "WARNING: The fit may be unsuccessful; check fit_info['message'] for more information. [astropy.modeling.fitting]\n"
     ]
    },
    {
     "name": "stdout",
     "output_type": "stream",
     "text": [
      "[ShiftFinder] ...Shifts: 59.04947078836667,-31.294079838051648\n",
      "[ShiftFinder] Finding shifts in image: set 7; image 015...\n"
     ]
    },
    {
     "name": "stderr",
     "output_type": "stream",
     "text": [
      "WARNING: The fit may be unsuccessful; check fit_info['message'] for more information. [astropy.modeling.fitting]\n",
      "WARNING: The fit may be unsuccessful; check fit_info['message'] for more information. [astropy.modeling.fitting]\n",
      "WARNING: The fit may be unsuccessful; check fit_info['message'] for more information. [astropy.modeling.fitting]\n",
      "WARNING: The fit may be unsuccessful; check fit_info['message'] for more information. [astropy.modeling.fitting]\n"
     ]
    },
    {
     "name": "stdout",
     "output_type": "stream",
     "text": [
      "[ShiftFinder] ...Shifts: 61.01127406734048,-31.331588488343176\n",
      "[ShiftFinder] Finding shifts in image: set 7; image 016...\n"
     ]
    },
    {
     "name": "stderr",
     "output_type": "stream",
     "text": [
      "WARNING: The fit may be unsuccessful; check fit_info['message'] for more information. [astropy.modeling.fitting]\n",
      "WARNING: The fit may be unsuccessful; check fit_info['message'] for more information. [astropy.modeling.fitting]\n",
      "WARNING: The fit may be unsuccessful; check fit_info['message'] for more information. [astropy.modeling.fitting]\n",
      "WARNING: The fit may be unsuccessful; check fit_info['message'] for more information. [astropy.modeling.fitting]\n",
      "WARNING: The fit may be unsuccessful; check fit_info['message'] for more information. [astropy.modeling.fitting]\n"
     ]
    },
    {
     "name": "stdout",
     "output_type": "stream",
     "text": [
      "[ShiftFinder] ...Shifts: 57.086348207508856,-31.315591118067953\n",
      "[ShiftFinder] Finding shifts in image: set 7; image 017...\n"
     ]
    },
    {
     "name": "stderr",
     "output_type": "stream",
     "text": [
      "WARNING: The fit may be unsuccessful; check fit_info['message'] for more information. [astropy.modeling.fitting]\n",
      "WARNING: The fit may be unsuccessful; check fit_info['message'] for more information. [astropy.modeling.fitting]\n",
      "WARNING: The fit may be unsuccessful; check fit_info['message'] for more information. [astropy.modeling.fitting]\n",
      "WARNING: The fit may be unsuccessful; check fit_info['message'] for more information. [astropy.modeling.fitting]\n",
      "WARNING: The fit may be unsuccessful; check fit_info['message'] for more information. [astropy.modeling.fitting]\n"
     ]
    },
    {
     "name": "stdout",
     "output_type": "stream",
     "text": [
      "[ShiftFinder] ...Shifts: 59.773026971375245,-31.1617229134165\n",
      "[ShiftFinder] Finding shifts in image: set 7; image 018...\n"
     ]
    },
    {
     "name": "stderr",
     "output_type": "stream",
     "text": [
      "WARNING: The fit may be unsuccessful; check fit_info['message'] for more information. [astropy.modeling.fitting]\n",
      "WARNING: The fit may be unsuccessful; check fit_info['message'] for more information. [astropy.modeling.fitting]\n"
     ]
    },
    {
     "name": "stdout",
     "output_type": "stream",
     "text": [
      "[ShiftFinder] ...Shifts: 61.01275443726534,-30.94755362008087\n",
      "[ShiftFinder] Finding shifts in image: set 7; image 019...\n"
     ]
    },
    {
     "name": "stderr",
     "output_type": "stream",
     "text": [
      "WARNING: The fit may be unsuccessful; check fit_info['message'] for more information. [astropy.modeling.fitting]\n",
      "WARNING: The fit may be unsuccessful; check fit_info['message'] for more information. [astropy.modeling.fitting]\n",
      "WARNING: The fit may be unsuccessful; check fit_info['message'] for more information. [astropy.modeling.fitting]\n",
      "WARNING: The fit may be unsuccessful; check fit_info['message'] for more information. [astropy.modeling.fitting]\n"
     ]
    },
    {
     "name": "stdout",
     "output_type": "stream",
     "text": [
      "[ShiftFinder] ...Shifts: 60.12232950099872,-31.51647782243002\n",
      "[ShiftFinder] Finding shifts in image: set 7; image 020...\n"
     ]
    },
    {
     "name": "stderr",
     "output_type": "stream",
     "text": [
      "WARNING: The fit may be unsuccessful; check fit_info['message'] for more information. [astropy.modeling.fitting]\n",
      "WARNING: The fit may be unsuccessful; check fit_info['message'] for more information. [astropy.modeling.fitting]\n",
      "WARNING: The fit may be unsuccessful; check fit_info['message'] for more information. [astropy.modeling.fitting]\n",
      "WARNING: The fit may be unsuccessful; check fit_info['message'] for more information. [astropy.modeling.fitting]\n"
     ]
    },
    {
     "name": "stdout",
     "output_type": "stream",
     "text": [
      "[ShiftFinder] ...Shifts: 59.66899152219914,-30.303903219131126\n",
      "[ShiftFinder] Finding shifts in image: set 7; image 021...\n"
     ]
    },
    {
     "name": "stderr",
     "output_type": "stream",
     "text": [
      "WARNING: The fit may be unsuccessful; check fit_info['message'] for more information. [astropy.modeling.fitting]\n",
      "WARNING: The fit may be unsuccessful; check fit_info['message'] for more information. [astropy.modeling.fitting]\n"
     ]
    },
    {
     "name": "stdout",
     "output_type": "stream",
     "text": [
      "[ShiftFinder] ...Shifts: 60.68625170494738,-31.199192013956285\n",
      "[ShiftFinder] Finding shifts in image: set 7; image 022...\n"
     ]
    },
    {
     "name": "stderr",
     "output_type": "stream",
     "text": [
      "WARNING: The fit may be unsuccessful; check fit_info['message'] for more information. [astropy.modeling.fitting]\n",
      "WARNING: The fit may be unsuccessful; check fit_info['message'] for more information. [astropy.modeling.fitting]\n",
      "WARNING: The fit may be unsuccessful; check fit_info['message'] for more information. [astropy.modeling.fitting]\n",
      "WARNING: The fit may be unsuccessful; check fit_info['message'] for more information. [astropy.modeling.fitting]\n",
      "WARNING: The fit may be unsuccessful; check fit_info['message'] for more information. [astropy.modeling.fitting]\n"
     ]
    },
    {
     "name": "stdout",
     "output_type": "stream",
     "text": [
      "[ShiftFinder] ...Shifts: 61.345280247207896,-30.55200567443797\n",
      "[ShiftFinder] Finding shifts in image: set 7; image 023...\n"
     ]
    },
    {
     "name": "stderr",
     "output_type": "stream",
     "text": [
      "WARNING: The fit may be unsuccessful; check fit_info['message'] for more information. [astropy.modeling.fitting]\n",
      "WARNING: The fit may be unsuccessful; check fit_info['message'] for more information. [astropy.modeling.fitting]\n"
     ]
    },
    {
     "name": "stdout",
     "output_type": "stream",
     "text": [
      "[ShiftFinder] ...Shifts: 61.88316163958547,-31.461748795111582\n",
      "[ShiftFinder] Finding shifts in image: set 7; image 024...\n"
     ]
    },
    {
     "name": "stderr",
     "output_type": "stream",
     "text": [
      "WARNING: The fit may be unsuccessful; check fit_info['message'] for more information. [astropy.modeling.fitting]\n",
      "WARNING: The fit may be unsuccessful; check fit_info['message'] for more information. [astropy.modeling.fitting]\n"
     ]
    },
    {
     "name": "stdout",
     "output_type": "stream",
     "text": [
      "[ShiftFinder] ...Shifts: 59.62935897761683,-30.083982358925113\n",
      "[ShiftFinder] Finding shifts in image: set 7; image 025...\n"
     ]
    },
    {
     "name": "stderr",
     "output_type": "stream",
     "text": [
      "WARNING: The fit may be unsuccessful; check fit_info['message'] for more information. [astropy.modeling.fitting]\n",
      "WARNING: The fit may be unsuccessful; check fit_info['message'] for more information. [astropy.modeling.fitting]\n",
      "WARNING: The fit may be unsuccessful; check fit_info['message'] for more information. [astropy.modeling.fitting]\n",
      "WARNING: The fit may be unsuccessful; check fit_info['message'] for more information. [astropy.modeling.fitting]\n",
      "WARNING: The fit may be unsuccessful; check fit_info['message'] for more information. [astropy.modeling.fitting]\n"
     ]
    },
    {
     "name": "stdout",
     "output_type": "stream",
     "text": [
      "[ShiftFinder] ...Shifts: 60.24208889403171,-31.298953194526987\n",
      "[ShiftFinder] Finding shifts in image: set 7; image 026...\n"
     ]
    },
    {
     "name": "stderr",
     "output_type": "stream",
     "text": [
      "WARNING: The fit may be unsuccessful; check fit_info['message'] for more information. [astropy.modeling.fitting]\n",
      "WARNING: The fit may be unsuccessful; check fit_info['message'] for more information. [astropy.modeling.fitting]\n"
     ]
    },
    {
     "name": "stdout",
     "output_type": "stream",
     "text": [
      "[ShiftFinder] ...Shifts: 62.88149935418127,-29.83175058251348\n",
      "[ShiftFinder] Finding shifts in image: set 7; image 027...\n"
     ]
    },
    {
     "name": "stderr",
     "output_type": "stream",
     "text": [
      "WARNING: The fit may be unsuccessful; check fit_info['message'] for more information. [astropy.modeling.fitting]\n",
      "WARNING: The fit may be unsuccessful; check fit_info['message'] for more information. [astropy.modeling.fitting]\n"
     ]
    },
    {
     "name": "stdout",
     "output_type": "stream",
     "text": [
      "[ShiftFinder] ...Shifts: 60.663103284389386,-31.16530617408475\n",
      "[ShiftFinder] Finding shifts in image: set 7; image 028...\n"
     ]
    },
    {
     "name": "stderr",
     "output_type": "stream",
     "text": [
      "WARNING: The fit may be unsuccessful; check fit_info['message'] for more information. [astropy.modeling.fitting]\n",
      "WARNING: The fit may be unsuccessful; check fit_info['message'] for more information. [astropy.modeling.fitting]\n"
     ]
    },
    {
     "name": "stdout",
     "output_type": "stream",
     "text": [
      "[ShiftFinder] ...Shifts: 63.71303653690539,-30.127962944608523\n",
      "[ShiftFinder] Finding shifts in image: set 7; image 029...\n"
     ]
    },
    {
     "name": "stderr",
     "output_type": "stream",
     "text": [
      "WARNING: The fit may be unsuccessful; check fit_info['message'] for more information. [astropy.modeling.fitting]\n",
      "WARNING: The fit may be unsuccessful; check fit_info['message'] for more information. [astropy.modeling.fitting]\n",
      "WARNING: The fit may be unsuccessful; check fit_info['message'] for more information. [astropy.modeling.fitting]\n",
      "WARNING: The fit may be unsuccessful; check fit_info['message'] for more information. [astropy.modeling.fitting]\n"
     ]
    },
    {
     "name": "stdout",
     "output_type": "stream",
     "text": [
      "[ShiftFinder] ...Shifts: 59.25179128399956,-30.82825509266793\n",
      "[ShiftFinder] Finding shifts in image: set 7; image 030...\n"
     ]
    },
    {
     "name": "stderr",
     "output_type": "stream",
     "text": [
      "WARNING: The fit may be unsuccessful; check fit_info['message'] for more information. [astropy.modeling.fitting]\n",
      "WARNING: The fit may be unsuccessful; check fit_info['message'] for more information. [astropy.modeling.fitting]\n",
      "WARNING: The fit may be unsuccessful; check fit_info['message'] for more information. [astropy.modeling.fitting]\n",
      "WARNING: The fit may be unsuccessful; check fit_info['message'] for more information. [astropy.modeling.fitting]\n",
      "WARNING: The fit may be unsuccessful; check fit_info['message'] for more information. [astropy.modeling.fitting]\n"
     ]
    },
    {
     "name": "stdout",
     "output_type": "stream",
     "text": [
      "[ShiftFinder] ...Shifts: 62.67277528099921,-30.872197106052358\n",
      "[ShiftFinder] Finding shifts in image: set 7; image 031...\n"
     ]
    },
    {
     "name": "stderr",
     "output_type": "stream",
     "text": [
      "WARNING: The fit may be unsuccessful; check fit_info['message'] for more information. [astropy.modeling.fitting]\n"
     ]
    },
    {
     "name": "stdout",
     "output_type": "stream",
     "text": [
      "[ShiftFinder] ...Shifts: 63.101951457817165,-30.356058970687382\n",
      "[ShiftFinder] Finding shifts in image: set 7; image 032...\n"
     ]
    },
    {
     "name": "stderr",
     "output_type": "stream",
     "text": [
      "WARNING: The fit may be unsuccessful; check fit_info['message'] for more information. [astropy.modeling.fitting]\n"
     ]
    },
    {
     "name": "stdout",
     "output_type": "stream",
     "text": [
      "[ShiftFinder] ...Shifts: 62.0205329638748,-30.07191858373134\n",
      "[ShiftFinder] Finding shifts in image: set 7; image 033...\n"
     ]
    },
    {
     "name": "stderr",
     "output_type": "stream",
     "text": [
      "WARNING: The fit may be unsuccessful; check fit_info['message'] for more information. [astropy.modeling.fitting]\n",
      "WARNING: The fit may be unsuccessful; check fit_info['message'] for more information. [astropy.modeling.fitting]\n",
      "WARNING: The fit may be unsuccessful; check fit_info['message'] for more information. [astropy.modeling.fitting]\n"
     ]
    },
    {
     "name": "stdout",
     "output_type": "stream",
     "text": [
      "[ShiftFinder] ...Shifts: 61.2842028634305,-30.92222045771999\n",
      "[ShiftFinder] Finding shifts in image: set 7; image 034...\n"
     ]
    },
    {
     "name": "stderr",
     "output_type": "stream",
     "text": [
      "WARNING: The fit may be unsuccessful; check fit_info['message'] for more information. [astropy.modeling.fitting]\n",
      "WARNING: The fit may be unsuccessful; check fit_info['message'] for more information. [astropy.modeling.fitting]\n",
      "WARNING: The fit may be unsuccessful; check fit_info['message'] for more information. [astropy.modeling.fitting]\n"
     ]
    },
    {
     "name": "stdout",
     "output_type": "stream",
     "text": [
      "[ShiftFinder] ...Shifts: 65.01776866352085,-29.70498393135378\n",
      "[ShiftFinder] Finding shifts in image: set 7; image 035...\n"
     ]
    },
    {
     "name": "stderr",
     "output_type": "stream",
     "text": [
      "WARNING: The fit may be unsuccessful; check fit_info['message'] for more information. [astropy.modeling.fitting]\n",
      "WARNING: The fit may be unsuccessful; check fit_info['message'] for more information. [astropy.modeling.fitting]\n"
     ]
    },
    {
     "name": "stdout",
     "output_type": "stream",
     "text": [
      "[ShiftFinder] ...Shifts: 61.96043685165313,-30.80287684704056\n",
      "[ShiftFinder] Finding shifts in image: set 7; image 036...\n"
     ]
    },
    {
     "name": "stderr",
     "output_type": "stream",
     "text": [
      "WARNING: The fit may be unsuccessful; check fit_info['message'] for more information. [astropy.modeling.fitting]\n",
      "WARNING: The fit may be unsuccessful; check fit_info['message'] for more information. [astropy.modeling.fitting]\n"
     ]
    },
    {
     "name": "stdout",
     "output_type": "stream",
     "text": [
      "[ShiftFinder] ...Shifts: 64.95495936860468,-29.847315738809044\n",
      "[ShiftFinder] Finding shifts in image: set 7; image 037...\n"
     ]
    },
    {
     "name": "stderr",
     "output_type": "stream",
     "text": [
      "WARNING: The fit may be unsuccessful; check fit_info['message'] for more information. [astropy.modeling.fitting]\n",
      "WARNING: The fit may be unsuccessful; check fit_info['message'] for more information. [astropy.modeling.fitting]\n"
     ]
    },
    {
     "name": "stdout",
     "output_type": "stream",
     "text": [
      "[ShiftFinder] ...Shifts: 61.61590722848005,-30.024582433806195\n",
      "[ShiftFinder] Finding shifts in image: set 7; image 038...\n"
     ]
    },
    {
     "name": "stderr",
     "output_type": "stream",
     "text": [
      "WARNING: The fit may be unsuccessful; check fit_info['message'] for more information. [astropy.modeling.fitting]\n",
      "WARNING: The fit may be unsuccessful; check fit_info['message'] for more information. [astropy.modeling.fitting]\n",
      "WARNING: The fit may be unsuccessful; check fit_info['message'] for more information. [astropy.modeling.fitting]\n"
     ]
    },
    {
     "name": "stdout",
     "output_type": "stream",
     "text": [
      "[ShiftFinder] ...Shifts: 64.03088607898195,-29.910221933027383\n",
      "[ShiftFinder] Finding shifts in image: set 7; image 039...\n"
     ]
    },
    {
     "name": "stderr",
     "output_type": "stream",
     "text": [
      "WARNING: The fit may be unsuccessful; check fit_info['message'] for more information. [astropy.modeling.fitting]\n",
      "WARNING: The fit may be unsuccessful; check fit_info['message'] for more information. [astropy.modeling.fitting]\n"
     ]
    },
    {
     "name": "stdout",
     "output_type": "stream",
     "text": [
      "[ShiftFinder] ...Shifts: 64.117810876229,-30.014252487790777\n",
      "[ShiftFinder] Finding shifts in image: set 7; image 040...\n"
     ]
    },
    {
     "name": "stderr",
     "output_type": "stream",
     "text": [
      "WARNING: The fit may be unsuccessful; check fit_info['message'] for more information. [astropy.modeling.fitting]\n"
     ]
    },
    {
     "name": "stdout",
     "output_type": "stream",
     "text": [
      "[ShiftFinder] ...Shifts: 64.8762407577654,-30.239756087470592\n",
      "[ShiftFinder] Finding shifts in image: set 7; image 041...\n"
     ]
    },
    {
     "name": "stderr",
     "output_type": "stream",
     "text": [
      "WARNING: The fit may be unsuccessful; check fit_info['message'] for more information. [astropy.modeling.fitting]\n",
      "WARNING: The fit may be unsuccessful; check fit_info['message'] for more information. [astropy.modeling.fitting]\n"
     ]
    },
    {
     "name": "stdout",
     "output_type": "stream",
     "text": [
      "[ShiftFinder] ...Shifts: 64.35427318214457,-29.22299000214272\n",
      "[ShiftFinder] Finding shifts in image: set 7; image 042...\n"
     ]
    },
    {
     "name": "stderr",
     "output_type": "stream",
     "text": [
      "WARNING: The fit may be unsuccessful; check fit_info['message'] for more information. [astropy.modeling.fitting]\n",
      "WARNING: The fit may be unsuccessful; check fit_info['message'] for more information. [astropy.modeling.fitting]\n"
     ]
    },
    {
     "name": "stdout",
     "output_type": "stream",
     "text": [
      "[ShiftFinder] ...Shifts: 62.68355980784754,-29.6732538948547\n",
      "[ShiftFinder] Finding shifts in image: set 7; image 043...\n"
     ]
    },
    {
     "name": "stderr",
     "output_type": "stream",
     "text": [
      "WARNING: The fit may be unsuccessful; check fit_info['message'] for more information. [astropy.modeling.fitting]\n",
      "WARNING: The fit may be unsuccessful; check fit_info['message'] for more information. [astropy.modeling.fitting]\n",
      "WARNING: The fit may be unsuccessful; check fit_info['message'] for more information. [astropy.modeling.fitting]\n"
     ]
    },
    {
     "name": "stdout",
     "output_type": "stream",
     "text": [
      "[ShiftFinder] ...Shifts: 67.32737168731512,-29.95345207434463\n",
      "[ShiftFinder] Finding shifts in image: set 7; image 044...\n"
     ]
    },
    {
     "name": "stderr",
     "output_type": "stream",
     "text": [
      "WARNING: The fit may be unsuccessful; check fit_info['message'] for more information. [astropy.modeling.fitting]\n",
      "WARNING: The fit may be unsuccessful; check fit_info['message'] for more information. [astropy.modeling.fitting]\n"
     ]
    },
    {
     "name": "stdout",
     "output_type": "stream",
     "text": [
      "[ShiftFinder] ...Shifts: 63.56625299501653,-30.00915595468667\n",
      "[ShiftFinder] Finding shifts in image: set 7; image 045...\n"
     ]
    },
    {
     "name": "stderr",
     "output_type": "stream",
     "text": [
      "WARNING: The fit may be unsuccessful; check fit_info['message'] for more information. [astropy.modeling.fitting]\n",
      "WARNING: The fit may be unsuccessful; check fit_info['message'] for more information. [astropy.modeling.fitting]\n"
     ]
    },
    {
     "name": "stdout",
     "output_type": "stream",
     "text": [
      "[ShiftFinder] ...Shifts: 66.53212644694511,-29.636997008911266\n",
      "[ShiftFinder] Finding shifts in image: set 7; image 046...\n"
     ]
    },
    {
     "name": "stderr",
     "output_type": "stream",
     "text": [
      "WARNING: The fit may be unsuccessful; check fit_info['message'] for more information. [astropy.modeling.fitting]\n",
      "WARNING: The fit may be unsuccessful; check fit_info['message'] for more information. [astropy.modeling.fitting]\n"
     ]
    },
    {
     "name": "stdout",
     "output_type": "stream",
     "text": [
      "[ShiftFinder] ...Shifts: 62.54757755829071,-30.036863275973992\n",
      "[ShiftFinder] Finding shifts in image: set 7; image 047...\n"
     ]
    },
    {
     "name": "stderr",
     "output_type": "stream",
     "text": [
      "WARNING: The fit may be unsuccessful; check fit_info['message'] for more information. [astropy.modeling.fitting]\n",
      "WARNING: The fit may be unsuccessful; check fit_info['message'] for more information. [astropy.modeling.fitting]\n",
      "WARNING: The fit may be unsuccessful; check fit_info['message'] for more information. [astropy.modeling.fitting]\n",
      "WARNING: The fit may be unsuccessful; check fit_info['message'] for more information. [astropy.modeling.fitting]\n",
      "WARNING: The fit may be unsuccessful; check fit_info['message'] for more information. [astropy.modeling.fitting]\n",
      "WARNING: The fit may be unsuccessful; check fit_info['message'] for more information. [astropy.modeling.fitting]\n"
     ]
    },
    {
     "name": "stdout",
     "output_type": "stream",
     "text": [
      "[ShiftFinder] ...Shifts: 65.26593024178524,-29.850737536736737\n",
      "[ShiftFinder] Finding shifts in image: set 7; image 048...\n"
     ]
    },
    {
     "name": "stderr",
     "output_type": "stream",
     "text": [
      "WARNING: The fit may be unsuccessful; check fit_info['message'] for more information. [astropy.modeling.fitting]\n"
     ]
    },
    {
     "name": "stdout",
     "output_type": "stream",
     "text": [
      "[ShiftFinder] ...Shifts: 67.74028191692496,-29.15334395894548\n",
      "[ShiftFinder] Finding shifts in image: set 7; image 049...\n"
     ]
    },
    {
     "name": "stderr",
     "output_type": "stream",
     "text": [
      "WARNING: The fit may be unsuccessful; check fit_info['message'] for more information. [astropy.modeling.fitting]\n",
      "WARNING: The fit may be unsuccessful; check fit_info['message'] for more information. [astropy.modeling.fitting]\n"
     ]
    },
    {
     "name": "stdout",
     "output_type": "stream",
     "text": [
      "[ShiftFinder] ...Shifts: 63.72981667857189,-29.430460724663458\n",
      "[ShiftFinder] Finding shifts in image: set 7; image 050...\n"
     ]
    },
    {
     "name": "stderr",
     "output_type": "stream",
     "text": [
      "WARNING: The fit may be unsuccessful; check fit_info['message'] for more information. [astropy.modeling.fitting]\n",
      "WARNING: The fit may be unsuccessful; check fit_info['message'] for more information. [astropy.modeling.fitting]\n",
      "WARNING: The fit may be unsuccessful; check fit_info['message'] for more information. [astropy.modeling.fitting]\n"
     ]
    },
    {
     "name": "stdout",
     "output_type": "stream",
     "text": [
      "[ShiftFinder] ...Shifts: 65.32827022203801,-28.73941531278992\n",
      "Finished finding shifts at 20:12:03\n"
     ]
    },
    {
     "name": "stderr",
     "output_type": "stream",
     "text": [
      "WARNING: The fit may be unsuccessful; check fit_info['message'] for more information. [astropy.modeling.fitting]\n"
     ]
    }
   ],
   "source": [
    "sf = ShiftFinder.ShiftFinder(config)\n",
    "sf.get_all_shifts()\n",
    "Utilities.print_job(\"finding shifts\")"
   ]
  },
  {
   "cell_type": "code",
   "execution_count": 8,
   "metadata": {
    "scrolled": true
   },
   "outputs": [
    {
     "name": "stdout",
     "output_type": "stream",
     "text": [
      "[FluxFinder] Finding fluxes for image: set 1; image 001\n",
      "[FluxFinder] Finding fluxes for image: set 1; image 002\n",
      "[FluxFinder] Finding fluxes for image: set 1; image 003\n",
      "[FluxFinder] Finding fluxes for image: set 1; image 004\n",
      "[FluxFinder] Finding fluxes for image: set 1; image 005\n",
      "[FluxFinder] Finding fluxes for image: set 1; image 006\n",
      "[FluxFinder] Finding fluxes for image: set 1; image 007\n",
      "[FluxFinder] Finding fluxes for image: set 1; image 008\n",
      "[FluxFinder] Finding fluxes for image: set 1; image 009\n",
      "[FluxFinder] Finding fluxes for image: set 1; image 010\n",
      "[FluxFinder] Finding fluxes for image: set 1; image 011\n",
      "[FluxFinder] Finding fluxes for image: set 1; image 012\n",
      "[FluxFinder] Finding fluxes for image: set 1; image 013\n",
      "[FluxFinder] Finding fluxes for image: set 1; image 014\n",
      "[FluxFinder] Finding fluxes for image: set 1; image 015\n",
      "[FluxFinder] Finding fluxes for image: set 1; image 016\n",
      "[FluxFinder] Finding fluxes for image: set 1; image 017\n",
      "[FluxFinder] Finding fluxes for image: set 1; image 018\n",
      "[FluxFinder] Finding fluxes for image: set 1; image 019\n",
      "[FluxFinder] Finding fluxes for image: set 1; image 020\n",
      "[FluxFinder] Finding fluxes for image: set 1; image 021\n",
      "[FluxFinder] Finding fluxes for image: set 1; image 022\n",
      "[FluxFinder] Finding fluxes for image: set 1; image 023\n",
      "[FluxFinder] Finding fluxes for image: set 1; image 024\n",
      "[FluxFinder] Finding fluxes for image: set 1; image 025\n",
      "[FluxFinder] Finding fluxes for image: set 1; image 026\n",
      "[FluxFinder] Finding fluxes for image: set 1; image 027\n",
      "[FluxFinder] Finding fluxes for image: set 1; image 028\n",
      "[FluxFinder] Finding fluxes for image: set 1; image 029\n",
      "[FluxFinder] Finding fluxes for image: set 1; image 030\n",
      "[FluxFinder] Finding fluxes for image: set 1; image 031\n",
      "[FluxFinder] Finding fluxes for image: set 1; image 032\n",
      "[FluxFinder] Finding fluxes for image: set 1; image 033\n",
      "[FluxFinder] Finding fluxes for image: set 1; image 034\n",
      "[FluxFinder] Finding fluxes for image: set 1; image 035\n",
      "[FluxFinder] Finding fluxes for image: set 1; image 036\n",
      "[FluxFinder] Finding fluxes for image: set 1; image 037\n",
      "[FluxFinder] Finding fluxes for image: set 1; image 038\n",
      "[FluxFinder] Finding fluxes for image: set 1; image 039\n",
      "[FluxFinder] Finding fluxes for image: set 1; image 040\n",
      "[FluxFinder] Finding fluxes for image: set 1; image 041\n",
      "[FluxFinder] Finding fluxes for image: set 1; image 042\n",
      "[FluxFinder] Finding fluxes for image: set 1; image 043\n",
      "[FluxFinder] Finding fluxes for image: set 1; image 044\n",
      "[FluxFinder] Finding fluxes for image: set 1; image 045\n",
      "[FluxFinder] Finding fluxes for image: set 1; image 046\n",
      "[FluxFinder] Finding fluxes for image: set 1; image 047\n",
      "[FluxFinder] Finding fluxes for image: set 1; image 048\n",
      "[FluxFinder] Finding fluxes for image: set 1; image 049\n",
      "[FluxFinder] Finding fluxes for image: set 1; image 050\n",
      "[FluxFinder] Finding fluxes for image: set 2; image 001\n",
      "[FluxFinder] Finding fluxes for image: set 2; image 002\n",
      "[FluxFinder] Finding fluxes for image: set 2; image 003\n",
      "[FluxFinder] Finding fluxes for image: set 2; image 004\n",
      "[FluxFinder] Finding fluxes for image: set 2; image 005\n",
      "[FluxFinder] Finding fluxes for image: set 2; image 006\n",
      "[FluxFinder] Finding fluxes for image: set 2; image 007\n",
      "[FluxFinder] Finding fluxes for image: set 2; image 008\n",
      "[FluxFinder] Finding fluxes for image: set 2; image 009\n",
      "[FluxFinder] Finding fluxes for image: set 2; image 010\n",
      "[FluxFinder] Finding fluxes for image: set 2; image 011\n",
      "[FluxFinder] Finding fluxes for image: set 2; image 012\n",
      "[FluxFinder] Finding fluxes for image: set 2; image 013\n",
      "[FluxFinder] Finding fluxes for image: set 2; image 014\n",
      "[FluxFinder] Finding fluxes for image: set 2; image 015\n",
      "[FluxFinder] Finding fluxes for image: set 2; image 016\n",
      "[FluxFinder] Finding fluxes for image: set 2; image 017\n",
      "[FluxFinder] Finding fluxes for image: set 2; image 018\n",
      "[FluxFinder] Finding fluxes for image: set 2; image 019\n",
      "[FluxFinder] Finding fluxes for image: set 2; image 020\n",
      "[FluxFinder] Finding fluxes for image: set 2; image 021\n",
      "[FluxFinder] Finding fluxes for image: set 2; image 022\n",
      "[FluxFinder] Finding fluxes for image: set 2; image 023\n",
      "[FluxFinder] Finding fluxes for image: set 2; image 024\n",
      "[FluxFinder] Finding fluxes for image: set 2; image 025\n",
      "[FluxFinder] Finding fluxes for image: set 2; image 026\n",
      "[FluxFinder] Finding fluxes for image: set 2; image 027\n",
      "[FluxFinder] Finding fluxes for image: set 2; image 028\n",
      "[FluxFinder] Finding fluxes for image: set 2; image 029\n",
      "[FluxFinder] Finding fluxes for image: set 2; image 030\n",
      "[FluxFinder] Finding fluxes for image: set 2; image 031\n",
      "[FluxFinder] Finding fluxes for image: set 2; image 032\n",
      "[FluxFinder] Finding fluxes for image: set 2; image 033\n",
      "[FluxFinder] Finding fluxes for image: set 2; image 034\n",
      "[FluxFinder] Finding fluxes for image: set 2; image 035\n",
      "[FluxFinder] Finding fluxes for image: set 2; image 036\n",
      "[FluxFinder] Finding fluxes for image: set 2; image 037\n",
      "[FluxFinder] Finding fluxes for image: set 2; image 038\n",
      "[FluxFinder] Finding fluxes for image: set 2; image 039\n",
      "[FluxFinder] Finding fluxes for image: set 2; image 040\n",
      "[FluxFinder] Finding fluxes for image: set 2; image 041\n",
      "[FluxFinder] Finding fluxes for image: set 2; image 042\n",
      "[FluxFinder] Finding fluxes for image: set 2; image 043\n",
      "[FluxFinder] Finding fluxes for image: set 2; image 044\n",
      "[FluxFinder] Finding fluxes for image: set 2; image 045\n",
      "[FluxFinder] Finding fluxes for image: set 2; image 046\n",
      "[FluxFinder] Finding fluxes for image: set 2; image 047\n",
      "[FluxFinder] Finding fluxes for image: set 2; image 048\n",
      "[FluxFinder] Finding fluxes for image: set 2; image 049\n",
      "[FluxFinder] Finding fluxes for image: set 2; image 050\n",
      "[FluxFinder] Finding fluxes for image: set 3; image 001\n",
      "[FluxFinder] Finding fluxes for image: set 3; image 002\n",
      "[FluxFinder] Finding fluxes for image: set 3; image 003\n",
      "[FluxFinder] Finding fluxes for image: set 3; image 004\n",
      "[FluxFinder] Finding fluxes for image: set 3; image 005\n",
      "[FluxFinder] Finding fluxes for image: set 3; image 006\n",
      "[FluxFinder] Finding fluxes for image: set 3; image 007\n",
      "[FluxFinder] Finding fluxes for image: set 3; image 008\n",
      "[FluxFinder] Finding fluxes for image: set 3; image 009\n",
      "[FluxFinder] Finding fluxes for image: set 3; image 010\n",
      "[FluxFinder] Finding fluxes for image: set 3; image 011\n",
      "[FluxFinder] Finding fluxes for image: set 3; image 012\n",
      "[FluxFinder] Finding fluxes for image: set 3; image 013\n",
      "[FluxFinder] Finding fluxes for image: set 3; image 014\n",
      "[FluxFinder] Finding fluxes for image: set 3; image 015\n",
      "[FluxFinder] Finding fluxes for image: set 3; image 016\n",
      "[FluxFinder] Finding fluxes for image: set 3; image 017\n",
      "[FluxFinder] Finding fluxes for image: set 3; image 018\n",
      "[FluxFinder] Finding fluxes for image: set 3; image 019\n",
      "[FluxFinder] Finding fluxes for image: set 3; image 020\n",
      "[FluxFinder] Finding fluxes for image: set 3; image 021\n",
      "[FluxFinder] Finding fluxes for image: set 3; image 022\n",
      "[FluxFinder] Finding fluxes for image: set 3; image 023\n",
      "[FluxFinder] Finding fluxes for image: set 3; image 024\n",
      "[FluxFinder] Finding fluxes for image: set 3; image 025\n",
      "[FluxFinder] Finding fluxes for image: set 3; image 026\n",
      "[FluxFinder] Finding fluxes for image: set 3; image 027\n",
      "[FluxFinder] Finding fluxes for image: set 3; image 028\n",
      "[FluxFinder] Finding fluxes for image: set 3; image 029\n",
      "[FluxFinder] Finding fluxes for image: set 3; image 030\n",
      "[FluxFinder] Finding fluxes for image: set 3; image 031\n",
      "[FluxFinder] Finding fluxes for image: set 3; image 032\n",
      "[FluxFinder] Finding fluxes for image: set 3; image 033\n",
      "[FluxFinder] Finding fluxes for image: set 3; image 034\n",
      "[FluxFinder] Finding fluxes for image: set 3; image 035\n",
      "[FluxFinder] Finding fluxes for image: set 3; image 036\n",
      "[FluxFinder] Finding fluxes for image: set 3; image 037\n",
      "[FluxFinder] Finding fluxes for image: set 3; image 038\n",
      "[FluxFinder] Finding fluxes for image: set 3; image 039\n",
      "[FluxFinder] Finding fluxes for image: set 3; image 040\n",
      "[FluxFinder] Finding fluxes for image: set 3; image 041\n",
      "[FluxFinder] Finding fluxes for image: set 3; image 042\n",
      "[FluxFinder] Finding fluxes for image: set 3; image 043\n",
      "[FluxFinder] Finding fluxes for image: set 3; image 044\n",
      "[FluxFinder] Finding fluxes for image: set 3; image 045\n",
      "[FluxFinder] Finding fluxes for image: set 3; image 046\n",
      "[FluxFinder] Finding fluxes for image: set 3; image 047\n"
     ]
    },
    {
     "name": "stdout",
     "output_type": "stream",
     "text": [
      "[FluxFinder] Finding fluxes for image: set 3; image 048\n",
      "[FluxFinder] Finding fluxes for image: set 3; image 049\n",
      "[FluxFinder] Finding fluxes for image: set 3; image 050\n",
      "[FluxFinder] Finding fluxes for image: set 4; image 001\n",
      "[FluxFinder] Finding fluxes for image: set 4; image 002\n",
      "[FluxFinder] Finding fluxes for image: set 4; image 003\n",
      "[FluxFinder] Finding fluxes for image: set 4; image 004\n",
      "[FluxFinder] Finding fluxes for image: set 4; image 005\n",
      "[FluxFinder] Finding fluxes for image: set 4; image 006\n",
      "[FluxFinder] Finding fluxes for image: set 4; image 007\n",
      "[FluxFinder] Finding fluxes for image: set 4; image 008\n",
      "[FluxFinder] Finding fluxes for image: set 4; image 009\n",
      "[FluxFinder] Finding fluxes for image: set 4; image 010\n",
      "[FluxFinder] Finding fluxes for image: set 4; image 011\n",
      "[FluxFinder] Finding fluxes for image: set 4; image 012\n",
      "[FluxFinder] Finding fluxes for image: set 4; image 013\n",
      "[FluxFinder] Finding fluxes for image: set 4; image 014\n",
      "[FluxFinder] Finding fluxes for image: set 4; image 015\n",
      "[FluxFinder] Finding fluxes for image: set 4; image 016\n",
      "[FluxFinder] Finding fluxes for image: set 4; image 017\n",
      "[FluxFinder] Finding fluxes for image: set 4; image 018\n",
      "[FluxFinder] Finding fluxes for image: set 4; image 019\n",
      "[FluxFinder] Finding fluxes for image: set 4; image 020\n",
      "[FluxFinder] Finding fluxes for image: set 4; image 021\n",
      "[FluxFinder] Finding fluxes for image: set 4; image 022\n",
      "[FluxFinder] Finding fluxes for image: set 4; image 023\n",
      "[FluxFinder] Finding fluxes for image: set 4; image 024\n",
      "[FluxFinder] Finding fluxes for image: set 4; image 025\n",
      "[FluxFinder] Finding fluxes for image: set 4; image 026\n",
      "[FluxFinder] Finding fluxes for image: set 4; image 027\n",
      "[FluxFinder] Finding fluxes for image: set 4; image 028\n",
      "[FluxFinder] Finding fluxes for image: set 4; image 029\n",
      "[FluxFinder] Finding fluxes for image: set 4; image 030\n",
      "[FluxFinder] Finding fluxes for image: set 4; image 031\n",
      "[FluxFinder] Finding fluxes for image: set 4; image 032\n",
      "[FluxFinder] Finding fluxes for image: set 4; image 033\n",
      "[FluxFinder] Finding fluxes for image: set 4; image 034\n",
      "[FluxFinder] Finding fluxes for image: set 4; image 035\n",
      "[FluxFinder] Finding fluxes for image: set 4; image 036\n",
      "[FluxFinder] Finding fluxes for image: set 4; image 037\n",
      "[FluxFinder] Finding fluxes for image: set 4; image 038\n",
      "[FluxFinder] Finding fluxes for image: set 4; image 039\n",
      "[FluxFinder] Finding fluxes for image: set 4; image 040\n",
      "[FluxFinder] Finding fluxes for image: set 4; image 041\n",
      "[FluxFinder] Finding fluxes for image: set 4; image 042\n",
      "[FluxFinder] Finding fluxes for image: set 4; image 043\n",
      "[FluxFinder] Finding fluxes for image: set 4; image 044\n",
      "[FluxFinder] Finding fluxes for image: set 4; image 045\n",
      "[FluxFinder] Finding fluxes for image: set 4; image 046\n",
      "[FluxFinder] Finding fluxes for image: set 4; image 047\n",
      "[FluxFinder] Finding fluxes for image: set 4; image 048\n",
      "[FluxFinder] Finding fluxes for image: set 4; image 049\n",
      "[FluxFinder] Finding fluxes for image: set 4; image 050\n",
      "[FluxFinder] Finding fluxes for image: set 5; image 001\n",
      "[FluxFinder] Finding fluxes for image: set 5; image 002\n",
      "[FluxFinder] Finding fluxes for image: set 5; image 003\n",
      "[FluxFinder] Finding fluxes for image: set 5; image 004\n",
      "[FluxFinder] Finding fluxes for image: set 5; image 005\n",
      "[FluxFinder] Finding fluxes for image: set 5; image 006\n",
      "[FluxFinder] Finding fluxes for image: set 5; image 007\n",
      "[FluxFinder] Finding fluxes for image: set 5; image 008\n",
      "[FluxFinder] Finding fluxes for image: set 5; image 009\n",
      "[FluxFinder] Finding fluxes for image: set 5; image 010\n",
      "[FluxFinder] Finding fluxes for image: set 5; image 011\n",
      "[FluxFinder] Finding fluxes for image: set 5; image 012\n",
      "[FluxFinder] Finding fluxes for image: set 5; image 013\n",
      "[FluxFinder] Finding fluxes for image: set 5; image 014\n",
      "[FluxFinder] Finding fluxes for image: set 5; image 015\n",
      "[FluxFinder] Finding fluxes for image: set 5; image 016\n",
      "[FluxFinder] Finding fluxes for image: set 5; image 017\n",
      "[FluxFinder] Finding fluxes for image: set 5; image 018\n",
      "[FluxFinder] Finding fluxes for image: set 5; image 019\n",
      "[FluxFinder] Finding fluxes for image: set 5; image 020\n",
      "[FluxFinder] Finding fluxes for image: set 5; image 021\n",
      "[FluxFinder] Finding fluxes for image: set 5; image 022\n",
      "[FluxFinder] Finding fluxes for image: set 5; image 023\n",
      "[FluxFinder] Finding fluxes for image: set 5; image 024\n",
      "[FluxFinder] Finding fluxes for image: set 5; image 025\n",
      "[FluxFinder] Finding fluxes for image: set 5; image 026\n",
      "[FluxFinder] Finding fluxes for image: set 5; image 027\n",
      "[FluxFinder] Finding fluxes for image: set 5; image 028\n",
      "[FluxFinder] Finding fluxes for image: set 5; image 029\n",
      "[FluxFinder] Finding fluxes for image: set 5; image 030\n",
      "[FluxFinder] Finding fluxes for image: set 5; image 031\n",
      "[FluxFinder] Finding fluxes for image: set 5; image 032\n",
      "[FluxFinder] Finding fluxes for image: set 5; image 033\n",
      "[FluxFinder] Finding fluxes for image: set 5; image 034\n",
      "[FluxFinder] Finding fluxes for image: set 5; image 035\n",
      "[FluxFinder] Finding fluxes for image: set 5; image 036\n",
      "[FluxFinder] Finding fluxes for image: set 5; image 037\n",
      "[FluxFinder] Finding fluxes for image: set 5; image 038\n",
      "[FluxFinder] Finding fluxes for image: set 5; image 039\n",
      "[FluxFinder] Finding fluxes for image: set 5; image 040\n",
      "[FluxFinder] Finding fluxes for image: set 5; image 041\n",
      "[FluxFinder] Finding fluxes for image: set 5; image 042\n",
      "[FluxFinder] Finding fluxes for image: set 5; image 043\n",
      "[FluxFinder] Finding fluxes for image: set 5; image 044\n",
      "[FluxFinder] Finding fluxes for image: set 5; image 045\n",
      "[FluxFinder] Finding fluxes for image: set 5; image 046\n",
      "[FluxFinder] Finding fluxes for image: set 5; image 047\n",
      "[FluxFinder] Finding fluxes for image: set 5; image 048\n",
      "[FluxFinder] Finding fluxes for image: set 5; image 049\n",
      "[FluxFinder] Finding fluxes for image: set 5; image 050\n",
      "[FluxFinder] Finding fluxes for image: set 6; image 001\n",
      "[FluxFinder] Finding fluxes for image: set 6; image 002\n",
      "[FluxFinder] Finding fluxes for image: set 6; image 003\n",
      "[FluxFinder] Finding fluxes for image: set 6; image 004\n",
      "[FluxFinder] Finding fluxes for image: set 6; image 005\n",
      "[FluxFinder] Finding fluxes for image: set 6; image 006\n",
      "[FluxFinder] Finding fluxes for image: set 6; image 007\n",
      "[FluxFinder] Finding fluxes for image: set 6; image 008\n",
      "[FluxFinder] Finding fluxes for image: set 6; image 009\n",
      "[FluxFinder] Finding fluxes for image: set 6; image 010\n",
      "[FluxFinder] Finding fluxes for image: set 6; image 011\n",
      "[FluxFinder] Finding fluxes for image: set 6; image 012\n",
      "[FluxFinder] Finding fluxes for image: set 6; image 013\n",
      "[FluxFinder] Finding fluxes for image: set 6; image 014\n",
      "[FluxFinder] Finding fluxes for image: set 6; image 015\n",
      "[FluxFinder] Finding fluxes for image: set 6; image 016\n",
      "[FluxFinder] Finding fluxes for image: set 6; image 017\n",
      "[FluxFinder] Finding fluxes for image: set 6; image 018\n",
      "[FluxFinder] Finding fluxes for image: set 6; image 019\n",
      "[FluxFinder] Finding fluxes for image: set 6; image 020\n",
      "[FluxFinder] Finding fluxes for image: set 6; image 021\n",
      "[FluxFinder] Finding fluxes for image: set 6; image 022\n",
      "[FluxFinder] Finding fluxes for image: set 6; image 023\n",
      "[FluxFinder] Finding fluxes for image: set 6; image 024\n",
      "[FluxFinder] Finding fluxes for image: set 6; image 025\n",
      "[FluxFinder] Finding fluxes for image: set 6; image 026\n",
      "[FluxFinder] Finding fluxes for image: set 6; image 027\n",
      "[FluxFinder] Finding fluxes for image: set 6; image 028\n",
      "[FluxFinder] Finding fluxes for image: set 6; image 029\n",
      "[FluxFinder] Finding fluxes for image: set 6; image 030\n",
      "[FluxFinder] Finding fluxes for image: set 6; image 031\n",
      "[FluxFinder] Finding fluxes for image: set 6; image 032\n",
      "[FluxFinder] Finding fluxes for image: set 6; image 033\n",
      "[FluxFinder] Finding fluxes for image: set 6; image 034\n",
      "[FluxFinder] Finding fluxes for image: set 6; image 035\n",
      "[FluxFinder] Finding fluxes for image: set 6; image 036\n",
      "[FluxFinder] Finding fluxes for image: set 6; image 037\n",
      "[FluxFinder] Finding fluxes for image: set 6; image 038\n",
      "[FluxFinder] Finding fluxes for image: set 6; image 039\n",
      "[FluxFinder] Finding fluxes for image: set 6; image 040\n",
      "[FluxFinder] Finding fluxes for image: set 6; image 041\n",
      "[FluxFinder] Finding fluxes for image: set 6; image 042\n",
      "[FluxFinder] Finding fluxes for image: set 6; image 043\n",
      "[FluxFinder] Finding fluxes for image: set 6; image 044\n"
     ]
    },
    {
     "name": "stdout",
     "output_type": "stream",
     "text": [
      "[FluxFinder] Finding fluxes for image: set 6; image 045\n",
      "[FluxFinder] Finding fluxes for image: set 6; image 046\n",
      "[FluxFinder] Finding fluxes for image: set 6; image 047\n",
      "[FluxFinder] Finding fluxes for image: set 6; image 048\n",
      "[FluxFinder] Finding fluxes for image: set 6; image 049\n",
      "[FluxFinder] Finding fluxes for image: set 6; image 050\n",
      "[FluxFinder] Finding fluxes for image: set 7; image 001\n",
      "[FluxFinder] Finding fluxes for image: set 7; image 002\n",
      "[FluxFinder] Finding fluxes for image: set 7; image 003\n",
      "[FluxFinder] Finding fluxes for image: set 7; image 004\n",
      "[FluxFinder] Finding fluxes for image: set 7; image 005\n",
      "[FluxFinder] Finding fluxes for image: set 7; image 006\n",
      "[FluxFinder] Finding fluxes for image: set 7; image 007\n",
      "[FluxFinder] Finding fluxes for image: set 7; image 008\n",
      "[FluxFinder] Finding fluxes for image: set 7; image 009\n",
      "[FluxFinder] Finding fluxes for image: set 7; image 010\n",
      "[FluxFinder] Finding fluxes for image: set 7; image 011\n",
      "[FluxFinder] Finding fluxes for image: set 7; image 012\n",
      "[FluxFinder] Finding fluxes for image: set 7; image 013\n",
      "[FluxFinder] Finding fluxes for image: set 7; image 014\n",
      "[FluxFinder] Finding fluxes for image: set 7; image 015\n",
      "[FluxFinder] Finding fluxes for image: set 7; image 016\n",
      "[FluxFinder] Finding fluxes for image: set 7; image 017\n",
      "[FluxFinder] Finding fluxes for image: set 7; image 018\n",
      "[FluxFinder] Finding fluxes for image: set 7; image 019\n",
      "[FluxFinder] Finding fluxes for image: set 7; image 020\n",
      "[FluxFinder] Finding fluxes for image: set 7; image 021\n",
      "[FluxFinder] Finding fluxes for image: set 7; image 022\n",
      "[FluxFinder] Finding fluxes for image: set 7; image 023\n",
      "[FluxFinder] Finding fluxes for image: set 7; image 024\n",
      "[FluxFinder] Finding fluxes for image: set 7; image 025\n",
      "[FluxFinder] Finding fluxes for image: set 7; image 026\n",
      "[FluxFinder] Finding fluxes for image: set 7; image 027\n",
      "[FluxFinder] Finding fluxes for image: set 7; image 028\n",
      "[FluxFinder] Finding fluxes for image: set 7; image 029\n",
      "[FluxFinder] Finding fluxes for image: set 7; image 030\n",
      "[FluxFinder] Finding fluxes for image: set 7; image 031\n",
      "[FluxFinder] Finding fluxes for image: set 7; image 032\n",
      "[FluxFinder] Finding fluxes for image: set 7; image 033\n",
      "[FluxFinder] Finding fluxes for image: set 7; image 034\n",
      "[FluxFinder] Finding fluxes for image: set 7; image 035\n",
      "[FluxFinder] Finding fluxes for image: set 7; image 036\n",
      "[FluxFinder] Finding fluxes for image: set 7; image 037\n",
      "[FluxFinder] Finding fluxes for image: set 7; image 038\n",
      "[FluxFinder] Finding fluxes for image: set 7; image 039\n",
      "[FluxFinder] Finding fluxes for image: set 7; image 040\n",
      "[FluxFinder] Finding fluxes for image: set 7; image 041\n",
      "[FluxFinder] Finding fluxes for image: set 7; image 042\n",
      "[FluxFinder] Finding fluxes for image: set 7; image 043\n",
      "[FluxFinder] Finding fluxes for image: set 7; image 044\n",
      "[FluxFinder] Finding fluxes for image: set 7; image 045\n",
      "[FluxFinder] Finding fluxes for image: set 7; image 046\n",
      "[FluxFinder] Finding fluxes for image: set 7; image 047\n",
      "[FluxFinder] Finding fluxes for image: set 7; image 048\n",
      "[FluxFinder] Finding fluxes for image: set 7; image 049\n",
      "[FluxFinder] Finding fluxes for image: set 7; image 050\n",
      "[FluxFinder] Making light curve for image: set 1; image: 001\n",
      "[FluxFinder] Making light curve for image: set 1; image: 002\n",
      "[FluxFinder] Making light curve for image: set 1; image: 003\n",
      "[FluxFinder] Making light curve for image: set 1; image: 004\n",
      "[FluxFinder] Making light curve for image: set 1; image: 005\n",
      "[FluxFinder] Making light curve for image: set 1; image: 006\n",
      "[FluxFinder] Making light curve for image: set 1; image: 007\n",
      "[FluxFinder] Making light curve for image: set 1; image: 008\n",
      "[FluxFinder] Making light curve for image: set 1; image: 009\n",
      "[FluxFinder] Making light curve for image: set 1; image: 010\n",
      "[FluxFinder] Making light curve for image: set 1; image: 011\n",
      "[FluxFinder] Making light curve for image: set 1; image: 012\n",
      "[FluxFinder] Making light curve for image: set 1; image: 013\n",
      "[FluxFinder] Making light curve for image: set 1; image: 014\n",
      "[FluxFinder] Making light curve for image: set 1; image: 015\n",
      "[FluxFinder] Making light curve for image: set 1; image: 016\n",
      "[FluxFinder] Making light curve for image: set 1; image: 017\n",
      "[FluxFinder] Making light curve for image: set 1; image: 018\n",
      "[FluxFinder] Making light curve for image: set 1; image: 019\n",
      "[FluxFinder] Making light curve for image: set 1; image: 020\n",
      "[FluxFinder] Making light curve for image: set 1; image: 021\n",
      "[FluxFinder] Making light curve for image: set 1; image: 022\n",
      "[FluxFinder] Making light curve for image: set 1; image: 023\n",
      "[FluxFinder] Making light curve for image: set 1; image: 024\n",
      "[FluxFinder] Making light curve for image: set 1; image: 025\n",
      "[FluxFinder] Making light curve for image: set 1; image: 026\n",
      "[FluxFinder] Making light curve for image: set 1; image: 027\n",
      "[FluxFinder] Making light curve for image: set 1; image: 028\n",
      "[FluxFinder] Making light curve for image: set 1; image: 029\n",
      "[FluxFinder] Making light curve for image: set 1; image: 030\n",
      "[FluxFinder] Making light curve for image: set 1; image: 031\n",
      "[FluxFinder] Making light curve for image: set 1; image: 032\n",
      "[FluxFinder] Making light curve for image: set 1; image: 033\n",
      "[FluxFinder] Making light curve for image: set 1; image: 034\n",
      "[FluxFinder] Making light curve for image: set 1; image: 035\n",
      "[FluxFinder] Making light curve for image: set 1; image: 036\n",
      "[FluxFinder] Making light curve for image: set 1; image: 037\n",
      "[FluxFinder] Making light curve for image: set 1; image: 038\n",
      "[FluxFinder] Making light curve for image: set 1; image: 039\n",
      "[FluxFinder] Making light curve for image: set 1; image: 040\n",
      "[FluxFinder] Making light curve for image: set 1; image: 041\n",
      "[FluxFinder] Making light curve for image: set 1; image: 042\n",
      "[FluxFinder] Making light curve for image: set 1; image: 043\n",
      "[FluxFinder] Making light curve for image: set 1; image: 044\n",
      "[FluxFinder] Making light curve for image: set 1; image: 045\n",
      "[FluxFinder] Making light curve for image: set 1; image: 046\n",
      "[FluxFinder] Making light curve for image: set 1; image: 047\n",
      "[FluxFinder] Making light curve for image: set 1; image: 048\n",
      "[FluxFinder] Making light curve for image: set 1; image: 049\n",
      "[FluxFinder] Making light curve for image: set 1; image: 050\n",
      "[FluxFinder] Making light curve for image: set 2; image: 001\n",
      "[FluxFinder] Making light curve for image: set 2; image: 002\n",
      "[FluxFinder] Making light curve for image: set 2; image: 003\n",
      "[FluxFinder] Making light curve for image: set 2; image: 004\n",
      "[FluxFinder] Making light curve for image: set 2; image: 005\n",
      "[FluxFinder] Making light curve for image: set 2; image: 006\n",
      "[FluxFinder] Making light curve for image: set 2; image: 007\n",
      "[FluxFinder] Making light curve for image: set 2; image: 008\n",
      "[FluxFinder] Making light curve for image: set 2; image: 009\n",
      "[FluxFinder] Making light curve for image: set 2; image: 010\n",
      "[FluxFinder] Making light curve for image: set 2; image: 011\n",
      "[FluxFinder] Making light curve for image: set 2; image: 012\n",
      "[FluxFinder] Making light curve for image: set 2; image: 013\n",
      "[FluxFinder] Making light curve for image: set 2; image: 014\n",
      "[FluxFinder] Making light curve for image: set 2; image: 015\n",
      "[FluxFinder] Making light curve for image: set 2; image: 016\n",
      "[FluxFinder] Making light curve for image: set 2; image: 017\n",
      "[FluxFinder] Making light curve for image: set 2; image: 018\n",
      "[FluxFinder] Making light curve for image: set 2; image: 019\n",
      "[FluxFinder] Making light curve for image: set 2; image: 020\n",
      "[FluxFinder] Making light curve for image: set 2; image: 021\n",
      "[FluxFinder] Making light curve for image: set 2; image: 022\n",
      "[FluxFinder] Making light curve for image: set 2; image: 023\n",
      "[FluxFinder] Making light curve for image: set 2; image: 024\n",
      "[FluxFinder] Making light curve for image: set 2; image: 025\n",
      "[FluxFinder] Making light curve for image: set 2; image: 026\n",
      "[FluxFinder] Making light curve for image: set 2; image: 027\n",
      "[FluxFinder] Making light curve for image: set 2; image: 028\n",
      "[FluxFinder] Making light curve for image: set 2; image: 029\n",
      "[FluxFinder] Making light curve for image: set 2; image: 030\n",
      "[FluxFinder] Making light curve for image: set 2; image: 031\n",
      "[FluxFinder] Making light curve for image: set 2; image: 032\n",
      "[FluxFinder] Making light curve for image: set 2; image: 033\n"
     ]
    },
    {
     "name": "stdout",
     "output_type": "stream",
     "text": [
      "[FluxFinder] Making light curve for image: set 2; image: 034\n",
      "[FluxFinder] Making light curve for image: set 2; image: 035\n",
      "[FluxFinder] Making light curve for image: set 2; image: 036\n",
      "[FluxFinder] Making light curve for image: set 2; image: 037\n",
      "[FluxFinder] Making light curve for image: set 2; image: 038\n",
      "[FluxFinder] Making light curve for image: set 2; image: 039\n",
      "[FluxFinder] Making light curve for image: set 2; image: 040\n",
      "[FluxFinder] Making light curve for image: set 2; image: 041\n",
      "[FluxFinder] Making light curve for image: set 2; image: 042\n",
      "[FluxFinder] Making light curve for image: set 2; image: 043\n",
      "[FluxFinder] Making light curve for image: set 2; image: 044\n",
      "[FluxFinder] Making light curve for image: set 2; image: 045\n",
      "[FluxFinder] Making light curve for image: set 2; image: 046\n",
      "[FluxFinder] Making light curve for image: set 2; image: 047\n",
      "[FluxFinder] Making light curve for image: set 2; image: 048\n",
      "[FluxFinder] Making light curve for image: set 2; image: 049\n",
      "[FluxFinder] Making light curve for image: set 2; image: 050\n",
      "[FluxFinder] Making light curve for image: set 3; image: 001\n",
      "[FluxFinder] Making light curve for image: set 3; image: 002\n",
      "[FluxFinder] Making light curve for image: set 3; image: 003\n",
      "[FluxFinder] Making light curve for image: set 3; image: 004\n",
      "[FluxFinder] Making light curve for image: set 3; image: 005\n",
      "[FluxFinder] Making light curve for image: set 3; image: 006\n",
      "[FluxFinder] Making light curve for image: set 3; image: 007\n",
      "[FluxFinder] Making light curve for image: set 3; image: 008\n",
      "[FluxFinder] Making light curve for image: set 3; image: 009\n",
      "[FluxFinder] Making light curve for image: set 3; image: 010\n",
      "[FluxFinder] Making light curve for image: set 3; image: 011\n",
      "[FluxFinder] Making light curve for image: set 3; image: 012\n",
      "[FluxFinder] Making light curve for image: set 3; image: 013\n",
      "[FluxFinder] Making light curve for image: set 3; image: 014\n",
      "[FluxFinder] Making light curve for image: set 3; image: 015\n",
      "[FluxFinder] Making light curve for image: set 3; image: 016\n",
      "[FluxFinder] Making light curve for image: set 3; image: 017\n",
      "[FluxFinder] Making light curve for image: set 3; image: 018\n",
      "[FluxFinder] Making light curve for image: set 3; image: 019\n",
      "[FluxFinder] Making light curve for image: set 3; image: 020\n",
      "[FluxFinder] Making light curve for image: set 3; image: 021\n",
      "[FluxFinder] Making light curve for image: set 3; image: 022\n",
      "[FluxFinder] Making light curve for image: set 3; image: 023\n",
      "[FluxFinder] Making light curve for image: set 3; image: 024\n",
      "[FluxFinder] Making light curve for image: set 3; image: 025\n",
      "[FluxFinder] Making light curve for image: set 3; image: 026\n",
      "[FluxFinder] Making light curve for image: set 3; image: 027\n",
      "[FluxFinder] Making light curve for image: set 3; image: 028\n",
      "[FluxFinder] Making light curve for image: set 3; image: 029\n",
      "[FluxFinder] Making light curve for image: set 3; image: 030\n",
      "[FluxFinder] Making light curve for image: set 3; image: 031\n",
      "[FluxFinder] Making light curve for image: set 3; image: 032\n",
      "[FluxFinder] Making light curve for image: set 3; image: 033\n",
      "[FluxFinder] Making light curve for image: set 3; image: 034\n",
      "[FluxFinder] Making light curve for image: set 3; image: 035\n",
      "[FluxFinder] Making light curve for image: set 3; image: 036\n",
      "[FluxFinder] Making light curve for image: set 3; image: 037\n",
      "[FluxFinder] Making light curve for image: set 3; image: 038\n",
      "[FluxFinder] Making light curve for image: set 3; image: 039\n",
      "[FluxFinder] Making light curve for image: set 3; image: 040\n",
      "[FluxFinder] Making light curve for image: set 3; image: 041\n",
      "[FluxFinder] Making light curve for image: set 3; image: 042\n",
      "[FluxFinder] Making light curve for image: set 3; image: 043\n",
      "[FluxFinder] Making light curve for image: set 3; image: 044\n",
      "[FluxFinder] Making light curve for image: set 3; image: 045\n",
      "[FluxFinder] Making light curve for image: set 3; image: 046\n",
      "[FluxFinder] Making light curve for image: set 3; image: 047\n",
      "[FluxFinder] Making light curve for image: set 3; image: 048\n",
      "[FluxFinder] Making light curve for image: set 3; image: 049\n",
      "[FluxFinder] Making light curve for image: set 3; image: 050\n",
      "[FluxFinder] Making light curve for image: set 4; image: 001\n",
      "[FluxFinder] Making light curve for image: set 4; image: 002\n",
      "[FluxFinder] Making light curve for image: set 4; image: 003\n",
      "[FluxFinder] Making light curve for image: set 4; image: 004\n",
      "[FluxFinder] Making light curve for image: set 4; image: 005\n",
      "[FluxFinder] Making light curve for image: set 4; image: 006\n",
      "[FluxFinder] Making light curve for image: set 4; image: 007\n",
      "[FluxFinder] Making light curve for image: set 4; image: 008\n",
      "[FluxFinder] Making light curve for image: set 4; image: 009\n",
      "[FluxFinder] Making light curve for image: set 4; image: 010\n",
      "[FluxFinder] Making light curve for image: set 4; image: 011\n",
      "[FluxFinder] Making light curve for image: set 4; image: 012\n",
      "[FluxFinder] Making light curve for image: set 4; image: 013\n",
      "[FluxFinder] Making light curve for image: set 4; image: 014\n",
      "[FluxFinder] Making light curve for image: set 4; image: 015\n",
      "[FluxFinder] Making light curve for image: set 4; image: 016\n",
      "[FluxFinder] Making light curve for image: set 4; image: 017\n",
      "[FluxFinder] Making light curve for image: set 4; image: 018\n",
      "[FluxFinder] Making light curve for image: set 4; image: 019\n",
      "[FluxFinder] Making light curve for image: set 4; image: 020\n",
      "[FluxFinder] Making light curve for image: set 4; image: 021\n",
      "[FluxFinder] Making light curve for image: set 4; image: 022\n",
      "[FluxFinder] Making light curve for image: set 4; image: 023\n",
      "[FluxFinder] Making light curve for image: set 4; image: 024\n",
      "[FluxFinder] Making light curve for image: set 4; image: 025\n",
      "[FluxFinder] Making light curve for image: set 4; image: 026\n",
      "[FluxFinder] Making light curve for image: set 4; image: 027\n",
      "[FluxFinder] Making light curve for image: set 4; image: 028\n",
      "[FluxFinder] Making light curve for image: set 4; image: 029\n",
      "[FluxFinder] Making light curve for image: set 4; image: 030\n",
      "[FluxFinder] Making light curve for image: set 4; image: 031\n",
      "[FluxFinder] Making light curve for image: set 4; image: 032\n",
      "[FluxFinder] Making light curve for image: set 4; image: 033\n",
      "[FluxFinder] Making light curve for image: set 4; image: 034\n",
      "[FluxFinder] Making light curve for image: set 4; image: 035\n",
      "[FluxFinder] Making light curve for image: set 4; image: 036\n",
      "[FluxFinder] Making light curve for image: set 4; image: 037\n",
      "[FluxFinder] Making light curve for image: set 4; image: 038\n",
      "[FluxFinder] Making light curve for image: set 4; image: 039\n",
      "[FluxFinder] Making light curve for image: set 4; image: 040\n",
      "[FluxFinder] Making light curve for image: set 4; image: 041\n",
      "[FluxFinder] Making light curve for image: set 4; image: 042\n",
      "[FluxFinder] Making light curve for image: set 4; image: 043\n",
      "[FluxFinder] Making light curve for image: set 4; image: 044\n",
      "[FluxFinder] Making light curve for image: set 4; image: 045\n",
      "[FluxFinder] Making light curve for image: set 4; image: 046\n",
      "[FluxFinder] Making light curve for image: set 4; image: 047\n",
      "[FluxFinder] Making light curve for image: set 4; image: 048\n",
      "[FluxFinder] Making light curve for image: set 4; image: 049\n",
      "[FluxFinder] Making light curve for image: set 4; image: 050\n",
      "[FluxFinder] Making light curve for image: set 5; image: 001\n",
      "[FluxFinder] Making light curve for image: set 5; image: 002\n",
      "[FluxFinder] Making light curve for image: set 5; image: 003\n",
      "[FluxFinder] Making light curve for image: set 5; image: 004\n",
      "[FluxFinder] Making light curve for image: set 5; image: 005\n",
      "[FluxFinder] Making light curve for image: set 5; image: 006\n",
      "[FluxFinder] Making light curve for image: set 5; image: 007\n",
      "[FluxFinder] Making light curve for image: set 5; image: 008\n",
      "[FluxFinder] Making light curve for image: set 5; image: 009\n",
      "[FluxFinder] Making light curve for image: set 5; image: 010\n",
      "[FluxFinder] Making light curve for image: set 5; image: 011\n",
      "[FluxFinder] Making light curve for image: set 5; image: 012\n",
      "[FluxFinder] Making light curve for image: set 5; image: 013\n",
      "[FluxFinder] Making light curve for image: set 5; image: 014\n",
      "[FluxFinder] Making light curve for image: set 5; image: 015\n",
      "[FluxFinder] Making light curve for image: set 5; image: 016\n",
      "[FluxFinder] Making light curve for image: set 5; image: 017\n",
      "[FluxFinder] Making light curve for image: set 5; image: 018\n"
     ]
    },
    {
     "name": "stdout",
     "output_type": "stream",
     "text": [
      "[FluxFinder] Making light curve for image: set 5; image: 019\n",
      "[FluxFinder] Making light curve for image: set 5; image: 020\n",
      "[FluxFinder] Making light curve for image: set 5; image: 021\n",
      "[FluxFinder] Making light curve for image: set 5; image: 022\n",
      "[FluxFinder] Making light curve for image: set 5; image: 023\n",
      "[FluxFinder] Making light curve for image: set 5; image: 024\n",
      "[FluxFinder] Making light curve for image: set 5; image: 025\n",
      "[FluxFinder] Making light curve for image: set 5; image: 026\n",
      "[FluxFinder] Making light curve for image: set 5; image: 027\n",
      "[FluxFinder] Making light curve for image: set 5; image: 028\n",
      "[FluxFinder] Making light curve for image: set 5; image: 029\n",
      "[FluxFinder] Making light curve for image: set 5; image: 030\n",
      "[FluxFinder] Making light curve for image: set 5; image: 031\n",
      "[FluxFinder] Making light curve for image: set 5; image: 032\n",
      "[FluxFinder] Making light curve for image: set 5; image: 033\n",
      "[FluxFinder] Making light curve for image: set 5; image: 034\n",
      "[FluxFinder] Making light curve for image: set 5; image: 035\n",
      "[FluxFinder] Making light curve for image: set 5; image: 036\n",
      "[FluxFinder] Making light curve for image: set 5; image: 037\n",
      "[FluxFinder] Making light curve for image: set 5; image: 038\n",
      "[FluxFinder] Making light curve for image: set 5; image: 039\n",
      "[FluxFinder] Making light curve for image: set 5; image: 040\n",
      "[FluxFinder] Making light curve for image: set 5; image: 041\n",
      "[FluxFinder] Making light curve for image: set 5; image: 042\n",
      "[FluxFinder] Making light curve for image: set 5; image: 043\n",
      "[FluxFinder] Making light curve for image: set 5; image: 044\n",
      "[FluxFinder] Making light curve for image: set 5; image: 045\n",
      "[FluxFinder] Making light curve for image: set 5; image: 046\n",
      "[FluxFinder] Making light curve for image: set 5; image: 047\n",
      "[FluxFinder] Making light curve for image: set 5; image: 048\n",
      "[FluxFinder] Making light curve for image: set 5; image: 049\n",
      "[FluxFinder] Making light curve for image: set 5; image: 050\n",
      "[FluxFinder] Making light curve for image: set 6; image: 001\n",
      "[FluxFinder] Making light curve for image: set 6; image: 002\n",
      "[FluxFinder] Making light curve for image: set 6; image: 003\n",
      "[FluxFinder] Making light curve for image: set 6; image: 004\n",
      "[FluxFinder] Making light curve for image: set 6; image: 005\n",
      "[FluxFinder] Making light curve for image: set 6; image: 006\n",
      "[FluxFinder] Making light curve for image: set 6; image: 007\n",
      "[FluxFinder] Making light curve for image: set 6; image: 008\n",
      "[FluxFinder] Making light curve for image: set 6; image: 009\n",
      "[FluxFinder] Making light curve for image: set 6; image: 010\n",
      "[FluxFinder] Making light curve for image: set 6; image: 011\n",
      "[FluxFinder] Making light curve for image: set 6; image: 012\n",
      "[FluxFinder] Making light curve for image: set 6; image: 013\n",
      "[FluxFinder] Making light curve for image: set 6; image: 014\n",
      "[FluxFinder] Making light curve for image: set 6; image: 015\n",
      "[FluxFinder] Making light curve for image: set 6; image: 016\n",
      "[FluxFinder] Making light curve for image: set 6; image: 017\n",
      "[FluxFinder] Making light curve for image: set 6; image: 018\n",
      "[FluxFinder] Making light curve for image: set 6; image: 019\n",
      "[FluxFinder] Making light curve for image: set 6; image: 020\n",
      "[FluxFinder] Making light curve for image: set 6; image: 021\n",
      "[FluxFinder] Making light curve for image: set 6; image: 022\n",
      "[FluxFinder] Making light curve for image: set 6; image: 023\n",
      "[FluxFinder] Making light curve for image: set 6; image: 024\n",
      "[FluxFinder] Making light curve for image: set 6; image: 025\n",
      "[FluxFinder] Making light curve for image: set 6; image: 026\n",
      "[FluxFinder] Making light curve for image: set 6; image: 027\n",
      "[FluxFinder] Making light curve for image: set 6; image: 028\n",
      "[FluxFinder] Making light curve for image: set 6; image: 029\n",
      "[FluxFinder] Making light curve for image: set 6; image: 030\n",
      "[FluxFinder] Making light curve for image: set 6; image: 031\n",
      "[FluxFinder] Making light curve for image: set 6; image: 032\n",
      "[FluxFinder] Making light curve for image: set 6; image: 033\n",
      "[FluxFinder] Making light curve for image: set 6; image: 034\n",
      "[FluxFinder] Making light curve for image: set 6; image: 035\n",
      "[FluxFinder] Making light curve for image: set 6; image: 036\n",
      "[FluxFinder] Making light curve for image: set 6; image: 037\n",
      "[FluxFinder] Making light curve for image: set 6; image: 038\n",
      "[FluxFinder] Making light curve for image: set 6; image: 039\n",
      "[FluxFinder] Making light curve for image: set 6; image: 040\n",
      "[FluxFinder] Making light curve for image: set 6; image: 041\n",
      "[FluxFinder] Making light curve for image: set 6; image: 042\n",
      "[FluxFinder] Making light curve for image: set 6; image: 043\n",
      "[FluxFinder] Making light curve for image: set 6; image: 044\n",
      "[FluxFinder] Making light curve for image: set 6; image: 045\n",
      "[FluxFinder] Making light curve for image: set 6; image: 046\n",
      "[FluxFinder] Making light curve for image: set 6; image: 047\n",
      "[FluxFinder] Making light curve for image: set 6; image: 048\n",
      "[FluxFinder] Making light curve for image: set 6; image: 049\n",
      "[FluxFinder] Making light curve for image: set 6; image: 050\n",
      "[FluxFinder] Making light curve for image: set 7; image: 001\n",
      "[FluxFinder] Making light curve for image: set 7; image: 002\n",
      "[FluxFinder] Making light curve for image: set 7; image: 003\n",
      "[FluxFinder] Making light curve for image: set 7; image: 004\n",
      "[FluxFinder] Making light curve for image: set 7; image: 005\n",
      "[FluxFinder] Making light curve for image: set 7; image: 006\n",
      "[FluxFinder] Making light curve for image: set 7; image: 007\n",
      "[FluxFinder] Making light curve for image: set 7; image: 008\n",
      "[FluxFinder] Making light curve for image: set 7; image: 009\n",
      "[FluxFinder] Making light curve for image: set 7; image: 010\n",
      "[FluxFinder] Making light curve for image: set 7; image: 011\n",
      "[FluxFinder] Making light curve for image: set 7; image: 012\n",
      "[FluxFinder] Making light curve for image: set 7; image: 013\n",
      "[FluxFinder] Making light curve for image: set 7; image: 014\n",
      "[FluxFinder] Making light curve for image: set 7; image: 015\n",
      "[FluxFinder] Making light curve for image: set 7; image: 016\n",
      "[FluxFinder] Making light curve for image: set 7; image: 017\n",
      "[FluxFinder] Making light curve for image: set 7; image: 018\n",
      "[FluxFinder] Making light curve for image: set 7; image: 019\n",
      "[FluxFinder] Making light curve for image: set 7; image: 020\n",
      "[FluxFinder] Making light curve for image: set 7; image: 021\n",
      "[FluxFinder] Making light curve for image: set 7; image: 022\n",
      "[FluxFinder] Making light curve for image: set 7; image: 023\n",
      "[FluxFinder] Making light curve for image: set 7; image: 024\n",
      "[FluxFinder] Making light curve for image: set 7; image: 025\n",
      "[FluxFinder] Making light curve for image: set 7; image: 026\n",
      "[FluxFinder] Making light curve for image: set 7; image: 027\n",
      "[FluxFinder] Making light curve for image: set 7; image: 028\n",
      "[FluxFinder] Making light curve for image: set 7; image: 029\n",
      "[FluxFinder] Making light curve for image: set 7; image: 030\n",
      "[FluxFinder] Making light curve for image: set 7; image: 031\n",
      "[FluxFinder] Making light curve for image: set 7; image: 032\n",
      "[FluxFinder] Making light curve for image: set 7; image: 033\n",
      "[FluxFinder] Making light curve for image: set 7; image: 034\n",
      "[FluxFinder] Making light curve for image: set 7; image: 035\n",
      "[FluxFinder] Making light curve for image: set 7; image: 036\n",
      "[FluxFinder] Making light curve for image: set 7; image: 037\n",
      "[FluxFinder] Making light curve for image: set 7; image: 038\n",
      "[FluxFinder] Making light curve for image: set 7; image: 039\n",
      "[FluxFinder] Making light curve for image: set 7; image: 040\n",
      "[FluxFinder] Making light curve for image: set 7; image: 041\n",
      "[FluxFinder] Making light curve for image: set 7; image: 042\n",
      "[FluxFinder] Making light curve for image: set 7; image: 043\n",
      "[FluxFinder] Making light curve for image: set 7; image: 044\n",
      "[FluxFinder] Making light curve for image: set 7; image: 045\n",
      "[FluxFinder] Making light curve for image: set 7; image: 046\n",
      "[FluxFinder] Making light curve for image: set 7; image: 047\n",
      "[FluxFinder] Making light curve for image: set 7; image: 048\n",
      "[FluxFinder] Making light curve for image: set 7; image: 049\n",
      "[FluxFinder] Making light curve for image: set 7; image: 050\n",
      "Finished making light curves at 20:20:48\n"
     ]
    }
   ],
   "source": [
    "ff = FluxFinder.FluxFinder(config)\n",
    "ff.find_all_fluxes()\n",
    "ff.make_light_curves()\n",
    "Utilities.print_job(\"making light curves\")"
   ]
  },
  {
   "cell_type": "code",
   "execution_count": 9,
   "metadata": {
    "scrolled": true
   },
   "outputs": [
    {
     "name": "stdout",
     "output_type": "stream",
     "text": [
      "[DEBUG] Getting variables in DataAnalyser\n",
      "[DEBUG] Calling `get_ids_for_avg` in DataAnalyser\n",
      "[DEBUG] Calling `make_avg_curve` in FluxFinder\n",
      "[DEBUG] Calling `divide_by_average` in FluxFinder\n",
      "[FluxFinder] Plotting light curve for source None\n",
      "Finished adjusting light curves at 20:21:56\n"
     ]
    }
   ],
   "source": [
    "r = None\n",
    "#c = None\n",
    "sf = None\n",
    "\n",
    "da = DataAnalyser.DataAnalyser(config)\n",
    "\n",
    "da.get_means_and_stds(False)\n",
    "da.get_variables(False)\n",
    "#da.output_results() #this should not be here - make it just create results folder with separate method\n",
    "da.plot_means_and_stds(\"_adjusted\")\n",
    "ids = da.get_ids_for_avg()\n",
    "\n",
    "ff.make_avg_curve(ids)\n",
    "ff.divide_by_average()\n",
    "avg_fname = \"{}_avg{}\".format(config.image_prefix, config.standard_file_extension)\n",
    "ff.plot_light_curve(None, os.path.join(config.workspace_dir, avg_fname), True)\n",
    "c.show_variables(ff)\n",
    "Utilities.print_job(\"adjusting light curves\")"
   ]
  },
  {
   "cell_type": "code",
   "execution_count": 10,
   "metadata": {
    "scrolled": true
   },
   "outputs": [
    {
     "name": "stdout",
     "output_type": "stream",
     "text": [
      "[DataAnalyser] cosmic detected at approx 10675s in id:\n",
      "[DataAnalyser] Removed cosmics on id {} 0534\n",
      "[DataAnalyser] cosmic detected at approx 11970s in id:\n",
      "[DataAnalyser] Removed cosmics on id {} 1158\n",
      "[DataAnalyser] cosmic detected at approx 11130s in id:\n",
      "[DataAnalyser] Removed cosmics on id {} 0314\n",
      "[DataAnalyser] cosmic detected at approx 10675s in id:\n",
      "[DataAnalyser] Removed cosmics on id {} 0581\n",
      "[DataAnalyser] cosmic detected at approx 11970s in id:\n",
      "[DataAnalyser] Removed cosmics on id {} 0360\n",
      "[DataAnalyser] cosmic detected at approx 12005s in id:\n",
      "[DataAnalyser] Removed cosmics on id {} 0091\n",
      "[DataAnalyser] cosmic detected at approx 12215s in id:\n",
      "[DataAnalyser] Removed cosmics on id {} 0507\n",
      "[DataAnalyser] cosmic detected at approx 12215s in id:\n",
      "[DataAnalyser] Removed cosmics on id {} 0233\n",
      "[DataAnalyser] cosmic detected at approx 11900s in id:\n",
      "[DataAnalyser] Removed cosmics on id {} 0277\n",
      "[DataAnalyser] cosmic detected at approx 10080s in id:\n",
      "[DataAnalyser] Removed cosmics on id {} 1018\n",
      "[DataAnalyser] cosmic detected at approx 11760s in id:\n",
      "[DataAnalyser] Removed cosmics on id {} 0849\n",
      "[DataAnalyser] cosmic detected at approx 10570s in id:\n",
      "[DataAnalyser] Removed cosmics on id {} 0892\n",
      "[DataAnalyser] cosmic detected at approx 11375s in id:\n",
      "[DataAnalyser] Removed cosmics on id {} 0609\n",
      "[DataAnalyser] cosmic detected at approx 12215s in id:\n",
      "[DataAnalyser] Removed cosmics on id {} 0939\n",
      "[DataAnalyser] cosmic detected at approx 10675s in id:\n",
      "[DataAnalyser] Removed cosmics on id {} 0988\n",
      "[DataAnalyser] cosmic detected at approx 12005s in id:\n",
      "[DataAnalyser] Removed cosmics on id {} 0274\n",
      "[DataAnalyser] cosmic detected at approx 12040s in id:\n",
      "[DataAnalyser] Removed cosmics on id {} 0721\n",
      "[DataAnalyser] cosmic detected at approx 11025s in id:\n",
      "[DataAnalyser] Removed cosmics on id {} 0661\n",
      "[DataAnalyser] cosmic detected at approx 11515s in id:\n",
      "[DataAnalyser] Removed cosmics on id {} 0903\n",
      "[DataAnalyser] cosmic detected at approx 11410s in id:\n",
      "[DataAnalyser] Removed cosmics on id {} 0399\n",
      "[DataAnalyser] cosmic detected at approx 11970s in id:\n",
      "[DataAnalyser] Removed cosmics on id {} 0776\n",
      "[DataAnalyser] cosmic detected at approx 11025s in id:\n",
      "[DataAnalyser] Removed cosmics on id {} 0117\n",
      "[DataAnalyser] cosmic detected at approx 11970s in id:\n",
      "[DataAnalyser] Removed cosmics on id {} 0478\n",
      "[DataAnalyser] cosmic detected at approx 12180s in id:\n",
      "[DataAnalyser] Removed cosmics on id {} 0311\n",
      "[DataAnalyser] cosmic detected at approx 12215s in id:\n",
      "[DataAnalyser] Removed cosmics on id {} 0648\n",
      "[DataAnalyser] cosmic detected at approx 11305s in id:\n",
      "[DataAnalyser] Removed cosmics on id {} 0623\n",
      "[DataAnalyser] cosmic detected at approx 9905s in id:\n",
      "[DataAnalyser] Removed cosmics on id {} 0258\n",
      "[DataAnalyser] cosmic detected at approx 10045s in id:\n",
      "[DataAnalyser] Removed cosmics on id {} 0282\n",
      "[DataAnalyser] cosmic detected at approx 10675s in id:\n",
      "[DataAnalyser] Removed cosmics on id {} 0840\n",
      "[DataAnalyser] cosmic detected at approx 12215s in id:\n",
      "[DataAnalyser] Removed cosmics on id {} 0580\n",
      "[DataAnalyser] cosmic detected at approx 12215s in id:\n",
      "[DataAnalyser] Removed cosmics on id {} 0488\n",
      "[DataAnalyser] cosmic detected at approx 11690s in id:\n",
      "[DataAnalyser] Removed cosmics on id {} 0370\n",
      "[DataAnalyser] cosmic detected at approx 12215s in id:\n",
      "[DataAnalyser] Removed cosmics on id {} 0113\n",
      "[DataAnalyser] cosmic detected at approx 12005s in id:\n",
      "[DataAnalyser] Removed cosmics on id {} 1051\n",
      "[DataAnalyser] cosmic detected at approx 11060s in id:\n",
      "[DataAnalyser] Removed cosmics on id {} 0129\n",
      "[DataAnalyser] cosmic detected at approx 12215s in id:\n",
      "[DataAnalyser] Removed cosmics on id {} 0926\n",
      "[DataAnalyser] cosmic detected at approx 11795s in id:\n",
      "[DataAnalyser] Removed cosmics on id {} 0378\n",
      "[DataAnalyser] cosmic detected at approx 11725s in id:\n",
      "[DataAnalyser] Removed cosmics on id {} 0325\n",
      "[DataAnalyser] cosmic detected at approx 12145s in id:\n",
      "[DataAnalyser] Removed cosmics on id {} 0814\n",
      "[DataAnalyser] cosmic detected at approx 1785s in id:\n",
      "[DataAnalyser] Removed cosmics on id {} 0625\n",
      "[DataAnalyser] cosmic detected at approx 11900s in id:\n",
      "[DataAnalyser] Removed cosmics on id {} 0919\n",
      "[DataAnalyser] cosmic detected at approx 10920s in id:\n",
      "[DataAnalyser] Removed cosmics on id {} 0875\n",
      "[DataAnalyser] cosmic detected at approx 12215s in id:\n",
      "[DataAnalyser] Removed cosmics on id {} 0643\n",
      "[DataAnalyser] cosmic detected at approx 12215s in id:\n",
      "[DataAnalyser] Removed cosmics on id {} 1035\n",
      "[DataAnalyser] cosmic detected at approx 12005s in id:\n",
      "[DataAnalyser] Removed cosmics on id {} 0138\n",
      "[DataAnalyser] cosmic detected at approx 11725s in id:\n",
      "[DataAnalyser] Removed cosmics on id {} 0480\n",
      "[DataAnalyser] cosmic detected at approx 11445s in id:\n",
      "[DataAnalyser] Removed cosmics on id {} 0769\n",
      "[DataAnalyser] cosmic detected at approx 11760s in id:\n",
      "[DataAnalyser] Removed cosmics on id {} 0705\n",
      "[DataAnalyser] cosmic detected at approx 11935s in id:\n",
      "[DataAnalyser] Removed cosmics on id {} 0042\n",
      "[DataAnalyser] cosmic detected at approx 11970s in id:\n",
      "[DataAnalyser] Removed cosmics on id {} 0441\n",
      "[DataAnalyser] cosmic detected at approx 10675s in id:\n",
      "[DataAnalyser] Removed cosmics on id {} 0868\n",
      "[DataAnalyser] cosmic detected at approx 12215s in id:\n",
      "[DataAnalyser] Removed cosmics on id {} 0330\n",
      "[DataAnalyser] cosmic detected at approx 11480s in id:\n",
      "[DataAnalyser] Removed cosmics on id {} 0292\n",
      "[DataAnalyser] cosmic detected at approx 11585s in id:\n",
      "[DataAnalyser] Removed cosmics on id {} 0440\n",
      "[DataAnalyser] cosmic detected at approx 11900s in id:\n",
      "[DataAnalyser] Removed cosmics on id {} 0983\n",
      "[DataAnalyser] cosmic detected at approx 10955s in id:\n",
      "[DataAnalyser] Removed cosmics on id {} 0591\n",
      "[DataAnalyser] cosmic detected at approx 12040s in id:\n",
      "[DataAnalyser] Removed cosmics on id {} 0546\n",
      "[DataAnalyser] cosmic detected at approx 12005s in id:\n",
      "[DataAnalyser] Removed cosmics on id {} 0302\n",
      "[DataAnalyser] cosmic detected at approx 10570s in id:\n",
      "[DataAnalyser] Removed cosmics on id {} 0385\n",
      "[DataAnalyser] cosmic detected at approx 12145s in id:\n",
      "[DataAnalyser] Removed cosmics on id {} 0918\n",
      "[DataAnalyser] cosmic detected at approx 11865s in id:\n",
      "[DataAnalyser] Removed cosmics on id {} 0694\n",
      "[DataAnalyser] cosmic detected at approx 12145s in id:\n",
      "[DataAnalyser] Removed cosmics on id {} 0961\n",
      "[DataAnalyser] cosmic detected at approx 12215s in id:\n",
      "[DataAnalyser] Removed cosmics on id {} 0197\n",
      "[DataAnalyser] cosmic detected at approx 11585s in id:\n",
      "[DataAnalyser] Removed cosmics on id {} 0801\n",
      "[DataAnalyser] cosmic detected at approx 11550s in id:\n",
      "[DataAnalyser] Removed cosmics on id {} 0680\n",
      "[DataAnalyser] cosmic detected at approx 12005s in id:\n",
      "[DataAnalyser] Removed cosmics on id {} 1084\n",
      "[DataAnalyser] cosmic detected at approx 12215s in id:\n",
      "[DataAnalyser] Removed cosmics on id {} 0099\n",
      "[DataAnalyser] cosmic detected at approx 12005s in id:\n",
      "[DataAnalyser] Removed cosmics on id {} 0448\n",
      "[DataAnalyser] cosmic detected at approx 11305s in id:\n",
      "[DataAnalyser] Removed cosmics on id {} 0890\n",
      "[DataAnalyser] cosmic detected at approx 11970s in id:\n",
      "[DataAnalyser] Removed cosmics on id {} 0089\n",
      "[DataAnalyser] cosmic detected at approx 11690s in id:\n",
      "[DataAnalyser] Removed cosmics on id {} 0665\n",
      "[DataAnalyser] cosmic detected at approx 10640s in id:\n",
      "[DataAnalyser] Removed cosmics on id {} 0933\n",
      "[DataAnalyser] cosmic detected at approx 11515s in id:\n",
      "[DataAnalyser] Removed cosmics on id {} 0736\n",
      "[DataAnalyser] cosmic detected at approx 11935s in id:\n",
      "[DataAnalyser] Removed cosmics on id {} 0799\n",
      "[DataAnalyser] cosmic detected at approx 11655s in id:\n",
      "[DataAnalyser] Removed cosmics on id {} 0298\n",
      "[DataAnalyser] cosmic detected at approx 12215s in id:\n",
      "[DataAnalyser] Removed cosmics on id {} 0557\n",
      "[DataAnalyser] cosmic detected at approx 11900s in id:\n",
      "[DataAnalyser] Removed cosmics on id {} 0931\n",
      "[DataAnalyser] cosmic detected at approx 11760s in id:\n",
      "[DataAnalyser] Removed cosmics on id {} 0166\n",
      "[DataAnalyser] cosmic detected at approx 10675s in id:\n",
      "[DataAnalyser] Removed cosmics on id {} 0784\n",
      "[DataAnalyser] cosmic detected at approx 11200s in id:\n",
      "[DataAnalyser] Removed cosmics on id {} 1074\n",
      "[DataAnalyser] cosmic detected at approx 10675s in id:\n",
      "[DataAnalyser] Removed cosmics on id {} 0345\n",
      "[DataAnalyser] cosmic detected at approx 11620s in id:\n",
      "[DataAnalyser] Removed cosmics on id {} 0271\n",
      "[DataAnalyser] cosmic detected at approx 10675s in id:\n",
      "[DataAnalyser] Removed cosmics on id {} 0633\n",
      "[DataAnalyser] cosmic detected at approx 12215s in id:\n",
      "[DataAnalyser] Removed cosmics on id {} 0066\n",
      "[DataAnalyser] cosmic detected at approx 11690s in id:\n",
      "[DataAnalyser] Removed cosmics on id {} 0985\n"
     ]
    },
    {
     "name": "stdout",
     "output_type": "stream",
     "text": [
      "[DataAnalyser] cosmic detected at approx 12215s in id:\n",
      "[DataAnalyser] Removed cosmics on id {} 0772\n",
      "[DataAnalyser] cosmic detected at approx 10675s in id:\n",
      "[DataAnalyser] Removed cosmics on id {} 0709\n",
      "[DataAnalyser] cosmic detected at approx 10850s in id:\n",
      "[DataAnalyser] Removed cosmics on id {} 0977\n",
      "[DataAnalyser] cosmic detected at approx 11970s in id:\n",
      "[DataAnalyser] Removed cosmics on id {} 0416\n",
      "[DataAnalyser] cosmic detected at approx 11690s in id:\n",
      "[DataAnalyser] Removed cosmics on id {} 0149\n",
      "[DataAnalyser] cosmic detected at approx 4795s in id:\n",
      "[DataAnalyser] Removed cosmics on id {} 0867\n",
      "[DataAnalyser] cosmic detected at approx 12040s in id:\n",
      "[DataAnalyser] Removed cosmics on id {} 0945\n",
      "[DataAnalyser] cosmic detected at approx 11725s in id:\n",
      "[DataAnalyser] Removed cosmics on id {} 1043\n",
      "[DataAnalyser] cosmic detected at approx 11445s in id:\n",
      "[DataAnalyser] Removed cosmics on id {} 0105\n",
      "[DataAnalyser] cosmic detected at approx 11900s in id:\n",
      "[DataAnalyser] Removed cosmics on id {} 0727\n",
      "[DataAnalyser] cosmic detected at approx 210s in id:\n",
      "[DataAnalyser] Removed cosmics on id {} 1078\n",
      "[DataAnalyser] cosmic detected at approx 210s in id:\n",
      "[DataAnalyser] Removed cosmics on id {} 1089\n",
      "[DataAnalyser] cosmic detected at approx 10745s in id:\n",
      "[DataAnalyser] Removed cosmics on id {} 0422\n",
      "[DataAnalyser] cosmic detected at approx 210s in id:\n",
      "[DataAnalyser] Removed cosmics on id {} 0917\n",
      "[DataAnalyser] cosmic detected at approx 11935s in id:\n",
      "[DataAnalyser] Removed cosmics on id {} 1161\n",
      "[DataAnalyser] cosmic detected at approx 10255s in id:\n",
      "[DataAnalyser] Removed cosmics on id {} 0651\n",
      "[DataAnalyser] cosmic detected at approx 11445s in id:\n",
      "[DataAnalyser] Removed cosmics on id {} 0708\n",
      "[DataAnalyser] cosmic detected at approx 12005s in id:\n",
      "[DataAnalyser] Removed cosmics on id {} 0531\n",
      "[DataAnalyser] cosmic detected at approx 10675s in id:\n",
      "[DataAnalyser] Removed cosmics on id {} 0588\n",
      "[DataAnalyser] cosmic detected at approx 11865s in id:\n",
      "[DataAnalyser] Removed cosmics on id {} 0303\n",
      "[DataAnalyser] cosmic detected at approx 11935s in id:\n",
      "[DataAnalyser] Removed cosmics on id {} 1149\n",
      "[DataAnalyser] cosmic detected at approx 12215s in id:\n",
      "[DataAnalyser] Removed cosmics on id {} 0236\n",
      "[DataAnalyser] cosmic detected at approx 12180s in id:\n",
      "[DataAnalyser] Removed cosmics on id {} 0483\n",
      "[DataAnalyser] cosmic detected at approx 11375s in id:\n",
      "[DataAnalyser] Removed cosmics on id {} 0073\n",
      "[DataAnalyser] cosmic detected at approx 12180s in id:\n",
      "[DataAnalyser] Removed cosmics on id {} 0953\n",
      "[DataAnalyser] cosmic detected at approx 11865s in id:\n",
      "[DataAnalyser] Removed cosmics on id {} 0853\n",
      "[DataAnalyser] cosmic detected at approx 12215s in id:\n",
      "[DataAnalyser] Removed cosmics on id {} 0253\n",
      "[DataAnalyser] Floor at {} 0.017347857888282983\n",
      "[DEBUG] Getting variables in DataAnalyser\n",
      "[DataAnalyser] Creating thumbnail for source id 0987, centroid 235.51147,1294.2348\n",
      "[DataAnalyser] Creating thumbnail for source id 0045, centroid 588.01547,59.604465\n",
      "[DataAnalyser] Creating thumbnail for source id 0058, centroid 588.50301,70.788782\n",
      "[DataAnalyser] Creating thumbnail for source id 0502, centroid 1575.2812,656.4614\n",
      "[DataAnalyser] Creating thumbnail for source id 0257, centroid 1240.5669,340.82666\n",
      "[DataAnalyser] Creating thumbnail for source id 0394, centroid 268.2486,531.9852\n",
      "[DataAnalyser] Creating thumbnail for source id 0953, centroid 732.21242,1248.2894\n",
      "[DataAnalyser] Creating thumbnail for source id 0804, centroid 1892.5739,1063.9615\n",
      "[DataAnalyser] Creating thumbnail for source id 0839, centroid 2109.052,1102.7345\n",
      "[DataAnalyser] Creating thumbnail for source id 0324, centroid 1908.251,435.29242\n",
      "[DataAnalyser] Creating thumbnail for source id 0713, centroid 1938.3878,940.60228\n",
      "[DataAnalyser] Creating thumbnail for source id 1127, centroid 2277.3067,1475.5059\n",
      "[DataAnalyser] Creating thumbnail for source id 0410, centroid 1274.2574,547.36338\n",
      "[DataAnalyser] Creating thumbnail for source id 0346, centroid 1585.6693,466.48897\n",
      "[DataAnalyser] Creating thumbnail for source id 0837, centroid 2095.0792,1100.5766\n",
      "[DataAnalyser] Creating thumbnail for source id 0086, centroid 1560.2489,106.4019\n",
      "[DataAnalyser] Creating thumbnail for source id 0909, centroid 2163.3946,1189.8004\n",
      "[DataAnalyser] Creating thumbnail for source id 0711, centroid 2004.8662,938.37593\n",
      "[DataAnalyser] Creating thumbnail for source id 0879, centroid 854.25766,1151.8959\n",
      "[DataAnalyser] Creating thumbnail for source id 1113, centroid 2000.1741,1456.572\n",
      "[DataAnalyser] Creating thumbnail for source id 0687, centroid 416.76998,904.43659\n",
      "[DataAnalyser] Creating thumbnail for source id 0986, centroid 265.37839,1292.7428\n",
      "[DataAnalyser] Creating thumbnail for source id 0048, centroid 2020.7749,61.630272\n",
      "[DataAnalyser] Creating thumbnail for source id 0759, centroid 939.26573,1007.4564\n",
      "[DataAnalyser] Creating thumbnail for source id 0478, centroid 740.14166,637.80079\n",
      "[DataAnalyser] Creating thumbnail for source id 0294, centroid 788.90793,379.1738\n",
      "[DataAnalyser] Creating thumbnail for source id 0353, centroid 1574.5491,475.32513\n",
      "[DataAnalyser] Creating thumbnail for source id 0279, centroid 777.03209,368.43438\n",
      "[DataAnalyser] Creating thumbnail for source id 0543, centroid 191.02403,716.36925\n",
      "[DataAnalyser] Creating thumbnail for source id 0825, centroid 1593.5365,1086.0407\n",
      "[DataAnalyser] Creating thumbnail for source id 0682, centroid 398.27745,898.76899\n",
      "[DataAnalyser] Creating thumbnail for source id 0105, centroid 869.8009,139.36337\n",
      "[DataAnalyser] Creating thumbnail for source id 0247, centroid 391.00064,330.16912\n",
      "[DataAnalyser] Creating thumbnail for source id 0730, centroid 1661.3193,962.12418\n",
      "[DataAnalyser] Creating thumbnail for source id 0402, centroid 656.91914,537.50355\n",
      "[DataAnalyser] Creating thumbnail for source id 0320, centroid 2145.2484,432.00758\n",
      "[DataAnalyser] Creating thumbnail for source id 0554, centroid 632.96569,730.98234\n",
      "[DataAnalyser] Creating thumbnail for source id 0344, centroid 1727.524,462.83768\n",
      "[DataAnalyser] Creating thumbnail for source id 0360, centroid 1155.7131,492.55112\n",
      "[DataAnalyser] Creating thumbnail for source id 0834, centroid 1885.6546,1099.9027\n",
      "[DataAnalyser] Creating thumbnail for source id 0800, centroid 1767.617,1058.0037\n",
      "[DataAnalyser] Creating thumbnail for source id 0313, centroid 702.35236,411.67362\n",
      "[DataAnalyser] Creating thumbnail for source id 0070, centroid 678.71408,82.328596\n",
      "[DataAnalyser] Creating thumbnail for source id 1081, centroid 1997.626,1411.4\n",
      "[DataAnalyser] Creating thumbnail for source id 1051, centroid 1634.3565,1379.4\n",
      "[DataAnalyser] Creating thumbnail for source id 0318, centroid 2250.7113,425.36327\n",
      "[DataAnalyser] Creating thumbnail for source id 0750, centroid 1897.2938,990.90933\n",
      "[DataAnalyser] Creating thumbnail for source id 0534, centroid 209.01424,701.98825\n",
      "[DataAnalyser] Creating thumbnail for source id 0891, centroid 145.46292,1166.5959\n",
      "[DataAnalyser] Creating thumbnail for source id 0945, centroid 1976.6439,1234.8923\n",
      "[DataAnalyser] Creating thumbnail for source id 0395, centroid 650.87064,533.30004\n",
      "[DataAnalyser] Creating thumbnail for source id 1066, centroid 1086.3515,1401.2298\n",
      "[DataAnalyser] Creating thumbnail for source id 0823, centroid 2146.6597,1084.7549\n",
      "[DataAnalyser] Creating thumbnail for source id 0054, centroid 669.56979,70.414017\n",
      "[DataAnalyser] Creating thumbnail for source id 0337, centroid 1264.5954,451.86992\n",
      "[DataAnalyser] Creating thumbnail for source id 1096, centroid 1320.356,1428.2388\n",
      "[DataAnalyser] Creating thumbnail for source id 0742, centroid 1073.2756,972.04705\n",
      "Finished everything at 20:22:07\n"
     ]
    }
   ],
   "source": [
    "da.get_means_and_stds(True)\n",
    "da.get_variables(True)\n",
    "da.plot_means_and_stds(True)\n",
    "da.output_results()\n",
    "da.create_thumbnails(ff)\n",
    "\n",
    "Utilities.print_job(\"everything\")"
   ]
  },
  {
   "cell_type": "code",
   "execution_count": null,
   "metadata": {},
   "outputs": [],
   "source": []
  }
 ],
 "metadata": {
  "interpreter": {
   "hash": "661cda2bc47445e7c6e25a640ed59596e312375c87e120a1d4c7c6ced0f09253"
  },
  "kernelspec": {
   "display_name": "Python 3 (ipykernel)",
   "language": "python",
   "name": "python3"
  },
  "language_info": {
   "codemirror_mode": {
    "name": "ipython",
    "version": 3
   },
   "file_extension": ".py",
   "mimetype": "text/x-python",
   "name": "python",
   "nbconvert_exporter": "python",
   "pygments_lexer": "ipython3",
   "version": "3.10.2"
  }
 },
 "nbformat": 4,
 "nbformat_minor": 2
}
