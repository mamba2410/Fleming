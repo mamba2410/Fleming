{
 "cells": [
  {
   "cell_type": "code",
   "execution_count": 1,
   "metadata": {},
   "outputs": [],
   "source": [
    "#!pip install astroplan"
   ]
  },
  {
   "cell_type": "code",
   "execution_count": 2,
   "metadata": {},
   "outputs": [],
   "source": [
    "import numpy as np\n",
    "import matplotlib.pyplot as plt\n",
    "from astropy import units as u\n",
    "from astropy.coordinates import SkyCoord\n",
    "from astropy.coordinates import EarthLocation\n",
    "from astropy.time import Time"
   ]
  },
  {
   "cell_type": "code",
   "execution_count": 3,
   "metadata": {},
   "outputs": [
    {
     "name": "stdout",
     "output_type": "stream",
     "text": [
      "Number of fields:  174\n"
     ]
    },
    {
     "data": {
      "text/plain": [
       "Text(0, 0.5, 'DEC (deg)')"
      ]
     },
     "execution_count": 3,
     "metadata": {},
     "output_type": "execute_result"
    },
    {
     "data": {
      "image/png": "[encoded data removed]",
      "text/plain": [
       "<Figure size 432x288 with 1 Axes>"
      ]
     },
     "metadata": {
      "needs_background": "light"
     },
     "output_type": "display_data"
    }
   ],
   "source": [
    "glat = 0.0\n",
    "glon_start = 80\n",
    "glon_end = 167\n",
    "step = 0.5\n",
    "\n",
    "print('Number of fields: ',int((glon_end-glon_start)/step))\n",
    "\n",
    "ra = np.zeros(100)\n",
    "dec = np.zeros(100)\n",
    "glon = np.arange(glon_start,glon_end,step)\n",
    "\n",
    "fields = SkyCoord(glon,glat,frame='galactic',unit='deg')\n",
    "fields_ra = fields.fk5.ra\n",
    "fields_dec = fields.fk5.dec\n",
    "\n",
    "plt.scatter(fields_ra,fields_dec)\n",
    "plt.plot([0.0,360.0],[63.0,63.0],'r--')\n",
    "plt.plot([0.0,360.0],[40.0,40.0],'r--')\n",
    "plt.xlabel('RA (deg)')\n",
    "plt.ylabel('DEC (deg)')"
   ]
  },
  {
   "cell_type": "code",
   "execution_count": 4,
   "metadata": {},
   "outputs": [],
   "source": [
    "from astroplan import Observer, FixedTarget\n",
    "from astroplan import (AltitudeConstraint, AirmassConstraint, AtNightConstraint)\n",
    "from astroplan.plots import plot_airmass\n",
    "from astroplan import is_observable, is_always_observable, months_observable\n",
    "from astroplan import download_IERS_A\n",
    "download_IERS_A()"
   ]
  },
  {
   "cell_type": "code",
   "execution_count": 5,
   "metadata": {},
   "outputs": [],
   "source": [
    "longitude = -2.0\n",
    "latitude = +56.0\n",
    "elevation = 30.0 * u.m\n",
    "stand = EarthLocation.from_geodetic(longitude, latitude, elevation)\n",
    "jgt = Observer(name='jgt',location=stand)\n",
    "time = Time('2022-03-23 19:00:00')\n",
    "constraints = [AltitudeConstraint(30*u.deg, 80*u.deg),AirmassConstraint(2), AtNightConstraint.twilight_civil()]"
   ]
  },
  {
   "cell_type": "code",
   "execution_count": 6,
   "metadata": {},
   "outputs": [
    {
     "data": {
      "text/plain": [
       "(0.9, 2.5)"
      ]
     },
     "execution_count": 6,
     "metadata": {},
     "output_type": "execute_result"
    },
    {
     "data": {
      "image/png": "[encoded data removed]",
      "text/plain": [
       "<Figure size 432x288 with 1 Axes>"
      ]
     },
     "metadata": {
      "needs_background": "light"
     },
     "output_type": "display_data"
    }
   ],
   "source": [
    "airmass = np.zeros(len(fields))\n",
    "for i in np.arange(len(fields)):\n",
    "     airmass[i] = jgt.altaz(time, fields[i]).secz\n",
    "plt.scatter(fields_ra,airmass)\n",
    "plt.ylim(0.9,2.5)"
   ]
  },
  {
   "cell_type": "code",
   "execution_count": 10,
   "metadata": {},
   "outputs": [
    {
     "name": "stdout",
     "output_type": "stream",
     "text": [
      "Best field 04ʰ46ᵐ58.46ˢ +45°14′46.46″ (160.0) at airmass 1.0841\n"
     ]
    }
   ],
   "source": [
    "min_airmass = np.argmin(airmass)\n",
    "bestfield_ra = fields_ra[min_airmass]\n",
    "bestfield_dec = fields_dec[min_airmass]\n",
    "best_field_string = bestfield_ra.to_string(u.hour) + ' ' + bestfield_dec.to_string(u.degree)\n",
    "\n",
    "#print('Best field: ',best_field_string , ' at airmass ',airmass[min_airmass])\n",
    "print(\"Best field {} ({:.1f}) at airmass {:.4f}\"\n",
    "     .format(fields[min_airmass].fk5.to_string(\"hmsdms\",precision=2,format=\"unicode\"),\n",
    "            glon[min_airmass],\n",
    "            airmass[min_airmass]))"
   ]
  },
  {
   "cell_type": "code",
   "execution_count": 8,
   "metadata": {},
   "outputs": [
    {
     "name": "stdout",
     "output_type": "stream",
     "text": [
      "Field l138.5 is at 02ʰ57ᵐ08.23ˢ +59°01′07.74″ (use JGT coords 02ʰ57ᵐ +59°01′)\n"
     ]
    }
   ],
   "source": [
    "field_lon = 138.5\n",
    "field_lat = 0.0\n",
    "obs_time = \"2022-03-23T19:00:00\"\n",
    "\n",
    "field = SkyCoord(field_lon,field_lat,frame='galactic',unit='deg',obstime=obs_time)\n",
    "\n",
    "print(\"Field l{} is at {} (use JGT coords {})\"\n",
    "      .format(field_lon,\n",
    "              field.fk5.to_string(\"hmsdms\",precision=2,format=\"unicode\"),\n",
    "              field.fk5.to_string(\"hmsdms\",fields=2,precision=2,format=\"unicode\")))\n"
   ]
  },
  {
   "cell_type": "code",
   "execution_count": 16,
   "metadata": {},
   "outputs": [
    {
     "name": "stdout",
     "output_type": "stream",
     "text": [
      "Star coordinates 03ʰ15ᵐ24.77ˢ +59°43′58.43″ in field approx 140.2 deg\n"
     ]
    }
   ],
   "source": [
    "star_ra = 48.8532\n",
    "star_dec = 59.7329\n",
    "obs_time = \"2022-03-23T19:00:00\"\n",
    "\n",
    "star_coords = SkyCoord(star_ra*u.degree, star_dec*u.degree, obstime=obs_time)\n",
    "\n",
    "print(\"Star coordinates {} in field approx {:.1f}\"\n",
    "     .format(star_coords.fk5.to_string(\"hmsdms\",format=\"unicode\",precision=2),\n",
    "            star_coords.galactic.l))"
   ]
  },
  {
   "cell_type": "code",
   "execution_count": null,
   "metadata": {},
   "outputs": [],
   "source": []
  }
 ],
 "metadata": {
  "kernelspec": {
   "display_name": "Python 3 (ipykernel)",
   "language": "python",
   "name": "python3"
  },
  "language_info": {
   "codemirror_mode": {
    "name": "ipython",
    "version": 3
   },
   "file_extension": ".py",
   "mimetype": "text/x-python",
   "name": "python",
   "nbconvert_exporter": "python",
   "pygments_lexer": "ipython3",
   "version": "3.10.3"
  }
 },
 "nbformat": 4,
 "nbformat_minor": 2
}
